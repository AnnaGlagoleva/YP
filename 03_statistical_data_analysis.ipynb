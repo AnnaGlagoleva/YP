{
 "cells": [
  {
   "cell_type": "markdown",
   "metadata": {},
   "source": [
    "# Определение перспективного тарифа для телеком-компании"
   ]
  },
  {
   "cell_type": "markdown",
   "metadata": {},
   "source": [
    "## Описание проекта"
   ]
  },
  {
   "cell_type": "markdown",
   "metadata": {},
   "source": [
    "\n",
    "Я аналитик компании «Мегалайн» — федерального оператора сотовой связи. Клиентам предлагают два тарифных плана: «Смарт» и «Ультра». Чтобы скорректировать рекламный бюджет, коммерческий департамент хочет понять, какой тариф приносит больше денег.\n",
    "Нам предстоит сделать предварительный анализ тарифов на небольшой выборке клиентов.\n",
    "\n",
    "\n",
    "В нашем распоряжении данные 500 пользователей «Мегалайна»: кто они, откуда, каким тарифом пользуются, сколько звонков и сообщений каждый отправил за 2018 год. Проанализируем поведение клиентов и сделать вывод — какой тариф лучше."
   ]
  },
  {
   "cell_type": "markdown",
   "metadata": {},
   "source": [
    "## Описание тарифов"
   ]
  },
  {
   "cell_type": "markdown",
   "metadata": {},
   "source": [
    "Тариф «Смарт»\n",
    "\n",
    "Ежемесячная плата: 550 рублей\n",
    "\n",
    "Включено 500 минут разговора, 50 сообщений и 15 Гб интернет-трафика\n",
    "\n",
    "Стоимость услуг сверх тарифного пакета:\n",
    "\n",
    "минута разговора: 3 рубля\n",
    "\n",
    "сообщение: 3 рубля\n",
    "1 Гб интернет-трафика: 200 рублей\n",
    "\n",
    "Тариф «Ультра»\n",
    "\n",
    "Ежемесячная плата: 1950 рублей\n",
    "\n",
    "Включено 3000 минут разговора, 1000 сообщений и 30 Гб интернет-трафика\n",
    "\n",
    "Стоимость услуг сверх тарифного пакета:\n",
    "\n",
    "минута разговора: 1 рубль\n",
    "\n",
    "сообщение: 1 рубль\n",
    "\n",
    "1 Гб интернет-трафика: 150 рублей"
   ]
  },
  {
   "cell_type": "markdown",
   "metadata": {},
   "source": [
    "# Шаг 1. Загружаем необходимые библиотеки. Открываем файлы с данными и изучаем общую информацию"
   ]
  },
  {
   "cell_type": "code",
   "execution_count": 1,
   "metadata": {},
   "outputs": [],
   "source": [
    "#импортируем библиотеки\n",
    "import pandas as pd\n",
    "from IPython.display import display\n",
    "import matplotlib.pyplot as plt\n",
    "from scipy import stats as st\n",
    "import numpy as np"
   ]
  },
  {
   "cell_type": "code",
   "execution_count": 2,
   "metadata": {},
   "outputs": [],
   "source": [
    "#загружаем наши данные\n",
    "calls = pd.read_csv('/datasets/calls.csv')\n",
    "internet = pd.read_csv('/datasets/internet.csv')\n",
    "messages = pd.read_csv('/datasets/messages.csv')\n",
    "tariffs = pd.read_csv('/datasets/tariffs.csv')\n",
    "users = pd.read_csv('/datasets/users.csv')"
   ]
  },
  {
   "cell_type": "code",
   "execution_count": 3,
   "metadata": {},
   "outputs": [
    {
     "name": "stdout",
     "output_type": "stream",
     "text": [
      "<class 'pandas.core.frame.DataFrame'>\n",
      "RangeIndex: 202607 entries, 0 to 202606\n",
      "Data columns (total 4 columns):\n",
      " #   Column     Non-Null Count   Dtype  \n",
      "---  ------     --------------   -----  \n",
      " 0   id         202607 non-null  object \n",
      " 1   call_date  202607 non-null  object \n",
      " 2   duration   202607 non-null  float64\n",
      " 3   user_id    202607 non-null  int64  \n",
      "dtypes: float64(1), int64(1), object(2)\n",
      "memory usage: 6.2+ MB\n",
      "названия столбцев Index(['id', 'call_date', 'duration', 'user_id'], dtype='object')\n",
      "размер таблицы: (202607, 4)\n",
      "количество пропусков: \n",
      " id           0\n",
      "call_date    0\n",
      "duration     0\n",
      "user_id      0\n",
      "dtype: int64\n",
      "количество явных дубликатов: 0\n"
     ]
    },
    {
     "data": {
      "text/html": [
       "<div>\n",
       "<style scoped>\n",
       "    .dataframe tbody tr th:only-of-type {\n",
       "        vertical-align: middle;\n",
       "    }\n",
       "\n",
       "    .dataframe tbody tr th {\n",
       "        vertical-align: top;\n",
       "    }\n",
       "\n",
       "    .dataframe thead th {\n",
       "        text-align: right;\n",
       "    }\n",
       "</style>\n",
       "<table border=\"1\" class=\"dataframe\">\n",
       "  <thead>\n",
       "    <tr style=\"text-align: right;\">\n",
       "      <th></th>\n",
       "      <th>id</th>\n",
       "      <th>call_date</th>\n",
       "      <th>duration</th>\n",
       "      <th>user_id</th>\n",
       "    </tr>\n",
       "  </thead>\n",
       "  <tbody>\n",
       "    <tr>\n",
       "      <th>0</th>\n",
       "      <td>1000_0</td>\n",
       "      <td>2018-07-25</td>\n",
       "      <td>0.00</td>\n",
       "      <td>1000</td>\n",
       "    </tr>\n",
       "    <tr>\n",
       "      <th>1</th>\n",
       "      <td>1000_1</td>\n",
       "      <td>2018-08-17</td>\n",
       "      <td>0.00</td>\n",
       "      <td>1000</td>\n",
       "    </tr>\n",
       "    <tr>\n",
       "      <th>2</th>\n",
       "      <td>1000_2</td>\n",
       "      <td>2018-06-11</td>\n",
       "      <td>2.85</td>\n",
       "      <td>1000</td>\n",
       "    </tr>\n",
       "  </tbody>\n",
       "</table>\n",
       "</div>"
      ],
      "text/plain": [
       "       id   call_date  duration  user_id\n",
       "0  1000_0  2018-07-25      0.00     1000\n",
       "1  1000_1  2018-08-17      0.00     1000\n",
       "2  1000_2  2018-06-11      2.85     1000"
      ]
     },
     "metadata": {},
     "output_type": "display_data"
    },
    {
     "name": "stdout",
     "output_type": "stream",
     "text": [
      "\n",
      "<class 'pandas.core.frame.DataFrame'>\n",
      "RangeIndex: 149396 entries, 0 to 149395\n",
      "Data columns (total 5 columns):\n",
      " #   Column        Non-Null Count   Dtype  \n",
      "---  ------        --------------   -----  \n",
      " 0   Unnamed: 0    149396 non-null  int64  \n",
      " 1   id            149396 non-null  object \n",
      " 2   mb_used       149396 non-null  float64\n",
      " 3   session_date  149396 non-null  object \n",
      " 4   user_id       149396 non-null  int64  \n",
      "dtypes: float64(1), int64(2), object(2)\n",
      "memory usage: 5.7+ MB\n",
      "названия столбцев Index(['Unnamed: 0', 'id', 'mb_used', 'session_date', 'user_id'], dtype='object')\n",
      "размер таблицы: (149396, 5)\n",
      "количество пропусков: \n",
      " Unnamed: 0      0\n",
      "id              0\n",
      "mb_used         0\n",
      "session_date    0\n",
      "user_id         0\n",
      "dtype: int64\n",
      "количество явных дубликатов: 0\n"
     ]
    },
    {
     "data": {
      "text/html": [
       "<div>\n",
       "<style scoped>\n",
       "    .dataframe tbody tr th:only-of-type {\n",
       "        vertical-align: middle;\n",
       "    }\n",
       "\n",
       "    .dataframe tbody tr th {\n",
       "        vertical-align: top;\n",
       "    }\n",
       "\n",
       "    .dataframe thead th {\n",
       "        text-align: right;\n",
       "    }\n",
       "</style>\n",
       "<table border=\"1\" class=\"dataframe\">\n",
       "  <thead>\n",
       "    <tr style=\"text-align: right;\">\n",
       "      <th></th>\n",
       "      <th>Unnamed: 0</th>\n",
       "      <th>id</th>\n",
       "      <th>mb_used</th>\n",
       "      <th>session_date</th>\n",
       "      <th>user_id</th>\n",
       "    </tr>\n",
       "  </thead>\n",
       "  <tbody>\n",
       "    <tr>\n",
       "      <th>0</th>\n",
       "      <td>0</td>\n",
       "      <td>1000_0</td>\n",
       "      <td>112.95</td>\n",
       "      <td>2018-11-25</td>\n",
       "      <td>1000</td>\n",
       "    </tr>\n",
       "    <tr>\n",
       "      <th>1</th>\n",
       "      <td>1</td>\n",
       "      <td>1000_1</td>\n",
       "      <td>1052.81</td>\n",
       "      <td>2018-09-07</td>\n",
       "      <td>1000</td>\n",
       "    </tr>\n",
       "    <tr>\n",
       "      <th>2</th>\n",
       "      <td>2</td>\n",
       "      <td>1000_2</td>\n",
       "      <td>1197.26</td>\n",
       "      <td>2018-06-25</td>\n",
       "      <td>1000</td>\n",
       "    </tr>\n",
       "  </tbody>\n",
       "</table>\n",
       "</div>"
      ],
      "text/plain": [
       "   Unnamed: 0      id  mb_used session_date  user_id\n",
       "0           0  1000_0   112.95   2018-11-25     1000\n",
       "1           1  1000_1  1052.81   2018-09-07     1000\n",
       "2           2  1000_2  1197.26   2018-06-25     1000"
      ]
     },
     "metadata": {},
     "output_type": "display_data"
    },
    {
     "name": "stdout",
     "output_type": "stream",
     "text": [
      "\n",
      "<class 'pandas.core.frame.DataFrame'>\n",
      "RangeIndex: 123036 entries, 0 to 123035\n",
      "Data columns (total 3 columns):\n",
      " #   Column        Non-Null Count   Dtype \n",
      "---  ------        --------------   ----- \n",
      " 0   id            123036 non-null  object\n",
      " 1   message_date  123036 non-null  object\n",
      " 2   user_id       123036 non-null  int64 \n",
      "dtypes: int64(1), object(2)\n",
      "memory usage: 2.8+ MB\n",
      "названия столбцев Index(['id', 'message_date', 'user_id'], dtype='object')\n",
      "размер таблицы: (123036, 3)\n",
      "количество пропусков: \n",
      " id              0\n",
      "message_date    0\n",
      "user_id         0\n",
      "dtype: int64\n",
      "количество явных дубликатов: 0\n"
     ]
    },
    {
     "data": {
      "text/html": [
       "<div>\n",
       "<style scoped>\n",
       "    .dataframe tbody tr th:only-of-type {\n",
       "        vertical-align: middle;\n",
       "    }\n",
       "\n",
       "    .dataframe tbody tr th {\n",
       "        vertical-align: top;\n",
       "    }\n",
       "\n",
       "    .dataframe thead th {\n",
       "        text-align: right;\n",
       "    }\n",
       "</style>\n",
       "<table border=\"1\" class=\"dataframe\">\n",
       "  <thead>\n",
       "    <tr style=\"text-align: right;\">\n",
       "      <th></th>\n",
       "      <th>id</th>\n",
       "      <th>message_date</th>\n",
       "      <th>user_id</th>\n",
       "    </tr>\n",
       "  </thead>\n",
       "  <tbody>\n",
       "    <tr>\n",
       "      <th>0</th>\n",
       "      <td>1000_0</td>\n",
       "      <td>2018-06-27</td>\n",
       "      <td>1000</td>\n",
       "    </tr>\n",
       "    <tr>\n",
       "      <th>1</th>\n",
       "      <td>1000_1</td>\n",
       "      <td>2018-10-08</td>\n",
       "      <td>1000</td>\n",
       "    </tr>\n",
       "    <tr>\n",
       "      <th>2</th>\n",
       "      <td>1000_2</td>\n",
       "      <td>2018-08-04</td>\n",
       "      <td>1000</td>\n",
       "    </tr>\n",
       "  </tbody>\n",
       "</table>\n",
       "</div>"
      ],
      "text/plain": [
       "       id message_date  user_id\n",
       "0  1000_0   2018-06-27     1000\n",
       "1  1000_1   2018-10-08     1000\n",
       "2  1000_2   2018-08-04     1000"
      ]
     },
     "metadata": {},
     "output_type": "display_data"
    },
    {
     "name": "stdout",
     "output_type": "stream",
     "text": [
      "\n",
      "<class 'pandas.core.frame.DataFrame'>\n",
      "RangeIndex: 2 entries, 0 to 1\n",
      "Data columns (total 8 columns):\n",
      " #   Column                 Non-Null Count  Dtype \n",
      "---  ------                 --------------  ----- \n",
      " 0   messages_included      2 non-null      int64 \n",
      " 1   mb_per_month_included  2 non-null      int64 \n",
      " 2   minutes_included       2 non-null      int64 \n",
      " 3   rub_monthly_fee        2 non-null      int64 \n",
      " 4   rub_per_gb             2 non-null      int64 \n",
      " 5   rub_per_message        2 non-null      int64 \n",
      " 6   rub_per_minute         2 non-null      int64 \n",
      " 7   tariff_name            2 non-null      object\n",
      "dtypes: int64(7), object(1)\n",
      "memory usage: 256.0+ bytes\n",
      "названия столбцев Index(['messages_included', 'mb_per_month_included', 'minutes_included',\n",
      "       'rub_monthly_fee', 'rub_per_gb', 'rub_per_message', 'rub_per_minute',\n",
      "       'tariff_name'],\n",
      "      dtype='object')\n",
      "размер таблицы: (2, 8)\n",
      "количество пропусков: \n",
      " messages_included        0\n",
      "mb_per_month_included    0\n",
      "minutes_included         0\n",
      "rub_monthly_fee          0\n",
      "rub_per_gb               0\n",
      "rub_per_message          0\n",
      "rub_per_minute           0\n",
      "tariff_name              0\n",
      "dtype: int64\n",
      "количество явных дубликатов: 0\n"
     ]
    },
    {
     "data": {
      "text/html": [
       "<div>\n",
       "<style scoped>\n",
       "    .dataframe tbody tr th:only-of-type {\n",
       "        vertical-align: middle;\n",
       "    }\n",
       "\n",
       "    .dataframe tbody tr th {\n",
       "        vertical-align: top;\n",
       "    }\n",
       "\n",
       "    .dataframe thead th {\n",
       "        text-align: right;\n",
       "    }\n",
       "</style>\n",
       "<table border=\"1\" class=\"dataframe\">\n",
       "  <thead>\n",
       "    <tr style=\"text-align: right;\">\n",
       "      <th></th>\n",
       "      <th>messages_included</th>\n",
       "      <th>mb_per_month_included</th>\n",
       "      <th>minutes_included</th>\n",
       "      <th>rub_monthly_fee</th>\n",
       "      <th>rub_per_gb</th>\n",
       "      <th>rub_per_message</th>\n",
       "      <th>rub_per_minute</th>\n",
       "      <th>tariff_name</th>\n",
       "    </tr>\n",
       "  </thead>\n",
       "  <tbody>\n",
       "    <tr>\n",
       "      <th>0</th>\n",
       "      <td>50</td>\n",
       "      <td>15360</td>\n",
       "      <td>500</td>\n",
       "      <td>550</td>\n",
       "      <td>200</td>\n",
       "      <td>3</td>\n",
       "      <td>3</td>\n",
       "      <td>smart</td>\n",
       "    </tr>\n",
       "    <tr>\n",
       "      <th>1</th>\n",
       "      <td>1000</td>\n",
       "      <td>30720</td>\n",
       "      <td>3000</td>\n",
       "      <td>1950</td>\n",
       "      <td>150</td>\n",
       "      <td>1</td>\n",
       "      <td>1</td>\n",
       "      <td>ultra</td>\n",
       "    </tr>\n",
       "  </tbody>\n",
       "</table>\n",
       "</div>"
      ],
      "text/plain": [
       "   messages_included  mb_per_month_included  minutes_included  \\\n",
       "0                 50                  15360               500   \n",
       "1               1000                  30720              3000   \n",
       "\n",
       "   rub_monthly_fee  rub_per_gb  rub_per_message  rub_per_minute tariff_name  \n",
       "0              550         200                3               3       smart  \n",
       "1             1950         150                1               1       ultra  "
      ]
     },
     "metadata": {},
     "output_type": "display_data"
    },
    {
     "name": "stdout",
     "output_type": "stream",
     "text": [
      "\n",
      "<class 'pandas.core.frame.DataFrame'>\n",
      "RangeIndex: 500 entries, 0 to 499\n",
      "Data columns (total 8 columns):\n",
      " #   Column      Non-Null Count  Dtype \n",
      "---  ------      --------------  ----- \n",
      " 0   user_id     500 non-null    int64 \n",
      " 1   age         500 non-null    int64 \n",
      " 2   churn_date  38 non-null     object\n",
      " 3   city        500 non-null    object\n",
      " 4   first_name  500 non-null    object\n",
      " 5   last_name   500 non-null    object\n",
      " 6   reg_date    500 non-null    object\n",
      " 7   tariff      500 non-null    object\n",
      "dtypes: int64(2), object(6)\n",
      "memory usage: 31.4+ KB\n",
      "названия столбцев Index(['user_id', 'age', 'churn_date', 'city', 'first_name', 'last_name',\n",
      "       'reg_date', 'tariff'],\n",
      "      dtype='object')\n",
      "размер таблицы: (500, 8)\n",
      "количество пропусков: \n",
      " user_id         0\n",
      "age             0\n",
      "churn_date    462\n",
      "city            0\n",
      "first_name      0\n",
      "last_name       0\n",
      "reg_date        0\n",
      "tariff          0\n",
      "dtype: int64\n",
      "количество явных дубликатов: 0\n"
     ]
    },
    {
     "data": {
      "text/html": [
       "<div>\n",
       "<style scoped>\n",
       "    .dataframe tbody tr th:only-of-type {\n",
       "        vertical-align: middle;\n",
       "    }\n",
       "\n",
       "    .dataframe tbody tr th {\n",
       "        vertical-align: top;\n",
       "    }\n",
       "\n",
       "    .dataframe thead th {\n",
       "        text-align: right;\n",
       "    }\n",
       "</style>\n",
       "<table border=\"1\" class=\"dataframe\">\n",
       "  <thead>\n",
       "    <tr style=\"text-align: right;\">\n",
       "      <th></th>\n",
       "      <th>user_id</th>\n",
       "      <th>age</th>\n",
       "      <th>churn_date</th>\n",
       "      <th>city</th>\n",
       "      <th>first_name</th>\n",
       "      <th>last_name</th>\n",
       "      <th>reg_date</th>\n",
       "      <th>tariff</th>\n",
       "    </tr>\n",
       "  </thead>\n",
       "  <tbody>\n",
       "    <tr>\n",
       "      <th>0</th>\n",
       "      <td>1000</td>\n",
       "      <td>52</td>\n",
       "      <td>NaN</td>\n",
       "      <td>Краснодар</td>\n",
       "      <td>Рафаил</td>\n",
       "      <td>Верещагин</td>\n",
       "      <td>2018-05-25</td>\n",
       "      <td>ultra</td>\n",
       "    </tr>\n",
       "    <tr>\n",
       "      <th>1</th>\n",
       "      <td>1001</td>\n",
       "      <td>41</td>\n",
       "      <td>NaN</td>\n",
       "      <td>Москва</td>\n",
       "      <td>Иван</td>\n",
       "      <td>Ежов</td>\n",
       "      <td>2018-11-01</td>\n",
       "      <td>smart</td>\n",
       "    </tr>\n",
       "    <tr>\n",
       "      <th>2</th>\n",
       "      <td>1002</td>\n",
       "      <td>59</td>\n",
       "      <td>NaN</td>\n",
       "      <td>Стерлитамак</td>\n",
       "      <td>Евгений</td>\n",
       "      <td>Абрамович</td>\n",
       "      <td>2018-06-17</td>\n",
       "      <td>smart</td>\n",
       "    </tr>\n",
       "  </tbody>\n",
       "</table>\n",
       "</div>"
      ],
      "text/plain": [
       "   user_id  age churn_date         city first_name  last_name    reg_date  \\\n",
       "0     1000   52        NaN    Краснодар     Рафаил  Верещагин  2018-05-25   \n",
       "1     1001   41        NaN       Москва       Иван       Ежов  2018-11-01   \n",
       "2     1002   59        NaN  Стерлитамак    Евгений  Абрамович  2018-06-17   \n",
       "\n",
       "  tariff  \n",
       "0  ultra  \n",
       "1  smart  \n",
       "2  smart  "
      ]
     },
     "metadata": {},
     "output_type": "display_data"
    },
    {
     "name": "stdout",
     "output_type": "stream",
     "text": [
      "\n"
     ]
    }
   ],
   "source": [
    "#циклом выведем базовую инфу по таблицам\n",
    "tabs = [calls, internet, messages, tariffs, users]\n",
    "for tab in tabs:\n",
    "    tab.info()\n",
    "    print('названия столбцев', tab.columns)\n",
    "    print('размер таблицы:', tab.shape)\n",
    "    print('количество пропусков:', '\\n', tab.isna().sum())\n",
    "    print('количество явных дубликатов:', tab.duplicated().sum())\n",
    "    display(tab.head(3))\n",
    "    print('')"
   ]
  },
  {
   "cell_type": "markdown",
   "metadata": {},
   "source": [
    "с первого взгляда данные выглядят хорошо, нет пропусков, и нет дубликатов\n",
    "в таблице 'internet' есть солбе Unnamed: 0, исправим его на следущем шаге"
   ]
  },
  {
   "cell_type": "markdown",
   "metadata": {},
   "source": [
    "# Шаг 2. Подготовим данные"
   ]
  },
  {
   "cell_type": "markdown",
   "metadata": {},
   "source": [
    "Приведем данные к нужным типам;\n",
    "Найдите и исправьте ошибки в данных, если они есть.\n",
    "В данных есть звонки с нулевой продолжительностью. Это не ошибка: нулями обозначены пропущенные звонки, поэтому их не нужно удалять.\n",
    "в таблице 'users' есть пропуски данных, это значит, что тариф ещё действовал на момент выгрузки данных. "
   ]
  },
  {
   "cell_type": "code",
   "execution_count": 5,
   "metadata": {},
   "outputs": [
    {
     "data": {
      "text/plain": [
       "(   Unnamed: 0      id  mb_used session_date  user_id\n",
       " 0           0  1000_0   112.95   2018-11-25     1000\n",
       " 1           1  1000_1  1052.81   2018-09-07     1000\n",
       " 2           2  1000_2  1197.26   2018-06-25     1000\n",
       " 3           3  1000_3   550.27   2018-08-22     1000\n",
       " 4           4  1000_4   302.56   2018-09-24     1000,\n",
       "         Unnamed: 0        id  mb_used session_date  user_id\n",
       " 149391      149391  1499_152   318.90   2018-10-03     1499\n",
       " 149392      149392  1499_153   490.13   2018-12-14     1499\n",
       " 149393      149393  1499_154     0.00   2018-10-27     1499\n",
       " 149394      149394  1499_155  1246.32   2018-11-26     1499\n",
       " 149395      149395  1499_156   544.37   2018-10-26     1499)"
      ]
     },
     "execution_count": 5,
     "metadata": {},
     "output_type": "execute_result"
    }
   ],
   "source": [
    "internet.head(), internet.tail()"
   ]
  },
  {
   "cell_type": "code",
   "execution_count": 6,
   "metadata": {},
   "outputs": [
    {
     "data": {
      "text/html": [
       "<div>\n",
       "<style scoped>\n",
       "    .dataframe tbody tr th:only-of-type {\n",
       "        vertical-align: middle;\n",
       "    }\n",
       "\n",
       "    .dataframe tbody tr th {\n",
       "        vertical-align: top;\n",
       "    }\n",
       "\n",
       "    .dataframe thead th {\n",
       "        text-align: right;\n",
       "    }\n",
       "</style>\n",
       "<table border=\"1\" class=\"dataframe\">\n",
       "  <thead>\n",
       "    <tr style=\"text-align: right;\">\n",
       "      <th></th>\n",
       "      <th>Unnamed: 0</th>\n",
       "      <th>id</th>\n",
       "      <th>mb_used</th>\n",
       "      <th>session_date</th>\n",
       "      <th>user_id</th>\n",
       "    </tr>\n",
       "  </thead>\n",
       "  <tbody>\n",
       "    <tr>\n",
       "      <th>0</th>\n",
       "      <td>0</td>\n",
       "      <td>1000_0</td>\n",
       "      <td>112.95</td>\n",
       "      <td>2018-11-25</td>\n",
       "      <td>1000</td>\n",
       "    </tr>\n",
       "    <tr>\n",
       "      <th>1</th>\n",
       "      <td>1</td>\n",
       "      <td>1000_1</td>\n",
       "      <td>1052.81</td>\n",
       "      <td>2018-09-07</td>\n",
       "      <td>1000</td>\n",
       "    </tr>\n",
       "    <tr>\n",
       "      <th>2</th>\n",
       "      <td>2</td>\n",
       "      <td>1000_2</td>\n",
       "      <td>1197.26</td>\n",
       "      <td>2018-06-25</td>\n",
       "      <td>1000</td>\n",
       "    </tr>\n",
       "    <tr>\n",
       "      <th>3</th>\n",
       "      <td>3</td>\n",
       "      <td>1000_3</td>\n",
       "      <td>550.27</td>\n",
       "      <td>2018-08-22</td>\n",
       "      <td>1000</td>\n",
       "    </tr>\n",
       "    <tr>\n",
       "      <th>4</th>\n",
       "      <td>4</td>\n",
       "      <td>1000_4</td>\n",
       "      <td>302.56</td>\n",
       "      <td>2018-09-24</td>\n",
       "      <td>1000</td>\n",
       "    </tr>\n",
       "  </tbody>\n",
       "</table>\n",
       "</div>"
      ],
      "text/plain": [
       "   Unnamed: 0      id  mb_used session_date  user_id\n",
       "0           0  1000_0   112.95   2018-11-25     1000\n",
       "1           1  1000_1  1052.81   2018-09-07     1000\n",
       "2           2  1000_2  1197.26   2018-06-25     1000\n",
       "3           3  1000_3   550.27   2018-08-22     1000\n",
       "4           4  1000_4   302.56   2018-09-24     1000"
      ]
     },
     "metadata": {},
     "output_type": "display_data"
    },
    {
     "data": {
      "text/html": [
       "<div>\n",
       "<style scoped>\n",
       "    .dataframe tbody tr th:only-of-type {\n",
       "        vertical-align: middle;\n",
       "    }\n",
       "\n",
       "    .dataframe tbody tr th {\n",
       "        vertical-align: top;\n",
       "    }\n",
       "\n",
       "    .dataframe thead th {\n",
       "        text-align: right;\n",
       "    }\n",
       "</style>\n",
       "<table border=\"1\" class=\"dataframe\">\n",
       "  <thead>\n",
       "    <tr style=\"text-align: right;\">\n",
       "      <th></th>\n",
       "      <th>Unnamed: 0</th>\n",
       "      <th>id</th>\n",
       "      <th>mb_used</th>\n",
       "      <th>session_date</th>\n",
       "      <th>user_id</th>\n",
       "    </tr>\n",
       "  </thead>\n",
       "  <tbody>\n",
       "    <tr>\n",
       "      <th>149391</th>\n",
       "      <td>149391</td>\n",
       "      <td>1499_152</td>\n",
       "      <td>318.90</td>\n",
       "      <td>2018-10-03</td>\n",
       "      <td>1499</td>\n",
       "    </tr>\n",
       "    <tr>\n",
       "      <th>149392</th>\n",
       "      <td>149392</td>\n",
       "      <td>1499_153</td>\n",
       "      <td>490.13</td>\n",
       "      <td>2018-12-14</td>\n",
       "      <td>1499</td>\n",
       "    </tr>\n",
       "    <tr>\n",
       "      <th>149393</th>\n",
       "      <td>149393</td>\n",
       "      <td>1499_154</td>\n",
       "      <td>0.00</td>\n",
       "      <td>2018-10-27</td>\n",
       "      <td>1499</td>\n",
       "    </tr>\n",
       "    <tr>\n",
       "      <th>149394</th>\n",
       "      <td>149394</td>\n",
       "      <td>1499_155</td>\n",
       "      <td>1246.32</td>\n",
       "      <td>2018-11-26</td>\n",
       "      <td>1499</td>\n",
       "    </tr>\n",
       "    <tr>\n",
       "      <th>149395</th>\n",
       "      <td>149395</td>\n",
       "      <td>1499_156</td>\n",
       "      <td>544.37</td>\n",
       "      <td>2018-10-26</td>\n",
       "      <td>1499</td>\n",
       "    </tr>\n",
       "  </tbody>\n",
       "</table>\n",
       "</div>"
      ],
      "text/plain": [
       "        Unnamed: 0        id  mb_used session_date  user_id\n",
       "149391      149391  1499_152   318.90   2018-10-03     1499\n",
       "149392      149392  1499_153   490.13   2018-12-14     1499\n",
       "149393      149393  1499_154     0.00   2018-10-27     1499\n",
       "149394      149394  1499_155  1246.32   2018-11-26     1499\n",
       "149395      149395  1499_156   544.37   2018-10-26     1499"
      ]
     },
     "metadata": {},
     "output_type": "display_data"
    }
   ],
   "source": [
    "display(internet.head(), internet.tail())"
   ]
  },
  {
   "cell_type": "code",
   "execution_count": 7,
   "metadata": {},
   "outputs": [
    {
     "name": "stdout",
     "output_type": "stream",
     "text": [
      "       id  mb_used session_date  user_id\n",
      "0  1000_0   112.95   2018-11-25     1000\n",
      "1  1000_1  1052.81   2018-09-07     1000\n",
      "2  1000_2  1197.26   2018-06-25     1000\n",
      "3  1000_3   550.27   2018-08-22     1000\n",
      "4  1000_4   302.56   2018-09-24     1000               id  mb_used session_date  user_id\n",
      "149391  1499_152   318.90   2018-10-03     1499\n",
      "149392  1499_153   490.13   2018-12-14     1499\n",
      "149393  1499_154     0.00   2018-10-27     1499\n",
      "149394  1499_155  1246.32   2018-11-26     1499\n",
      "149395  1499_156   544.37   2018-10-26     1499\n"
     ]
    }
   ],
   "source": [
    "#просто удалим этот столбец, он просто дублирует порядковый номер\n",
    "internet.drop('Unnamed: 0', axis=1, inplace=True) \n",
    "#сразуже проверим результаты\n",
    "print(internet.head(5), internet.tail(5))"
   ]
  },
  {
   "cell_type": "code",
   "execution_count": 8,
   "metadata": {},
   "outputs": [
    {
     "name": "stdout",
     "output_type": "stream",
     "text": [
      "       id   call_date  duration  user_id\n",
      "0  1000_0  2018-07-25       0.0     1000\n",
      "1  1000_1  2018-08-17       0.0     1000\n",
      "2  1000_2  2018-06-11       3.0     1000\n",
      "3  1000_3  2018-09-21      14.0     1000\n",
      "4  1000_4  2018-12-15       6.0     1000\n"
     ]
    }
   ],
   "source": [
    "#округлим минуты звонков, так как та тариф говорит нам, что проговорив 1 секунду, будет защитано, как 1 минута \n",
    "calls['duration'] = np.ceil(calls['duration'])\n",
    "\n",
    "\n",
    "\n",
    "print(calls.head())"
   ]
  },
  {
   "cell_type": "code",
   "execution_count": 9,
   "metadata": {},
   "outputs": [],
   "source": [
    "# приведем данные в таблицах к нужному типу datetime\n",
    "calls['call_date'] = pd.to_datetime(calls['call_date'], format='%Y-%m-%d')\n",
    "internet['session_date'] = pd.to_datetime(internet['session_date'], format='%Y-%m-%d')\n",
    "messages['message_date'] = pd.to_datetime(messages['message_date'], format='%Y-%m-%d')\n",
    "users['reg_date'] = pd.to_datetime(users['reg_date'], format='%Y-%m-%d')\n",
    "users['churn_date'] = pd.to_datetime(users['churn_date'], format='%Y-%m-%d')"
   ]
  },
  {
   "cell_type": "markdown",
   "metadata": {},
   "source": [
    "Посчитаем для каждого пользователя:\n",
    "\n",
    "[X] количество сделанных звонков и израсходованных минут разговора по месяцам;\n",
    "\n",
    "[X] количество отправленных сообщений по месяцам;\n",
    "\n",
    "[X] объем израсходованного интернет-трафика по месяцам;\n",
    "\n",
    "[X] помесячную выручку с каждого пользователя (вычтите бесплатный лимит из суммарного количества звонков, сообщений и интернет- трафика; \n",
    "\n",
    "остаток умножьте на значение из тарифного плана; прибавьте абонентскую плату, соответствующую тарифному плану)."
   ]
  },
  {
   "cell_type": "code",
   "execution_count": 10,
   "metadata": {},
   "outputs": [
    {
     "data": {
      "text/html": [
       "<div>\n",
       "<style scoped>\n",
       "    .dataframe tbody tr th:only-of-type {\n",
       "        vertical-align: middle;\n",
       "    }\n",
       "\n",
       "    .dataframe tbody tr th {\n",
       "        vertical-align: top;\n",
       "    }\n",
       "\n",
       "    .dataframe thead th {\n",
       "        text-align: right;\n",
       "    }\n",
       "</style>\n",
       "<table border=\"1\" class=\"dataframe\">\n",
       "  <thead>\n",
       "    <tr style=\"text-align: right;\">\n",
       "      <th></th>\n",
       "      <th>id</th>\n",
       "      <th>call_date</th>\n",
       "      <th>duration</th>\n",
       "      <th>user_id</th>\n",
       "      <th>month</th>\n",
       "    </tr>\n",
       "  </thead>\n",
       "  <tbody>\n",
       "    <tr>\n",
       "      <th>0</th>\n",
       "      <td>1000_0</td>\n",
       "      <td>2018-07-25</td>\n",
       "      <td>0.0</td>\n",
       "      <td>1000</td>\n",
       "      <td>7</td>\n",
       "    </tr>\n",
       "  </tbody>\n",
       "</table>\n",
       "</div>"
      ],
      "text/plain": [
       "       id  call_date  duration  user_id  month\n",
       "0  1000_0 2018-07-25       0.0     1000      7"
      ]
     },
     "metadata": {},
     "output_type": "display_data"
    },
    {
     "data": {
      "text/html": [
       "<div>\n",
       "<style scoped>\n",
       "    .dataframe tbody tr th:only-of-type {\n",
       "        vertical-align: middle;\n",
       "    }\n",
       "\n",
       "    .dataframe tbody tr th {\n",
       "        vertical-align: top;\n",
       "    }\n",
       "\n",
       "    .dataframe thead th {\n",
       "        text-align: right;\n",
       "    }\n",
       "</style>\n",
       "<table border=\"1\" class=\"dataframe\">\n",
       "  <thead>\n",
       "    <tr style=\"text-align: right;\">\n",
       "      <th></th>\n",
       "      <th>id</th>\n",
       "      <th>message_date</th>\n",
       "      <th>user_id</th>\n",
       "      <th>month</th>\n",
       "    </tr>\n",
       "  </thead>\n",
       "  <tbody>\n",
       "    <tr>\n",
       "      <th>0</th>\n",
       "      <td>1000_0</td>\n",
       "      <td>2018-06-27</td>\n",
       "      <td>1000</td>\n",
       "      <td>6</td>\n",
       "    </tr>\n",
       "  </tbody>\n",
       "</table>\n",
       "</div>"
      ],
      "text/plain": [
       "       id message_date  user_id  month\n",
       "0  1000_0   2018-06-27     1000      6"
      ]
     },
     "metadata": {},
     "output_type": "display_data"
    },
    {
     "data": {
      "text/html": [
       "<div>\n",
       "<style scoped>\n",
       "    .dataframe tbody tr th:only-of-type {\n",
       "        vertical-align: middle;\n",
       "    }\n",
       "\n",
       "    .dataframe tbody tr th {\n",
       "        vertical-align: top;\n",
       "    }\n",
       "\n",
       "    .dataframe thead th {\n",
       "        text-align: right;\n",
       "    }\n",
       "</style>\n",
       "<table border=\"1\" class=\"dataframe\">\n",
       "  <thead>\n",
       "    <tr style=\"text-align: right;\">\n",
       "      <th></th>\n",
       "      <th>id</th>\n",
       "      <th>mb_used</th>\n",
       "      <th>session_date</th>\n",
       "      <th>user_id</th>\n",
       "      <th>month</th>\n",
       "    </tr>\n",
       "  </thead>\n",
       "  <tbody>\n",
       "    <tr>\n",
       "      <th>0</th>\n",
       "      <td>1000_0</td>\n",
       "      <td>112.95</td>\n",
       "      <td>2018-11-25</td>\n",
       "      <td>1000</td>\n",
       "      <td>11</td>\n",
       "    </tr>\n",
       "  </tbody>\n",
       "</table>\n",
       "</div>"
      ],
      "text/plain": [
       "       id  mb_used session_date  user_id  month\n",
       "0  1000_0   112.95   2018-11-25     1000     11"
      ]
     },
     "metadata": {},
     "output_type": "display_data"
    }
   ],
   "source": [
    "# добавим новую колонку 'месяц' в каждую таблицу\n",
    "calls['month'] = calls['call_date'].dt.month\n",
    "messages['month'] = messages['message_date'].dt.month\n",
    "internet['month'] = internet['session_date'].dt.month\n",
    "display(calls.head(1),messages.head(1), internet.head(1))"
   ]
  },
  {
   "cell_type": "code",
   "execution_count": 11,
   "metadata": {},
   "outputs": [
    {
     "data": {
      "text/plain": [
       "0        2018-07-01\n",
       "1        2018-08-01\n",
       "2        2018-06-01\n",
       "3        2018-09-01\n",
       "4        2018-12-01\n",
       "            ...    \n",
       "202602   2018-12-01\n",
       "202603   2018-10-01\n",
       "202604   2018-11-01\n",
       "202605   2018-10-01\n",
       "202606   2018-12-01\n",
       "Name: call_date, Length: 202607, dtype: datetime64[ns]"
      ]
     },
     "execution_count": 11,
     "metadata": {},
     "output_type": "execute_result"
    }
   ],
   "source": [
    "calls['call_date'].astype('datetime64[M]') "
   ]
  },
  {
   "cell_type": "code",
   "execution_count": 12,
   "metadata": {},
   "outputs": [
    {
     "data": {
      "text/html": [
       "<div>\n",
       "<style scoped>\n",
       "    .dataframe tbody tr th:only-of-type {\n",
       "        vertical-align: middle;\n",
       "    }\n",
       "\n",
       "    .dataframe tbody tr th {\n",
       "        vertical-align: top;\n",
       "    }\n",
       "\n",
       "    .dataframe thead th {\n",
       "        text-align: right;\n",
       "    }\n",
       "</style>\n",
       "<table border=\"1\" class=\"dataframe\">\n",
       "  <thead>\n",
       "    <tr style=\"text-align: right;\">\n",
       "      <th></th>\n",
       "      <th></th>\n",
       "      <th>duration</th>\n",
       "      <th>calls</th>\n",
       "    </tr>\n",
       "    <tr>\n",
       "      <th>user_id</th>\n",
       "      <th>month</th>\n",
       "      <th></th>\n",
       "      <th></th>\n",
       "    </tr>\n",
       "  </thead>\n",
       "  <tbody>\n",
       "    <tr>\n",
       "      <th rowspan=\"5\" valign=\"top\">1000</th>\n",
       "      <th>5</th>\n",
       "      <td>159.0</td>\n",
       "      <td>22</td>\n",
       "    </tr>\n",
       "    <tr>\n",
       "      <th>6</th>\n",
       "      <td>172.0</td>\n",
       "      <td>43</td>\n",
       "    </tr>\n",
       "    <tr>\n",
       "      <th>7</th>\n",
       "      <td>340.0</td>\n",
       "      <td>47</td>\n",
       "    </tr>\n",
       "    <tr>\n",
       "      <th>8</th>\n",
       "      <td>408.0</td>\n",
       "      <td>52</td>\n",
       "    </tr>\n",
       "    <tr>\n",
       "      <th>9</th>\n",
       "      <td>466.0</td>\n",
       "      <td>58</td>\n",
       "    </tr>\n",
       "  </tbody>\n",
       "</table>\n",
       "</div>"
      ],
      "text/plain": [
       "               duration  calls\n",
       "user_id month                 \n",
       "1000    5         159.0     22\n",
       "        6         172.0     43\n",
       "        7         340.0     47\n",
       "        8         408.0     52\n",
       "        9         466.0     58"
      ]
     },
     "execution_count": 12,
     "metadata": {},
     "output_type": "execute_result"
    }
   ],
   "source": [
    "# считаем количество сделанных звонков и израсходованных минут разговора по месяцам\n",
    "calls_gr = calls.pivot_table(index=['user_id', 'month'], values='duration', aggfunc=['sum', 'count'])\n",
    "calls_gr.columns = ['duration', 'calls']\n",
    "calls_gr.head(5)"
   ]
  },
  {
   "cell_type": "code",
   "execution_count": 13,
   "metadata": {},
   "outputs": [
    {
     "data": {
      "text/html": [
       "<div>\n",
       "<style scoped>\n",
       "    .dataframe tbody tr th:only-of-type {\n",
       "        vertical-align: middle;\n",
       "    }\n",
       "\n",
       "    .dataframe tbody tr th {\n",
       "        vertical-align: top;\n",
       "    }\n",
       "\n",
       "    .dataframe thead th {\n",
       "        text-align: right;\n",
       "    }\n",
       "</style>\n",
       "<table border=\"1\" class=\"dataframe\">\n",
       "  <thead>\n",
       "    <tr style=\"text-align: right;\">\n",
       "      <th></th>\n",
       "      <th></th>\n",
       "      <th>messages</th>\n",
       "    </tr>\n",
       "    <tr>\n",
       "      <th>user_id</th>\n",
       "      <th>month</th>\n",
       "      <th></th>\n",
       "    </tr>\n",
       "  </thead>\n",
       "  <tbody>\n",
       "    <tr>\n",
       "      <th rowspan=\"5\" valign=\"top\">1000</th>\n",
       "      <th>5</th>\n",
       "      <td>22</td>\n",
       "    </tr>\n",
       "    <tr>\n",
       "      <th>6</th>\n",
       "      <td>60</td>\n",
       "    </tr>\n",
       "    <tr>\n",
       "      <th>7</th>\n",
       "      <td>75</td>\n",
       "    </tr>\n",
       "    <tr>\n",
       "      <th>8</th>\n",
       "      <td>81</td>\n",
       "    </tr>\n",
       "    <tr>\n",
       "      <th>9</th>\n",
       "      <td>57</td>\n",
       "    </tr>\n",
       "  </tbody>\n",
       "</table>\n",
       "</div>"
      ],
      "text/plain": [
       "               messages\n",
       "user_id month          \n",
       "1000    5            22\n",
       "        6            60\n",
       "        7            75\n",
       "        8            81\n",
       "        9            57"
      ]
     },
     "execution_count": 13,
     "metadata": {},
     "output_type": "execute_result"
    }
   ],
   "source": [
    "# считаем количество отправленных сообщений по месяцам\n",
    "mes_gr = messages.pivot_table(index=['user_id', 'month'], values='id', aggfunc='count')\n",
    "mes_gr.columns = ['messages']\n",
    "mes_gr.head()"
   ]
  },
  {
   "cell_type": "code",
   "execution_count": 14,
   "metadata": {},
   "outputs": [
    {
     "data": {
      "text/html": [
       "<div>\n",
       "<style scoped>\n",
       "    .dataframe tbody tr th:only-of-type {\n",
       "        vertical-align: middle;\n",
       "    }\n",
       "\n",
       "    .dataframe tbody tr th {\n",
       "        vertical-align: top;\n",
       "    }\n",
       "\n",
       "    .dataframe thead th {\n",
       "        text-align: right;\n",
       "    }\n",
       "</style>\n",
       "<table border=\"1\" class=\"dataframe\">\n",
       "  <thead>\n",
       "    <tr style=\"text-align: right;\">\n",
       "      <th></th>\n",
       "      <th></th>\n",
       "      <th>mb_used</th>\n",
       "    </tr>\n",
       "    <tr>\n",
       "      <th>user_id</th>\n",
       "      <th>month</th>\n",
       "      <th></th>\n",
       "    </tr>\n",
       "  </thead>\n",
       "  <tbody>\n",
       "    <tr>\n",
       "      <th rowspan=\"5\" valign=\"top\">1000</th>\n",
       "      <th>5</th>\n",
       "      <td>2253.49</td>\n",
       "    </tr>\n",
       "    <tr>\n",
       "      <th>6</th>\n",
       "      <td>23233.77</td>\n",
       "    </tr>\n",
       "    <tr>\n",
       "      <th>7</th>\n",
       "      <td>14003.64</td>\n",
       "    </tr>\n",
       "    <tr>\n",
       "      <th>8</th>\n",
       "      <td>14055.93</td>\n",
       "    </tr>\n",
       "    <tr>\n",
       "      <th>9</th>\n",
       "      <td>14568.91</td>\n",
       "    </tr>\n",
       "  </tbody>\n",
       "</table>\n",
       "</div>"
      ],
      "text/plain": [
       "                mb_used\n",
       "user_id month          \n",
       "1000    5       2253.49\n",
       "        6      23233.77\n",
       "        7      14003.64\n",
       "        8      14055.93\n",
       "        9      14568.91"
      ]
     },
     "execution_count": 14,
     "metadata": {},
     "output_type": "execute_result"
    }
   ],
   "source": [
    "# считаем объем израсходованного интернет-трафика по месяцам\n",
    "int_gr = internet.pivot_table(index=['user_id', 'month'], values='mb_used', aggfunc='sum')\n",
    "int_gr.head()"
   ]
  },
  {
   "cell_type": "code",
   "execution_count": 15,
   "metadata": {},
   "outputs": [
    {
     "data": {
      "text/html": [
       "<div>\n",
       "<style scoped>\n",
       "    .dataframe tbody tr th:only-of-type {\n",
       "        vertical-align: middle;\n",
       "    }\n",
       "\n",
       "    .dataframe tbody tr th {\n",
       "        vertical-align: top;\n",
       "    }\n",
       "\n",
       "    .dataframe thead th {\n",
       "        text-align: right;\n",
       "    }\n",
       "</style>\n",
       "<table border=\"1\" class=\"dataframe\">\n",
       "  <thead>\n",
       "    <tr style=\"text-align: right;\">\n",
       "      <th></th>\n",
       "      <th></th>\n",
       "      <th>mb_used</th>\n",
       "      <th>gb_used</th>\n",
       "    </tr>\n",
       "    <tr>\n",
       "      <th>user_id</th>\n",
       "      <th>month</th>\n",
       "      <th></th>\n",
       "      <th></th>\n",
       "    </tr>\n",
       "  </thead>\n",
       "  <tbody>\n",
       "    <tr>\n",
       "      <th rowspan=\"5\" valign=\"top\">1000</th>\n",
       "      <th>5</th>\n",
       "      <td>2253.49</td>\n",
       "      <td>3.0</td>\n",
       "    </tr>\n",
       "    <tr>\n",
       "      <th>6</th>\n",
       "      <td>23233.77</td>\n",
       "      <td>23.0</td>\n",
       "    </tr>\n",
       "    <tr>\n",
       "      <th>7</th>\n",
       "      <td>14003.64</td>\n",
       "      <td>14.0</td>\n",
       "    </tr>\n",
       "    <tr>\n",
       "      <th>8</th>\n",
       "      <td>14055.93</td>\n",
       "      <td>14.0</td>\n",
       "    </tr>\n",
       "    <tr>\n",
       "      <th>9</th>\n",
       "      <td>14568.91</td>\n",
       "      <td>15.0</td>\n",
       "    </tr>\n",
       "  </tbody>\n",
       "</table>\n",
       "</div>"
      ],
      "text/plain": [
       "                mb_used  gb_used\n",
       "user_id month                   \n",
       "1000    5       2253.49      3.0\n",
       "        6      23233.77     23.0\n",
       "        7      14003.64     14.0\n",
       "        8      14055.93     14.0\n",
       "        9      14568.91     15.0"
      ]
     },
     "execution_count": 15,
     "metadata": {},
     "output_type": "execute_result"
    }
   ],
   "source": [
    "# округляем мегабайты, чтобы потом перевести их в гигабайты\n",
    "int_gr['gb_used'] = int_gr['mb_used'] / 1024\n",
    "int_gr['gb_used'] = np.ceil(int_gr['gb_used'])\n",
    "int_gr.head()"
   ]
  },
  {
   "cell_type": "code",
   "execution_count": 16,
   "metadata": {},
   "outputs": [
    {
     "data": {
      "text/html": [
       "<div>\n",
       "<style scoped>\n",
       "    .dataframe tbody tr th:only-of-type {\n",
       "        vertical-align: middle;\n",
       "    }\n",
       "\n",
       "    .dataframe tbody tr th {\n",
       "        vertical-align: top;\n",
       "    }\n",
       "\n",
       "    .dataframe thead th {\n",
       "        text-align: right;\n",
       "    }\n",
       "</style>\n",
       "<table border=\"1\" class=\"dataframe\">\n",
       "  <thead>\n",
       "    <tr style=\"text-align: right;\">\n",
       "      <th></th>\n",
       "      <th></th>\n",
       "      <th>mb_used</th>\n",
       "      <th>gb_used</th>\n",
       "      <th>duration</th>\n",
       "      <th>calls</th>\n",
       "      <th>messages</th>\n",
       "    </tr>\n",
       "    <tr>\n",
       "      <th>user_id</th>\n",
       "      <th>month</th>\n",
       "      <th></th>\n",
       "      <th></th>\n",
       "      <th></th>\n",
       "      <th></th>\n",
       "      <th></th>\n",
       "    </tr>\n",
       "  </thead>\n",
       "  <tbody>\n",
       "    <tr>\n",
       "      <th rowspan=\"5\" valign=\"top\">1000</th>\n",
       "      <th>5</th>\n",
       "      <td>2253.49</td>\n",
       "      <td>3.0</td>\n",
       "      <td>159.0</td>\n",
       "      <td>22.0</td>\n",
       "      <td>22.0</td>\n",
       "    </tr>\n",
       "    <tr>\n",
       "      <th>6</th>\n",
       "      <td>23233.77</td>\n",
       "      <td>23.0</td>\n",
       "      <td>172.0</td>\n",
       "      <td>43.0</td>\n",
       "      <td>60.0</td>\n",
       "    </tr>\n",
       "    <tr>\n",
       "      <th>7</th>\n",
       "      <td>14003.64</td>\n",
       "      <td>14.0</td>\n",
       "      <td>340.0</td>\n",
       "      <td>47.0</td>\n",
       "      <td>75.0</td>\n",
       "    </tr>\n",
       "    <tr>\n",
       "      <th>8</th>\n",
       "      <td>14055.93</td>\n",
       "      <td>14.0</td>\n",
       "      <td>408.0</td>\n",
       "      <td>52.0</td>\n",
       "      <td>81.0</td>\n",
       "    </tr>\n",
       "    <tr>\n",
       "      <th>9</th>\n",
       "      <td>14568.91</td>\n",
       "      <td>15.0</td>\n",
       "      <td>466.0</td>\n",
       "      <td>58.0</td>\n",
       "      <td>57.0</td>\n",
       "    </tr>\n",
       "  </tbody>\n",
       "</table>\n",
       "</div>"
      ],
      "text/plain": [
       "                mb_used  gb_used  duration  calls  messages\n",
       "user_id month                                              \n",
       "1000    5       2253.49      3.0     159.0   22.0      22.0\n",
       "        6      23233.77     23.0     172.0   43.0      60.0\n",
       "        7      14003.64     14.0     340.0   47.0      75.0\n",
       "        8      14055.93     14.0     408.0   52.0      81.0\n",
       "        9      14568.91     15.0     466.0   58.0      57.0"
      ]
     },
     "execution_count": 16,
     "metadata": {},
     "output_type": "execute_result"
    }
   ],
   "source": [
    "# Посчитаем помесячную выручку с каждого пользователя\n",
    "# Для этого объединим данные по звонкам, сообщениям и пользованию интернетом по каждому пользователю помесячно, присоединяя к большей таблице меньшую\n",
    "\n",
    "month_inc = int_gr.merge(calls_gr, how='outer', on=['user_id', 'month'])\n",
    "month_inc = month_inc.merge(mes_gr, how='outer', on=['user_id','month'])\n",
    "month_inc.head()"
   ]
  },
  {
   "cell_type": "code",
   "execution_count": 17,
   "metadata": {},
   "outputs": [
    {
     "name": "stdout",
     "output_type": "stream",
     "text": [
      "<class 'pandas.core.frame.DataFrame'>\n",
      "MultiIndex: 3214 entries, (1000, 5) to (1446, 8)\n",
      "Data columns (total 5 columns):\n",
      " #   Column    Non-Null Count  Dtype  \n",
      "---  ------    --------------  -----  \n",
      " 0   mb_used   3203 non-null   float64\n",
      " 1   gb_used   3203 non-null   float64\n",
      " 2   duration  3174 non-null   float64\n",
      " 3   calls     3174 non-null   float64\n",
      " 4   messages  2717 non-null   float64\n",
      "dtypes: float64(5)\n",
      "memory usage: 155.5 KB\n"
     ]
    }
   ],
   "source": [
    "month_inc.info()"
   ]
  },
  {
   "cell_type": "markdown",
   "metadata": {},
   "source": [
    "Отлично! у нас появилась новая таблица, к которой будем присоединять другие данные и получим информацио о доходе с каждого пользователя помесячно"
   ]
  },
  {
   "cell_type": "code",
   "execution_count": 18,
   "metadata": {},
   "outputs": [
    {
     "name": "stdout",
     "output_type": "stream",
     "text": [
      "кол-во звонков до джойна:1450301.0, кол-во звонков после джойна:1450301.0\n",
      "кол-во смс до джойна:123036, кол-во смс после джойна:123036.0\n",
      "кол-во мегов до джойна:55305267.730000004, кол-во мегов после джойна:55305267.730000004\n"
     ]
    }
   ],
   "source": [
    "print(f'кол-во звонков до джойна:{calls_gr.duration.sum()}, кол-во звонков после джойна:{month_inc.duration.sum()}')\n",
    "print(f'кол-во смс до джойна:{mes_gr.messages.sum()}, кол-во смс после джойна:{month_inc.messages.sum()}')\n",
    "print(f'кол-во мегов до джойна:{int_gr.mb_used.sum()}, кол-во мегов после джойна:{month_inc.mb_used.sum()}' )"
   ]
  },
  {
   "cell_type": "code",
   "execution_count": 19,
   "metadata": {},
   "outputs": [
    {
     "data": {
      "text/html": [
       "<div>\n",
       "<style scoped>\n",
       "    .dataframe tbody tr th:only-of-type {\n",
       "        vertical-align: middle;\n",
       "    }\n",
       "\n",
       "    .dataframe tbody tr th {\n",
       "        vertical-align: top;\n",
       "    }\n",
       "\n",
       "    .dataframe thead th {\n",
       "        text-align: right;\n",
       "    }\n",
       "</style>\n",
       "<table border=\"1\" class=\"dataframe\">\n",
       "  <thead>\n",
       "    <tr style=\"text-align: right;\">\n",
       "      <th></th>\n",
       "      <th>user_id</th>\n",
       "      <th>city</th>\n",
       "      <th>tariff</th>\n",
       "    </tr>\n",
       "  </thead>\n",
       "  <tbody>\n",
       "    <tr>\n",
       "      <th>0</th>\n",
       "      <td>1000</td>\n",
       "      <td>Краснодар</td>\n",
       "      <td>ultra</td>\n",
       "    </tr>\n",
       "    <tr>\n",
       "      <th>1</th>\n",
       "      <td>1001</td>\n",
       "      <td>Москва</td>\n",
       "      <td>smart</td>\n",
       "    </tr>\n",
       "    <tr>\n",
       "      <th>2</th>\n",
       "      <td>1002</td>\n",
       "      <td>Стерлитамак</td>\n",
       "      <td>smart</td>\n",
       "    </tr>\n",
       "    <tr>\n",
       "      <th>3</th>\n",
       "      <td>1003</td>\n",
       "      <td>Москва</td>\n",
       "      <td>ultra</td>\n",
       "    </tr>\n",
       "    <tr>\n",
       "      <th>4</th>\n",
       "      <td>1004</td>\n",
       "      <td>Новокузнецк</td>\n",
       "      <td>ultra</td>\n",
       "    </tr>\n",
       "  </tbody>\n",
       "</table>\n",
       "</div>"
      ],
      "text/plain": [
       "   user_id         city tariff\n",
       "0     1000    Краснодар  ultra\n",
       "1     1001       Москва  smart\n",
       "2     1002  Стерлитамак  smart\n",
       "3     1003       Москва  ultra\n",
       "4     1004  Новокузнецк  ultra"
      ]
     },
     "execution_count": 19,
     "metadata": {},
     "output_type": "execute_result"
    }
   ],
   "source": [
    "user_tariff = users[['user_id', 'city', 'tariff']]\n",
    "user_tariff.head()"
   ]
  },
  {
   "cell_type": "code",
   "execution_count": 20,
   "metadata": {},
   "outputs": [],
   "source": [
    "tariffs.columns = ['messages_included', 'mb_per_month_included', 'minutes_included',\n",
    "       'rub_monthly_fee', 'rub_per_gb', 'rub_per_message', 'rub_per_minute',\n",
    "       'tariff']"
   ]
  },
  {
   "cell_type": "code",
   "execution_count": 21,
   "metadata": {},
   "outputs": [
    {
     "data": {
      "text/html": [
       "<div>\n",
       "<style scoped>\n",
       "    .dataframe tbody tr th:only-of-type {\n",
       "        vertical-align: middle;\n",
       "    }\n",
       "\n",
       "    .dataframe tbody tr th {\n",
       "        vertical-align: top;\n",
       "    }\n",
       "\n",
       "    .dataframe thead th {\n",
       "        text-align: right;\n",
       "    }\n",
       "</style>\n",
       "<table border=\"1\" class=\"dataframe\">\n",
       "  <thead>\n",
       "    <tr style=\"text-align: right;\">\n",
       "      <th></th>\n",
       "      <th>user_id</th>\n",
       "      <th>city</th>\n",
       "      <th>tariff</th>\n",
       "      <th>messages_included</th>\n",
       "      <th>mb_per_month_included</th>\n",
       "      <th>minutes_included</th>\n",
       "      <th>rub_monthly_fee</th>\n",
       "      <th>rub_per_gb</th>\n",
       "      <th>rub_per_message</th>\n",
       "      <th>rub_per_minute</th>\n",
       "    </tr>\n",
       "  </thead>\n",
       "  <tbody>\n",
       "    <tr>\n",
       "      <th>0</th>\n",
       "      <td>1000</td>\n",
       "      <td>Краснодар</td>\n",
       "      <td>ultra</td>\n",
       "      <td>1000</td>\n",
       "      <td>30720</td>\n",
       "      <td>3000</td>\n",
       "      <td>1950</td>\n",
       "      <td>150</td>\n",
       "      <td>1</td>\n",
       "      <td>1</td>\n",
       "    </tr>\n",
       "    <tr>\n",
       "      <th>1</th>\n",
       "      <td>1001</td>\n",
       "      <td>Москва</td>\n",
       "      <td>smart</td>\n",
       "      <td>50</td>\n",
       "      <td>15360</td>\n",
       "      <td>500</td>\n",
       "      <td>550</td>\n",
       "      <td>200</td>\n",
       "      <td>3</td>\n",
       "      <td>3</td>\n",
       "    </tr>\n",
       "    <tr>\n",
       "      <th>2</th>\n",
       "      <td>1002</td>\n",
       "      <td>Стерлитамак</td>\n",
       "      <td>smart</td>\n",
       "      <td>50</td>\n",
       "      <td>15360</td>\n",
       "      <td>500</td>\n",
       "      <td>550</td>\n",
       "      <td>200</td>\n",
       "      <td>3</td>\n",
       "      <td>3</td>\n",
       "    </tr>\n",
       "    <tr>\n",
       "      <th>3</th>\n",
       "      <td>1003</td>\n",
       "      <td>Москва</td>\n",
       "      <td>ultra</td>\n",
       "      <td>1000</td>\n",
       "      <td>30720</td>\n",
       "      <td>3000</td>\n",
       "      <td>1950</td>\n",
       "      <td>150</td>\n",
       "      <td>1</td>\n",
       "      <td>1</td>\n",
       "    </tr>\n",
       "    <tr>\n",
       "      <th>4</th>\n",
       "      <td>1004</td>\n",
       "      <td>Новокузнецк</td>\n",
       "      <td>ultra</td>\n",
       "      <td>1000</td>\n",
       "      <td>30720</td>\n",
       "      <td>3000</td>\n",
       "      <td>1950</td>\n",
       "      <td>150</td>\n",
       "      <td>1</td>\n",
       "      <td>1</td>\n",
       "    </tr>\n",
       "  </tbody>\n",
       "</table>\n",
       "</div>"
      ],
      "text/plain": [
       "   user_id         city tariff  messages_included  mb_per_month_included  \\\n",
       "0     1000    Краснодар  ultra               1000                  30720   \n",
       "1     1001       Москва  smart                 50                  15360   \n",
       "2     1002  Стерлитамак  smart                 50                  15360   \n",
       "3     1003       Москва  ultra               1000                  30720   \n",
       "4     1004  Новокузнецк  ultra               1000                  30720   \n",
       "\n",
       "   minutes_included  rub_monthly_fee  rub_per_gb  rub_per_message  \\\n",
       "0              3000             1950         150                1   \n",
       "1               500              550         200                3   \n",
       "2               500              550         200                3   \n",
       "3              3000             1950         150                1   \n",
       "4              3000             1950         150                1   \n",
       "\n",
       "   rub_per_minute  \n",
       "0               1  \n",
       "1               3  \n",
       "2               3  \n",
       "3               1  \n",
       "4               1  "
      ]
     },
     "execution_count": 21,
     "metadata": {},
     "output_type": "execute_result"
    }
   ],
   "source": [
    "user_tariff = user_tariff.merge(tariffs, how='left', on='tariff')\n",
    "user_tariff.head()"
   ]
  },
  {
   "cell_type": "code",
   "execution_count": 22,
   "metadata": {},
   "outputs": [],
   "source": [
    "# Проиндексируем таблицу, чтобы объединить ее с таблицей user_tariff по столбцу user_id\n",
    "month_inc = month_inc.reset_index()"
   ]
  },
  {
   "cell_type": "code",
   "execution_count": 23,
   "metadata": {},
   "outputs": [
    {
     "data": {
      "text/html": [
       "<div>\n",
       "<style scoped>\n",
       "    .dataframe tbody tr th:only-of-type {\n",
       "        vertical-align: middle;\n",
       "    }\n",
       "\n",
       "    .dataframe tbody tr th {\n",
       "        vertical-align: top;\n",
       "    }\n",
       "\n",
       "    .dataframe thead th {\n",
       "        text-align: right;\n",
       "    }\n",
       "</style>\n",
       "<table border=\"1\" class=\"dataframe\">\n",
       "  <thead>\n",
       "    <tr style=\"text-align: right;\">\n",
       "      <th></th>\n",
       "      <th>user_id</th>\n",
       "      <th>month</th>\n",
       "      <th>mb_used</th>\n",
       "      <th>gb_used</th>\n",
       "      <th>duration</th>\n",
       "      <th>calls</th>\n",
       "      <th>messages</th>\n",
       "      <th>city</th>\n",
       "      <th>tariff</th>\n",
       "      <th>messages_included</th>\n",
       "      <th>mb_per_month_included</th>\n",
       "      <th>minutes_included</th>\n",
       "      <th>rub_monthly_fee</th>\n",
       "      <th>rub_per_gb</th>\n",
       "      <th>rub_per_message</th>\n",
       "      <th>rub_per_minute</th>\n",
       "    </tr>\n",
       "  </thead>\n",
       "  <tbody>\n",
       "    <tr>\n",
       "      <th>0</th>\n",
       "      <td>1000</td>\n",
       "      <td>5.0</td>\n",
       "      <td>2253.49</td>\n",
       "      <td>3.0</td>\n",
       "      <td>159.0</td>\n",
       "      <td>22.0</td>\n",
       "      <td>22.0</td>\n",
       "      <td>Краснодар</td>\n",
       "      <td>ultra</td>\n",
       "      <td>1000</td>\n",
       "      <td>30720</td>\n",
       "      <td>3000</td>\n",
       "      <td>1950</td>\n",
       "      <td>150</td>\n",
       "      <td>1</td>\n",
       "      <td>1</td>\n",
       "    </tr>\n",
       "    <tr>\n",
       "      <th>1</th>\n",
       "      <td>1000</td>\n",
       "      <td>6.0</td>\n",
       "      <td>23233.77</td>\n",
       "      <td>23.0</td>\n",
       "      <td>172.0</td>\n",
       "      <td>43.0</td>\n",
       "      <td>60.0</td>\n",
       "      <td>Краснодар</td>\n",
       "      <td>ultra</td>\n",
       "      <td>1000</td>\n",
       "      <td>30720</td>\n",
       "      <td>3000</td>\n",
       "      <td>1950</td>\n",
       "      <td>150</td>\n",
       "      <td>1</td>\n",
       "      <td>1</td>\n",
       "    </tr>\n",
       "    <tr>\n",
       "      <th>2</th>\n",
       "      <td>1000</td>\n",
       "      <td>7.0</td>\n",
       "      <td>14003.64</td>\n",
       "      <td>14.0</td>\n",
       "      <td>340.0</td>\n",
       "      <td>47.0</td>\n",
       "      <td>75.0</td>\n",
       "      <td>Краснодар</td>\n",
       "      <td>ultra</td>\n",
       "      <td>1000</td>\n",
       "      <td>30720</td>\n",
       "      <td>3000</td>\n",
       "      <td>1950</td>\n",
       "      <td>150</td>\n",
       "      <td>1</td>\n",
       "      <td>1</td>\n",
       "    </tr>\n",
       "    <tr>\n",
       "      <th>3</th>\n",
       "      <td>1000</td>\n",
       "      <td>8.0</td>\n",
       "      <td>14055.93</td>\n",
       "      <td>14.0</td>\n",
       "      <td>408.0</td>\n",
       "      <td>52.0</td>\n",
       "      <td>81.0</td>\n",
       "      <td>Краснодар</td>\n",
       "      <td>ultra</td>\n",
       "      <td>1000</td>\n",
       "      <td>30720</td>\n",
       "      <td>3000</td>\n",
       "      <td>1950</td>\n",
       "      <td>150</td>\n",
       "      <td>1</td>\n",
       "      <td>1</td>\n",
       "    </tr>\n",
       "    <tr>\n",
       "      <th>4</th>\n",
       "      <td>1000</td>\n",
       "      <td>9.0</td>\n",
       "      <td>14568.91</td>\n",
       "      <td>15.0</td>\n",
       "      <td>466.0</td>\n",
       "      <td>58.0</td>\n",
       "      <td>57.0</td>\n",
       "      <td>Краснодар</td>\n",
       "      <td>ultra</td>\n",
       "      <td>1000</td>\n",
       "      <td>30720</td>\n",
       "      <td>3000</td>\n",
       "      <td>1950</td>\n",
       "      <td>150</td>\n",
       "      <td>1</td>\n",
       "      <td>1</td>\n",
       "    </tr>\n",
       "  </tbody>\n",
       "</table>\n",
       "</div>"
      ],
      "text/plain": [
       "   user_id  month   mb_used  gb_used  duration  calls  messages       city  \\\n",
       "0     1000    5.0   2253.49      3.0     159.0   22.0      22.0  Краснодар   \n",
       "1     1000    6.0  23233.77     23.0     172.0   43.0      60.0  Краснодар   \n",
       "2     1000    7.0  14003.64     14.0     340.0   47.0      75.0  Краснодар   \n",
       "3     1000    8.0  14055.93     14.0     408.0   52.0      81.0  Краснодар   \n",
       "4     1000    9.0  14568.91     15.0     466.0   58.0      57.0  Краснодар   \n",
       "\n",
       "  tariff  messages_included  mb_per_month_included  minutes_included  \\\n",
       "0  ultra               1000                  30720              3000   \n",
       "1  ultra               1000                  30720              3000   \n",
       "2  ultra               1000                  30720              3000   \n",
       "3  ultra               1000                  30720              3000   \n",
       "4  ultra               1000                  30720              3000   \n",
       "\n",
       "   rub_monthly_fee  rub_per_gb  rub_per_message  rub_per_minute  \n",
       "0             1950         150                1               1  \n",
       "1             1950         150                1               1  \n",
       "2             1950         150                1               1  \n",
       "3             1950         150                1               1  \n",
       "4             1950         150                1               1  "
      ]
     },
     "execution_count": 23,
     "metadata": {},
     "output_type": "execute_result"
    }
   ],
   "source": [
    "month_inc = month_inc.merge(user_tariff, how='right', on='user_id')\n",
    "month_inc.head()"
   ]
  },
  {
   "cell_type": "code",
   "execution_count": 24,
   "metadata": {},
   "outputs": [],
   "source": [
    "def new_col(row):\n",
    "    if row == 'ultra':\n",
    "        return 30\n",
    "    else:\n",
    "        return 15\n",
    "    \n",
    "month_inc['gb_per_month_included'] = month_inc['tariff'].apply(new_col)\n"
   ]
  },
  {
   "cell_type": "code",
   "execution_count": 25,
   "metadata": {},
   "outputs": [],
   "source": [
    "# Посчитаем помесячный доход с каждого пользователя за телефонные разговоры, смс-сообщения и интернет-трафик свыше тарифа\n",
    "def revenue_from_smth(row, str1, str2, multi, str3):\n",
    "    month_inc = np.ceil((row[str1] - row[str2]) / multi) * row[str3]\n",
    "    if month_inc> 0:\n",
    "        return month_inc\n",
    "    return 0\n",
    "\n",
    "def revenue_from_minutes(row):\n",
    "    return revenue_from_smth(row, 'duration', 'minutes_included', 1, 'rub_per_minute')\n",
    "\n",
    "def revenue_from_sms(row):\n",
    "    return revenue_from_smth(row, 'messages', 'messages_included', 1, 'rub_per_message')\n",
    "\n",
    "def revenue_from_traffic(row):\n",
    "    return revenue_from_smth(row, 'gb_used', 'gb_per_month_included', 1, 'rub_per_gb')"
   ]
  },
  {
   "cell_type": "code",
   "execution_count": 26,
   "metadata": {},
   "outputs": [],
   "source": [
    "month_inc['minutes_cost'] = month_inc.apply(revenue_from_minutes, axis=1)\n",
    "month_inc['sms_cost'] = month_inc.apply(revenue_from_sms, axis=1)\n",
    "month_inc['gb_cost'] = month_inc.apply(revenue_from_traffic, axis=1)"
   ]
  },
  {
   "cell_type": "code",
   "execution_count": 27,
   "metadata": {},
   "outputs": [
    {
     "data": {
      "text/html": [
       "<div>\n",
       "<style scoped>\n",
       "    .dataframe tbody tr th:only-of-type {\n",
       "        vertical-align: middle;\n",
       "    }\n",
       "\n",
       "    .dataframe tbody tr th {\n",
       "        vertical-align: top;\n",
       "    }\n",
       "\n",
       "    .dataframe thead th {\n",
       "        text-align: right;\n",
       "    }\n",
       "</style>\n",
       "<table border=\"1\" class=\"dataframe\">\n",
       "  <thead>\n",
       "    <tr style=\"text-align: right;\">\n",
       "      <th></th>\n",
       "      <th>user_id</th>\n",
       "      <th>month</th>\n",
       "      <th>mb_used</th>\n",
       "      <th>gb_used</th>\n",
       "      <th>duration</th>\n",
       "      <th>calls</th>\n",
       "      <th>messages</th>\n",
       "      <th>city</th>\n",
       "      <th>tariff</th>\n",
       "      <th>messages_included</th>\n",
       "      <th>...</th>\n",
       "      <th>minutes_included</th>\n",
       "      <th>rub_monthly_fee</th>\n",
       "      <th>rub_per_gb</th>\n",
       "      <th>rub_per_message</th>\n",
       "      <th>rub_per_minute</th>\n",
       "      <th>gb_per_month_included</th>\n",
       "      <th>minutes_cost</th>\n",
       "      <th>sms_cost</th>\n",
       "      <th>gb_cost</th>\n",
       "      <th>total</th>\n",
       "    </tr>\n",
       "  </thead>\n",
       "  <tbody>\n",
       "    <tr>\n",
       "      <th>2790</th>\n",
       "      <td>1432</td>\n",
       "      <td>10.0</td>\n",
       "      <td>21298.55</td>\n",
       "      <td>21.0</td>\n",
       "      <td>750.0</td>\n",
       "      <td>98.0</td>\n",
       "      <td>79.0</td>\n",
       "      <td>Улан-Удэ</td>\n",
       "      <td>smart</td>\n",
       "      <td>50</td>\n",
       "      <td>...</td>\n",
       "      <td>500</td>\n",
       "      <td>550</td>\n",
       "      <td>200</td>\n",
       "      <td>3</td>\n",
       "      <td>3</td>\n",
       "      <td>15</td>\n",
       "      <td>750.0</td>\n",
       "      <td>87.0</td>\n",
       "      <td>1200.0</td>\n",
       "      <td>2587.0</td>\n",
       "    </tr>\n",
       "    <tr>\n",
       "      <th>1607</th>\n",
       "      <td>1253</td>\n",
       "      <td>10.0</td>\n",
       "      <td>26019.29</td>\n",
       "      <td>26.0</td>\n",
       "      <td>272.0</td>\n",
       "      <td>44.0</td>\n",
       "      <td>89.0</td>\n",
       "      <td>Астрахань</td>\n",
       "      <td>ultra</td>\n",
       "      <td>1000</td>\n",
       "      <td>...</td>\n",
       "      <td>3000</td>\n",
       "      <td>1950</td>\n",
       "      <td>150</td>\n",
       "      <td>1</td>\n",
       "      <td>1</td>\n",
       "      <td>30</td>\n",
       "      <td>0.0</td>\n",
       "      <td>0.0</td>\n",
       "      <td>0.0</td>\n",
       "      <td>1950.0</td>\n",
       "    </tr>\n",
       "    <tr>\n",
       "      <th>2694</th>\n",
       "      <td>1420</td>\n",
       "      <td>12.0</td>\n",
       "      <td>28638.78</td>\n",
       "      <td>28.0</td>\n",
       "      <td>231.0</td>\n",
       "      <td>36.0</td>\n",
       "      <td>14.0</td>\n",
       "      <td>Сочи</td>\n",
       "      <td>smart</td>\n",
       "      <td>50</td>\n",
       "      <td>...</td>\n",
       "      <td>500</td>\n",
       "      <td>550</td>\n",
       "      <td>200</td>\n",
       "      <td>3</td>\n",
       "      <td>3</td>\n",
       "      <td>15</td>\n",
       "      <td>0.0</td>\n",
       "      <td>0.0</td>\n",
       "      <td>2600.0</td>\n",
       "      <td>3150.0</td>\n",
       "    </tr>\n",
       "    <tr>\n",
       "      <th>2405</th>\n",
       "      <td>1378</td>\n",
       "      <td>6.0</td>\n",
       "      <td>13536.42</td>\n",
       "      <td>14.0</td>\n",
       "      <td>486.0</td>\n",
       "      <td>71.0</td>\n",
       "      <td>17.0</td>\n",
       "      <td>Иркутск</td>\n",
       "      <td>smart</td>\n",
       "      <td>50</td>\n",
       "      <td>...</td>\n",
       "      <td>500</td>\n",
       "      <td>550</td>\n",
       "      <td>200</td>\n",
       "      <td>3</td>\n",
       "      <td>3</td>\n",
       "      <td>15</td>\n",
       "      <td>0.0</td>\n",
       "      <td>0.0</td>\n",
       "      <td>0.0</td>\n",
       "      <td>550.0</td>\n",
       "    </tr>\n",
       "    <tr>\n",
       "      <th>2692</th>\n",
       "      <td>1420</td>\n",
       "      <td>10.0</td>\n",
       "      <td>30084.56</td>\n",
       "      <td>30.0</td>\n",
       "      <td>210.0</td>\n",
       "      <td>30.0</td>\n",
       "      <td>10.0</td>\n",
       "      <td>Сочи</td>\n",
       "      <td>smart</td>\n",
       "      <td>50</td>\n",
       "      <td>...</td>\n",
       "      <td>500</td>\n",
       "      <td>550</td>\n",
       "      <td>200</td>\n",
       "      <td>3</td>\n",
       "      <td>3</td>\n",
       "      <td>15</td>\n",
       "      <td>0.0</td>\n",
       "      <td>0.0</td>\n",
       "      <td>3000.0</td>\n",
       "      <td>3550.0</td>\n",
       "    </tr>\n",
       "    <tr>\n",
       "      <th>863</th>\n",
       "      <td>1135</td>\n",
       "      <td>6.0</td>\n",
       "      <td>18322.53</td>\n",
       "      <td>18.0</td>\n",
       "      <td>564.0</td>\n",
       "      <td>73.0</td>\n",
       "      <td>25.0</td>\n",
       "      <td>Архангельск</td>\n",
       "      <td>smart</td>\n",
       "      <td>50</td>\n",
       "      <td>...</td>\n",
       "      <td>500</td>\n",
       "      <td>550</td>\n",
       "      <td>200</td>\n",
       "      <td>3</td>\n",
       "      <td>3</td>\n",
       "      <td>15</td>\n",
       "      <td>192.0</td>\n",
       "      <td>0.0</td>\n",
       "      <td>600.0</td>\n",
       "      <td>1342.0</td>\n",
       "    </tr>\n",
       "    <tr>\n",
       "      <th>105</th>\n",
       "      <td>1014</td>\n",
       "      <td>10.0</td>\n",
       "      <td>22539.37</td>\n",
       "      <td>23.0</td>\n",
       "      <td>332.0</td>\n",
       "      <td>49.0</td>\n",
       "      <td>51.0</td>\n",
       "      <td>Чебоксары</td>\n",
       "      <td>smart</td>\n",
       "      <td>50</td>\n",
       "      <td>...</td>\n",
       "      <td>500</td>\n",
       "      <td>550</td>\n",
       "      <td>200</td>\n",
       "      <td>3</td>\n",
       "      <td>3</td>\n",
       "      <td>15</td>\n",
       "      <td>0.0</td>\n",
       "      <td>3.0</td>\n",
       "      <td>1600.0</td>\n",
       "      <td>2153.0</td>\n",
       "    </tr>\n",
       "  </tbody>\n",
       "</table>\n",
       "<p>7 rows × 21 columns</p>\n",
       "</div>"
      ],
      "text/plain": [
       "      user_id  month   mb_used  gb_used  duration  calls  messages  \\\n",
       "2790     1432   10.0  21298.55     21.0     750.0   98.0      79.0   \n",
       "1607     1253   10.0  26019.29     26.0     272.0   44.0      89.0   \n",
       "2694     1420   12.0  28638.78     28.0     231.0   36.0      14.0   \n",
       "2405     1378    6.0  13536.42     14.0     486.0   71.0      17.0   \n",
       "2692     1420   10.0  30084.56     30.0     210.0   30.0      10.0   \n",
       "863      1135    6.0  18322.53     18.0     564.0   73.0      25.0   \n",
       "105      1014   10.0  22539.37     23.0     332.0   49.0      51.0   \n",
       "\n",
       "             city tariff  messages_included  ...  minutes_included  \\\n",
       "2790     Улан-Удэ  smart                 50  ...               500   \n",
       "1607    Астрахань  ultra               1000  ...              3000   \n",
       "2694         Сочи  smart                 50  ...               500   \n",
       "2405      Иркутск  smart                 50  ...               500   \n",
       "2692         Сочи  smart                 50  ...               500   \n",
       "863   Архангельск  smart                 50  ...               500   \n",
       "105     Чебоксары  smart                 50  ...               500   \n",
       "\n",
       "      rub_monthly_fee  rub_per_gb  rub_per_message  rub_per_minute  \\\n",
       "2790              550         200                3               3   \n",
       "1607             1950         150                1               1   \n",
       "2694              550         200                3               3   \n",
       "2405              550         200                3               3   \n",
       "2692              550         200                3               3   \n",
       "863               550         200                3               3   \n",
       "105               550         200                3               3   \n",
       "\n",
       "      gb_per_month_included  minutes_cost  sms_cost  gb_cost   total  \n",
       "2790                     15         750.0      87.0   1200.0  2587.0  \n",
       "1607                     30           0.0       0.0      0.0  1950.0  \n",
       "2694                     15           0.0       0.0   2600.0  3150.0  \n",
       "2405                     15           0.0       0.0      0.0   550.0  \n",
       "2692                     15           0.0       0.0   3000.0  3550.0  \n",
       "863                      15         192.0       0.0    600.0  1342.0  \n",
       "105                      15           0.0       3.0   1600.0  2153.0  \n",
       "\n",
       "[7 rows x 21 columns]"
      ]
     },
     "execution_count": 27,
     "metadata": {},
     "output_type": "execute_result"
    }
   ],
   "source": [
    "month_inc['total'] = month_inc['rub_monthly_fee'] + month_inc['minutes_cost'] + month_inc['sms_cost'] + month_inc['gb_cost']\n",
    "month_inc.sample(7)"
   ]
  },
  {
   "cell_type": "code",
   "execution_count": 28,
   "metadata": {},
   "outputs": [
    {
     "data": {
      "text/plain": [
       "4916951.0"
      ]
     },
     "execution_count": 28,
     "metadata": {},
     "output_type": "execute_result"
    }
   ],
   "source": [
    "month_inc['total'].sum()"
   ]
  },
  {
   "cell_type": "code",
   "execution_count": 29,
   "metadata": {},
   "outputs": [
    {
     "data": {
      "text/html": [
       "<div>\n",
       "<style scoped>\n",
       "    .dataframe tbody tr th:only-of-type {\n",
       "        vertical-align: middle;\n",
       "    }\n",
       "\n",
       "    .dataframe tbody tr th {\n",
       "        vertical-align: top;\n",
       "    }\n",
       "\n",
       "    .dataframe thead th {\n",
       "        text-align: right;\n",
       "    }\n",
       "</style>\n",
       "<table border=\"1\" class=\"dataframe\">\n",
       "  <thead>\n",
       "    <tr style=\"text-align: right;\">\n",
       "      <th></th>\n",
       "      <th>user_id</th>\n",
       "      <th>month</th>\n",
       "      <th>mb_used</th>\n",
       "      <th>gb_used</th>\n",
       "      <th>duration</th>\n",
       "      <th>calls</th>\n",
       "      <th>messages</th>\n",
       "      <th>city</th>\n",
       "      <th>tariff</th>\n",
       "      <th>messages_included</th>\n",
       "      <th>...</th>\n",
       "      <th>minutes_included</th>\n",
       "      <th>rub_monthly_fee</th>\n",
       "      <th>rub_per_gb</th>\n",
       "      <th>rub_per_message</th>\n",
       "      <th>rub_per_minute</th>\n",
       "      <th>gb_per_month_included</th>\n",
       "      <th>minutes_cost</th>\n",
       "      <th>sms_cost</th>\n",
       "      <th>gb_cost</th>\n",
       "      <th>total</th>\n",
       "    </tr>\n",
       "  </thead>\n",
       "  <tbody>\n",
       "    <tr>\n",
       "      <th>0</th>\n",
       "      <td>1000</td>\n",
       "      <td>5.0</td>\n",
       "      <td>2253.49</td>\n",
       "      <td>3.0</td>\n",
       "      <td>159.0</td>\n",
       "      <td>22.0</td>\n",
       "      <td>22.0</td>\n",
       "      <td>Краснодар</td>\n",
       "      <td>ultra</td>\n",
       "      <td>1000</td>\n",
       "      <td>...</td>\n",
       "      <td>3000</td>\n",
       "      <td>1950</td>\n",
       "      <td>150</td>\n",
       "      <td>1</td>\n",
       "      <td>1</td>\n",
       "      <td>30</td>\n",
       "      <td>0.0</td>\n",
       "      <td>0.0</td>\n",
       "      <td>0.0</td>\n",
       "      <td>1950.0</td>\n",
       "    </tr>\n",
       "    <tr>\n",
       "      <th>1</th>\n",
       "      <td>1000</td>\n",
       "      <td>6.0</td>\n",
       "      <td>23233.77</td>\n",
       "      <td>23.0</td>\n",
       "      <td>172.0</td>\n",
       "      <td>43.0</td>\n",
       "      <td>60.0</td>\n",
       "      <td>Краснодар</td>\n",
       "      <td>ultra</td>\n",
       "      <td>1000</td>\n",
       "      <td>...</td>\n",
       "      <td>3000</td>\n",
       "      <td>1950</td>\n",
       "      <td>150</td>\n",
       "      <td>1</td>\n",
       "      <td>1</td>\n",
       "      <td>30</td>\n",
       "      <td>0.0</td>\n",
       "      <td>0.0</td>\n",
       "      <td>0.0</td>\n",
       "      <td>1950.0</td>\n",
       "    </tr>\n",
       "    <tr>\n",
       "      <th>2</th>\n",
       "      <td>1000</td>\n",
       "      <td>7.0</td>\n",
       "      <td>14003.64</td>\n",
       "      <td>14.0</td>\n",
       "      <td>340.0</td>\n",
       "      <td>47.0</td>\n",
       "      <td>75.0</td>\n",
       "      <td>Краснодар</td>\n",
       "      <td>ultra</td>\n",
       "      <td>1000</td>\n",
       "      <td>...</td>\n",
       "      <td>3000</td>\n",
       "      <td>1950</td>\n",
       "      <td>150</td>\n",
       "      <td>1</td>\n",
       "      <td>1</td>\n",
       "      <td>30</td>\n",
       "      <td>0.0</td>\n",
       "      <td>0.0</td>\n",
       "      <td>0.0</td>\n",
       "      <td>1950.0</td>\n",
       "    </tr>\n",
       "    <tr>\n",
       "      <th>3</th>\n",
       "      <td>1000</td>\n",
       "      <td>8.0</td>\n",
       "      <td>14055.93</td>\n",
       "      <td>14.0</td>\n",
       "      <td>408.0</td>\n",
       "      <td>52.0</td>\n",
       "      <td>81.0</td>\n",
       "      <td>Краснодар</td>\n",
       "      <td>ultra</td>\n",
       "      <td>1000</td>\n",
       "      <td>...</td>\n",
       "      <td>3000</td>\n",
       "      <td>1950</td>\n",
       "      <td>150</td>\n",
       "      <td>1</td>\n",
       "      <td>1</td>\n",
       "      <td>30</td>\n",
       "      <td>0.0</td>\n",
       "      <td>0.0</td>\n",
       "      <td>0.0</td>\n",
       "      <td>1950.0</td>\n",
       "    </tr>\n",
       "    <tr>\n",
       "      <th>4</th>\n",
       "      <td>1000</td>\n",
       "      <td>9.0</td>\n",
       "      <td>14568.91</td>\n",
       "      <td>15.0</td>\n",
       "      <td>466.0</td>\n",
       "      <td>58.0</td>\n",
       "      <td>57.0</td>\n",
       "      <td>Краснодар</td>\n",
       "      <td>ultra</td>\n",
       "      <td>1000</td>\n",
       "      <td>...</td>\n",
       "      <td>3000</td>\n",
       "      <td>1950</td>\n",
       "      <td>150</td>\n",
       "      <td>1</td>\n",
       "      <td>1</td>\n",
       "      <td>30</td>\n",
       "      <td>0.0</td>\n",
       "      <td>0.0</td>\n",
       "      <td>0.0</td>\n",
       "      <td>1950.0</td>\n",
       "    </tr>\n",
       "  </tbody>\n",
       "</table>\n",
       "<p>5 rows × 21 columns</p>\n",
       "</div>"
      ],
      "text/plain": [
       "   user_id  month   mb_used  gb_used  duration  calls  messages       city  \\\n",
       "0     1000    5.0   2253.49      3.0     159.0   22.0      22.0  Краснодар   \n",
       "1     1000    6.0  23233.77     23.0     172.0   43.0      60.0  Краснодар   \n",
       "2     1000    7.0  14003.64     14.0     340.0   47.0      75.0  Краснодар   \n",
       "3     1000    8.0  14055.93     14.0     408.0   52.0      81.0  Краснодар   \n",
       "4     1000    9.0  14568.91     15.0     466.0   58.0      57.0  Краснодар   \n",
       "\n",
       "  tariff  messages_included  ...  minutes_included  rub_monthly_fee  \\\n",
       "0  ultra               1000  ...              3000             1950   \n",
       "1  ultra               1000  ...              3000             1950   \n",
       "2  ultra               1000  ...              3000             1950   \n",
       "3  ultra               1000  ...              3000             1950   \n",
       "4  ultra               1000  ...              3000             1950   \n",
       "\n",
       "   rub_per_gb  rub_per_message  rub_per_minute  gb_per_month_included  \\\n",
       "0         150                1               1                     30   \n",
       "1         150                1               1                     30   \n",
       "2         150                1               1                     30   \n",
       "3         150                1               1                     30   \n",
       "4         150                1               1                     30   \n",
       "\n",
       "   minutes_cost  sms_cost  gb_cost   total  \n",
       "0           0.0       0.0      0.0  1950.0  \n",
       "1           0.0       0.0      0.0  1950.0  \n",
       "2           0.0       0.0      0.0  1950.0  \n",
       "3           0.0       0.0      0.0  1950.0  \n",
       "4           0.0       0.0      0.0  1950.0  \n",
       "\n",
       "[5 rows x 21 columns]"
      ]
     },
     "execution_count": 29,
     "metadata": {},
     "output_type": "execute_result"
    }
   ],
   "source": [
    "month_inc.head()"
   ]
  },
  {
   "cell_type": "markdown",
   "metadata": {},
   "source": [
    "# Промежуточный вывод (2 шага)"
   ]
  },
  {
   "cell_type": "markdown",
   "metadata": {},
   "source": [
    "Данные приведены к нужным типам (datetime), были найдены и исправлены ошибки в данных (удалили один дублирущий столбец)\n",
    "В данных есть звонки с нулевой продолжительностью. Это не ошибка: нулями обозначены пропущенные звонки, поэтому их не нужно удалять. в таблице 'users' есть пропуски данных, это значит, что тариф ещё действовал на момент выгрузки данных.\n",
    "\n",
    "Округлили минуты звонков, так как та тариф говорит нам, что проговорив 1 секунду, будет защитано, как 1 минута, а также округлили трафик использованного интернета.\n",
    "\n",
    "Посчитали для каждого пользователя:\n",
    "количество сделанных звонков и израсходованных минут разговора по месяцам;\n",
    "количество отправленных сообщений по месяцам;\n",
    "объем израсходованного интернет-трафика по месяцам;\n",
    "помесячную выручку с каждого пользователя;\n",
    "\n",
    "была создана таблица с информацией о доходе с каждого пользователя помесячно (month_inc)\n",
    "\n",
    "Данные очень аккуратные и чистые, без дубликатов"
   ]
  },
  {
   "cell_type": "markdown",
   "metadata": {},
   "source": [
    "# Шаг 3. Проанализируем данные"
   ]
  },
  {
   "cell_type": "markdown",
   "metadata": {},
   "source": [
    "Опишем поведение клиентов оператора, исходя из выборки:\n",
    "\n",
    "[X] cколько минут разговора, сколько сообщений и какой объём интернет-трафика требуется пользователям каждого тарифа в месяц\n",
    "\n",
    "[X] среднее количество, дисперсию и стандартное отклонение\n",
    "\n",
    "[X] гистограммы\n",
    "\n",
    "[X] распределения\n"
   ]
  },
  {
   "cell_type": "code",
   "execution_count": 30,
   "metadata": {},
   "outputs": [
    {
     "data": {
      "text/html": [
       "<div>\n",
       "<style scoped>\n",
       "    .dataframe tbody tr th:only-of-type {\n",
       "        vertical-align: middle;\n",
       "    }\n",
       "\n",
       "    .dataframe tbody tr th {\n",
       "        vertical-align: top;\n",
       "    }\n",
       "\n",
       "    .dataframe thead th {\n",
       "        text-align: right;\n",
       "    }\n",
       "</style>\n",
       "<table border=\"1\" class=\"dataframe\">\n",
       "  <thead>\n",
       "    <tr style=\"text-align: right;\">\n",
       "      <th></th>\n",
       "      <th>duration</th>\n",
       "      <th>messages</th>\n",
       "      <th>mb_used</th>\n",
       "    </tr>\n",
       "  </thead>\n",
       "  <tbody>\n",
       "    <tr>\n",
       "      <th>count</th>\n",
       "      <td>951.000000</td>\n",
       "      <td>795.000000</td>\n",
       "      <td>975.000000</td>\n",
       "    </tr>\n",
       "    <tr>\n",
       "      <th>mean</th>\n",
       "      <td>545.451104</td>\n",
       "      <td>61.161006</td>\n",
       "      <td>19668.485262</td>\n",
       "    </tr>\n",
       "    <tr>\n",
       "      <th>std</th>\n",
       "      <td>306.925754</td>\n",
       "      <td>45.931026</td>\n",
       "      <td>9943.050284</td>\n",
       "    </tr>\n",
       "    <tr>\n",
       "      <th>min</th>\n",
       "      <td>0.000000</td>\n",
       "      <td>1.000000</td>\n",
       "      <td>0.000000</td>\n",
       "    </tr>\n",
       "    <tr>\n",
       "      <th>25%</th>\n",
       "      <td>310.000000</td>\n",
       "      <td>24.000000</td>\n",
       "      <td>12008.305000</td>\n",
       "    </tr>\n",
       "    <tr>\n",
       "      <th>50%</th>\n",
       "      <td>528.000000</td>\n",
       "      <td>51.000000</td>\n",
       "      <td>19394.290000</td>\n",
       "    </tr>\n",
       "    <tr>\n",
       "      <th>75%</th>\n",
       "      <td>756.500000</td>\n",
       "      <td>87.500000</td>\n",
       "      <td>26896.550000</td>\n",
       "    </tr>\n",
       "    <tr>\n",
       "      <th>max</th>\n",
       "      <td>1673.000000</td>\n",
       "      <td>224.000000</td>\n",
       "      <td>49745.690000</td>\n",
       "    </tr>\n",
       "  </tbody>\n",
       "</table>\n",
       "</div>"
      ],
      "text/plain": [
       "          duration    messages       mb_used\n",
       "count   951.000000  795.000000    975.000000\n",
       "mean    545.451104   61.161006  19668.485262\n",
       "std     306.925754   45.931026   9943.050284\n",
       "min       0.000000    1.000000      0.000000\n",
       "25%     310.000000   24.000000  12008.305000\n",
       "50%     528.000000   51.000000  19394.290000\n",
       "75%     756.500000   87.500000  26896.550000\n",
       "max    1673.000000  224.000000  49745.690000"
      ]
     },
     "execution_count": 30,
     "metadata": {},
     "output_type": "execute_result"
    }
   ],
   "source": [
    "# Найдем среднее количество, стандартное отклонение и дисперсию минут разговора, сообщений и интернет трафика пользователей тарифа ultra\n",
    "\n",
    "month_inc.query('tariff == \"ultra\"')[['duration', 'messages', 'mb_used']].describe()"
   ]
  },
  {
   "cell_type": "code",
   "execution_count": 31,
   "metadata": {},
   "outputs": [
    {
     "data": {
      "text/plain": [
       "duration    9.410436e+04\n",
       "messages    2.107006e+03\n",
       "mb_used     9.876285e+07\n",
       "dtype: float64"
      ]
     },
     "execution_count": 31,
     "metadata": {},
     "output_type": "execute_result"
    }
   ],
   "source": [
    "# дисперсия\n",
    "np.var(month_inc.query('tariff == \"ultra\"')[['duration', 'messages', 'mb_used']])"
   ]
  },
  {
   "cell_type": "markdown",
   "metadata": {},
   "source": [
    "Средняя длительность разговоров в месяц пользователей тарифа ultra - 545 минут, чуть больше медианы в 528 минуту. Стандартное отклонение большое, 306 минут.\n",
    "\n",
    "Среднее количество сообщений в месяц - 61 сообщение, чуть больше медианы в 51 сообщение. Значит есть выбросы, когда клиенты отправляют много сообщений в месяц. Стандартное отклонение большое и составляет 46 сообщений.\n",
    "\n",
    "Средний объем использованного интернет-трафика за месяц составляет 19668 мб и чуть больше медианы в 19394 мб. Значит тоже есть выбросы, то есть пользователи, кто очень много использует интернет. Стандартное отклонение равно 9943 мб.\n",
    "\n",
    "Можно сделать вывод, что ряды пользователей тарифа ultra неоднородны: в них есть и те, кто очень много разговаривает и те, кто отправляет очень много сообщений, и те, кто помногу использует интернет. Значит, у этой группы есть потенциал роста."
   ]
  },
  {
   "cell_type": "code",
   "execution_count": 32,
   "metadata": {},
   "outputs": [
    {
     "data": {
      "text/html": [
       "<div>\n",
       "<style scoped>\n",
       "    .dataframe tbody tr th:only-of-type {\n",
       "        vertical-align: middle;\n",
       "    }\n",
       "\n",
       "    .dataframe tbody tr th {\n",
       "        vertical-align: top;\n",
       "    }\n",
       "\n",
       "    .dataframe thead th {\n",
       "        text-align: right;\n",
       "    }\n",
       "</style>\n",
       "<table border=\"1\" class=\"dataframe\">\n",
       "  <thead>\n",
       "    <tr style=\"text-align: right;\">\n",
       "      <th></th>\n",
       "      <th>duration</th>\n",
       "      <th>messages</th>\n",
       "      <th>mb_used</th>\n",
       "    </tr>\n",
       "  </thead>\n",
       "  <tbody>\n",
       "    <tr>\n",
       "      <th>count</th>\n",
       "      <td>2223.000000</td>\n",
       "      <td>1922.000000</td>\n",
       "      <td>2228.000000</td>\n",
       "    </tr>\n",
       "    <tr>\n",
       "      <th>mean</th>\n",
       "      <td>419.062978</td>\n",
       "      <td>38.716441</td>\n",
       "      <td>16215.661849</td>\n",
       "    </tr>\n",
       "    <tr>\n",
       "      <th>std</th>\n",
       "      <td>189.325618</td>\n",
       "      <td>26.787949</td>\n",
       "      <td>5861.736234</td>\n",
       "    </tr>\n",
       "    <tr>\n",
       "      <th>min</th>\n",
       "      <td>0.000000</td>\n",
       "      <td>1.000000</td>\n",
       "      <td>0.000000</td>\n",
       "    </tr>\n",
       "    <tr>\n",
       "      <th>25%</th>\n",
       "      <td>285.000000</td>\n",
       "      <td>17.000000</td>\n",
       "      <td>12649.272500</td>\n",
       "    </tr>\n",
       "    <tr>\n",
       "      <th>50%</th>\n",
       "      <td>423.000000</td>\n",
       "      <td>34.000000</td>\n",
       "      <td>16507.740000</td>\n",
       "    </tr>\n",
       "    <tr>\n",
       "      <th>75%</th>\n",
       "      <td>545.500000</td>\n",
       "      <td>55.000000</td>\n",
       "      <td>20043.792500</td>\n",
       "    </tr>\n",
       "    <tr>\n",
       "      <th>max</th>\n",
       "      <td>1435.000000</td>\n",
       "      <td>143.000000</td>\n",
       "      <td>38552.450000</td>\n",
       "    </tr>\n",
       "  </tbody>\n",
       "</table>\n",
       "</div>"
      ],
      "text/plain": [
       "          duration     messages       mb_used\n",
       "count  2223.000000  1922.000000   2228.000000\n",
       "mean    419.062978    38.716441  16215.661849\n",
       "std     189.325618    26.787949   5861.736234\n",
       "min       0.000000     1.000000      0.000000\n",
       "25%     285.000000    17.000000  12649.272500\n",
       "50%     423.000000    34.000000  16507.740000\n",
       "75%     545.500000    55.000000  20043.792500\n",
       "max    1435.000000   143.000000  38552.450000"
      ]
     },
     "execution_count": 32,
     "metadata": {},
     "output_type": "execute_result"
    }
   ],
   "source": [
    "# Найдем среднее количество, стандартное отклонение и дисперсию минут разговора, сообщений и интернет трафика пользователей тарифа smart\n",
    "month_inc.query('tariff == \"smart\"')[['duration', 'messages', 'mb_used']].describe()"
   ]
  },
  {
   "cell_type": "code",
   "execution_count": 33,
   "metadata": {},
   "outputs": [
    {
     "data": {
      "text/plain": [
       "duration    3.582807e+04\n",
       "messages    7.172208e+02\n",
       "mb_used     3.434453e+07\n",
       "dtype: float64"
      ]
     },
     "execution_count": 33,
     "metadata": {},
     "output_type": "execute_result"
    }
   ],
   "source": [
    "# дисперсия\n",
    "np.var(month_inc.query('tariff == \"smart\"')[['duration', 'messages', 'mb_used']])"
   ]
  },
  {
   "cell_type": "code",
   "execution_count": 34,
   "metadata": {},
   "outputs": [
    {
     "data": {
      "text/html": [
       "<div>\n",
       "<style scoped>\n",
       "    .dataframe tbody tr th:only-of-type {\n",
       "        vertical-align: middle;\n",
       "    }\n",
       "\n",
       "    .dataframe tbody tr th {\n",
       "        vertical-align: top;\n",
       "    }\n",
       "\n",
       "    .dataframe thead th {\n",
       "        text-align: right;\n",
       "    }\n",
       "</style>\n",
       "<table border=\"1\" class=\"dataframe\">\n",
       "  <thead>\n",
       "    <tr style=\"text-align: right;\">\n",
       "      <th></th>\n",
       "      <th>tariff</th>\n",
       "      <th>smart</th>\n",
       "      <th>ultra</th>\n",
       "    </tr>\n",
       "  </thead>\n",
       "  <tbody>\n",
       "    <tr>\n",
       "      <th rowspan=\"8\" valign=\"top\">duration</th>\n",
       "      <th>count</th>\n",
       "      <td>2223.000000</td>\n",
       "      <td>951.000000</td>\n",
       "    </tr>\n",
       "    <tr>\n",
       "      <th>mean</th>\n",
       "      <td>419.062978</td>\n",
       "      <td>545.451104</td>\n",
       "    </tr>\n",
       "    <tr>\n",
       "      <th>std</th>\n",
       "      <td>189.325618</td>\n",
       "      <td>306.925754</td>\n",
       "    </tr>\n",
       "    <tr>\n",
       "      <th>min</th>\n",
       "      <td>0.000000</td>\n",
       "      <td>0.000000</td>\n",
       "    </tr>\n",
       "    <tr>\n",
       "      <th>25%</th>\n",
       "      <td>285.000000</td>\n",
       "      <td>310.000000</td>\n",
       "    </tr>\n",
       "    <tr>\n",
       "      <th>50%</th>\n",
       "      <td>423.000000</td>\n",
       "      <td>528.000000</td>\n",
       "    </tr>\n",
       "    <tr>\n",
       "      <th>75%</th>\n",
       "      <td>545.500000</td>\n",
       "      <td>756.500000</td>\n",
       "    </tr>\n",
       "    <tr>\n",
       "      <th>max</th>\n",
       "      <td>1435.000000</td>\n",
       "      <td>1673.000000</td>\n",
       "    </tr>\n",
       "    <tr>\n",
       "      <th rowspan=\"8\" valign=\"top\">messages</th>\n",
       "      <th>count</th>\n",
       "      <td>1922.000000</td>\n",
       "      <td>795.000000</td>\n",
       "    </tr>\n",
       "    <tr>\n",
       "      <th>mean</th>\n",
       "      <td>38.716441</td>\n",
       "      <td>61.161006</td>\n",
       "    </tr>\n",
       "    <tr>\n",
       "      <th>std</th>\n",
       "      <td>26.787949</td>\n",
       "      <td>45.931026</td>\n",
       "    </tr>\n",
       "    <tr>\n",
       "      <th>min</th>\n",
       "      <td>1.000000</td>\n",
       "      <td>1.000000</td>\n",
       "    </tr>\n",
       "    <tr>\n",
       "      <th>25%</th>\n",
       "      <td>17.000000</td>\n",
       "      <td>24.000000</td>\n",
       "    </tr>\n",
       "    <tr>\n",
       "      <th>50%</th>\n",
       "      <td>34.000000</td>\n",
       "      <td>51.000000</td>\n",
       "    </tr>\n",
       "    <tr>\n",
       "      <th>75%</th>\n",
       "      <td>55.000000</td>\n",
       "      <td>87.500000</td>\n",
       "    </tr>\n",
       "    <tr>\n",
       "      <th>max</th>\n",
       "      <td>143.000000</td>\n",
       "      <td>224.000000</td>\n",
       "    </tr>\n",
       "    <tr>\n",
       "      <th rowspan=\"8\" valign=\"top\">mb_used</th>\n",
       "      <th>count</th>\n",
       "      <td>2228.000000</td>\n",
       "      <td>975.000000</td>\n",
       "    </tr>\n",
       "    <tr>\n",
       "      <th>mean</th>\n",
       "      <td>16215.661849</td>\n",
       "      <td>19668.485262</td>\n",
       "    </tr>\n",
       "    <tr>\n",
       "      <th>std</th>\n",
       "      <td>5861.736234</td>\n",
       "      <td>9943.050284</td>\n",
       "    </tr>\n",
       "    <tr>\n",
       "      <th>min</th>\n",
       "      <td>0.000000</td>\n",
       "      <td>0.000000</td>\n",
       "    </tr>\n",
       "    <tr>\n",
       "      <th>25%</th>\n",
       "      <td>12649.272500</td>\n",
       "      <td>12008.305000</td>\n",
       "    </tr>\n",
       "    <tr>\n",
       "      <th>50%</th>\n",
       "      <td>16507.740000</td>\n",
       "      <td>19394.290000</td>\n",
       "    </tr>\n",
       "    <tr>\n",
       "      <th>75%</th>\n",
       "      <td>20043.792500</td>\n",
       "      <td>26896.550000</td>\n",
       "    </tr>\n",
       "    <tr>\n",
       "      <th>max</th>\n",
       "      <td>38552.450000</td>\n",
       "      <td>49745.690000</td>\n",
       "    </tr>\n",
       "  </tbody>\n",
       "</table>\n",
       "</div>"
      ],
      "text/plain": [
       "tariff                 smart         ultra\n",
       "duration count   2223.000000    951.000000\n",
       "         mean     419.062978    545.451104\n",
       "         std      189.325618    306.925754\n",
       "         min        0.000000      0.000000\n",
       "         25%      285.000000    310.000000\n",
       "         50%      423.000000    528.000000\n",
       "         75%      545.500000    756.500000\n",
       "         max     1435.000000   1673.000000\n",
       "messages count   1922.000000    795.000000\n",
       "         mean      38.716441     61.161006\n",
       "         std       26.787949     45.931026\n",
       "         min        1.000000      1.000000\n",
       "         25%       17.000000     24.000000\n",
       "         50%       34.000000     51.000000\n",
       "         75%       55.000000     87.500000\n",
       "         max      143.000000    224.000000\n",
       "mb_used  count   2228.000000    975.000000\n",
       "         mean   16215.661849  19668.485262\n",
       "         std     5861.736234   9943.050284\n",
       "         min        0.000000      0.000000\n",
       "         25%    12649.272500  12008.305000\n",
       "         50%    16507.740000  19394.290000\n",
       "         75%    20043.792500  26896.550000\n",
       "         max    38552.450000  49745.690000"
      ]
     },
     "execution_count": 34,
     "metadata": {},
     "output_type": "execute_result"
    }
   ],
   "source": [
    "month_inc.groupby('tariff')[['duration', 'messages', 'mb_used']].describe().T"
   ]
  },
  {
   "cell_type": "code",
   "execution_count": 35,
   "metadata": {},
   "outputs": [
    {
     "data": {
      "text/html": [
       "<div>\n",
       "<style scoped>\n",
       "    .dataframe tbody tr th:only-of-type {\n",
       "        vertical-align: middle;\n",
       "    }\n",
       "\n",
       "    .dataframe tbody tr th {\n",
       "        vertical-align: top;\n",
       "    }\n",
       "\n",
       "    .dataframe thead th {\n",
       "        text-align: right;\n",
       "    }\n",
       "</style>\n",
       "<table border=\"1\" class=\"dataframe\">\n",
       "  <thead>\n",
       "    <tr style=\"text-align: right;\">\n",
       "      <th>tariff</th>\n",
       "      <th>smart</th>\n",
       "      <th>ultra</th>\n",
       "    </tr>\n",
       "  </thead>\n",
       "  <tbody>\n",
       "    <tr>\n",
       "      <th>duration</th>\n",
       "      <td>3.584419e+04</td>\n",
       "      <td>9.420342e+04</td>\n",
       "    </tr>\n",
       "    <tr>\n",
       "      <th>messages</th>\n",
       "      <td>7.175942e+02</td>\n",
       "      <td>2.109659e+03</td>\n",
       "    </tr>\n",
       "    <tr>\n",
       "      <th>mb_used</th>\n",
       "      <td>3.435995e+07</td>\n",
       "      <td>9.886425e+07</td>\n",
       "    </tr>\n",
       "  </tbody>\n",
       "</table>\n",
       "</div>"
      ],
      "text/plain": [
       "tariff           smart         ultra\n",
       "duration  3.584419e+04  9.420342e+04\n",
       "messages  7.175942e+02  2.109659e+03\n",
       "mb_used   3.435995e+07  9.886425e+07"
      ]
     },
     "execution_count": 35,
     "metadata": {},
     "output_type": "execute_result"
    }
   ],
   "source": [
    "month_inc.groupby('tariff')[['duration', 'messages', 'mb_used']].var().T"
   ]
  },
  {
   "cell_type": "markdown",
   "metadata": {},
   "source": [
    "Средняя длительность разговоров в месяц пользователей тарифа smart 419 минут и почти равна медиане в 423 минут. Значит выбросов очень мало, все значения находятся в нормальном распределении. Стандартное отклонение небольшое, 189 минуты.\n",
    "\n",
    "Среднее количество сообщений в месяц - 38 сообщения и оно чуть больше медианы в 34 сообщений. Значит выбросов тоже мало. Стандартное отклонение составляет 27 сообщений.\n",
    "\n",
    "Средний объем использованного интернет-трафика за месяц составляет 16236 мб и почти равен медиане 16532 мб. Значит выбросов очень мало. Стандартное отклонение равно 5868 мб.\n",
    "\n",
    "Можно сделать вывод, что пользователи тарифа smart представляют устоявшуюся группу, без выдающихся значений по длительности разговоров, количеству отправляемых сообщений и объему использованного интернет-трафика."
   ]
  },
  {
   "cell_type": "code",
   "execution_count": 36,
   "metadata": {},
   "outputs": [
    {
     "data": {
      "text/plain": [
       "Text(0.5, 0, 'Тариф')"
      ]
     },
     "execution_count": 36,
     "metadata": {},
     "output_type": "execute_result"
    },
    {
     "data": {
      "image/png": "[encoded data removed]",
      "text/plain": [
       "<Figure size 720x432 with 1 Axes>"
      ]
     },
     "metadata": {
      "needs_background": "light"
     },
     "output_type": "display_data"
    }
   ],
   "source": [
    "# Сравним распределение длительности разговоров за месяц пользователей тарифов ultra и smart\n",
    "month_inc.boxplot(column='duration', by='tariff', figsize=(10, 6))\n",
    "plt.ylabel('Длительность звонков')\n",
    "plt.xlabel('Тариф')"
   ]
  },
  {
   "cell_type": "code",
   "execution_count": 37,
   "metadata": {},
   "outputs": [
    {
     "data": {
      "text/plain": [
       "Text(0.5, 0, 'Длительность звонков')"
      ]
     },
     "execution_count": 37,
     "metadata": {},
     "output_type": "execute_result"
    },
    {
     "data": {
      "image/png": "[encoded data removed]",
      "text/plain": [
       "<Figure size 720x432 with 1 Axes>"
      ]
     },
     "metadata": {
      "needs_background": "light"
     },
     "output_type": "display_data"
    }
   ],
   "source": [
    "ax = month_inc.query('tariff == \"ultra\"')[['duration']].plot(kind='hist', histtype='step', linewidth=5, alpha=0.7)\n",
    "(month_inc.query('tariff == \"smart\"')[['duration']]\n",
    " .plot(kind='hist', histtype='step', linewidth=5, alpha=0.7, figsize=(10, 6), ax=ax, grid=True))\n",
    "plt.legend(['ultra','smart'])\n",
    "plt.ylabel('Частота')\n",
    "plt.xlabel('Длительность звонков')"
   ]
  },
  {
   "cell_type": "markdown",
   "metadata": {},
   "source": [
    "Пользователям тарифа smart требуется на 112 минут меньше разговора в месяц, чем пользователям тарифа ultra:\n",
    "медиана тарифа smart - 423 минут, медиана тарифа ultra - 531 минут.\n",
    "\n",
    "50% респондентов тарифа smart тратят на разговоры в месяц от 285 до 545 минут, это на 215 минут меньше, чем 50% респондентов тарифа ultra: от 315 до 760 минут.\n",
    "\n",
    "Нормальное распределение длительности разговоров за месяц пользователей разных тарифов уже разнится на 500 минут:\n",
    "у тарифа smart оно от 0 до 875 минут, у тарифа ultra - от 0 до 1375 минут.\n",
    "\n",
    "На графиках видно, что большинство клиентов тарифа smart не разговаривают более 730 минут в месяц. Тогда как длительность разговоров клиентов тарифа ultra распределена более равномерно и на более широком диапазоне почти до 1250 минут."
   ]
  },
  {
   "cell_type": "code",
   "execution_count": 38,
   "metadata": {},
   "outputs": [
    {
     "data": {
      "text/plain": [
       "(-10.0, 200.0)"
      ]
     },
     "execution_count": 38,
     "metadata": {},
     "output_type": "execute_result"
    },
    {
     "data": {
      "image/png": "[encoded data removed]",
      "text/plain": [
       "<Figure size 720x432 with 1 Axes>"
      ]
     },
     "metadata": {
      "needs_background": "light"
     },
     "output_type": "display_data"
    }
   ],
   "source": [
    "# Сравним распределение количества сообщений за месяц пользователей тарифов ultra и smart\n",
    "month_inc.boxplot(column='messages', by='tariff', figsize=(10, 6))\n",
    "plt.ylabel('Количество сообщений')\n",
    "plt.xlabel('Тариф')\n",
    "plt.ylim(-10, 200)"
   ]
  },
  {
   "cell_type": "code",
   "execution_count": 39,
   "metadata": {},
   "outputs": [
    {
     "data": {
      "text/plain": [
       "Text(0.5, 0, 'Количество сообщений')"
      ]
     },
     "execution_count": 39,
     "metadata": {},
     "output_type": "execute_result"
    },
    {
     "data": {
      "image/png": "[encoded data removed]",
      "text/plain": [
       "<Figure size 720x432 with 1 Axes>"
      ]
     },
     "metadata": {
      "needs_background": "light"
     },
     "output_type": "display_data"
    }
   ],
   "source": [
    "ax = month_inc.query('tariff == \"ultra\"')[['messages']].plot(kind='hist', histtype='step', linewidth=5, alpha=0.7)\n",
    "(month_inc.query('tariff == \"smart\"')[['messages']]\n",
    " .plot(kind='hist', histtype='step', linewidth=5, alpha=0.7, figsize=(10, 6), ax=ax, grid=True))\n",
    "plt.legend(['ultra','smart'])\n",
    "plt.ylabel('Частота')\n",
    "plt.xlabel('Количество сообщений')"
   ]
  },
  {
   "cell_type": "markdown",
   "metadata": {},
   "source": [
    "Пользователи тарифа smart отправляют на 33% меньше сообщений в месяц, чем пользователи тарифа ultra: медиана тарифа smart - 34 сообщений, медиана тарифа ultra - 51 сообщений.\n",
    "\n",
    "Половина респондентов тарифа smart отправляют за месяц от 17 до 55 сообщений, это на 35% меньше, чем половина респондентов тарифа ultra: от 24 до 88 сообщений.\n",
    "\n",
    "Нормальное распределение количества сообщений за месяц пользователей разных тарифов уже разнится на 41%: у тарифа smart оно от 0 до 112 сообщений, у тарифа ultra - от 0 до 185 сообщений.\n",
    "\n",
    "На графиках видно, что клиенты тарифа smart в основном ограничиваются 80 сообщениями в месяц. Распределение количества отправляемых в месяц сообщений клиентами тарифа ultra гораздо равномернее и шире, до 160 сообщений."
   ]
  },
  {
   "cell_type": "code",
   "execution_count": 40,
   "metadata": {},
   "outputs": [
    {
     "data": {
      "text/plain": [
       "Text(0.5, 0, 'Тариф')"
      ]
     },
     "execution_count": 40,
     "metadata": {},
     "output_type": "execute_result"
    },
    {
     "data": {
      "image/png": "[encoded data removed]",
      "text/plain": [
       "<Figure size 720x432 with 1 Axes>"
      ]
     },
     "metadata": {
      "needs_background": "light"
     },
     "output_type": "display_data"
    }
   ],
   "source": [
    "# Сравним распределение использованного за месяц интернет-трафика пользователями тарифов ultra и smart\n",
    "\n",
    "month_inc.boxplot(column='mb_used', by='tariff', figsize=(10, 6))\n",
    "plt.ylabel('Объем трафика')\n",
    "plt.xlabel('Тариф')"
   ]
  },
  {
   "cell_type": "code",
   "execution_count": 41,
   "metadata": {},
   "outputs": [
    {
     "data": {
      "text/plain": [
       "Text(0.5, 0, 'Объем трафика')"
      ]
     },
     "execution_count": 41,
     "metadata": {},
     "output_type": "execute_result"
    },
    {
     "data": {
      "image/png": "[encoded data removed]",
      "text/plain": [
       "<Figure size 720x432 with 1 Axes>"
      ]
     },
     "metadata": {
      "needs_background": "light"
     },
     "output_type": "display_data"
    }
   ],
   "source": [
    "ax = month_inc.query('tariff == \"ultra\"')[['mb_used']].plot(kind='hist', histtype='step', linewidth=5, alpha=0.7)\n",
    "(month_inc.query('tariff == \"smart\"')[['mb_used']]\n",
    " .plot(kind='hist', histtype='step', linewidth=5, alpha=0.7, figsize=(10, 6), ax=ax, grid=True))\n",
    "plt.legend(['ultra','smart'])\n",
    "plt.ylabel('Частота')\n",
    "plt.xlabel('Объем трафика')"
   ]
  },
  {
   "cell_type": "markdown",
   "metadata": {},
   "source": [
    "Пользователям тарифа smart в месяц требуется на 3 гигабайта меньше интернет-трафика, чем пользователям тарифа ultra: медиана тарифа smart - 16532 мб (16 гб), медиана тарифа ultra - 19411 мб (19 гб). \n",
    "\n",
    "50% респондентов тарифа smart используют в месяц от 12668 до 20068 мб (12.4 - 19.6 гб), а 50% респондентов тарифа ultra используют в месяц от 12020 до 26920 мб (11.6 - 26.2 гб). \n",
    "\n",
    "Нормальное распределение использованного интернет-трафика за месяц пользователей разных тарифов тоже разнится: у тарифа smart оно от 2000 до 31000 мб (2 - 30.3 гб), у тарифа ultra - от 0 до 48000 мб (47 гб).\n",
    "\n",
    "На графиках хорошо видно, что распределение потребляемого в месяц интернет-трафика клиентами тарифа smart довольно узкое и ограничено объемом 26800 мб (26 гб). Тогда как распределение потребляемого в месяц интернет-трафика клиентами тарифа ultra более равномерно распределено и значительно шире: до 40000 мб (39 гб).\n",
    "\n"
   ]
  },
  {
   "cell_type": "code",
   "execution_count": 42,
   "metadata": {},
   "outputs": [
    {
     "name": "stdout",
     "output_type": "stream",
     "text": [
      "Доля людей, которая выходит за рамки тарифа \"smart\":75%\n",
      "Доля людей, которая выходит за рамки тарифа \"ultra\":14%\n"
     ]
    }
   ],
   "source": [
    "# посчитаем долю людей, кто выходит за рамки тарифов\n",
    "extra_cost_smart = month_inc[(month_inc['tariff'] == 'smart') & (month_inc['total'] > 550) ]\n",
    "extra_cost_ultra = month_inc[(month_inc['tariff'] == 'ultra') & (month_inc['total'] > 1950) ]\n",
    "\n",
    "smart = month_inc[month_inc['tariff'] == 'smart']\n",
    "ultra = month_inc[month_inc['tariff'] == 'ultra']\n",
    "\n",
    "print('Доля людей, которая выходит за рамки тарифа \"smart\":'\"{:.0%}\".format(len(extra_cost_smart)/len(smart)))\n",
    "print('Доля людей, которая выходит за рамки тарифа \"ultra\":'\"{:.0%}\".format(len(extra_cost_ultra)/len(ultra)))"
   ]
  },
  {
   "cell_type": "markdown",
   "metadata": {},
   "source": [
    "# Промежуточный вывод (3 шага) С АПДЕЙТОМ"
   ]
  },
  {
   "cell_type": "markdown",
   "metadata": {},
   "source": [
    "Пользователи тарифа smart представляют устоявшуюся, стабильную по своим потребностям, группу, без выдающихся значений по длительности разговоров, количеству отправляемых сообщений и объему использованного интернет-трафика.\n",
    "Ряды пользователей тарифа ultra неоднородны: в них есть и те, кто очень много разговаривает и те, кто отправляет очень много сообщений, есть и активные пользователи интернета. Значит, у этой группы есть потенциал роста.\n",
    "В результате проведенного анализа установлено, что большинство клиентов тарифа smart не разговаривают более 730 минут в месяц. Тогда как длительность разговоров клиентов тарифа ultra распределена более равномерно и на более широком диапазоне почти до 1250 минут.\n",
    "Обнаружено, что клиенты тарифа smart в основном ограничиваются 80 сообщениями в месяц. Распределение количества отправляемых в месяц сообщений клиентами тарифа ultra гораздо шире, до 160 сообщений.\n",
    "Распределение потребляемого в месяц интернет-трафика клиентами тарифа smart довольно узкое и ограничено объемом 26800 мб (22 гб). Тогда как распределение потребляемого в месяц интернет-трафика клиентами тарифа ultra более равномерно распределено и значительно шире: до 40000 мб (39 гб).\n",
    "\n",
    "Если проанализировать пакет услуг, входящий в тариф \"Смарт\", то мы можем наблюдать, что:\n",
    "\n",
    "в абонентскую плату тарифа \"Смарт\" входит 500 минут разговора, 50 сообщений и 15 Гб интернет-трафика.\n",
    "Исходя из значений медианы тарифа \"Смарт\" по длительности разговоров, количеству сообщений и использованного объема интернет-трафика, можно заключить, что пакета услуг явно недостаточно для 50% пользователей тарифа \"Смарт\". Им приходится ежемесячно переплачивать за использованные услуги сверх тарифа.\n",
    "Значит эти пользователи являются потенциальными клиентами тарифа \"Ультра\" с более широким пакетом услуг. То есть для оператора связи рекламная аудитория увеличивается на 50% пользователей тарифа \"Смарт\".\n",
    "почти 75 процентов пользователей выходят за рамки возможности тарифа, думаю, что им стоит подобрать более соответствующий тариф.\n",
    "\n",
    "Если проанализировать пакет услуг, входящий в тариф \"Ультра\", то мы можем наблюдать, что:\n",
    "\n",
    "в абонентскую плату тарифа \"Ультра\" входит 3000 минут разговора, 1000 сообщений и 30 Гб интернет-трафика.\n",
    "Исходя из показателей нормального распределения тарифа \"Ультра\" по длительности разговоров, количеству сообщений и объема использованного интернет-трафика, видно, что потребности большинства пользователей тарифа \"Ультра\" полностью удовлетворены в части звонков и смс. Клиентам не приходится переплачивать сверх абонентской платы. В целом, данная клиентская группа является лояльной в части удовлетворенности своим тарифом.\n",
    "В отличии от тарифа \"смарт\", в тарифе ультра только 14 процентов пользователей выходят за рамки тарифа!"
   ]
  },
  {
   "cell_type": "markdown",
   "metadata": {},
   "source": [
    "# 4. Проверим гипотезы"
   ]
  },
  {
   "cell_type": "code",
   "execution_count": 43,
   "metadata": {},
   "outputs": [
    {
     "data": {
      "text/html": [
       "<div>\n",
       "<style scoped>\n",
       "    .dataframe tbody tr th:only-of-type {\n",
       "        vertical-align: middle;\n",
       "    }\n",
       "\n",
       "    .dataframe tbody tr th {\n",
       "        vertical-align: top;\n",
       "    }\n",
       "\n",
       "    .dataframe thead th {\n",
       "        text-align: right;\n",
       "    }\n",
       "</style>\n",
       "<table border=\"1\" class=\"dataframe\">\n",
       "  <thead>\n",
       "    <tr style=\"text-align: right;\">\n",
       "      <th></th>\n",
       "      <th>count</th>\n",
       "      <th>mean</th>\n",
       "      <th>std</th>\n",
       "      <th>min</th>\n",
       "      <th>25%</th>\n",
       "      <th>50%</th>\n",
       "      <th>75%</th>\n",
       "      <th>max</th>\n",
       "    </tr>\n",
       "    <tr>\n",
       "      <th>tariff</th>\n",
       "      <th></th>\n",
       "      <th></th>\n",
       "      <th></th>\n",
       "      <th></th>\n",
       "      <th></th>\n",
       "      <th></th>\n",
       "      <th></th>\n",
       "      <th></th>\n",
       "    </tr>\n",
       "  </thead>\n",
       "  <tbody>\n",
       "    <tr>\n",
       "      <th>smart</th>\n",
       "      <td>2230.0</td>\n",
       "      <td>1289.641704</td>\n",
       "      <td>818.370799</td>\n",
       "      <td>550.0</td>\n",
       "      <td>550.0</td>\n",
       "      <td>1021.0</td>\n",
       "      <td>1750.0</td>\n",
       "      <td>6770.0</td>\n",
       "    </tr>\n",
       "    <tr>\n",
       "      <th>ultra</th>\n",
       "      <td>986.0</td>\n",
       "      <td>2070.030426</td>\n",
       "      <td>376.015578</td>\n",
       "      <td>1950.0</td>\n",
       "      <td>1950.0</td>\n",
       "      <td>1950.0</td>\n",
       "      <td>1950.0</td>\n",
       "      <td>4800.0</td>\n",
       "    </tr>\n",
       "  </tbody>\n",
       "</table>\n",
       "</div>"
      ],
      "text/plain": [
       "         count         mean         std     min     25%     50%     75%  \\\n",
       "tariff                                                                    \n",
       "smart   2230.0  1289.641704  818.370799   550.0   550.0  1021.0  1750.0   \n",
       "ultra    986.0  2070.030426  376.015578  1950.0  1950.0  1950.0  1950.0   \n",
       "\n",
       "           max  \n",
       "tariff          \n",
       "smart   6770.0  \n",
       "ultra   4800.0  "
      ]
     },
     "execution_count": 43,
     "metadata": {},
     "output_type": "execute_result"
    }
   ],
   "source": [
    "# Проверим гипотезу, что средняя выручка пользователей тарифов \"Ультра\" и \"Смарт\" различается\n",
    "month_inc.groupby('tariff')['total'].describe()"
   ]
  },
  {
   "cell_type": "markdown",
   "metadata": {},
   "source": [
    "Исходя из показателей медианы, среднего и стандартного отклонения выручки пользователей тарифов ultra и smart можно предположить, что средняя выручка первых 2072 руб. сильно отличается от средней выручки вторых 1294 руб. Проверим это методами статистического анализа\n",
    "\n",
    "Чтобы проверить гипотезу о равенстве средней выручки двух генеральных совокупностей - пользователей тарифа \"Ультра\" и тарифа \"Смарт\", применим метод scipy.stats.ttest_ind(). Данный метод применяется к двум независимым совокупностям, а пользователи тарифов \"Ультра\" и \"Смарт\" составляют независимые совокупности, так как это разные люди, поведение которых не зависит друг от друга.\n",
    "\n",
    "Сформулируем нулевую гипотезу: Средняя выручка пользователей тарифа \"Ультра\" равна средней выручке пользователей тарифа \"Смарт\".\n",
    "Тогда альтернативная гипотеза будет звучать так: Средняя выручка пользователей тарифов \"Ультра\" и \"Смарт\" различается.\n",
    "\n",
    "Зададим критический уровень статистической значимости alpha равным 5% и проверим нулевую гипотезу"
   ]
  },
  {
   "cell_type": "code",
   "execution_count": 44,
   "metadata": {},
   "outputs": [
    {
     "name": "stdout",
     "output_type": "stream",
     "text": [
      "p-значение: 8.081909555489933e-161\n",
      "Отвергаем нулевую гипотезу\n"
     ]
    }
   ],
   "source": [
    "alpha = .05\n",
    "results = st.ttest_ind(month_inc.query('tariff == \"ultra\"')['total'], month_inc.query('tariff == \"smart\"')['total'])\n",
    "print('p-значение:', results.pvalue)\n",
    "\n",
    "if results.pvalue < alpha:\n",
    "    print('Отвергаем нулевую гипотезу')\n",
    "else:\n",
    "    print('Не получилось отвергнуть нулевую гипотезу')"
   ]
  },
  {
   "cell_type": "markdown",
   "metadata": {},
   "source": [
    "Как видно, р-значение значительно меньше 5%, оно стремится к нулю.\n",
    "Поэтому мы отвергаем выдвинутую нами нулевую гипотезу о равенстве средней выручки пользователей тарифов \"Ультра\" и \"Смарт\".\n",
    "Средняя выручка пользователей тарифов \"Ультра\" и \"Смарт\" различается."
   ]
  },
  {
   "cell_type": "code",
   "execution_count": 45,
   "metadata": {},
   "outputs": [
    {
     "data": {
      "text/plain": [
       "count     611.000000\n",
       "mean     1546.713584\n",
       "std       752.088071\n",
       "min       550.000000\n",
       "25%       780.500000\n",
       "50%      1750.000000\n",
       "75%      1950.000000\n",
       "max      5321.000000\n",
       "Name: total, dtype: float64"
      ]
     },
     "execution_count": 45,
     "metadata": {},
     "output_type": "execute_result"
    }
   ],
   "source": [
    "#Проверим гипотезу, что средняя выручка пользователей из Москвы отличается от выручки пользователей из других регионов\n",
    "month_inc.query('city == \"Москва\"')['total'].describe()"
   ]
  },
  {
   "cell_type": "code",
   "execution_count": 46,
   "metadata": {},
   "outputs": [
    {
     "data": {
      "text/plain": [
       "count    2605.000000\n",
       "mean     1524.725144\n",
       "std       808.745680\n",
       "min       550.000000\n",
       "25%       750.000000\n",
       "50%      1583.000000\n",
       "75%      1950.000000\n",
       "max      6770.000000\n",
       "Name: total, dtype: float64"
      ]
     },
     "execution_count": 46,
     "metadata": {},
     "output_type": "execute_result"
    }
   ],
   "source": [
    "month_inc.query('city != \"Москва\"')['total'].describe()"
   ]
  },
  {
   "cell_type": "markdown",
   "metadata": {},
   "source": [
    "Исходя из показателей медианы, среднего и стандартного отклонения выручки пользователей из Москвы и других регионов можно предположить, что средняя выручка москвичей 1550 руб. почти не отличается от средней выручки не москвичей 1527 руб. Проверим это методами статистического анализа\n",
    "\n",
    "Чтобы проверить гипотезу о равенстве средней выручки двух генеральных совокупностей - пользователей из Москвы и пользователей из других регионов, также применим метод scipy.stats.ttest_ind(), который применяется к двум независимым совокупностям. Ведь жители Москвы и других регионов - это разные люди, значит они составляют две независимые совокупности.\n",
    "\n",
    "Сформулируем нулевую гипотезу: Средняя выручка пользователей из Москвы равна средней выручке пользователей из других регионов.\n",
    "Тогда альтернативная гипотеза будет звучать так: Средняя выручка пользователей из Москвы отличается от выручки пользователей из других регионов.\n",
    "\n",
    "Зададим критический уровень статистической значимости alpha равным 5% и проверим нулевую гипотезу\n",
    "\n"
   ]
  },
  {
   "cell_type": "code",
   "execution_count": 47,
   "metadata": {},
   "outputs": [
    {
     "name": "stdout",
     "output_type": "stream",
     "text": [
      "p-значение: 0.5400751614511182\n",
      "Не получилось отвергнуть нулевую гипотезу\n"
     ]
    }
   ],
   "source": [
    "alpha = .05\n",
    "results = st.ttest_ind(month_inc.query('city == \"Москва\"')['total'], month_inc.query('city != \"Москва\"')['total'])\n",
    "print('p-значение:', results.pvalue)\n",
    "\n",
    "if results.pvalue < alpha:\n",
    "    print('Отвергаем нулевую гипотезу')\n",
    "else:\n",
    "    print('Не получилось отвергнуть нулевую гипотезу')"
   ]
  },
  {
   "cell_type": "markdown",
   "metadata": {},
   "source": [
    "Как видно, р-значение более 50% и значительно превышает уровень статистической значимости.\n",
    "Значит, мы не отвергаем нулевую гипотезу о том, что Cредняя выручка пользователей из Москвы равна средней выручке пользователей из других регионов.\n"
   ]
  },
  {
   "cell_type": "code",
   "execution_count": 48,
   "metadata": {},
   "outputs": [],
   "source": [
    "# Промежуточный вывод (шага 4)"
   ]
  },
  {
   "cell_type": "markdown",
   "metadata": {},
   "source": [
    "Для проведения сравнительного анализа основной метрики - средней выручки тарифов \"Ультра\" и \"Смарт\", были сформулированы и проанализированы две гипотезы:\n",
    "\n",
    "Средняя выручка пользователей тарифов \"Ультра\" и \"Смарт\" различается\n",
    "Средняя выручка пользователей из Москвы отличается от выручки пользователей из других регионов\n",
    "В результате проведенного статистического анализа мы выяснили, что:\n",
    "\n",
    "1. Средняя выручка пользователей тарифов \"Ультра\" и \"Смарт\" различается. Причем средняя выручка тарифа \"Ультра\" составляет почти 160% от средней выручки тарифа \"Смарт\".\n",
    "\n",
    "2. Cредняя выручка пользователей из Москвы не отличается от средней выручки пользователей из других регионов. Показатели почти равны: 1550 руб. и 1527 руб. соответственно.\n",
    "\n",
    "Таким образом мы установили, что наиболее перспективным тарифом в плане роста доходности для оператора сотовой связи \"Мегалайн\" является тариф \"Ультра\". Причем развивать его следует не только в Москве, а на всей территории Российской Федерации."
   ]
  },
  {
   "cell_type": "markdown",
   "metadata": {},
   "source": [
    "# Вывод (шаг 5)"
   ]
  },
  {
   "cell_type": "markdown",
   "metadata": {},
   "source": [
    "Данные приведены к нужным типам (datetime), были найдены и исправлены ошибки в данных (удалили один дублирущий столбец) В данных есть звонки с нулевой продолжительностью. Это не ошибка: нулями обозначены пропущенные звонки, поэтому их не нужно удалять. в таблице 'users' есть пропуски данных, это значит, что тариф ещё действовал на момент выгрузки данных.\n",
    "\n",
    "Округлили минуты звонков, так как та тариф говорит нам, что проговорив 1 секунду, будет защитано, как 1 минута, а также округлили трафик использованного интернета.\n",
    "\n",
    "Посчитали для каждого пользователя: количество сделанных звонков и израсходованных минут разговора по месяцам; количество отправленных сообщений по месяцам; объем израсходованного интернет-трафика по месяцам; помесячную выручку с каждого пользователя;\n",
    "\n",
    "была создана таблица с информацией о доходе с каждого пользователя помесячно (month_inc)\n",
    "Данные очень аккуратные и чистые, без дубликатов\n",
    "\n",
    "Пользователи тарифа smart представляют устоявшуюся, стабильную по своим потребностям, группу, без выдающихся значений по длительности разговоров, количеству отправляемых сообщений и объему использованного интернет-трафика. Ряды пользователей тарифа ultra неоднородны: в них есть и те, кто очень много разговаривает и те, кто отправляет очень много сообщений, есть и активные пользователи интернета. Значит, у этой группы есть потенциал роста. В результате проведенного анализа установлено, что большинство клиентов тарифа smart не разговаривают более 730 минут в месяц. Тогда как длительность разговоров клиентов тарифа ultra распределена более равномерно и на более широком диапазоне почти до 1250 минут. Обнаружено, что клиенты тарифа smart в основном ограничиваются 80 сообщениями в месяц. Распределение количества отправляемых в месяц сообщений клиентами тарифа ultra гораздо шире, до 160 сообщений. Распределение потребляемого в месяц интернет-трафика клиентами тарифа smart довольно узкое и ограничено объемом 26800 мб (22 гб). Тогда как распределение потребляемого в месяц интернет-трафика клиентами тарифа ultra более равномерно распределено и значительно шире: до 40000 мб (39 гб).\n",
    "\n",
    "Если проанализировать пакет услуг, входящий в тариф \"Смарт\", то мы можем наблюдать, что:\n",
    "\n",
    "в абонентскую плату тарифа \"Смарт\" входит 500 минут разговора, 50 сообщений и 15 Гб интернет-трафика. Исходя из значений медианы тарифа \"Смарт\" по длительности разговоров, количеству сообщений и использованного объема интернет-трафика, можно заключить, что пакета услуг явно недостаточно для 50% пользователей тарифа \"Смарт\". Им приходится ежемесячно переплачивать за использованные услуги сверх тарифа. Значит эти пользователи являются потенциальными клиентами тарифа \"Ультра\" с более широким пакетом услуг. То есть для оператора связи рекламная аудитория увеличивается на 50% пользователей тарифа \"Смарт\".\n",
    "\n",
    "Если проанализировать пакет услуг, входящий в тариф \"Ультра\", то мы можем наблюдать, что:\n",
    "\n",
    "в абонентскую плату тарифа \"Ультра\" входит 3000 минут разговора, 1000 сообщений и 30 Гб интернет-трафика. Исходя из показателей нормального распределения тарифа \"Ультра\" по длительности разговоров, количеству сообщений и объема использованного интернет-трафика, видно, что потребности большинства пользователей тарифа \"Ультра\" полностью удовлетворены в части звонков и смс. Клиентам не приходится переплачивать сверх абонентской платы. Однако 25% пользователей ежемесячно используют более, чем предоставленные пакетом услуг 30 Гб интернет-трафика, и за это им приходится доплачивать оператору. В целом, данная клиентская группа является лояльной в части удовлетворенности своим тарифом.\n",
    "\n",
    "Для проведения сравнительного анализа основной метрики - средней выручки тарифов \"Ультра\" и \"Смарт\", были сформулированы и проанализированы две гипотезы:\n",
    "\n",
    "Средняя выручка пользователей тарифов \"Ультра\" и \"Смарт\" различается\n",
    "Средняя выручка пользователей из Москвы отличается от выручки пользователей из других регионов\n",
    "В результате проведенного статистического анализа мы выяснили, что:\n",
    "\n",
    "1. Средняя выручка пользователей тарифов \"Ультра\" и \"Смарт\" различается. Причем средняя выручка тарифа \"Ультра\" составляет почти 160% от средней выручки тарифа \"Смарт\".\n",
    "\n",
    "2. Cредняя выручка пользователей из Москвы не отличается от средней выручки пользователей из других регионов. Показатели почти равны: 1550 руб. и 1527 руб. соответственно.\n",
    "\n",
    "Таким образом мы установили, что наиболее перспективным тарифом в плане роста доходности для оператора сотовой связи \"Мегалайн\" является тариф \"Ультра\". Причем развивать его следует не только в Москве, а на всей территории Российской Федерации."
   ]
  }
 ],
 "metadata": {
  "ExecuteTimeLog": [
   {
    "duration": 2024,
    "start_time": "2022-04-14T11:29:37.264Z"
   },
   {
    "duration": 3,
    "start_time": "2022-04-14T12:41:42.287Z"
   },
   {
    "duration": 131,
    "start_time": "2022-04-14T12:43:18.409Z"
   },
   {
    "duration": 120,
    "start_time": "2022-04-14T12:44:02.164Z"
   },
   {
    "duration": 130,
    "start_time": "2022-04-14T12:44:46.141Z"
   },
   {
    "duration": 105,
    "start_time": "2022-04-14T12:44:56.037Z"
   },
   {
    "duration": 81,
    "start_time": "2022-04-14T12:46:01.471Z"
   },
   {
    "duration": 135,
    "start_time": "2022-04-18T12:04:37.601Z"
   },
   {
    "duration": 76,
    "start_time": "2022-04-18T12:07:28.094Z"
   },
   {
    "duration": 78,
    "start_time": "2022-04-18T12:08:21.523Z"
   },
   {
    "duration": 79,
    "start_time": "2022-04-18T12:09:01.800Z"
   },
   {
    "duration": 275,
    "start_time": "2022-04-18T12:16:31.242Z"
   },
   {
    "duration": 249,
    "start_time": "2022-04-18T12:16:57.933Z"
   },
   {
    "duration": 6,
    "start_time": "2022-04-18T12:48:24.352Z"
   },
   {
    "duration": 8,
    "start_time": "2022-04-18T12:48:46.532Z"
   },
   {
    "duration": 20,
    "start_time": "2022-04-18T12:51:55.003Z"
   },
   {
    "duration": 98,
    "start_time": "2022-04-18T12:59:18.186Z"
   },
   {
    "duration": 208,
    "start_time": "2022-04-18T14:21:13.992Z"
   },
   {
    "duration": 255,
    "start_time": "2022-04-18T14:21:31.947Z"
   },
   {
    "duration": 10,
    "start_time": "2022-04-18T14:23:40.299Z"
   },
   {
    "duration": 21,
    "start_time": "2022-04-18T14:24:58.363Z"
   },
   {
    "duration": 28,
    "start_time": "2022-04-18T14:25:18.603Z"
   },
   {
    "duration": 1212,
    "start_time": "2022-04-18T15:21:58.844Z"
   },
   {
    "duration": 373,
    "start_time": "2022-04-18T15:22:00.989Z"
   },
   {
    "duration": 387,
    "start_time": "2022-04-18T15:22:02.777Z"
   },
   {
    "duration": 9,
    "start_time": "2022-04-18T15:22:07.190Z"
   },
   {
    "duration": 16,
    "start_time": "2022-04-18T15:22:08.772Z"
   },
   {
    "duration": 91,
    "start_time": "2022-04-18T15:22:11.293Z"
   },
   {
    "duration": 8,
    "start_time": "2022-04-18T15:22:38.270Z"
   },
   {
    "duration": 74,
    "start_time": "2022-04-18T15:22:49.859Z"
   },
   {
    "duration": 12,
    "start_time": "2022-04-18T15:26:35.864Z"
   },
   {
    "duration": 8,
    "start_time": "2022-04-18T15:42:51.628Z"
   },
   {
    "duration": 23,
    "start_time": "2022-04-18T15:43:09.311Z"
   },
   {
    "duration": 7,
    "start_time": "2022-04-18T15:43:15.197Z"
   },
   {
    "duration": 35,
    "start_time": "2022-04-18T15:48:30.052Z"
   },
   {
    "duration": 35,
    "start_time": "2022-04-18T15:48:56.931Z"
   },
   {
    "duration": 63,
    "start_time": "2022-04-18T15:49:12.512Z"
   },
   {
    "duration": 62,
    "start_time": "2022-04-18T15:52:34.155Z"
   },
   {
    "duration": 42,
    "start_time": "2022-04-18T15:54:08.637Z"
   },
   {
    "duration": 40,
    "start_time": "2022-04-18T15:54:29.290Z"
   },
   {
    "duration": 15,
    "start_time": "2022-04-18T15:56:34.765Z"
   },
   {
    "duration": 34,
    "start_time": "2022-04-18T15:57:56.180Z"
   },
   {
    "duration": 61,
    "start_time": "2022-04-18T15:58:06.350Z"
   },
   {
    "duration": 42,
    "start_time": "2022-04-18T15:59:01.369Z"
   },
   {
    "duration": 41,
    "start_time": "2022-04-18T15:59:23.534Z"
   },
   {
    "duration": 42,
    "start_time": "2022-04-18T15:59:32.733Z"
   },
   {
    "duration": 29,
    "start_time": "2022-04-18T16:00:57.100Z"
   },
   {
    "duration": 33,
    "start_time": "2022-04-18T16:01:13.486Z"
   },
   {
    "duration": 41,
    "start_time": "2022-04-18T16:01:16.936Z"
   },
   {
    "duration": 47,
    "start_time": "2022-04-21T14:13:46.787Z"
   },
   {
    "duration": 7,
    "start_time": "2022-04-21T14:14:36.944Z"
   },
   {
    "duration": 1284,
    "start_time": "2022-04-21T14:15:10.659Z"
   },
   {
    "duration": 408,
    "start_time": "2022-04-21T14:15:13.688Z"
   },
   {
    "duration": 462,
    "start_time": "2022-04-21T14:15:14.848Z"
   },
   {
    "duration": 8,
    "start_time": "2022-04-21T14:15:15.857Z"
   },
   {
    "duration": 15,
    "start_time": "2022-04-21T14:15:16.074Z"
   },
   {
    "duration": 11,
    "start_time": "2022-04-21T14:15:16.421Z"
   },
   {
    "duration": 74,
    "start_time": "2022-04-21T14:15:16.785Z"
   },
   {
    "duration": 51,
    "start_time": "2022-04-21T14:15:17.660Z"
   },
   {
    "duration": 58,
    "start_time": "2022-04-21T14:15:17.885Z"
   },
   {
    "duration": 31,
    "start_time": "2022-04-21T14:15:18.164Z"
   },
   {
    "duration": 25,
    "start_time": "2022-04-21T14:15:18.458Z"
   },
   {
    "duration": 49,
    "start_time": "2022-04-21T14:15:29.168Z"
   },
   {
    "duration": 1139,
    "start_time": "2022-04-21T14:15:35.292Z"
   },
   {
    "duration": 391,
    "start_time": "2022-04-21T14:15:37.488Z"
   },
   {
    "duration": 391,
    "start_time": "2022-04-21T14:15:39.348Z"
   },
   {
    "duration": 9,
    "start_time": "2022-04-21T14:15:42.903Z"
   },
   {
    "duration": 15,
    "start_time": "2022-04-21T14:15:43.534Z"
   },
   {
    "duration": 12,
    "start_time": "2022-04-21T14:15:44.138Z"
   },
   {
    "duration": 73,
    "start_time": "2022-04-21T14:15:44.290Z"
   },
   {
    "duration": 50,
    "start_time": "2022-04-21T14:15:46.340Z"
   },
   {
    "duration": 57,
    "start_time": "2022-04-21T14:15:46.770Z"
   },
   {
    "duration": 31,
    "start_time": "2022-04-21T14:15:47.541Z"
   },
   {
    "duration": 26,
    "start_time": "2022-04-21T14:15:48.265Z"
   },
   {
    "duration": 55,
    "start_time": "2022-04-21T14:16:02.641Z"
   },
   {
    "duration": 8,
    "start_time": "2022-04-21T14:16:46.928Z"
   },
   {
    "duration": 1171,
    "start_time": "2022-04-21T14:17:06.254Z"
   },
   {
    "duration": 369,
    "start_time": "2022-04-21T14:17:08.586Z"
   },
   {
    "duration": 395,
    "start_time": "2022-04-21T14:17:09.749Z"
   },
   {
    "duration": 9,
    "start_time": "2022-04-21T14:17:11.674Z"
   },
   {
    "duration": 15,
    "start_time": "2022-04-21T14:17:12.384Z"
   },
   {
    "duration": 11,
    "start_time": "2022-04-21T14:17:12.955Z"
   },
   {
    "duration": 75,
    "start_time": "2022-04-21T14:17:14.145Z"
   },
   {
    "duration": 49,
    "start_time": "2022-04-21T14:17:15.599Z"
   },
   {
    "duration": 59,
    "start_time": "2022-04-21T14:17:17.007Z"
   },
   {
    "duration": 30,
    "start_time": "2022-04-21T14:17:17.975Z"
   },
   {
    "duration": 24,
    "start_time": "2022-04-21T14:17:18.722Z"
   },
   {
    "duration": 56,
    "start_time": "2022-04-21T14:18:22.301Z"
   },
   {
    "duration": 7,
    "start_time": "2022-04-21T14:18:33.580Z"
   },
   {
    "duration": 1196,
    "start_time": "2022-04-21T14:21:10.542Z"
   },
   {
    "duration": 391,
    "start_time": "2022-04-21T14:21:12.650Z"
   },
   {
    "duration": 415,
    "start_time": "2022-04-21T14:21:14.265Z"
   },
   {
    "duration": 9,
    "start_time": "2022-04-21T14:21:20.854Z"
   },
   {
    "duration": 17,
    "start_time": "2022-04-21T14:21:23.749Z"
   },
   {
    "duration": 13,
    "start_time": "2022-04-21T14:21:25.277Z"
   },
   {
    "duration": 80,
    "start_time": "2022-04-21T14:21:26.375Z"
   },
   {
    "duration": 52,
    "start_time": "2022-04-21T14:21:31.023Z"
   },
   {
    "duration": 65,
    "start_time": "2022-04-21T14:21:34.235Z"
   },
   {
    "duration": 33,
    "start_time": "2022-04-21T14:21:41.340Z"
   },
   {
    "duration": 26,
    "start_time": "2022-04-21T14:21:45.893Z"
   },
   {
    "duration": 20,
    "start_time": "2022-04-21T14:23:24.021Z"
   },
   {
    "duration": 23,
    "start_time": "2022-04-21T14:23:53.889Z"
   },
   {
    "duration": 29,
    "start_time": "2022-04-21T14:26:12.347Z"
   },
   {
    "duration": 30,
    "start_time": "2022-04-21T14:26:18.808Z"
   },
   {
    "duration": 12,
    "start_time": "2022-04-21T15:33:13.126Z"
   },
   {
    "duration": 60,
    "start_time": "2022-04-22T09:09:01.755Z"
   },
   {
    "duration": 1336,
    "start_time": "2022-04-22T09:09:11.353Z"
   },
   {
    "duration": 443,
    "start_time": "2022-04-22T09:09:14.836Z"
   },
   {
    "duration": 461,
    "start_time": "2022-04-22T09:09:15.787Z"
   },
   {
    "duration": 9,
    "start_time": "2022-04-22T09:09:17.267Z"
   },
   {
    "duration": 27,
    "start_time": "2022-04-22T09:09:17.662Z"
   },
   {
    "duration": 12,
    "start_time": "2022-04-22T09:09:17.895Z"
   },
   {
    "duration": 83,
    "start_time": "2022-04-22T09:09:18.145Z"
   },
   {
    "duration": 55,
    "start_time": "2022-04-22T09:09:18.760Z"
   },
   {
    "duration": 62,
    "start_time": "2022-04-22T09:09:19.249Z"
   },
   {
    "duration": 37,
    "start_time": "2022-04-22T09:09:19.565Z"
   },
   {
    "duration": 29,
    "start_time": "2022-04-22T09:09:19.869Z"
   },
   {
    "duration": 23,
    "start_time": "2022-04-22T09:09:20.243Z"
   },
   {
    "duration": 12,
    "start_time": "2022-04-22T09:09:20.758Z"
   },
   {
    "duration": 10,
    "start_time": "2022-04-22T09:09:22.543Z"
   },
   {
    "duration": 3,
    "start_time": "2022-04-22T09:09:58.616Z"
   },
   {
    "duration": 13,
    "start_time": "2022-04-22T09:10:25.642Z"
   },
   {
    "duration": 5,
    "start_time": "2022-04-22T09:11:46.909Z"
   },
   {
    "duration": 19,
    "start_time": "2022-04-22T09:12:17.843Z"
   },
   {
    "duration": 6,
    "start_time": "2022-04-22T09:14:04.404Z"
   },
   {
    "duration": 176,
    "start_time": "2022-04-22T09:15:27.139Z"
   },
   {
    "duration": 23,
    "start_time": "2022-04-22T09:16:22.929Z"
   },
   {
    "duration": 77,
    "start_time": "2022-04-23T19:30:23.749Z"
   },
   {
    "duration": 1684,
    "start_time": "2022-04-23T19:30:38.244Z"
   },
   {
    "duration": 499,
    "start_time": "2022-04-23T19:30:42.059Z"
   },
   {
    "duration": 576,
    "start_time": "2022-04-23T19:30:42.965Z"
   },
   {
    "duration": 13,
    "start_time": "2022-04-23T19:30:46.302Z"
   },
   {
    "duration": 20,
    "start_time": "2022-04-23T19:30:46.894Z"
   },
   {
    "duration": 15,
    "start_time": "2022-04-23T19:30:47.280Z"
   },
   {
    "duration": 114,
    "start_time": "2022-04-23T19:30:47.588Z"
   },
   {
    "duration": 67,
    "start_time": "2022-04-23T19:30:48.761Z"
   },
   {
    "duration": 80,
    "start_time": "2022-04-23T19:30:49.151Z"
   },
   {
    "duration": 39,
    "start_time": "2022-04-23T19:30:49.541Z"
   },
   {
    "duration": 30,
    "start_time": "2022-04-23T19:30:49.870Z"
   },
   {
    "duration": 31,
    "start_time": "2022-04-23T19:30:50.259Z"
   },
   {
    "duration": 18,
    "start_time": "2022-04-23T19:30:50.597Z"
   },
   {
    "duration": 12,
    "start_time": "2022-04-23T19:30:51.418Z"
   },
   {
    "duration": 4,
    "start_time": "2022-04-23T19:30:51.822Z"
   },
   {
    "duration": 19,
    "start_time": "2022-04-23T19:30:52.262Z"
   },
   {
    "duration": 6,
    "start_time": "2022-04-23T19:30:53.023Z"
   },
   {
    "duration": 27,
    "start_time": "2022-04-23T19:30:53.710Z"
   },
   {
    "duration": 6,
    "start_time": "2022-04-23T19:30:54.335Z"
   },
   {
    "duration": 229,
    "start_time": "2022-04-23T19:30:54.838Z"
   },
   {
    "duration": 30,
    "start_time": "2022-04-23T19:30:56.066Z"
   },
   {
    "duration": 38,
    "start_time": "2022-04-23T19:48:39.154Z"
   },
   {
    "duration": 32,
    "start_time": "2022-04-23T19:55:17.768Z"
   },
   {
    "duration": 29,
    "start_time": "2022-04-23T20:01:59.630Z"
   },
   {
    "duration": 14,
    "start_time": "2022-04-23T20:02:31.112Z"
   },
   {
    "duration": 30,
    "start_time": "2022-04-23T20:10:47.659Z"
   },
   {
    "duration": 14,
    "start_time": "2022-04-23T20:12:24.837Z"
   },
   {
    "duration": 333,
    "start_time": "2022-04-23T20:21:58.474Z"
   },
   {
    "duration": 174,
    "start_time": "2022-04-23T20:22:20.540Z"
   },
   {
    "duration": 324,
    "start_time": "2022-04-23T20:22:32.433Z"
   },
   {
    "duration": 346,
    "start_time": "2022-04-23T20:22:47.212Z"
   },
   {
    "duration": 376,
    "start_time": "2022-04-23T20:27:25.080Z"
   },
   {
    "duration": 295,
    "start_time": "2022-04-23T20:28:07.021Z"
   },
   {
    "duration": 1250,
    "start_time": "2022-05-06T10:26:54.382Z"
   },
   {
    "duration": 355,
    "start_time": "2022-05-06T10:26:56.687Z"
   },
   {
    "duration": 372,
    "start_time": "2022-05-06T10:26:57.399Z"
   },
   {
    "duration": 8,
    "start_time": "2022-05-06T10:26:59.633Z"
   },
   {
    "duration": 14,
    "start_time": "2022-05-06T10:27:00.111Z"
   },
   {
    "duration": 10,
    "start_time": "2022-05-06T10:27:00.512Z"
   },
   {
    "duration": 73,
    "start_time": "2022-05-06T10:27:00.940Z"
   },
   {
    "duration": 50,
    "start_time": "2022-05-06T10:27:02.595Z"
   },
   {
    "duration": 64,
    "start_time": "2022-05-06T10:27:03.605Z"
   },
   {
    "duration": 30,
    "start_time": "2022-05-06T10:27:05.517Z"
   },
   {
    "duration": 23,
    "start_time": "2022-05-06T10:27:06.411Z"
   },
   {
    "duration": 22,
    "start_time": "2022-05-06T10:27:07.168Z"
   },
   {
    "duration": 10,
    "start_time": "2022-05-06T10:27:09.802Z"
   },
   {
    "duration": 8,
    "start_time": "2022-05-06T10:27:12.278Z"
   },
   {
    "duration": 3,
    "start_time": "2022-05-06T10:27:12.738Z"
   },
   {
    "duration": 12,
    "start_time": "2022-05-06T10:27:13.167Z"
   },
   {
    "duration": 4,
    "start_time": "2022-05-06T10:27:13.534Z"
   },
   {
    "duration": 17,
    "start_time": "2022-05-06T10:27:14.087Z"
   },
   {
    "duration": 4,
    "start_time": "2022-05-06T10:27:14.551Z"
   },
   {
    "duration": 132,
    "start_time": "2022-05-06T10:27:15.039Z"
   },
   {
    "duration": 18,
    "start_time": "2022-05-06T10:27:15.488Z"
   },
   {
    "duration": 18,
    "start_time": "2022-05-06T10:27:15.926Z"
   },
   {
    "duration": 20,
    "start_time": "2022-05-06T10:27:20.094Z"
   },
   {
    "duration": 19,
    "start_time": "2022-05-06T10:27:40.092Z"
   },
   {
    "duration": 9,
    "start_time": "2022-05-06T10:27:40.796Z"
   },
   {
    "duration": 18,
    "start_time": "2022-05-06T10:27:42.184Z"
   },
   {
    "duration": 9,
    "start_time": "2022-05-06T10:27:42.591Z"
   },
   {
    "duration": 145,
    "start_time": "2022-05-06T10:27:44.065Z"
   },
   {
    "duration": 175,
    "start_time": "2022-05-06T10:27:44.928Z"
   },
   {
    "duration": 150,
    "start_time": "2022-05-06T10:27:45.985Z"
   },
   {
    "duration": 95,
    "start_time": "2022-05-06T10:36:27.950Z"
   },
   {
    "duration": 129,
    "start_time": "2022-05-06T10:36:49.739Z"
   },
   {
    "duration": 123,
    "start_time": "2022-05-06T10:37:45.266Z"
   },
   {
    "duration": 153,
    "start_time": "2022-05-06T10:38:02.729Z"
   },
   {
    "duration": 3,
    "start_time": "2022-05-06T11:08:33.010Z"
   },
   {
    "duration": 11,
    "start_time": "2022-05-06T11:08:56.734Z"
   },
   {
    "duration": 18,
    "start_time": "2022-05-06T11:10:16.238Z"
   },
   {
    "duration": 11,
    "start_time": "2022-05-06T11:12:48.744Z"
   },
   {
    "duration": 2492,
    "start_time": "2022-05-06T11:14:03.851Z"
   },
   {
    "duration": 10,
    "start_time": "2022-05-06T11:14:10.375Z"
   },
   {
    "duration": 11,
    "start_time": "2022-05-06T11:14:38.647Z"
   },
   {
    "duration": 10,
    "start_time": "2022-05-06T11:16:48.440Z"
   },
   {
    "duration": 1816,
    "start_time": "2022-05-07T19:48:28.520Z"
   },
   {
    "duration": 750,
    "start_time": "2022-05-07T19:48:30.339Z"
   },
   {
    "duration": 804,
    "start_time": "2022-05-07T19:48:31.091Z"
   },
   {
    "duration": 19,
    "start_time": "2022-05-07T19:48:31.899Z"
   },
   {
    "duration": 21,
    "start_time": "2022-05-07T19:48:31.921Z"
   },
   {
    "duration": 55,
    "start_time": "2022-05-07T19:48:31.946Z"
   },
   {
    "duration": 131,
    "start_time": "2022-05-07T19:48:32.003Z"
   },
   {
    "duration": 86,
    "start_time": "2022-05-07T19:48:32.137Z"
   },
   {
    "duration": 91,
    "start_time": "2022-05-07T19:48:32.226Z"
   },
   {
    "duration": 40,
    "start_time": "2022-05-07T19:48:32.322Z"
   },
   {
    "duration": 60,
    "start_time": "2022-05-07T19:48:32.365Z"
   },
   {
    "duration": 44,
    "start_time": "2022-05-07T19:48:32.427Z"
   },
   {
    "duration": 20,
    "start_time": "2022-05-07T19:48:32.504Z"
   },
   {
    "duration": 15,
    "start_time": "2022-05-07T19:48:32.527Z"
   },
   {
    "duration": 5,
    "start_time": "2022-05-07T19:48:32.545Z"
   },
   {
    "duration": 54,
    "start_time": "2022-05-07T19:48:32.553Z"
   },
   {
    "duration": 10,
    "start_time": "2022-05-07T19:48:32.610Z"
   },
   {
    "duration": 42,
    "start_time": "2022-05-07T19:48:32.623Z"
   },
   {
    "duration": 27,
    "start_time": "2022-05-07T19:48:32.668Z"
   },
   {
    "duration": 284,
    "start_time": "2022-05-07T19:48:32.698Z"
   },
   {
    "duration": 43,
    "start_time": "2022-05-07T19:48:32.984Z"
   },
   {
    "duration": 25,
    "start_time": "2022-05-07T19:48:33.033Z"
   },
   {
    "duration": 64,
    "start_time": "2022-05-07T19:48:33.060Z"
   },
   {
    "duration": 14,
    "start_time": "2022-05-07T19:48:33.126Z"
   },
   {
    "duration": 55,
    "start_time": "2022-05-07T19:48:33.142Z"
   },
   {
    "duration": 14,
    "start_time": "2022-05-07T19:48:33.202Z"
   },
   {
    "duration": 353,
    "start_time": "2022-05-07T19:48:33.219Z"
   },
   {
    "duration": 419,
    "start_time": "2022-05-07T19:48:33.578Z"
   },
   {
    "duration": 280,
    "start_time": "2022-05-07T19:48:34.001Z"
   },
   {
    "duration": 314,
    "start_time": "2022-05-07T19:48:34.284Z"
   },
   {
    "duration": 263,
    "start_time": "2022-05-07T19:48:34.602Z"
   },
   {
    "duration": 361,
    "start_time": "2022-05-07T19:48:34.867Z"
   },
   {
    "duration": 35,
    "start_time": "2022-05-07T19:48:35.231Z"
   },
   {
    "duration": 41,
    "start_time": "2022-05-07T19:48:35.268Z"
   },
   {
    "duration": 15,
    "start_time": "2022-05-07T19:48:35.314Z"
   },
   {
    "duration": 20,
    "start_time": "2022-05-07T19:48:35.331Z"
   },
   {
    "duration": 54,
    "start_time": "2022-05-07T19:48:35.353Z"
   },
   {
    "duration": 18,
    "start_time": "2022-05-07T19:51:11.659Z"
   },
   {
    "duration": 28,
    "start_time": "2022-05-07T19:51:26.551Z"
   },
   {
    "duration": 16,
    "start_time": "2022-05-07T20:00:59.134Z"
   },
   {
    "duration": 27,
    "start_time": "2022-05-07T20:01:14.835Z"
   },
   {
    "duration": 20,
    "start_time": "2022-05-07T20:33:43.585Z"
   },
   {
    "duration": 6,
    "start_time": "2022-05-07T20:34:07.722Z"
   },
   {
    "duration": 7,
    "start_time": "2022-05-07T20:34:32.382Z"
   },
   {
    "duration": 9,
    "start_time": "2022-05-07T20:35:23.250Z"
   },
   {
    "duration": 8,
    "start_time": "2022-05-07T20:36:02.063Z"
   },
   {
    "duration": 6,
    "start_time": "2022-05-07T20:37:06.863Z"
   },
   {
    "duration": 6,
    "start_time": "2022-05-07T20:54:06.443Z"
   },
   {
    "duration": 144,
    "start_time": "2022-05-07T21:07:17.909Z"
   },
   {
    "duration": 85,
    "start_time": "2022-05-07T21:07:34.082Z"
   },
   {
    "duration": 43,
    "start_time": "2022-05-07T21:07:50.526Z"
   },
   {
    "duration": 152,
    "start_time": "2022-05-07T21:08:47.899Z"
   },
   {
    "duration": 23,
    "start_time": "2022-05-07T21:09:03.190Z"
   },
   {
    "duration": 13,
    "start_time": "2022-05-07T21:09:11.893Z"
   },
   {
    "duration": 51,
    "start_time": "2022-05-07T21:09:31.056Z"
   },
   {
    "duration": 16,
    "start_time": "2022-05-07T21:10:20.837Z"
   },
   {
    "duration": 192,
    "start_time": "2022-05-07T21:42:26.185Z"
   },
   {
    "duration": 3,
    "start_time": "2022-05-07T21:47:13.946Z"
   },
   {
    "duration": 1377,
    "start_time": "2022-05-07T21:50:16.739Z"
   },
   {
    "duration": 635,
    "start_time": "2022-05-07T21:50:18.119Z"
   },
   {
    "duration": 550,
    "start_time": "2022-05-07T21:50:18.756Z"
   },
   {
    "duration": 12,
    "start_time": "2022-05-07T21:50:19.309Z"
   },
   {
    "duration": 15,
    "start_time": "2022-05-07T21:50:19.323Z"
   },
   {
    "duration": 56,
    "start_time": "2022-05-07T21:50:19.341Z"
   },
   {
    "duration": 22,
    "start_time": "2022-05-07T21:50:19.400Z"
   },
   {
    "duration": 15,
    "start_time": "2022-05-07T21:50:19.425Z"
   },
   {
    "duration": 135,
    "start_time": "2022-05-07T21:50:19.442Z"
   },
   {
    "duration": 67,
    "start_time": "2022-05-07T21:50:19.592Z"
   },
   {
    "duration": 91,
    "start_time": "2022-05-07T21:50:19.662Z"
   },
   {
    "duration": 50,
    "start_time": "2022-05-07T21:50:19.755Z"
   },
   {
    "duration": 35,
    "start_time": "2022-05-07T21:50:19.807Z"
   },
   {
    "duration": 53,
    "start_time": "2022-05-07T21:50:19.844Z"
   },
   {
    "duration": 17,
    "start_time": "2022-05-07T21:50:19.899Z"
   },
   {
    "duration": 8,
    "start_time": "2022-05-07T21:50:19.918Z"
   },
   {
    "duration": 13,
    "start_time": "2022-05-07T21:50:19.928Z"
   },
   {
    "duration": 15,
    "start_time": "2022-05-07T21:50:19.944Z"
   },
   {
    "duration": 48,
    "start_time": "2022-05-07T21:50:19.961Z"
   },
   {
    "duration": 9,
    "start_time": "2022-05-07T21:50:20.011Z"
   },
   {
    "duration": 29,
    "start_time": "2022-05-07T21:50:20.022Z"
   },
   {
    "duration": 7,
    "start_time": "2022-05-07T21:50:20.054Z"
   },
   {
    "duration": 264,
    "start_time": "2022-05-07T21:50:20.094Z"
   },
   {
    "duration": 40,
    "start_time": "2022-05-07T21:50:20.360Z"
   },
   {
    "duration": 25,
    "start_time": "2022-05-07T21:50:20.402Z"
   },
   {
    "duration": 29,
    "start_time": "2022-05-07T21:50:20.430Z"
   },
   {
    "duration": 41,
    "start_time": "2022-05-07T21:50:20.462Z"
   },
   {
    "duration": 30,
    "start_time": "2022-05-07T21:50:20.508Z"
   },
   {
    "duration": 12,
    "start_time": "2022-05-07T21:50:20.540Z"
   },
   {
    "duration": 75,
    "start_time": "2022-05-07T21:50:20.555Z"
   },
   {
    "duration": 14,
    "start_time": "2022-05-07T21:50:20.632Z"
   },
   {
    "duration": 274,
    "start_time": "2022-05-07T21:50:20.648Z"
   },
   {
    "duration": 289,
    "start_time": "2022-05-07T21:50:20.924Z"
   },
   {
    "duration": 249,
    "start_time": "2022-05-07T21:50:21.215Z"
   },
   {
    "duration": 276,
    "start_time": "2022-05-07T21:50:21.466Z"
   },
   {
    "duration": 244,
    "start_time": "2022-05-07T21:50:21.745Z"
   },
   {
    "duration": 274,
    "start_time": "2022-05-07T21:50:21.993Z"
   },
   {
    "duration": 39,
    "start_time": "2022-05-07T21:50:22.269Z"
   },
   {
    "duration": 13,
    "start_time": "2022-05-07T21:50:22.310Z"
   },
   {
    "duration": 13,
    "start_time": "2022-05-07T21:50:22.326Z"
   },
   {
    "duration": 14,
    "start_time": "2022-05-07T21:50:22.341Z"
   },
   {
    "duration": 46,
    "start_time": "2022-05-07T21:50:22.357Z"
   },
   {
    "duration": 8,
    "start_time": "2022-05-07T21:50:22.405Z"
   },
   {
    "duration": 1373,
    "start_time": "2022-05-07T21:51:45.998Z"
   },
   {
    "duration": 502,
    "start_time": "2022-05-07T21:51:47.374Z"
   },
   {
    "duration": 564,
    "start_time": "2022-05-07T21:51:47.878Z"
   },
   {
    "duration": 10,
    "start_time": "2022-05-07T21:51:48.445Z"
   },
   {
    "duration": 43,
    "start_time": "2022-05-07T21:51:48.458Z"
   },
   {
    "duration": 22,
    "start_time": "2022-05-07T21:51:48.503Z"
   },
   {
    "duration": 19,
    "start_time": "2022-05-07T21:51:48.527Z"
   },
   {
    "duration": 50,
    "start_time": "2022-05-07T21:51:48.549Z"
   },
   {
    "duration": 119,
    "start_time": "2022-05-07T21:51:48.602Z"
   },
   {
    "duration": 78,
    "start_time": "2022-05-07T21:51:48.725Z"
   },
   {
    "duration": 77,
    "start_time": "2022-05-07T21:51:48.806Z"
   },
   {
    "duration": 38,
    "start_time": "2022-05-07T21:51:48.892Z"
   },
   {
    "duration": 29,
    "start_time": "2022-05-07T21:51:48.932Z"
   },
   {
    "duration": 57,
    "start_time": "2022-05-07T21:51:48.964Z"
   },
   {
    "duration": 15,
    "start_time": "2022-05-07T21:51:49.023Z"
   },
   {
    "duration": 8,
    "start_time": "2022-05-07T21:51:49.041Z"
   },
   {
    "duration": 45,
    "start_time": "2022-05-07T21:51:49.051Z"
   },
   {
    "duration": 6,
    "start_time": "2022-05-07T21:51:49.098Z"
   },
   {
    "duration": 19,
    "start_time": "2022-05-07T21:51:49.107Z"
   },
   {
    "duration": 6,
    "start_time": "2022-05-07T21:51:49.128Z"
   },
   {
    "duration": 25,
    "start_time": "2022-05-07T21:51:49.136Z"
   },
   {
    "duration": 7,
    "start_time": "2022-05-07T21:51:49.192Z"
   },
   {
    "duration": 233,
    "start_time": "2022-05-07T21:51:49.201Z"
   },
   {
    "duration": 29,
    "start_time": "2022-05-07T21:51:49.436Z"
   },
   {
    "duration": 35,
    "start_time": "2022-05-07T21:51:49.468Z"
   },
   {
    "duration": 31,
    "start_time": "2022-05-07T21:51:49.505Z"
   },
   {
    "duration": 11,
    "start_time": "2022-05-07T21:51:49.538Z"
   },
   {
    "duration": 57,
    "start_time": "2022-05-07T21:51:49.554Z"
   },
   {
    "duration": 14,
    "start_time": "2022-05-07T21:51:49.613Z"
   },
   {
    "duration": 66,
    "start_time": "2022-05-07T21:51:49.629Z"
   },
   {
    "duration": 14,
    "start_time": "2022-05-07T21:51:49.697Z"
   },
   {
    "duration": 270,
    "start_time": "2022-05-07T21:51:49.713Z"
   },
   {
    "duration": 299,
    "start_time": "2022-05-07T21:51:49.985Z"
   },
   {
    "duration": 256,
    "start_time": "2022-05-07T21:51:50.286Z"
   },
   {
    "duration": 280,
    "start_time": "2022-05-07T21:51:50.544Z"
   },
   {
    "duration": 255,
    "start_time": "2022-05-07T21:51:50.826Z"
   },
   {
    "duration": 290,
    "start_time": "2022-05-07T21:51:51.083Z"
   },
   {
    "duration": 39,
    "start_time": "2022-05-07T21:51:51.375Z"
   },
   {
    "duration": 15,
    "start_time": "2022-05-07T21:51:51.417Z"
   },
   {
    "duration": 16,
    "start_time": "2022-05-07T21:51:51.435Z"
   },
   {
    "duration": 50,
    "start_time": "2022-05-07T21:51:51.453Z"
   },
   {
    "duration": 16,
    "start_time": "2022-05-07T21:51:51.505Z"
   },
   {
    "duration": 11,
    "start_time": "2022-05-07T21:51:51.524Z"
   },
   {
    "duration": 47,
    "start_time": "2022-05-11T18:50:06.979Z"
   },
   {
    "duration": 1210,
    "start_time": "2022-05-11T18:51:19.827Z"
   },
   {
    "duration": 398,
    "start_time": "2022-05-11T18:51:22.592Z"
   },
   {
    "duration": 389,
    "start_time": "2022-05-11T18:51:22.992Z"
   },
   {
    "duration": 8,
    "start_time": "2022-05-11T18:51:24.172Z"
   },
   {
    "duration": 9,
    "start_time": "2022-05-11T18:51:24.605Z"
   },
   {
    "duration": 14,
    "start_time": "2022-05-11T18:51:24.817Z"
   },
   {
    "duration": 13,
    "start_time": "2022-05-11T18:51:25.010Z"
   },
   {
    "duration": 11,
    "start_time": "2022-05-11T18:51:25.561Z"
   },
   {
    "duration": 1792,
    "start_time": "2022-05-12T07:56:56.049Z"
   },
   {
    "duration": 527,
    "start_time": "2022-05-12T07:56:57.844Z"
   },
   {
    "duration": 530,
    "start_time": "2022-05-12T07:56:58.373Z"
   },
   {
    "duration": 8,
    "start_time": "2022-05-12T07:57:02.560Z"
   },
   {
    "duration": 9,
    "start_time": "2022-05-12T07:57:03.521Z"
   },
   {
    "duration": 14,
    "start_time": "2022-05-12T07:57:04.147Z"
   },
   {
    "duration": 14,
    "start_time": "2022-05-12T07:57:06.596Z"
   },
   {
    "duration": 8,
    "start_time": "2022-05-12T07:58:40.219Z"
   },
   {
    "duration": 97,
    "start_time": "2022-05-12T08:01:08.847Z"
   },
   {
    "duration": 76,
    "start_time": "2022-05-12T08:01:27.078Z"
   },
   {
    "duration": 50,
    "start_time": "2022-05-12T08:01:30.272Z"
   },
   {
    "duration": 49,
    "start_time": "2022-05-12T08:02:09.965Z"
   },
   {
    "duration": 53,
    "start_time": "2022-05-12T08:02:58.050Z"
   },
   {
    "duration": 53,
    "start_time": "2022-05-12T08:03:47.418Z"
   },
   {
    "duration": 59,
    "start_time": "2022-05-12T08:04:12.322Z"
   },
   {
    "duration": 3698,
    "start_time": "2022-05-12T08:06:22.534Z"
   },
   {
    "duration": 58,
    "start_time": "2022-05-12T08:18:24.587Z"
   },
   {
    "duration": 63,
    "start_time": "2022-05-12T08:18:43.160Z"
   },
   {
    "duration": 72,
    "start_time": "2022-05-12T08:18:48.922Z"
   },
   {
    "duration": 76,
    "start_time": "2022-05-12T08:19:30.685Z"
   },
   {
    "duration": 76,
    "start_time": "2022-05-12T08:20:27.629Z"
   },
   {
    "duration": 62,
    "start_time": "2022-05-12T08:20:40.034Z"
   },
   {
    "duration": 65,
    "start_time": "2022-05-12T08:20:52.826Z"
   },
   {
    "duration": 149,
    "start_time": "2022-05-12T08:21:34.410Z"
   },
   {
    "duration": 173,
    "start_time": "2022-05-12T08:21:45.264Z"
   },
   {
    "duration": 186,
    "start_time": "2022-05-12T08:23:49.166Z"
   },
   {
    "duration": 160,
    "start_time": "2022-05-12T08:24:08.261Z"
   },
   {
    "duration": 140,
    "start_time": "2022-05-12T08:24:18.851Z"
   },
   {
    "duration": 142,
    "start_time": "2022-05-12T08:24:50.456Z"
   },
   {
    "duration": 160,
    "start_time": "2022-05-12T08:25:04.463Z"
   },
   {
    "duration": 142,
    "start_time": "2022-05-12T08:25:17.654Z"
   },
   {
    "duration": 136,
    "start_time": "2022-05-12T08:29:57.184Z"
   },
   {
    "duration": 8,
    "start_time": "2022-05-12T09:32:43.526Z"
   },
   {
    "duration": 111,
    "start_time": "2022-05-12T09:32:59.147Z"
   },
   {
    "duration": 28,
    "start_time": "2022-05-12T09:32:59.805Z"
   },
   {
    "duration": 24,
    "start_time": "2022-05-12T09:33:00.326Z"
   },
   {
    "duration": 21,
    "start_time": "2022-05-12T09:33:01.523Z"
   },
   {
    "duration": 6,
    "start_time": "2022-05-12T09:33:12.668Z"
   },
   {
    "duration": 5,
    "start_time": "2022-05-12T09:35:37.998Z"
   },
   {
    "duration": 19,
    "start_time": "2022-05-12T09:35:57.511Z"
   },
   {
    "duration": 11,
    "start_time": "2022-05-12T09:35:59.533Z"
   },
   {
    "duration": 5,
    "start_time": "2022-05-12T09:36:02.613Z"
   },
   {
    "duration": 4,
    "start_time": "2022-05-12T09:36:04.559Z"
   },
   {
    "duration": 20,
    "start_time": "2022-05-12T09:36:33.592Z"
   },
   {
    "duration": 6,
    "start_time": "2022-05-12T09:36:39.365Z"
   },
   {
    "duration": 4,
    "start_time": "2022-05-12T09:36:41.529Z"
   },
   {
    "duration": 23,
    "start_time": "2022-05-12T09:36:50.945Z"
   },
   {
    "duration": 5,
    "start_time": "2022-05-12T09:37:06.676Z"
   },
   {
    "duration": 21,
    "start_time": "2022-05-12T09:37:14.843Z"
   },
   {
    "duration": 4,
    "start_time": "2022-05-12T09:37:19.526Z"
   },
   {
    "duration": 5,
    "start_time": "2022-05-12T09:37:21.888Z"
   },
   {
    "duration": 21,
    "start_time": "2022-05-12T09:37:37.745Z"
   },
   {
    "duration": 4,
    "start_time": "2022-05-12T09:37:42.041Z"
   },
   {
    "duration": 5,
    "start_time": "2022-05-12T09:37:42.785Z"
   },
   {
    "duration": 22,
    "start_time": "2022-05-12T09:38:05.671Z"
   },
   {
    "duration": 4,
    "start_time": "2022-05-12T09:38:10.727Z"
   },
   {
    "duration": 5,
    "start_time": "2022-05-12T09:38:12.825Z"
   },
   {
    "duration": 20,
    "start_time": "2022-05-12T09:38:33.426Z"
   },
   {
    "duration": 5,
    "start_time": "2022-05-12T09:38:38.647Z"
   },
   {
    "duration": 5,
    "start_time": "2022-05-12T09:38:48.264Z"
   },
   {
    "duration": 30,
    "start_time": "2022-05-12T09:40:14.154Z"
   },
   {
    "duration": 12,
    "start_time": "2022-05-12T09:40:15.321Z"
   },
   {
    "duration": 5,
    "start_time": "2022-05-12T09:40:30.150Z"
   },
   {
    "duration": 4,
    "start_time": "2022-05-12T09:40:35.092Z"
   },
   {
    "duration": 5,
    "start_time": "2022-05-12T09:43:08.795Z"
   },
   {
    "duration": 23,
    "start_time": "2022-05-12T09:43:35.883Z"
   },
   {
    "duration": 6,
    "start_time": "2022-05-12T09:44:10.220Z"
   },
   {
    "duration": 5,
    "start_time": "2022-05-12T09:44:23.279Z"
   },
   {
    "duration": 6,
    "start_time": "2022-05-12T09:44:37.397Z"
   },
   {
    "duration": 7,
    "start_time": "2022-05-12T09:44:52.744Z"
   },
   {
    "duration": 5,
    "start_time": "2022-05-12T09:45:14.540Z"
   },
   {
    "duration": 31,
    "start_time": "2022-05-12T09:45:45.637Z"
   },
   {
    "duration": 5,
    "start_time": "2022-05-12T09:45:49.977Z"
   },
   {
    "duration": 4,
    "start_time": "2022-05-12T10:02:39.206Z"
   },
   {
    "duration": 5,
    "start_time": "2022-05-12T10:02:47.381Z"
   },
   {
    "duration": 27,
    "start_time": "2022-05-12T10:07:56.985Z"
   },
   {
    "duration": 6,
    "start_time": "2022-05-12T10:08:11.176Z"
   },
   {
    "duration": 30,
    "start_time": "2022-05-12T10:08:28.776Z"
   },
   {
    "duration": 8,
    "start_time": "2022-05-12T10:08:36.562Z"
   },
   {
    "duration": 20,
    "start_time": "2022-05-12T10:18:24.016Z"
   },
   {
    "duration": 20,
    "start_time": "2022-05-12T10:18:51.693Z"
   },
   {
    "duration": 24,
    "start_time": "2022-05-12T10:18:56.794Z"
   },
   {
    "duration": 22,
    "start_time": "2022-05-12T10:19:11.412Z"
   },
   {
    "duration": 5,
    "start_time": "2022-05-12T10:19:28.944Z"
   },
   {
    "duration": 6,
    "start_time": "2022-05-12T10:19:29.679Z"
   },
   {
    "duration": 155,
    "start_time": "2022-05-12T10:20:54.524Z"
   },
   {
    "duration": 21,
    "start_time": "2022-05-12T10:21:01.879Z"
   },
   {
    "duration": 39,
    "start_time": "2022-05-12T10:21:19.653Z"
   },
   {
    "duration": 30,
    "start_time": "2022-05-12T10:21:49.545Z"
   },
   {
    "duration": 26,
    "start_time": "2022-05-12T10:22:03.722Z"
   },
   {
    "duration": 26,
    "start_time": "2022-05-12T10:22:31.274Z"
   },
   {
    "duration": 24,
    "start_time": "2022-05-12T10:23:41.334Z"
   },
   {
    "duration": 6,
    "start_time": "2022-05-12T10:23:49.031Z"
   },
   {
    "duration": 25,
    "start_time": "2022-05-12T10:24:11.428Z"
   },
   {
    "duration": 6,
    "start_time": "2022-05-12T10:24:15.980Z"
   },
   {
    "duration": 26,
    "start_time": "2022-05-12T10:24:30.675Z"
   },
   {
    "duration": 5,
    "start_time": "2022-05-12T10:24:37.784Z"
   },
   {
    "duration": 26,
    "start_time": "2022-05-12T10:24:53.600Z"
   },
   {
    "duration": 5,
    "start_time": "2022-05-12T10:24:59.832Z"
   },
   {
    "duration": 25,
    "start_time": "2022-05-12T10:25:51.920Z"
   },
   {
    "duration": 6,
    "start_time": "2022-05-12T10:25:56.918Z"
   },
   {
    "duration": 26,
    "start_time": "2022-05-12T10:26:17.592Z"
   },
   {
    "duration": 5,
    "start_time": "2022-05-12T10:26:23.996Z"
   },
   {
    "duration": 21,
    "start_time": "2022-05-12T10:28:29.562Z"
   },
   {
    "duration": 12,
    "start_time": "2022-05-12T10:28:38.487Z"
   },
   {
    "duration": 5,
    "start_time": "2022-05-12T10:28:47.294Z"
   },
   {
    "duration": 18,
    "start_time": "2022-05-12T10:29:01.535Z"
   },
   {
    "duration": 5,
    "start_time": "2022-05-12T10:29:05.544Z"
   },
   {
    "duration": 9,
    "start_time": "2022-05-12T10:34:56.992Z"
   },
   {
    "duration": 4,
    "start_time": "2022-05-12T10:35:01.497Z"
   },
   {
    "duration": 9,
    "start_time": "2022-05-12T10:35:19.915Z"
   },
   {
    "duration": 5,
    "start_time": "2022-05-12T10:35:24.163Z"
   },
   {
    "duration": 9,
    "start_time": "2022-05-12T10:36:25.708Z"
   },
   {
    "duration": 5,
    "start_time": "2022-05-12T10:36:29.532Z"
   },
   {
    "duration": 4,
    "start_time": "2022-05-12T10:36:35.386Z"
   },
   {
    "duration": 14,
    "start_time": "2022-05-12T10:36:55.642Z"
   },
   {
    "duration": 5,
    "start_time": "2022-05-12T10:37:01.787Z"
   },
   {
    "duration": 154,
    "start_time": "2022-05-12T10:38:21.837Z"
   },
   {
    "duration": 6,
    "start_time": "2022-05-12T10:38:28.368Z"
   },
   {
    "duration": 21,
    "start_time": "2022-05-12T10:39:02.310Z"
   },
   {
    "duration": 20,
    "start_time": "2022-05-12T10:39:06.446Z"
   },
   {
    "duration": 8,
    "start_time": "2022-05-12T10:39:44.319Z"
   },
   {
    "duration": 4,
    "start_time": "2022-05-12T10:39:47.290Z"
   },
   {
    "duration": 13,
    "start_time": "2022-05-12T10:39:49.294Z"
   },
   {
    "duration": 4,
    "start_time": "2022-05-12T10:39:57.536Z"
   },
   {
    "duration": 17,
    "start_time": "2022-05-12T10:40:22.291Z"
   },
   {
    "duration": 47,
    "start_time": "2022-05-12T10:40:44.733Z"
   },
   {
    "duration": 4,
    "start_time": "2022-05-12T10:43:33.293Z"
   },
   {
    "duration": 2495,
    "start_time": "2022-05-12T10:43:37.545Z"
   },
   {
    "duration": 0,
    "start_time": "2022-05-12T10:43:40.042Z"
   },
   {
    "duration": 4,
    "start_time": "2022-05-12T10:44:09.123Z"
   },
   {
    "duration": 2893,
    "start_time": "2022-05-12T10:44:10.759Z"
   },
   {
    "duration": 1105,
    "start_time": "2022-05-12T10:46:07.002Z"
   },
   {
    "duration": 388,
    "start_time": "2022-05-12T10:46:09.784Z"
   },
   {
    "duration": 386,
    "start_time": "2022-05-12T10:46:10.347Z"
   },
   {
    "duration": 7,
    "start_time": "2022-05-12T10:46:12.420Z"
   },
   {
    "duration": 9,
    "start_time": "2022-05-12T10:46:13.205Z"
   },
   {
    "duration": 16,
    "start_time": "2022-05-12T10:46:13.549Z"
   },
   {
    "duration": 11,
    "start_time": "2022-05-12T10:46:14.333Z"
   },
   {
    "duration": 7,
    "start_time": "2022-05-12T10:46:16.013Z"
   },
   {
    "duration": 79,
    "start_time": "2022-05-12T10:46:20.481Z"
   },
   {
    "duration": 77,
    "start_time": "2022-05-12T10:46:22.084Z"
   },
   {
    "duration": 64,
    "start_time": "2022-05-12T10:46:23.700Z"
   },
   {
    "duration": 28,
    "start_time": "2022-05-12T10:46:24.099Z"
   },
   {
    "duration": 34,
    "start_time": "2022-05-12T10:46:24.740Z"
   },
   {
    "duration": 21,
    "start_time": "2022-05-12T10:46:32.015Z"
   },
   {
    "duration": 11,
    "start_time": "2022-05-12T10:46:32.451Z"
   },
   {
    "duration": 7,
    "start_time": "2022-05-12T10:46:36.280Z"
   },
   {
    "duration": 9,
    "start_time": "2022-05-12T10:46:39.990Z"
   },
   {
    "duration": 3,
    "start_time": "2022-05-12T10:46:40.567Z"
   },
   {
    "duration": 12,
    "start_time": "2022-05-12T10:46:41.039Z"
   },
   {
    "duration": 5,
    "start_time": "2022-05-12T10:46:41.803Z"
   },
   {
    "duration": 21,
    "start_time": "2022-05-12T10:46:42.224Z"
   },
   {
    "duration": 5,
    "start_time": "2022-05-12T10:46:50.338Z"
   },
   {
    "duration": 164,
    "start_time": "2022-05-12T10:46:51.668Z"
   },
   {
    "duration": 24,
    "start_time": "2022-05-12T10:46:54.891Z"
   },
   {
    "duration": 16,
    "start_time": "2022-05-12T10:46:57.915Z"
   },
   {
    "duration": 21,
    "start_time": "2022-05-12T10:47:49.406Z"
   },
   {
    "duration": 11,
    "start_time": "2022-05-12T10:47:50.259Z"
   },
   {
    "duration": 32,
    "start_time": "2022-05-12T10:50:29.864Z"
   },
   {
    "duration": 9,
    "start_time": "2022-05-12T10:50:40.394Z"
   },
   {
    "duration": 159,
    "start_time": "2022-05-12T10:53:37.233Z"
   },
   {
    "duration": 209,
    "start_time": "2022-05-12T10:53:38.086Z"
   },
   {
    "duration": 132,
    "start_time": "2022-05-12T13:25:14.086Z"
   },
   {
    "duration": 155,
    "start_time": "2022-05-12T13:25:22.573Z"
   },
   {
    "duration": 175,
    "start_time": "2022-05-12T13:25:27.148Z"
   },
   {
    "duration": 6,
    "start_time": "2022-05-12T14:21:09.404Z"
   },
   {
    "duration": 16,
    "start_time": "2022-05-12T14:21:30.048Z"
   },
   {
    "duration": 14,
    "start_time": "2022-05-12T14:21:49.743Z"
   },
   {
    "duration": 24,
    "start_time": "2022-05-12T14:21:58.784Z"
   },
   {
    "duration": 5,
    "start_time": "2022-05-12T14:23:14.635Z"
   },
   {
    "duration": 7,
    "start_time": "2022-05-12T14:23:56.986Z"
   },
   {
    "duration": 7,
    "start_time": "2022-05-12T14:24:05.421Z"
   },
   {
    "duration": 10,
    "start_time": "2022-05-12T14:26:27.232Z"
   },
   {
    "duration": 151,
    "start_time": "2022-05-12T14:30:05.487Z"
   },
   {
    "duration": 11,
    "start_time": "2022-05-12T14:30:54.175Z"
   },
   {
    "duration": 9,
    "start_time": "2022-05-12T14:32:41.507Z"
   },
   {
    "duration": 9,
    "start_time": "2022-05-12T14:32:46.052Z"
   },
   {
    "duration": 10,
    "start_time": "2022-05-12T14:34:01.964Z"
   },
   {
    "duration": 10,
    "start_time": "2022-05-12T14:35:01.171Z"
   },
   {
    "duration": 11,
    "start_time": "2022-05-12T14:35:18.899Z"
   },
   {
    "duration": 10,
    "start_time": "2022-05-12T14:35:41.396Z"
   },
   {
    "duration": 9,
    "start_time": "2022-05-12T14:37:42.900Z"
   },
   {
    "duration": 10,
    "start_time": "2022-05-12T14:38:14.846Z"
   },
   {
    "duration": 11,
    "start_time": "2022-05-12T14:47:39.451Z"
   },
   {
    "duration": 11,
    "start_time": "2022-05-12T14:47:40.652Z"
   },
   {
    "duration": 12,
    "start_time": "2022-05-12T14:47:44.852Z"
   },
   {
    "duration": 61,
    "start_time": "2022-05-13T13:22:46.544Z"
   },
   {
    "duration": 1453,
    "start_time": "2022-05-13T13:22:57.758Z"
   },
   {
    "duration": 423,
    "start_time": "2022-05-13T13:22:59.213Z"
   },
   {
    "duration": 423,
    "start_time": "2022-05-13T13:22:59.638Z"
   },
   {
    "duration": 9,
    "start_time": "2022-05-13T13:23:00.063Z"
   },
   {
    "duration": 18,
    "start_time": "2022-05-13T13:23:00.074Z"
   },
   {
    "duration": 48,
    "start_time": "2022-05-13T13:23:00.093Z"
   },
   {
    "duration": 13,
    "start_time": "2022-05-13T13:23:00.143Z"
   },
   {
    "duration": 13,
    "start_time": "2022-05-13T13:23:00.158Z"
   },
   {
    "duration": 109,
    "start_time": "2022-05-13T13:23:00.172Z"
   },
   {
    "duration": 80,
    "start_time": "2022-05-13T13:23:00.284Z"
   },
   {
    "duration": 27,
    "start_time": "2022-05-13T13:23:00.366Z"
   },
   {
    "duration": 85,
    "start_time": "2022-05-13T13:23:00.395Z"
   },
   {
    "duration": 32,
    "start_time": "2022-05-13T13:23:00.482Z"
   },
   {
    "duration": 26,
    "start_time": "2022-05-13T13:23:00.533Z"
   },
   {
    "duration": 26,
    "start_time": "2022-05-13T13:23:00.561Z"
   },
   {
    "duration": 30,
    "start_time": "2022-05-13T13:23:00.590Z"
   },
   {
    "duration": 23,
    "start_time": "2022-05-13T13:23:00.634Z"
   },
   {
    "duration": 30,
    "start_time": "2022-05-13T13:23:00.659Z"
   },
   {
    "duration": 17,
    "start_time": "2022-05-13T13:23:00.691Z"
   },
   {
    "duration": 31,
    "start_time": "2022-05-13T13:23:00.711Z"
   },
   {
    "duration": 17,
    "start_time": "2022-05-13T13:23:00.744Z"
   },
   {
    "duration": 32,
    "start_time": "2022-05-13T13:23:00.764Z"
   },
   {
    "duration": 7,
    "start_time": "2022-05-13T13:23:00.798Z"
   },
   {
    "duration": 218,
    "start_time": "2022-05-13T13:23:00.806Z"
   },
   {
    "duration": 24,
    "start_time": "2022-05-13T13:23:01.026Z"
   },
   {
    "duration": 42,
    "start_time": "2022-05-13T13:23:01.052Z"
   },
   {
    "duration": 55,
    "start_time": "2022-05-13T13:23:01.095Z"
   },
   {
    "duration": 41,
    "start_time": "2022-05-13T13:23:01.154Z"
   },
   {
    "duration": 36,
    "start_time": "2022-05-13T13:23:01.197Z"
   },
   {
    "duration": 15,
    "start_time": "2022-05-13T13:23:01.235Z"
   },
   {
    "duration": 68,
    "start_time": "2022-05-13T13:23:01.251Z"
   },
   {
    "duration": 12,
    "start_time": "2022-05-13T13:23:01.321Z"
   },
   {
    "duration": 198,
    "start_time": "2022-05-13T13:23:01.334Z"
   },
   {
    "duration": 214,
    "start_time": "2022-05-13T13:23:01.534Z"
   },
   {
    "duration": 166,
    "start_time": "2022-05-13T13:23:01.750Z"
   },
   {
    "duration": 0,
    "start_time": "2022-05-13T13:23:01.918Z"
   },
   {
    "duration": 0,
    "start_time": "2022-05-13T13:23:01.921Z"
   },
   {
    "duration": 0,
    "start_time": "2022-05-13T13:23:01.923Z"
   },
   {
    "duration": 0,
    "start_time": "2022-05-13T13:23:01.925Z"
   },
   {
    "duration": 0,
    "start_time": "2022-05-13T13:23:01.927Z"
   },
   {
    "duration": 0,
    "start_time": "2022-05-13T13:23:01.928Z"
   },
   {
    "duration": 0,
    "start_time": "2022-05-13T13:23:01.930Z"
   },
   {
    "duration": 1,
    "start_time": "2022-05-13T13:23:01.932Z"
   },
   {
    "duration": 0,
    "start_time": "2022-05-13T13:23:01.935Z"
   },
   {
    "duration": 1,
    "start_time": "2022-05-13T13:23:01.936Z"
   },
   {
    "duration": 1014,
    "start_time": "2022-05-13T20:34:33.469Z"
   },
   {
    "duration": 1213,
    "start_time": "2022-05-13T20:34:48.790Z"
   },
   {
    "duration": 415,
    "start_time": "2022-05-13T20:34:50.005Z"
   },
   {
    "duration": 433,
    "start_time": "2022-05-13T20:34:50.422Z"
   },
   {
    "duration": 9,
    "start_time": "2022-05-13T20:34:50.857Z"
   },
   {
    "duration": 28,
    "start_time": "2022-05-13T20:34:50.868Z"
   },
   {
    "duration": 35,
    "start_time": "2022-05-13T20:34:50.898Z"
   },
   {
    "duration": 25,
    "start_time": "2022-05-13T20:34:50.936Z"
   },
   {
    "duration": 7,
    "start_time": "2022-05-13T20:34:50.964Z"
   },
   {
    "duration": 93,
    "start_time": "2022-05-13T20:34:50.973Z"
   },
   {
    "duration": 79,
    "start_time": "2022-05-13T20:34:51.069Z"
   },
   {
    "duration": 26,
    "start_time": "2022-05-13T20:34:51.149Z"
   },
   {
    "duration": 81,
    "start_time": "2022-05-13T20:34:51.177Z"
   },
   {
    "duration": 28,
    "start_time": "2022-05-13T20:34:51.259Z"
   },
   {
    "duration": 24,
    "start_time": "2022-05-13T20:34:51.289Z"
   },
   {
    "duration": 40,
    "start_time": "2022-05-13T20:34:51.315Z"
   },
   {
    "duration": 21,
    "start_time": "2022-05-13T20:34:51.357Z"
   },
   {
    "duration": 20,
    "start_time": "2022-05-13T20:34:51.380Z"
   },
   {
    "duration": 18,
    "start_time": "2022-05-13T20:34:51.402Z"
   },
   {
    "duration": 9,
    "start_time": "2022-05-13T20:34:51.422Z"
   },
   {
    "duration": 28,
    "start_time": "2022-05-13T20:34:51.433Z"
   },
   {
    "duration": 13,
    "start_time": "2022-05-13T20:34:51.463Z"
   },
   {
    "duration": 33,
    "start_time": "2022-05-13T20:34:51.478Z"
   },
   {
    "duration": 5,
    "start_time": "2022-05-13T20:34:51.513Z"
   },
   {
    "duration": 180,
    "start_time": "2022-05-13T20:34:51.519Z"
   },
   {
    "duration": 23,
    "start_time": "2022-05-13T20:34:51.701Z"
   },
   {
    "duration": 23,
    "start_time": "2022-05-13T20:34:51.725Z"
   },
   {
    "duration": 26,
    "start_time": "2022-05-13T20:34:51.750Z"
   },
   {
    "duration": 9,
    "start_time": "2022-05-13T20:34:51.779Z"
   },
   {
    "duration": 45,
    "start_time": "2022-05-13T20:34:51.790Z"
   },
   {
    "duration": 10,
    "start_time": "2022-05-13T20:34:51.836Z"
   },
   {
    "duration": 38,
    "start_time": "2022-05-13T20:34:51.847Z"
   },
   {
    "duration": 11,
    "start_time": "2022-05-13T20:34:51.887Z"
   },
   {
    "duration": 189,
    "start_time": "2022-05-13T20:34:51.900Z"
   },
   {
    "duration": 200,
    "start_time": "2022-05-13T20:34:52.091Z"
   },
   {
    "duration": 221,
    "start_time": "2022-05-13T20:34:52.293Z"
   },
   {
    "duration": 0,
    "start_time": "2022-05-13T20:34:52.516Z"
   },
   {
    "duration": 0,
    "start_time": "2022-05-13T20:34:52.517Z"
   },
   {
    "duration": 0,
    "start_time": "2022-05-13T20:34:52.518Z"
   },
   {
    "duration": 0,
    "start_time": "2022-05-13T20:34:52.519Z"
   },
   {
    "duration": 0,
    "start_time": "2022-05-13T20:34:52.520Z"
   },
   {
    "duration": 0,
    "start_time": "2022-05-13T20:34:52.522Z"
   },
   {
    "duration": 0,
    "start_time": "2022-05-13T20:34:52.522Z"
   },
   {
    "duration": 0,
    "start_time": "2022-05-13T20:34:52.523Z"
   },
   {
    "duration": 0,
    "start_time": "2022-05-13T20:34:52.524Z"
   },
   {
    "duration": 0,
    "start_time": "2022-05-13T20:34:52.525Z"
   },
   {
    "duration": 168,
    "start_time": "2022-05-13T20:35:17.722Z"
   },
   {
    "duration": 194,
    "start_time": "2022-05-13T20:35:27.249Z"
   },
   {
    "duration": 175,
    "start_time": "2022-05-13T20:35:27.445Z"
   },
   {
    "duration": 193,
    "start_time": "2022-05-13T20:35:27.621Z"
   },
   {
    "duration": 19,
    "start_time": "2022-05-13T20:35:27.817Z"
   },
   {
    "duration": 19,
    "start_time": "2022-05-13T20:35:27.838Z"
   },
   {
    "duration": 11,
    "start_time": "2022-05-13T20:35:27.859Z"
   },
   {
    "duration": 13,
    "start_time": "2022-05-13T20:35:27.871Z"
   },
   {
    "duration": 11,
    "start_time": "2022-05-13T20:35:27.886Z"
   },
   {
    "duration": 11,
    "start_time": "2022-05-13T20:35:27.934Z"
   },
   {
    "duration": 4,
    "start_time": "2022-05-13T20:35:27.947Z"
   },
   {
    "duration": 4,
    "start_time": "2022-05-13T20:39:56.249Z"
   },
   {
    "duration": 1195,
    "start_time": "2022-05-13T20:50:26.875Z"
   },
   {
    "duration": 462,
    "start_time": "2022-05-13T20:50:28.072Z"
   },
   {
    "duration": 436,
    "start_time": "2022-05-13T20:50:28.536Z"
   },
   {
    "duration": 9,
    "start_time": "2022-05-13T20:50:28.975Z"
   },
   {
    "duration": 23,
    "start_time": "2022-05-13T20:50:28.985Z"
   },
   {
    "duration": 37,
    "start_time": "2022-05-13T20:50:29.010Z"
   },
   {
    "duration": 14,
    "start_time": "2022-05-13T20:50:29.049Z"
   },
   {
    "duration": 9,
    "start_time": "2022-05-13T20:50:29.065Z"
   },
   {
    "duration": 115,
    "start_time": "2022-05-13T20:50:29.076Z"
   },
   {
    "duration": 82,
    "start_time": "2022-05-13T20:50:29.195Z"
   },
   {
    "duration": 28,
    "start_time": "2022-05-13T20:50:29.279Z"
   },
   {
    "duration": 84,
    "start_time": "2022-05-13T20:50:29.309Z"
   },
   {
    "duration": 48,
    "start_time": "2022-05-13T20:50:29.395Z"
   },
   {
    "duration": 29,
    "start_time": "2022-05-13T20:50:29.444Z"
   },
   {
    "duration": 25,
    "start_time": "2022-05-13T20:50:29.475Z"
   },
   {
    "duration": 37,
    "start_time": "2022-05-13T20:50:29.501Z"
   },
   {
    "duration": 11,
    "start_time": "2022-05-13T20:50:29.540Z"
   },
   {
    "duration": 13,
    "start_time": "2022-05-13T20:50:29.553Z"
   },
   {
    "duration": 7,
    "start_time": "2022-05-13T20:50:29.567Z"
   },
   {
    "duration": 18,
    "start_time": "2022-05-13T20:50:29.575Z"
   },
   {
    "duration": 38,
    "start_time": "2022-05-13T20:50:29.595Z"
   },
   {
    "duration": 20,
    "start_time": "2022-05-13T20:50:29.635Z"
   },
   {
    "duration": 4,
    "start_time": "2022-05-13T20:50:29.657Z"
   },
   {
    "duration": 183,
    "start_time": "2022-05-13T20:50:29.663Z"
   },
   {
    "duration": 24,
    "start_time": "2022-05-13T20:50:29.848Z"
   },
   {
    "duration": 5,
    "start_time": "2022-05-13T20:50:29.874Z"
   },
   {
    "duration": 20,
    "start_time": "2022-05-13T20:50:29.880Z"
   },
   {
    "duration": 49,
    "start_time": "2022-05-13T20:50:29.904Z"
   },
   {
    "duration": 11,
    "start_time": "2022-05-13T20:50:29.954Z"
   },
   {
    "duration": 22,
    "start_time": "2022-05-13T20:50:29.967Z"
   },
   {
    "duration": 11,
    "start_time": "2022-05-13T20:50:29.991Z"
   },
   {
    "duration": 34,
    "start_time": "2022-05-13T20:50:30.033Z"
   },
   {
    "duration": 11,
    "start_time": "2022-05-13T20:50:30.069Z"
   },
   {
    "duration": 204,
    "start_time": "2022-05-13T20:50:30.082Z"
   },
   {
    "duration": 218,
    "start_time": "2022-05-13T20:50:30.287Z"
   },
   {
    "duration": 186,
    "start_time": "2022-05-13T20:50:30.507Z"
   },
   {
    "duration": 207,
    "start_time": "2022-05-13T20:50:30.695Z"
   },
   {
    "duration": 169,
    "start_time": "2022-05-13T20:50:30.904Z"
   },
   {
    "duration": 208,
    "start_time": "2022-05-13T20:50:31.075Z"
   },
   {
    "duration": 10,
    "start_time": "2022-05-13T20:50:31.285Z"
   },
   {
    "duration": 38,
    "start_time": "2022-05-13T20:50:31.297Z"
   },
   {
    "duration": 13,
    "start_time": "2022-05-13T20:50:31.337Z"
   },
   {
    "duration": 21,
    "start_time": "2022-05-13T20:50:31.352Z"
   },
   {
    "duration": 21,
    "start_time": "2022-05-13T20:50:31.376Z"
   },
   {
    "duration": 13,
    "start_time": "2022-05-13T20:50:31.399Z"
   },
   {
    "duration": 20,
    "start_time": "2022-05-13T20:50:31.413Z"
   },
   {
    "duration": 1936,
    "start_time": "2022-05-16T07:46:53.980Z"
   },
   {
    "duration": 554,
    "start_time": "2022-05-16T07:46:55.920Z"
   },
   {
    "duration": 652,
    "start_time": "2022-05-16T07:46:56.477Z"
   },
   {
    "duration": 13,
    "start_time": "2022-05-16T07:46:57.132Z"
   },
   {
    "duration": 18,
    "start_time": "2022-05-16T07:46:57.147Z"
   },
   {
    "duration": 24,
    "start_time": "2022-05-16T07:46:57.204Z"
   },
   {
    "duration": 20,
    "start_time": "2022-05-16T07:46:57.676Z"
   },
   {
    "duration": 13,
    "start_time": "2022-05-16T07:46:58.093Z"
   },
   {
    "duration": 162,
    "start_time": "2022-05-16T07:47:00.979Z"
   },
   {
    "duration": 116,
    "start_time": "2022-05-16T07:47:01.144Z"
   },
   {
    "duration": 35,
    "start_time": "2022-05-16T07:47:01.515Z"
   },
   {
    "duration": 118,
    "start_time": "2022-05-16T07:47:01.991Z"
   },
   {
    "duration": 39,
    "start_time": "2022-05-16T07:47:02.310Z"
   },
   {
    "duration": 34,
    "start_time": "2022-05-16T07:47:02.720Z"
   },
   {
    "duration": 5,
    "start_time": "2022-05-16T07:47:04.305Z"
   },
   {
    "duration": 47,
    "start_time": "2022-05-16T07:47:05.313Z"
   },
   {
    "duration": 20,
    "start_time": "2022-05-16T07:47:06.113Z"
   },
   {
    "duration": 10,
    "start_time": "2022-05-16T07:47:10.527Z"
   },
   {
    "duration": 16,
    "start_time": "2022-05-16T07:47:12.317Z"
   },
   {
    "duration": 5,
    "start_time": "2022-05-16T07:47:12.743Z"
   },
   {
    "duration": 27,
    "start_time": "2022-05-16T07:47:13.172Z"
   },
   {
    "duration": 7,
    "start_time": "2022-05-16T07:47:16.190Z"
   },
   {
    "duration": 33,
    "start_time": "2022-05-16T07:47:22.375Z"
   },
   {
    "duration": 20,
    "start_time": "2022-05-16T07:50:42.397Z"
   },
   {
    "duration": 1817,
    "start_time": "2022-05-16T07:51:42.963Z"
   },
   {
    "duration": 564,
    "start_time": "2022-05-16T07:51:45.968Z"
   },
   {
    "duration": 852,
    "start_time": "2022-05-16T07:51:46.611Z"
   },
   {
    "duration": 15,
    "start_time": "2022-05-16T07:51:49.047Z"
   },
   {
    "duration": 13,
    "start_time": "2022-05-16T07:51:49.729Z"
   },
   {
    "duration": 23,
    "start_time": "2022-05-16T07:51:50.262Z"
   },
   {
    "duration": 19,
    "start_time": "2022-05-16T07:51:50.960Z"
   },
   {
    "duration": 12,
    "start_time": "2022-05-16T07:51:51.692Z"
   },
   {
    "duration": 123,
    "start_time": "2022-05-16T07:51:53.472Z"
   },
   {
    "duration": 99,
    "start_time": "2022-05-16T07:51:54.618Z"
   },
   {
    "duration": 34,
    "start_time": "2022-05-16T07:51:57.136Z"
   },
   {
    "duration": 87,
    "start_time": "2022-05-16T07:51:57.652Z"
   },
   {
    "duration": 57,
    "start_time": "2022-05-16T07:51:58.034Z"
   },
   {
    "duration": 49,
    "start_time": "2022-05-16T07:51:58.484Z"
   },
   {
    "duration": 3606,
    "start_time": "2022-05-16T07:52:00.023Z"
   },
   {
    "duration": 1,
    "start_time": "2022-05-16T07:52:03.631Z"
   },
   {
    "duration": 21,
    "start_time": "2022-05-16T07:52:19.507Z"
   },
   {
    "duration": 5,
    "start_time": "2022-05-16T07:52:41.639Z"
   },
   {
    "duration": 13,
    "start_time": "2022-05-16T07:52:42.870Z"
   },
   {
    "duration": 12,
    "start_time": "2022-05-16T07:52:43.270Z"
   },
   {
    "duration": 40,
    "start_time": "2022-05-16T07:52:57.973Z"
   },
   {
    "duration": 18,
    "start_time": "2022-05-16T07:52:58.702Z"
   },
   {
    "duration": 14,
    "start_time": "2022-05-16T07:53:01.885Z"
   },
   {
    "duration": 14,
    "start_time": "2022-05-16T07:53:07.716Z"
   },
   {
    "duration": 5,
    "start_time": "2022-05-16T07:53:08.356Z"
   },
   {
    "duration": 30,
    "start_time": "2022-05-16T07:53:08.661Z"
   },
   {
    "duration": 8,
    "start_time": "2022-05-16T07:53:09.365Z"
   },
   {
    "duration": 44,
    "start_time": "2022-05-16T07:53:09.766Z"
   },
   {
    "duration": 9,
    "start_time": "2022-05-16T07:53:11.627Z"
   },
   {
    "duration": 248,
    "start_time": "2022-05-16T07:53:12.921Z"
   },
   {
    "duration": 36,
    "start_time": "2022-05-16T07:53:13.869Z"
   },
   {
    "duration": 7,
    "start_time": "2022-05-16T07:53:15.587Z"
   },
   {
    "duration": 29,
    "start_time": "2022-05-16T07:53:16.275Z"
   },
   {
    "duration": 10,
    "start_time": "2022-05-16T07:59:13.192Z"
   },
   {
    "duration": 293,
    "start_time": "2022-05-16T07:59:14.862Z"
   },
   {
    "duration": 41,
    "start_time": "2022-05-16T07:59:15.707Z"
   },
   {
    "duration": 36,
    "start_time": "2022-05-16T08:36:48.195Z"
   },
   {
    "duration": 890,
    "start_time": "2022-05-16T08:38:21.014Z"
   },
   {
    "duration": 42,
    "start_time": "2022-05-16T08:38:47.777Z"
   },
   {
    "duration": 44,
    "start_time": "2022-05-16T08:39:06.774Z"
   },
   {
    "duration": 63,
    "start_time": "2022-05-16T08:39:10.880Z"
   },
   {
    "duration": 7,
    "start_time": "2022-05-16T08:39:25.921Z"
   },
   {
    "duration": 6,
    "start_time": "2022-05-16T08:39:28.971Z"
   },
   {
    "duration": 286,
    "start_time": "2022-05-16T08:39:30.549Z"
   },
   {
    "duration": 64,
    "start_time": "2022-05-16T08:39:31.317Z"
   },
   {
    "duration": 16,
    "start_time": "2022-05-16T08:47:41.324Z"
   },
   {
    "duration": 276,
    "start_time": "2022-05-16T08:47:43.907Z"
   },
   {
    "duration": 64,
    "start_time": "2022-05-16T08:47:44.694Z"
   },
   {
    "duration": 9,
    "start_time": "2022-05-16T08:48:04.944Z"
   },
   {
    "duration": 250,
    "start_time": "2022-05-16T08:49:13.881Z"
   },
   {
    "duration": 36,
    "start_time": "2022-05-16T08:49:14.398Z"
   },
   {
    "duration": 6,
    "start_time": "2022-05-16T08:49:18.479Z"
   },
   {
    "duration": 43,
    "start_time": "2022-05-16T08:49:20.862Z"
   },
   {
    "duration": 38,
    "start_time": "2022-05-16T08:49:39.342Z"
   },
   {
    "duration": 14,
    "start_time": "2022-05-16T08:49:48.379Z"
   },
   {
    "duration": 29,
    "start_time": "2022-05-16T08:49:55.184Z"
   },
   {
    "duration": 15,
    "start_time": "2022-05-16T08:49:56.873Z"
   },
   {
    "duration": 57,
    "start_time": "2022-05-16T08:49:59.822Z"
   },
   {
    "duration": 18,
    "start_time": "2022-05-16T08:50:00.163Z"
   },
   {
    "duration": 324,
    "start_time": "2022-05-16T08:50:05.149Z"
   },
   {
    "duration": 324,
    "start_time": "2022-05-16T08:50:06.571Z"
   },
   {
    "duration": 266,
    "start_time": "2022-05-16T08:50:08.989Z"
   },
   {
    "duration": 296,
    "start_time": "2022-05-16T08:50:09.915Z"
   },
   {
    "duration": 245,
    "start_time": "2022-05-16T08:50:11.310Z"
   },
   {
    "duration": 360,
    "start_time": "2022-05-16T08:50:12.192Z"
   },
   {
    "duration": 14,
    "start_time": "2022-05-16T08:50:19.326Z"
   },
   {
    "duration": 29,
    "start_time": "2022-05-16T08:50:23.023Z"
   },
   {
    "duration": 29,
    "start_time": "2022-05-16T08:50:24.545Z"
   },
   {
    "duration": 16,
    "start_time": "2022-05-16T08:50:27.016Z"
   },
   {
    "duration": 19,
    "start_time": "2022-05-16T08:50:27.818Z"
   },
   {
    "duration": 14,
    "start_time": "2022-05-16T08:50:33.773Z"
   },
   {
    "duration": 3,
    "start_time": "2022-05-16T08:50:35.879Z"
   },
   {
    "duration": 1267,
    "start_time": "2022-05-16T16:16:03.773Z"
   },
   {
    "duration": 428,
    "start_time": "2022-05-16T16:16:05.042Z"
   },
   {
    "duration": 371,
    "start_time": "2022-05-16T16:16:05.472Z"
   },
   {
    "duration": 23,
    "start_time": "2022-05-16T16:16:05.845Z"
   },
   {
    "duration": 10,
    "start_time": "2022-05-16T16:16:05.870Z"
   },
   {
    "duration": 16,
    "start_time": "2022-05-16T16:16:05.883Z"
   },
   {
    "duration": 13,
    "start_time": "2022-05-16T16:16:05.901Z"
   },
   {
    "duration": 10,
    "start_time": "2022-05-16T16:16:05.916Z"
   },
   {
    "duration": 108,
    "start_time": "2022-05-16T16:16:05.928Z"
   },
   {
    "duration": 72,
    "start_time": "2022-05-16T16:16:06.039Z"
   },
   {
    "duration": 25,
    "start_time": "2022-05-16T16:16:06.113Z"
   },
   {
    "duration": 72,
    "start_time": "2022-05-16T16:16:06.140Z"
   },
   {
    "duration": 28,
    "start_time": "2022-05-16T16:16:06.214Z"
   },
   {
    "duration": 47,
    "start_time": "2022-05-16T16:16:06.243Z"
   },
   {
    "duration": 10,
    "start_time": "2022-05-16T16:16:06.291Z"
   },
   {
    "duration": 22,
    "start_time": "2022-05-16T16:16:06.303Z"
   },
   {
    "duration": 36,
    "start_time": "2022-05-16T16:16:06.327Z"
   },
   {
    "duration": 7,
    "start_time": "2022-05-16T16:16:06.366Z"
   },
   {
    "duration": 10,
    "start_time": "2022-05-16T16:16:06.375Z"
   },
   {
    "duration": 4,
    "start_time": "2022-05-16T16:16:06.388Z"
   },
   {
    "duration": 19,
    "start_time": "2022-05-16T16:16:06.394Z"
   },
   {
    "duration": 8,
    "start_time": "2022-05-16T16:16:06.415Z"
   },
   {
    "duration": 45,
    "start_time": "2022-05-16T16:16:06.425Z"
   },
   {
    "duration": 5,
    "start_time": "2022-05-16T16:16:06.472Z"
   },
   {
    "duration": 6,
    "start_time": "2022-05-16T16:16:06.479Z"
   },
   {
    "duration": 148,
    "start_time": "2022-05-16T16:16:06.487Z"
   },
   {
    "duration": 2502,
    "start_time": "2022-05-16T16:16:06.636Z"
   },
   {
    "duration": 0,
    "start_time": "2022-05-16T16:16:09.140Z"
   },
   {
    "duration": 0,
    "start_time": "2022-05-16T16:16:09.141Z"
   },
   {
    "duration": 0,
    "start_time": "2022-05-16T16:16:09.142Z"
   },
   {
    "duration": 0,
    "start_time": "2022-05-16T16:16:09.143Z"
   },
   {
    "duration": 0,
    "start_time": "2022-05-16T16:16:09.144Z"
   },
   {
    "duration": 0,
    "start_time": "2022-05-16T16:16:09.145Z"
   },
   {
    "duration": 0,
    "start_time": "2022-05-16T16:16:09.146Z"
   },
   {
    "duration": 0,
    "start_time": "2022-05-16T16:16:09.147Z"
   },
   {
    "duration": 0,
    "start_time": "2022-05-16T16:16:09.148Z"
   },
   {
    "duration": 0,
    "start_time": "2022-05-16T16:16:09.150Z"
   },
   {
    "duration": 0,
    "start_time": "2022-05-16T16:16:09.151Z"
   },
   {
    "duration": 0,
    "start_time": "2022-05-16T16:16:09.152Z"
   },
   {
    "duration": 0,
    "start_time": "2022-05-16T16:16:09.153Z"
   },
   {
    "duration": 0,
    "start_time": "2022-05-16T16:16:09.154Z"
   },
   {
    "duration": 0,
    "start_time": "2022-05-16T16:16:09.155Z"
   },
   {
    "duration": 0,
    "start_time": "2022-05-16T16:16:09.156Z"
   },
   {
    "duration": 0,
    "start_time": "2022-05-16T16:16:09.157Z"
   },
   {
    "duration": 0,
    "start_time": "2022-05-16T16:16:09.159Z"
   },
   {
    "duration": 0,
    "start_time": "2022-05-16T16:16:09.159Z"
   },
   {
    "duration": 1,
    "start_time": "2022-05-16T16:16:09.160Z"
   },
   {
    "duration": 0,
    "start_time": "2022-05-16T16:16:09.161Z"
   },
   {
    "duration": 21,
    "start_time": "2022-05-16T16:17:24.911Z"
   },
   {
    "duration": 5,
    "start_time": "2022-05-16T16:17:36.099Z"
   },
   {
    "duration": 20,
    "start_time": "2022-05-16T16:17:36.106Z"
   },
   {
    "duration": 22,
    "start_time": "2022-05-16T16:17:36.128Z"
   },
   {
    "duration": 7,
    "start_time": "2022-05-16T16:17:36.152Z"
   },
   {
    "duration": 18,
    "start_time": "2022-05-16T16:17:36.161Z"
   },
   {
    "duration": 8,
    "start_time": "2022-05-16T16:17:36.180Z"
   },
   {
    "duration": 26,
    "start_time": "2022-05-16T16:17:36.189Z"
   },
   {
    "duration": 9,
    "start_time": "2022-05-16T16:17:36.217Z"
   },
   {
    "duration": 192,
    "start_time": "2022-05-16T16:17:36.227Z"
   },
   {
    "duration": 168,
    "start_time": "2022-05-16T16:17:36.420Z"
   },
   {
    "duration": 142,
    "start_time": "2022-05-16T16:17:36.591Z"
   },
   {
    "duration": 156,
    "start_time": "2022-05-16T16:17:36.734Z"
   },
   {
    "duration": 131,
    "start_time": "2022-05-16T16:17:36.892Z"
   },
   {
    "duration": 161,
    "start_time": "2022-05-16T16:17:37.024Z"
   },
   {
    "duration": 9,
    "start_time": "2022-05-16T16:17:37.186Z"
   },
   {
    "duration": 21,
    "start_time": "2022-05-16T16:17:37.197Z"
   },
   {
    "duration": 10,
    "start_time": "2022-05-16T16:17:37.219Z"
   },
   {
    "duration": 32,
    "start_time": "2022-05-16T16:17:37.231Z"
   },
   {
    "duration": 10,
    "start_time": "2022-05-16T16:17:37.265Z"
   },
   {
    "duration": 9,
    "start_time": "2022-05-16T16:17:37.277Z"
   },
   {
    "duration": 2,
    "start_time": "2022-05-16T16:17:37.288Z"
   },
   {
    "duration": 1103,
    "start_time": "2022-05-16T16:25:04.822Z"
   },
   {
    "duration": 342,
    "start_time": "2022-05-16T16:25:05.927Z"
   },
   {
    "duration": 368,
    "start_time": "2022-05-16T16:25:06.271Z"
   },
   {
    "duration": 21,
    "start_time": "2022-05-16T16:25:06.641Z"
   },
   {
    "duration": 9,
    "start_time": "2022-05-16T16:25:06.664Z"
   },
   {
    "duration": 14,
    "start_time": "2022-05-16T16:25:06.675Z"
   },
   {
    "duration": 12,
    "start_time": "2022-05-16T16:25:06.691Z"
   },
   {
    "duration": 8,
    "start_time": "2022-05-16T16:25:06.705Z"
   },
   {
    "duration": 101,
    "start_time": "2022-05-16T16:25:06.714Z"
   },
   {
    "duration": 69,
    "start_time": "2022-05-16T16:25:06.817Z"
   },
   {
    "duration": 21,
    "start_time": "2022-05-16T16:25:06.888Z"
   },
   {
    "duration": 69,
    "start_time": "2022-05-16T16:25:06.911Z"
   },
   {
    "duration": 26,
    "start_time": "2022-05-16T16:25:06.982Z"
   },
   {
    "duration": 22,
    "start_time": "2022-05-16T16:25:07.010Z"
   },
   {
    "duration": 30,
    "start_time": "2022-05-16T16:25:07.034Z"
   },
   {
    "duration": 22,
    "start_time": "2022-05-16T16:25:07.066Z"
   },
   {
    "duration": 10,
    "start_time": "2022-05-16T16:25:07.090Z"
   },
   {
    "duration": 7,
    "start_time": "2022-05-16T16:25:07.102Z"
   },
   {
    "duration": 10,
    "start_time": "2022-05-16T16:25:07.111Z"
   },
   {
    "duration": 8,
    "start_time": "2022-05-16T16:25:07.123Z"
   },
   {
    "duration": 38,
    "start_time": "2022-05-16T16:25:07.132Z"
   },
   {
    "duration": 4,
    "start_time": "2022-05-16T16:25:07.171Z"
   },
   {
    "duration": 28,
    "start_time": "2022-05-16T16:25:07.177Z"
   },
   {
    "duration": 4,
    "start_time": "2022-05-16T16:25:07.207Z"
   },
   {
    "duration": 8,
    "start_time": "2022-05-16T16:25:07.213Z"
   },
   {
    "duration": 145,
    "start_time": "2022-05-16T16:25:07.223Z"
   },
   {
    "duration": 24,
    "start_time": "2022-05-16T16:25:07.369Z"
   },
   {
    "duration": 4,
    "start_time": "2022-05-16T16:25:07.396Z"
   },
   {
    "duration": 20,
    "start_time": "2022-05-16T16:25:07.401Z"
   },
   {
    "duration": 43,
    "start_time": "2022-05-16T16:25:07.422Z"
   },
   {
    "duration": 9,
    "start_time": "2022-05-16T16:25:07.466Z"
   },
   {
    "duration": 21,
    "start_time": "2022-05-16T16:25:07.476Z"
   },
   {
    "duration": 8,
    "start_time": "2022-05-16T16:25:07.498Z"
   },
   {
    "duration": 28,
    "start_time": "2022-05-16T16:25:07.508Z"
   },
   {
    "duration": 10,
    "start_time": "2022-05-16T16:25:07.562Z"
   },
   {
    "duration": 163,
    "start_time": "2022-05-16T16:25:07.574Z"
   },
   {
    "duration": 167,
    "start_time": "2022-05-16T16:25:07.739Z"
   },
   {
    "duration": 143,
    "start_time": "2022-05-16T16:25:07.908Z"
   },
   {
    "duration": 159,
    "start_time": "2022-05-16T16:25:08.052Z"
   },
   {
    "duration": 128,
    "start_time": "2022-05-16T16:25:08.213Z"
   },
   {
    "duration": 164,
    "start_time": "2022-05-16T16:25:08.343Z"
   },
   {
    "duration": 13,
    "start_time": "2022-05-16T16:25:08.508Z"
   },
   {
    "duration": 33,
    "start_time": "2022-05-16T16:25:08.523Z"
   },
   {
    "duration": 12,
    "start_time": "2022-05-16T16:25:08.558Z"
   },
   {
    "duration": 20,
    "start_time": "2022-05-16T16:25:08.572Z"
   },
   {
    "duration": 22,
    "start_time": "2022-05-16T16:25:08.593Z"
   },
   {
    "duration": 21,
    "start_time": "2022-05-16T16:25:08.617Z"
   },
   {
    "duration": 19,
    "start_time": "2022-05-16T16:25:08.640Z"
   }
  ],
  "kernelspec": {
   "display_name": "Python 3 (ipykernel)",
   "language": "python",
   "name": "python3"
  },
  "language_info": {
   "codemirror_mode": {
    "name": "ipython",
    "version": 3
   },
   "file_extension": ".py",
   "mimetype": "text/x-python",
   "name": "python",
   "nbconvert_exporter": "python",
   "pygments_lexer": "ipython3",
   "version": "3.9.12"
  },
  "toc": {
   "base_numbering": 1,
   "nav_menu": {},
   "number_sections": true,
   "sideBar": true,
   "skip_h1_title": true,
   "title_cell": "Table of Contents",
   "title_sidebar": "Contents",
   "toc_cell": false,
   "toc_position": {},
   "toc_section_display": true,
   "toc_window_display": false
  }
 },
 "nbformat": 4,
 "nbformat_minor": 2
}
