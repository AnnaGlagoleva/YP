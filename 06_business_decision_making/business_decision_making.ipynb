{
 "cells": [
  {
   "cell_type": "markdown",
   "metadata": {},
   "source": [
    "# Проверка гипотез по увеличению выручки интернет-магазина - A/B тестирование"
   ]
  },
  {
   "cell_type": "markdown",
   "metadata": {},
   "source": [
    "Я — аналитик крупного интернет-магазина. Вместе с отделом маркетинга я подготовилю список гипотез для увеличения выручки.\n",
    "\n",
    "В данном проекте мы будем:\n",
    "\n",
    "Приоритизировать гипотезы;\n",
    "\n",
    "Запустим A/B-тест;\n",
    "\n",
    "Проанализируем результаты;"
   ]
  },
  {
   "cell_type": "markdown",
   "metadata": {},
   "source": [
    "Table of Contents"
   ]
  },
  {
   "cell_type": "markdown",
   "metadata": {},
   "source": [
    "## Обзор данных"
   ]
  },
  {
   "cell_type": "code",
   "execution_count": 1,
   "metadata": {},
   "outputs": [],
   "source": [
    "import pandas as pd\n",
    "import seaborn as sns\n",
    "import matplotlib.pyplot as plt\n",
    "from scipy import stats as st\n",
    "import numpy as np\n",
    "import math\n",
    "import warnings\n",
    "\n",
    "warnings.filterwarnings(\"ignore\")"
   ]
  },
  {
   "cell_type": "code",
   "execution_count": 2,
   "metadata": {},
   "outputs": [],
   "source": [
    "hypothesis = pd.read_csv(\"/datasets/hypothesis.csv\")\n",
    "orders = pd.read_csv(\"/datasets/orders.csv\")\n",
    "visitors = pd.read_csv(\"/datasets/visitors.csv\")"
   ]
  },
  {
   "cell_type": "markdown",
   "metadata": {},
   "source": [
    "### Таблица Hypothesis"
   ]
  },
  {
   "cell_type": "markdown",
   "metadata": {},
   "source": [
    "В таблице 9 гипотез по увеличению выручки интернет-магазина с указанными параметрами: \n",
    "\n",
    "Hypothesis — краткое описание гипотезы;\n",
    "\n",
    "Reach — охват пользователей по 10-балльной шкале;\n",
    "\n",
    "Impact — влияние на пользователей по 10-балльной шкале;\n",
    "\n",
    "Confidence — уверенность в гипотезе по 10-балльной шкале;\n",
    "\n",
    "Efforts — затраты ресурсов на проверку гипотезы по 10-балльной шкале. Чем больше значение Efforts, тем дороже проверка гипотезы."
   ]
  },
  {
   "cell_type": "code",
   "execution_count": 3,
   "metadata": {},
   "outputs": [
    {
     "data": {
      "text/html": [
       "<div>\n",
       "<style scoped>\n",
       "    .dataframe tbody tr th:only-of-type {\n",
       "        vertical-align: middle;\n",
       "    }\n",
       "\n",
       "    .dataframe tbody tr th {\n",
       "        vertical-align: top;\n",
       "    }\n",
       "\n",
       "    .dataframe thead th {\n",
       "        text-align: right;\n",
       "    }\n",
       "</style>\n",
       "<table border=\"1\" class=\"dataframe\">\n",
       "  <thead>\n",
       "    <tr style=\"text-align: right;\">\n",
       "      <th></th>\n",
       "      <th>Hypothesis</th>\n",
       "      <th>Reach</th>\n",
       "      <th>Impact</th>\n",
       "      <th>Confidence</th>\n",
       "      <th>Efforts</th>\n",
       "    </tr>\n",
       "  </thead>\n",
       "  <tbody>\n",
       "    <tr>\n",
       "      <th>0</th>\n",
       "      <td>Добавить два новых канала привлечения трафика,...</td>\n",
       "      <td>3</td>\n",
       "      <td>10</td>\n",
       "      <td>8</td>\n",
       "      <td>6</td>\n",
       "    </tr>\n",
       "    <tr>\n",
       "      <th>1</th>\n",
       "      <td>Запустить собственную службу доставки, что сок...</td>\n",
       "      <td>2</td>\n",
       "      <td>5</td>\n",
       "      <td>4</td>\n",
       "      <td>10</td>\n",
       "    </tr>\n",
       "    <tr>\n",
       "      <th>2</th>\n",
       "      <td>Добавить блоки рекомендаций товаров на сайт ин...</td>\n",
       "      <td>8</td>\n",
       "      <td>3</td>\n",
       "      <td>7</td>\n",
       "      <td>3</td>\n",
       "    </tr>\n",
       "    <tr>\n",
       "      <th>3</th>\n",
       "      <td>Изменить структура категорий, что увеличит кон...</td>\n",
       "      <td>8</td>\n",
       "      <td>3</td>\n",
       "      <td>3</td>\n",
       "      <td>8</td>\n",
       "    </tr>\n",
       "    <tr>\n",
       "      <th>4</th>\n",
       "      <td>Изменить цвет фона главной страницы, чтобы уве...</td>\n",
       "      <td>3</td>\n",
       "      <td>1</td>\n",
       "      <td>1</td>\n",
       "      <td>1</td>\n",
       "    </tr>\n",
       "    <tr>\n",
       "      <th>5</th>\n",
       "      <td>Добавить страницу отзывов клиентов о магазине,...</td>\n",
       "      <td>3</td>\n",
       "      <td>2</td>\n",
       "      <td>2</td>\n",
       "      <td>3</td>\n",
       "    </tr>\n",
       "    <tr>\n",
       "      <th>6</th>\n",
       "      <td>Показать на главной странице баннеры с актуаль...</td>\n",
       "      <td>5</td>\n",
       "      <td>3</td>\n",
       "      <td>8</td>\n",
       "      <td>3</td>\n",
       "    </tr>\n",
       "    <tr>\n",
       "      <th>7</th>\n",
       "      <td>Добавить форму подписки на все основные страни...</td>\n",
       "      <td>10</td>\n",
       "      <td>7</td>\n",
       "      <td>8</td>\n",
       "      <td>5</td>\n",
       "    </tr>\n",
       "    <tr>\n",
       "      <th>8</th>\n",
       "      <td>Запустить акцию, дающую скидку на товар в день...</td>\n",
       "      <td>1</td>\n",
       "      <td>9</td>\n",
       "      <td>9</td>\n",
       "      <td>5</td>\n",
       "    </tr>\n",
       "  </tbody>\n",
       "</table>\n",
       "</div>"
      ],
      "text/plain": [
       "                                          Hypothesis  Reach  Impact  \\\n",
       "0  Добавить два новых канала привлечения трафика,...      3      10   \n",
       "1  Запустить собственную службу доставки, что сок...      2       5   \n",
       "2  Добавить блоки рекомендаций товаров на сайт ин...      8       3   \n",
       "3  Изменить структура категорий, что увеличит кон...      8       3   \n",
       "4  Изменить цвет фона главной страницы, чтобы уве...      3       1   \n",
       "5  Добавить страницу отзывов клиентов о магазине,...      3       2   \n",
       "6  Показать на главной странице баннеры с актуаль...      5       3   \n",
       "7  Добавить форму подписки на все основные страни...     10       7   \n",
       "8  Запустить акцию, дающую скидку на товар в день...      1       9   \n",
       "\n",
       "   Confidence  Efforts  \n",
       "0           8        6  \n",
       "1           4       10  \n",
       "2           7        3  \n",
       "3           3        8  \n",
       "4           1        1  \n",
       "5           2        3  \n",
       "6           8        3  \n",
       "7           8        5  \n",
       "8           9        5  "
      ]
     },
     "execution_count": 3,
     "metadata": {},
     "output_type": "execute_result"
    }
   ],
   "source": [
    "# посмотрим на содержание таблицы\n",
    "hypothesis"
   ]
  },
  {
   "cell_type": "markdown",
   "metadata": {},
   "source": [
    "### Таблица Orders"
   ]
  },
  {
   "cell_type": "markdown",
   "metadata": {},
   "source": [
    "transactionId — идентификатор заказа;\n",
    "\n",
    "visitorId — идентификатор пользователя, совершившего заказ;\n",
    "\n",
    "date — дата, когда был совершён заказ;\n",
    "\n",
    "revenue — выручка заказа;\n",
    "\n",
    "group — группа A/B-теста, в которую попал заказ."
   ]
  },
  {
   "cell_type": "code",
   "execution_count": 4,
   "metadata": {},
   "outputs": [
    {
     "name": "stdout",
     "output_type": "stream",
     "text": [
      "<class 'pandas.core.frame.DataFrame'>\n",
      "RangeIndex: 1197 entries, 0 to 1196\n",
      "Data columns (total 5 columns):\n",
      " #   Column         Non-Null Count  Dtype \n",
      "---  ------         --------------  ----- \n",
      " 0   transactionId  1197 non-null   int64 \n",
      " 1   visitorId      1197 non-null   int64 \n",
      " 2   date           1197 non-null   object\n",
      " 3   revenue        1197 non-null   int64 \n",
      " 4   group          1197 non-null   object\n",
      "dtypes: int64(3), object(2)\n",
      "memory usage: 46.9+ KB\n",
      "\n",
      "названия столбцев Index(['transactionId', 'visitorId', 'date', 'revenue', 'group'], dtype='object')\n",
      "\n",
      "размер таблицы: (1197, 5)\n",
      "\n",
      "количество пропусков: \n",
      " transactionId    0\n",
      "visitorId        0\n",
      "date             0\n",
      "revenue          0\n",
      "group            0\n",
      "dtype: int64\n",
      "\n",
      "количество явных дубликатов: 0\n",
      "\n"
     ]
    },
    {
     "data": {
      "text/html": [
       "<div>\n",
       "<style scoped>\n",
       "    .dataframe tbody tr th:only-of-type {\n",
       "        vertical-align: middle;\n",
       "    }\n",
       "\n",
       "    .dataframe tbody tr th {\n",
       "        vertical-align: top;\n",
       "    }\n",
       "\n",
       "    .dataframe thead th {\n",
       "        text-align: right;\n",
       "    }\n",
       "</style>\n",
       "<table border=\"1\" class=\"dataframe\">\n",
       "  <thead>\n",
       "    <tr style=\"text-align: right;\">\n",
       "      <th></th>\n",
       "      <th>transactionId</th>\n",
       "      <th>visitorId</th>\n",
       "      <th>date</th>\n",
       "      <th>revenue</th>\n",
       "      <th>group</th>\n",
       "    </tr>\n",
       "  </thead>\n",
       "  <tbody>\n",
       "    <tr>\n",
       "      <th>0</th>\n",
       "      <td>3667963787</td>\n",
       "      <td>3312258926</td>\n",
       "      <td>2019-08-15</td>\n",
       "      <td>1650</td>\n",
       "      <td>B</td>\n",
       "    </tr>\n",
       "    <tr>\n",
       "      <th>1</th>\n",
       "      <td>2804400009</td>\n",
       "      <td>3642806036</td>\n",
       "      <td>2019-08-15</td>\n",
       "      <td>730</td>\n",
       "      <td>B</td>\n",
       "    </tr>\n",
       "    <tr>\n",
       "      <th>2</th>\n",
       "      <td>2961555356</td>\n",
       "      <td>4069496402</td>\n",
       "      <td>2019-08-15</td>\n",
       "      <td>400</td>\n",
       "      <td>A</td>\n",
       "    </tr>\n",
       "  </tbody>\n",
       "</table>\n",
       "</div>"
      ],
      "text/plain": [
       "   transactionId   visitorId        date  revenue group\n",
       "0     3667963787  3312258926  2019-08-15     1650     B\n",
       "1     2804400009  3642806036  2019-08-15      730     B\n",
       "2     2961555356  4069496402  2019-08-15      400     A"
      ]
     },
     "metadata": {},
     "output_type": "display_data"
    },
    {
     "name": "stdout",
     "output_type": "stream",
     "text": [
      "\n",
      "--------------------------------------------------\n"
     ]
    }
   ],
   "source": [
    "# проверим таблицу на дубликаты, пропуски и заголовки:\n",
    "tabs = [orders]\n",
    "for tab in tabs:\n",
    "    tab.info()\n",
    "    print('')\n",
    "    print('названия столбцев', tab.columns)\n",
    "    print('')\n",
    "    print('размер таблицы:', tab.shape)\n",
    "    print('')\n",
    "    print('количество пропусков:', '\\n', tab.isna().sum())\n",
    "    print('')\n",
    "    print('количество явных дубликатов:', tab.duplicated().sum())\n",
    "    print('')\n",
    "    display(tab.head(3))\n",
    "    print('')\n",
    "    print('--------------------------------------------------')"
   ]
  },
  {
   "cell_type": "markdown",
   "metadata": {},
   "source": [
    "### Таблица Visitors"
   ]
  },
  {
   "cell_type": "markdown",
   "metadata": {},
   "source": [
    "date — дата;\n",
    "\n",
    "group — группа A/B-теста;\n",
    "\n",
    "visitors — количество пользователей в указанную дату в указанной группе A/B-теста"
   ]
  },
  {
   "cell_type": "code",
   "execution_count": 5,
   "metadata": {},
   "outputs": [
    {
     "name": "stdout",
     "output_type": "stream",
     "text": [
      "<class 'pandas.core.frame.DataFrame'>\n",
      "RangeIndex: 62 entries, 0 to 61\n",
      "Data columns (total 3 columns):\n",
      " #   Column    Non-Null Count  Dtype \n",
      "---  ------    --------------  ----- \n",
      " 0   date      62 non-null     object\n",
      " 1   group     62 non-null     object\n",
      " 2   visitors  62 non-null     int64 \n",
      "dtypes: int64(1), object(2)\n",
      "memory usage: 1.6+ KB\n",
      "\n",
      "названия столбцев Index(['date', 'group', 'visitors'], dtype='object')\n",
      "\n",
      "размер таблицы: (62, 3)\n",
      "\n",
      "количество пропусков: \n",
      " date        0\n",
      "group       0\n",
      "visitors    0\n",
      "dtype: int64\n",
      "\n",
      "количество явных дубликатов: 0\n",
      "\n"
     ]
    },
    {
     "data": {
      "text/html": [
       "<div>\n",
       "<style scoped>\n",
       "    .dataframe tbody tr th:only-of-type {\n",
       "        vertical-align: middle;\n",
       "    }\n",
       "\n",
       "    .dataframe tbody tr th {\n",
       "        vertical-align: top;\n",
       "    }\n",
       "\n",
       "    .dataframe thead th {\n",
       "        text-align: right;\n",
       "    }\n",
       "</style>\n",
       "<table border=\"1\" class=\"dataframe\">\n",
       "  <thead>\n",
       "    <tr style=\"text-align: right;\">\n",
       "      <th></th>\n",
       "      <th>date</th>\n",
       "      <th>group</th>\n",
       "      <th>visitors</th>\n",
       "    </tr>\n",
       "  </thead>\n",
       "  <tbody>\n",
       "    <tr>\n",
       "      <th>0</th>\n",
       "      <td>2019-08-01</td>\n",
       "      <td>A</td>\n",
       "      <td>719</td>\n",
       "    </tr>\n",
       "    <tr>\n",
       "      <th>1</th>\n",
       "      <td>2019-08-02</td>\n",
       "      <td>A</td>\n",
       "      <td>619</td>\n",
       "    </tr>\n",
       "    <tr>\n",
       "      <th>2</th>\n",
       "      <td>2019-08-03</td>\n",
       "      <td>A</td>\n",
       "      <td>507</td>\n",
       "    </tr>\n",
       "  </tbody>\n",
       "</table>\n",
       "</div>"
      ],
      "text/plain": [
       "         date group  visitors\n",
       "0  2019-08-01     A       719\n",
       "1  2019-08-02     A       619\n",
       "2  2019-08-03     A       507"
      ]
     },
     "metadata": {},
     "output_type": "display_data"
    },
    {
     "name": "stdout",
     "output_type": "stream",
     "text": [
      "\n",
      "--------------------------------------------------\n"
     ]
    }
   ],
   "source": [
    "# проверим таблицу на дубликаты, пропуски и заголовки:\n",
    "tabs = [visitors]\n",
    "for tab in tabs:\n",
    "    tab.info()\n",
    "    print('')\n",
    "    print('названия столбцев', tab.columns)\n",
    "    print('')\n",
    "    print('размер таблицы:', tab.shape)\n",
    "    print('')\n",
    "    print('количество пропусков:', '\\n', tab.isna().sum())\n",
    "    print('')\n",
    "    print('количество явных дубликатов:', tab.duplicated().sum())\n",
    "    print('')\n",
    "    display(tab.head(3))\n",
    "    print('')\n",
    "    print('--------------------------------------------------')"
   ]
  },
  {
   "cell_type": "markdown",
   "metadata": {},
   "source": [
    "### Вывод\n",
    "Данные без пропусков и дубликатов, с ними уже можно работать, но сначала приведем название столбцев к общепринятому виду и изменим тип данных в столбцах, содержащие временные данные"
   ]
  },
  {
   "cell_type": "markdown",
   "metadata": {},
   "source": [
    "## Предобработка данных"
   ]
  },
  {
   "cell_type": "code",
   "execution_count": 6,
   "metadata": {},
   "outputs": [
    {
     "data": {
      "text/html": [
       "<div>\n",
       "<style scoped>\n",
       "    .dataframe tbody tr th:only-of-type {\n",
       "        vertical-align: middle;\n",
       "    }\n",
       "\n",
       "    .dataframe tbody tr th {\n",
       "        vertical-align: top;\n",
       "    }\n",
       "\n",
       "    .dataframe thead th {\n",
       "        text-align: right;\n",
       "    }\n",
       "</style>\n",
       "<table border=\"1\" class=\"dataframe\">\n",
       "  <thead>\n",
       "    <tr style=\"text-align: right;\">\n",
       "      <th></th>\n",
       "      <th>hypothesis</th>\n",
       "      <th>reach</th>\n",
       "      <th>impact</th>\n",
       "      <th>confidence</th>\n",
       "      <th>efforts</th>\n",
       "    </tr>\n",
       "  </thead>\n",
       "  <tbody>\n",
       "    <tr>\n",
       "      <th>0</th>\n",
       "      <td>Добавить два новых канала привлечения трафика,...</td>\n",
       "      <td>3</td>\n",
       "      <td>10</td>\n",
       "      <td>8</td>\n",
       "      <td>6</td>\n",
       "    </tr>\n",
       "  </tbody>\n",
       "</table>\n",
       "</div>"
      ],
      "text/plain": [
       "                                          hypothesis  reach  impact  \\\n",
       "0  Добавить два новых канала привлечения трафика,...      3      10   \n",
       "\n",
       "   confidence  efforts  \n",
       "0           8        6  "
      ]
     },
     "execution_count": 6,
     "metadata": {},
     "output_type": "execute_result"
    }
   ],
   "source": [
    "# Приведем столбцы в нужный вид:\n",
    "hypothesis.columns = hypothesis.columns.str.lower()\n",
    "orders = orders.rename(columns={'transactionId':'transaction_id',\n",
    "                                'visitorId':'visitor_id'})\n",
    "hypothesis.head(1)"
   ]
  },
  {
   "cell_type": "code",
   "execution_count": 7,
   "metadata": {},
   "outputs": [
    {
     "data": {
      "text/html": [
       "<div>\n",
       "<style scoped>\n",
       "    .dataframe tbody tr th:only-of-type {\n",
       "        vertical-align: middle;\n",
       "    }\n",
       "\n",
       "    .dataframe tbody tr th {\n",
       "        vertical-align: top;\n",
       "    }\n",
       "\n",
       "    .dataframe thead th {\n",
       "        text-align: right;\n",
       "    }\n",
       "</style>\n",
       "<table border=\"1\" class=\"dataframe\">\n",
       "  <thead>\n",
       "    <tr style=\"text-align: right;\">\n",
       "      <th></th>\n",
       "      <th>transaction_id</th>\n",
       "      <th>visitor_id</th>\n",
       "      <th>date</th>\n",
       "      <th>revenue</th>\n",
       "      <th>group</th>\n",
       "    </tr>\n",
       "  </thead>\n",
       "  <tbody>\n",
       "    <tr>\n",
       "      <th>0</th>\n",
       "      <td>3667963787</td>\n",
       "      <td>3312258926</td>\n",
       "      <td>2019-08-15</td>\n",
       "      <td>1650</td>\n",
       "      <td>B</td>\n",
       "    </tr>\n",
       "  </tbody>\n",
       "</table>\n",
       "</div>"
      ],
      "text/plain": [
       "   transaction_id  visitor_id        date  revenue group\n",
       "0      3667963787  3312258926  2019-08-15     1650     B"
      ]
     },
     "execution_count": 7,
     "metadata": {},
     "output_type": "execute_result"
    }
   ],
   "source": [
    "orders.head(1)"
   ]
  },
  {
   "cell_type": "code",
   "execution_count": 8,
   "metadata": {},
   "outputs": [
    {
     "name": "stdout",
     "output_type": "stream",
     "text": [
      "<class 'pandas.core.frame.DataFrame'>\n",
      "RangeIndex: 62 entries, 0 to 61\n",
      "Data columns (total 3 columns):\n",
      " #   Column    Non-Null Count  Dtype         \n",
      "---  ------    --------------  -----         \n",
      " 0   date      62 non-null     datetime64[ns]\n",
      " 1   group     62 non-null     object        \n",
      " 2   visitors  62 non-null     int64         \n",
      "dtypes: datetime64[ns](1), int64(1), object(1)\n",
      "memory usage: 1.6+ KB\n",
      "<class 'pandas.core.frame.DataFrame'>\n",
      "RangeIndex: 1197 entries, 0 to 1196\n",
      "Data columns (total 5 columns):\n",
      " #   Column          Non-Null Count  Dtype         \n",
      "---  ------          --------------  -----         \n",
      " 0   transaction_id  1197 non-null   int64         \n",
      " 1   visitor_id      1197 non-null   int64         \n",
      " 2   date            1197 non-null   datetime64[ns]\n",
      " 3   revenue         1197 non-null   int64         \n",
      " 4   group           1197 non-null   object        \n",
      "dtypes: datetime64[ns](1), int64(3), object(1)\n",
      "memory usage: 46.9+ KB\n"
     ]
    }
   ],
   "source": [
    "# преобразуем столбцы в datetime\n",
    "visitors['date'] = pd.to_datetime(visitors['date'], format='%Y-%m-%d')\n",
    "orders['date'] = pd.to_datetime(orders['date'], format='%Y-%m-%d')\n",
    "\n",
    "visitors.info()\n",
    "orders.info()"
   ]
  },
  {
   "cell_type": "markdown",
   "metadata": {},
   "source": [
    "## Приоритизация гипотез"
   ]
  },
  {
   "cell_type": "markdown",
   "metadata": {},
   "source": [
    "### Зачем и как приоритизировать гипотезы"
   ]
  },
  {
   "cell_type": "markdown",
   "metadata": {},
   "source": [
    "Проверка гипотез чаще всего стоит дорого, а ресурсов не хватает. Придётся выбрать, что будем тестировать, а чему скажем «нет». Чтобы максимизировать ожидаемое улучшение ключевых метрик бизнеса, сформулированные гипотезы приоритизируют.\n",
    "\n",
    "Рассмотрим методы упорядочивания экспериментов ICE и RICE:\n",
    "\n",
    "ICE (от англ. impact, confidence, effort / ease «влияние, уверенность, усилия / простота») — один из самых популярных способов приоритизации задач: \n",
    "\n",
    "ICE SCORE = 'impact' * 'confidence' * 'ease' или ICE SCORE = ('impact' * 'confidence')/ 'efforts'\n",
    "\n",
    "У этого метода есть модификация RICE (R от англ. reach, «охват»):\n",
    "\n",
    "RICE SCORE = ('impact' * 'confidence' * 'reach') / 'efforts'\n",
    "\n",
    "Фреймворк RICE состоит из четырёх компонент:\n",
    "\n",
    "Reach — скольких пользователей затронет изменение, которое вы хотите внести;\n",
    "\n",
    "Impact — насколько сильно изменение повлияет на пользователей, их опыт и удовлетворение от продукта;\n",
    "\n",
    "Confidence — насколько вы уверены, что это изменение повлияет на пользователей именно так;\n",
    "\n",
    "Efforts — сколько стоит протестировать эту гипотезу.\n",
    "\n",
    "Параметры фреймворков ICE и RICE оценивают в удобных шкалах: например, от 0 до 10 или в числах ряда Фибоначчи."
   ]
  },
  {
   "cell_type": "markdown",
   "metadata": {},
   "source": [
    "### Расчитаем ICE, RICE"
   ]
  },
  {
   "cell_type": "code",
   "execution_count": 9,
   "metadata": {},
   "outputs": [
    {
     "data": {
      "text/html": [
       "<div>\n",
       "<style scoped>\n",
       "    .dataframe tbody tr th:only-of-type {\n",
       "        vertical-align: middle;\n",
       "    }\n",
       "\n",
       "    .dataframe tbody tr th {\n",
       "        vertical-align: top;\n",
       "    }\n",
       "\n",
       "    .dataframe thead th {\n",
       "        text-align: right;\n",
       "    }\n",
       "</style>\n",
       "<table border=\"1\" class=\"dataframe\">\n",
       "  <thead>\n",
       "    <tr style=\"text-align: right;\">\n",
       "      <th></th>\n",
       "      <th>hypothesis</th>\n",
       "      <th>reach</th>\n",
       "      <th>impact</th>\n",
       "      <th>confidence</th>\n",
       "      <th>efforts</th>\n",
       "      <th>ice_score</th>\n",
       "      <th>rice_score</th>\n",
       "    </tr>\n",
       "  </thead>\n",
       "  <tbody>\n",
       "    <tr>\n",
       "      <th>8</th>\n",
       "      <td>Запустить акцию, дающую скидку на товар в день...</td>\n",
       "      <td>1</td>\n",
       "      <td>9</td>\n",
       "      <td>9</td>\n",
       "      <td>5</td>\n",
       "      <td>16.20</td>\n",
       "      <td>16.2</td>\n",
       "    </tr>\n",
       "    <tr>\n",
       "      <th>0</th>\n",
       "      <td>Добавить два новых канала привлечения трафика,...</td>\n",
       "      <td>3</td>\n",
       "      <td>10</td>\n",
       "      <td>8</td>\n",
       "      <td>6</td>\n",
       "      <td>13.33</td>\n",
       "      <td>40.0</td>\n",
       "    </tr>\n",
       "    <tr>\n",
       "      <th>7</th>\n",
       "      <td>Добавить форму подписки на все основные страни...</td>\n",
       "      <td>10</td>\n",
       "      <td>7</td>\n",
       "      <td>8</td>\n",
       "      <td>5</td>\n",
       "      <td>11.20</td>\n",
       "      <td>112.0</td>\n",
       "    </tr>\n",
       "    <tr>\n",
       "      <th>6</th>\n",
       "      <td>Показать на главной странице баннеры с актуаль...</td>\n",
       "      <td>5</td>\n",
       "      <td>3</td>\n",
       "      <td>8</td>\n",
       "      <td>3</td>\n",
       "      <td>8.00</td>\n",
       "      <td>40.0</td>\n",
       "    </tr>\n",
       "    <tr>\n",
       "      <th>2</th>\n",
       "      <td>Добавить блоки рекомендаций товаров на сайт ин...</td>\n",
       "      <td>8</td>\n",
       "      <td>3</td>\n",
       "      <td>7</td>\n",
       "      <td>3</td>\n",
       "      <td>7.00</td>\n",
       "      <td>56.0</td>\n",
       "    </tr>\n",
       "    <tr>\n",
       "      <th>1</th>\n",
       "      <td>Запустить собственную службу доставки, что сок...</td>\n",
       "      <td>2</td>\n",
       "      <td>5</td>\n",
       "      <td>4</td>\n",
       "      <td>10</td>\n",
       "      <td>2.00</td>\n",
       "      <td>4.0</td>\n",
       "    </tr>\n",
       "    <tr>\n",
       "      <th>5</th>\n",
       "      <td>Добавить страницу отзывов клиентов о магазине,...</td>\n",
       "      <td>3</td>\n",
       "      <td>2</td>\n",
       "      <td>2</td>\n",
       "      <td>3</td>\n",
       "      <td>1.33</td>\n",
       "      <td>4.0</td>\n",
       "    </tr>\n",
       "    <tr>\n",
       "      <th>3</th>\n",
       "      <td>Изменить структура категорий, что увеличит кон...</td>\n",
       "      <td>8</td>\n",
       "      <td>3</td>\n",
       "      <td>3</td>\n",
       "      <td>8</td>\n",
       "      <td>1.12</td>\n",
       "      <td>9.0</td>\n",
       "    </tr>\n",
       "    <tr>\n",
       "      <th>4</th>\n",
       "      <td>Изменить цвет фона главной страницы, чтобы уве...</td>\n",
       "      <td>3</td>\n",
       "      <td>1</td>\n",
       "      <td>1</td>\n",
       "      <td>1</td>\n",
       "      <td>1.00</td>\n",
       "      <td>3.0</td>\n",
       "    </tr>\n",
       "  </tbody>\n",
       "</table>\n",
       "</div>"
      ],
      "text/plain": [
       "                                          hypothesis  reach  impact  \\\n",
       "8  Запустить акцию, дающую скидку на товар в день...      1       9   \n",
       "0  Добавить два новых канала привлечения трафика,...      3      10   \n",
       "7  Добавить форму подписки на все основные страни...     10       7   \n",
       "6  Показать на главной странице баннеры с актуаль...      5       3   \n",
       "2  Добавить блоки рекомендаций товаров на сайт ин...      8       3   \n",
       "1  Запустить собственную службу доставки, что сок...      2       5   \n",
       "5  Добавить страницу отзывов клиентов о магазине,...      3       2   \n",
       "3  Изменить структура категорий, что увеличит кон...      8       3   \n",
       "4  Изменить цвет фона главной страницы, чтобы уве...      3       1   \n",
       "\n",
       "   confidence  efforts  ice_score  rice_score  \n",
       "8           9        5      16.20        16.2  \n",
       "0           8        6      13.33        40.0  \n",
       "7           8        5      11.20       112.0  \n",
       "6           8        3       8.00        40.0  \n",
       "2           7        3       7.00        56.0  \n",
       "1           4       10       2.00         4.0  \n",
       "5           2        3       1.33         4.0  \n",
       "3           3        8       1.12         9.0  \n",
       "4           1        1       1.00         3.0  "
      ]
     },
     "metadata": {},
     "output_type": "display_data"
    }
   ],
   "source": [
    "# Подсчет \"рейтинга\" гипотез ICE\n",
    "hypothesis['ice_score'] = ((hypothesis['impact'] * hypothesis['confidence']) / hypothesis['efforts']).round(2)\n",
    "# Подсчет \"рейтинга\" гипотез RICE\n",
    "hypothesis['rice_score'] = ((hypothesis['reach'] * hypothesis['impact'] * hypothesis['confidence']) / hypothesis['efforts']).round(2)\n",
    "#сортировка по ICE\n",
    "display(hypothesis.sort_values(by = 'ice_score', ascending = False))"
   ]
  },
  {
   "cell_type": "code",
   "execution_count": 10,
   "metadata": {},
   "outputs": [
    {
     "data": {
      "text/html": [
       "<div>\n",
       "<style scoped>\n",
       "    .dataframe tbody tr th:only-of-type {\n",
       "        vertical-align: middle;\n",
       "    }\n",
       "\n",
       "    .dataframe tbody tr th {\n",
       "        vertical-align: top;\n",
       "    }\n",
       "\n",
       "    .dataframe thead th {\n",
       "        text-align: right;\n",
       "    }\n",
       "</style>\n",
       "<table border=\"1\" class=\"dataframe\">\n",
       "  <thead>\n",
       "    <tr style=\"text-align: right;\">\n",
       "      <th></th>\n",
       "      <th>hypothesis</th>\n",
       "      <th>reach</th>\n",
       "      <th>impact</th>\n",
       "      <th>confidence</th>\n",
       "      <th>efforts</th>\n",
       "      <th>ice_score</th>\n",
       "      <th>rice_score</th>\n",
       "    </tr>\n",
       "  </thead>\n",
       "  <tbody>\n",
       "    <tr>\n",
       "      <th>7</th>\n",
       "      <td>Добавить форму подписки на все основные страни...</td>\n",
       "      <td>10</td>\n",
       "      <td>7</td>\n",
       "      <td>8</td>\n",
       "      <td>5</td>\n",
       "      <td>11.20</td>\n",
       "      <td>112.0</td>\n",
       "    </tr>\n",
       "    <tr>\n",
       "      <th>2</th>\n",
       "      <td>Добавить блоки рекомендаций товаров на сайт ин...</td>\n",
       "      <td>8</td>\n",
       "      <td>3</td>\n",
       "      <td>7</td>\n",
       "      <td>3</td>\n",
       "      <td>7.00</td>\n",
       "      <td>56.0</td>\n",
       "    </tr>\n",
       "    <tr>\n",
       "      <th>0</th>\n",
       "      <td>Добавить два новых канала привлечения трафика,...</td>\n",
       "      <td>3</td>\n",
       "      <td>10</td>\n",
       "      <td>8</td>\n",
       "      <td>6</td>\n",
       "      <td>13.33</td>\n",
       "      <td>40.0</td>\n",
       "    </tr>\n",
       "    <tr>\n",
       "      <th>6</th>\n",
       "      <td>Показать на главной странице баннеры с актуаль...</td>\n",
       "      <td>5</td>\n",
       "      <td>3</td>\n",
       "      <td>8</td>\n",
       "      <td>3</td>\n",
       "      <td>8.00</td>\n",
       "      <td>40.0</td>\n",
       "    </tr>\n",
       "    <tr>\n",
       "      <th>8</th>\n",
       "      <td>Запустить акцию, дающую скидку на товар в день...</td>\n",
       "      <td>1</td>\n",
       "      <td>9</td>\n",
       "      <td>9</td>\n",
       "      <td>5</td>\n",
       "      <td>16.20</td>\n",
       "      <td>16.2</td>\n",
       "    </tr>\n",
       "    <tr>\n",
       "      <th>3</th>\n",
       "      <td>Изменить структура категорий, что увеличит кон...</td>\n",
       "      <td>8</td>\n",
       "      <td>3</td>\n",
       "      <td>3</td>\n",
       "      <td>8</td>\n",
       "      <td>1.12</td>\n",
       "      <td>9.0</td>\n",
       "    </tr>\n",
       "    <tr>\n",
       "      <th>1</th>\n",
       "      <td>Запустить собственную службу доставки, что сок...</td>\n",
       "      <td>2</td>\n",
       "      <td>5</td>\n",
       "      <td>4</td>\n",
       "      <td>10</td>\n",
       "      <td>2.00</td>\n",
       "      <td>4.0</td>\n",
       "    </tr>\n",
       "    <tr>\n",
       "      <th>5</th>\n",
       "      <td>Добавить страницу отзывов клиентов о магазине,...</td>\n",
       "      <td>3</td>\n",
       "      <td>2</td>\n",
       "      <td>2</td>\n",
       "      <td>3</td>\n",
       "      <td>1.33</td>\n",
       "      <td>4.0</td>\n",
       "    </tr>\n",
       "    <tr>\n",
       "      <th>4</th>\n",
       "      <td>Изменить цвет фона главной страницы, чтобы уве...</td>\n",
       "      <td>3</td>\n",
       "      <td>1</td>\n",
       "      <td>1</td>\n",
       "      <td>1</td>\n",
       "      <td>1.00</td>\n",
       "      <td>3.0</td>\n",
       "    </tr>\n",
       "  </tbody>\n",
       "</table>\n",
       "</div>"
      ],
      "text/plain": [
       "                                          hypothesis  reach  impact  \\\n",
       "7  Добавить форму подписки на все основные страни...     10       7   \n",
       "2  Добавить блоки рекомендаций товаров на сайт ин...      8       3   \n",
       "0  Добавить два новых канала привлечения трафика,...      3      10   \n",
       "6  Показать на главной странице баннеры с актуаль...      5       3   \n",
       "8  Запустить акцию, дающую скидку на товар в день...      1       9   \n",
       "3  Изменить структура категорий, что увеличит кон...      8       3   \n",
       "1  Запустить собственную службу доставки, что сок...      2       5   \n",
       "5  Добавить страницу отзывов клиентов о магазине,...      3       2   \n",
       "4  Изменить цвет фона главной страницы, чтобы уве...      3       1   \n",
       "\n",
       "   confidence  efforts  ice_score  rice_score  \n",
       "7           8        5      11.20       112.0  \n",
       "2           7        3       7.00        56.0  \n",
       "0           8        6      13.33        40.0  \n",
       "6           8        3       8.00        40.0  \n",
       "8           9        5      16.20        16.2  \n",
       "3           3        8       1.12         9.0  \n",
       "1           4       10       2.00         4.0  \n",
       "5           2        3       1.33         4.0  \n",
       "4           1        1       1.00         3.0  "
      ]
     },
     "metadata": {},
     "output_type": "display_data"
    }
   ],
   "source": [
    "#сортировка по RICE\n",
    "display(hypothesis.sort_values(by = 'rice_score', ascending = False))"
   ]
  },
  {
   "cell_type": "markdown",
   "metadata": {},
   "source": [
    "### Вывод\n",
    "При сортировке таблицы по ICE, на первое место выходит гипотеза №8. А при сортировке таблицы по RICE, на первое место выходит гипотеза №7. \n",
    "\n",
    "Отличие в том, что фреймворк RICE в отличие от ICE учитывает охват пользователей. Гипотеза № 7 имеет 10 баллов из 10 по графе \"reach\" - охват пользователей. Наименее приоритетной при использовании обоих фреймворков является гипотеза № 4.\n"
   ]
  },
  {
   "cell_type": "markdown",
   "metadata": {},
   "source": [
    "## Анализ A/B-теста\n",
    "A/B-тесты проводят, чтобы точно измерить эффект от внедрения изменения."
   ]
  },
  {
   "cell_type": "markdown",
   "metadata": {},
   "source": [
    "### Объединение таблиц orders и visitors"
   ]
  },
  {
   "cell_type": "code",
   "execution_count": 11,
   "metadata": {},
   "outputs": [
    {
     "data": {
      "text/html": [
       "<div>\n",
       "<style scoped>\n",
       "    .dataframe tbody tr th:only-of-type {\n",
       "        vertical-align: middle;\n",
       "    }\n",
       "\n",
       "    .dataframe tbody tr th {\n",
       "        vertical-align: top;\n",
       "    }\n",
       "\n",
       "    .dataframe thead th {\n",
       "        text-align: right;\n",
       "    }\n",
       "</style>\n",
       "<table border=\"1\" class=\"dataframe\">\n",
       "  <thead>\n",
       "    <tr style=\"text-align: right;\">\n",
       "      <th></th>\n",
       "      <th>transaction_id</th>\n",
       "      <th>visitor_id</th>\n",
       "      <th>date</th>\n",
       "      <th>revenue</th>\n",
       "      <th>group</th>\n",
       "      <th>visitors</th>\n",
       "    </tr>\n",
       "  </thead>\n",
       "  <tbody>\n",
       "    <tr>\n",
       "      <th>0</th>\n",
       "      <td>3667963787</td>\n",
       "      <td>3312258926</td>\n",
       "      <td>2019-08-15</td>\n",
       "      <td>1650</td>\n",
       "      <td>B</td>\n",
       "      <td>544</td>\n",
       "    </tr>\n",
       "    <tr>\n",
       "      <th>1</th>\n",
       "      <td>2804400009</td>\n",
       "      <td>3642806036</td>\n",
       "      <td>2019-08-15</td>\n",
       "      <td>730</td>\n",
       "      <td>B</td>\n",
       "      <td>544</td>\n",
       "    </tr>\n",
       "    <tr>\n",
       "      <th>2</th>\n",
       "      <td>3797467345</td>\n",
       "      <td>1196621759</td>\n",
       "      <td>2019-08-15</td>\n",
       "      <td>9759</td>\n",
       "      <td>B</td>\n",
       "      <td>544</td>\n",
       "    </tr>\n",
       "    <tr>\n",
       "      <th>3</th>\n",
       "      <td>2282983706</td>\n",
       "      <td>2322279887</td>\n",
       "      <td>2019-08-15</td>\n",
       "      <td>2308</td>\n",
       "      <td>B</td>\n",
       "      <td>544</td>\n",
       "    </tr>\n",
       "    <tr>\n",
       "      <th>4</th>\n",
       "      <td>182168103</td>\n",
       "      <td>935554773</td>\n",
       "      <td>2019-08-15</td>\n",
       "      <td>2210</td>\n",
       "      <td>B</td>\n",
       "      <td>544</td>\n",
       "    </tr>\n",
       "    <tr>\n",
       "      <th>...</th>\n",
       "      <td>...</td>\n",
       "      <td>...</td>\n",
       "      <td>...</td>\n",
       "      <td>...</td>\n",
       "      <td>...</td>\n",
       "      <td>...</td>\n",
       "    </tr>\n",
       "    <tr>\n",
       "      <th>1192</th>\n",
       "      <td>2274188238</td>\n",
       "      <td>132143192</td>\n",
       "      <td>2019-08-14</td>\n",
       "      <td>750</td>\n",
       "      <td>A</td>\n",
       "      <td>735</td>\n",
       "    </tr>\n",
       "    <tr>\n",
       "      <th>1193</th>\n",
       "      <td>1692103379</td>\n",
       "      <td>1022829655</td>\n",
       "      <td>2019-08-14</td>\n",
       "      <td>112</td>\n",
       "      <td>A</td>\n",
       "      <td>735</td>\n",
       "    </tr>\n",
       "    <tr>\n",
       "      <th>1194</th>\n",
       "      <td>2203539145</td>\n",
       "      <td>370388673</td>\n",
       "      <td>2019-08-14</td>\n",
       "      <td>3190</td>\n",
       "      <td>A</td>\n",
       "      <td>735</td>\n",
       "    </tr>\n",
       "    <tr>\n",
       "      <th>1195</th>\n",
       "      <td>1807773912</td>\n",
       "      <td>573423106</td>\n",
       "      <td>2019-08-14</td>\n",
       "      <td>10550</td>\n",
       "      <td>A</td>\n",
       "      <td>735</td>\n",
       "    </tr>\n",
       "    <tr>\n",
       "      <th>1196</th>\n",
       "      <td>1947021204</td>\n",
       "      <td>1614305549</td>\n",
       "      <td>2019-08-14</td>\n",
       "      <td>100</td>\n",
       "      <td>A</td>\n",
       "      <td>735</td>\n",
       "    </tr>\n",
       "  </tbody>\n",
       "</table>\n",
       "<p>1197 rows × 6 columns</p>\n",
       "</div>"
      ],
      "text/plain": [
       "      transaction_id  visitor_id       date  revenue group  visitors\n",
       "0         3667963787  3312258926 2019-08-15     1650     B       544\n",
       "1         2804400009  3642806036 2019-08-15      730     B       544\n",
       "2         3797467345  1196621759 2019-08-15     9759     B       544\n",
       "3         2282983706  2322279887 2019-08-15     2308     B       544\n",
       "4          182168103   935554773 2019-08-15     2210     B       544\n",
       "...              ...         ...        ...      ...   ...       ...\n",
       "1192      2274188238   132143192 2019-08-14      750     A       735\n",
       "1193      1692103379  1022829655 2019-08-14      112     A       735\n",
       "1194      2203539145   370388673 2019-08-14     3190     A       735\n",
       "1195      1807773912   573423106 2019-08-14    10550     A       735\n",
       "1196      1947021204  1614305549 2019-08-14      100     A       735\n",
       "\n",
       "[1197 rows x 6 columns]"
      ]
     },
     "execution_count": 11,
     "metadata": {},
     "output_type": "execute_result"
    }
   ],
   "source": [
    "test_res = orders.merge(visitors, on=['date','group'])\n",
    "test_res"
   ]
  },
  {
   "cell_type": "markdown",
   "metadata": {},
   "source": [
    "### Обработка данных по пользователям"
   ]
  },
  {
   "cell_type": "markdown",
   "metadata": {},
   "source": [
    "Попавший в одну из групп посетитель остаётся в этой группе до конца теста. Если пользователь видит разные версии исследуемой страницы в ходе одного исследования, неизвестно, какая именно повлияла на его решения. Значит, и результаты такого теста нельзя интерпретировать однозначно."
   ]
  },
  {
   "cell_type": "code",
   "execution_count": 12,
   "metadata": {},
   "outputs": [
    {
     "data": {
      "text/plain": [
       "58"
      ]
     },
     "execution_count": 12,
     "metadata": {},
     "output_type": "execute_result"
    }
   ],
   "source": [
    "# Найдем количество пользователей, которые попали одновременно в обе группы:\n",
    "users_A = test_res.query('group == \"A\"')['visitor_id'].unique()\n",
    "users_B = test_res.query('group == \"B\"')['visitor_id'].unique()\n",
    "users_AB = list(set(users_A).intersection(users_B))\n",
    "len(users_AB)"
   ]
  },
  {
   "cell_type": "code",
   "execution_count": 13,
   "metadata": {},
   "outputs": [],
   "source": [
    "# удалим повторяющихся пользователей\n",
    "test_res = test_res[~test_res['visitor_id'].isin(users_AB)]"
   ]
  },
  {
   "cell_type": "code",
   "execution_count": 14,
   "metadata": {},
   "outputs": [],
   "source": [
    "# удалим повторяющихся пользователей и из таблицы orders\n",
    "orders = orders[~orders['visitor_id'].isin(users_AB)]"
   ]
  },
  {
   "cell_type": "code",
   "execution_count": 15,
   "metadata": {},
   "outputs": [
    {
     "name": "stdout",
     "output_type": "stream",
     "text": [
      "Количество пользовательлей группы А: 445\n",
      "Количество пользовательлей группы Б: 528\n"
     ]
    }
   ],
   "source": [
    "# Найдем кол-во уникальных пользователей в каждой группе:\n",
    "un_p_a = test_res.query('group == \"A\"')['visitor_id'].nunique()\n",
    "print('Количество пользовательлей группы А:', un_p_a)\n",
    "un_p_b = test_res.query('group == \"B\"')['visitor_id'].nunique()\n",
    "print('Количество пользовательлей группы Б:', un_p_b)"
   ]
  },
  {
   "cell_type": "code",
   "execution_count": 16,
   "metadata": {},
   "outputs": [
    {
     "name": "stdout",
     "output_type": "stream",
     "text": [
      "Разница между размерами группы в процентном соотношении:-15.72%\n"
     ]
    }
   ],
   "source": [
    "# посчитаем разницу пользователей в процентном соотношении:\n",
    "AB_difference = un_p_a/ un_p_b \n",
    "print('Разница между размерами группы в процентном соотношении:{:.2%}'.format(AB_difference - 1))"
   ]
  },
  {
   "cell_type": "markdown",
   "metadata": {},
   "source": [
    "Распределение пользователей в группы не равномерное. В группе А на 15,7% меньше пользователей, чем в группе Б. Диcбаланс групп может привести к неверным выводам. Следует учесть это при анализе данных."
   ]
  },
  {
   "cell_type": "code",
   "execution_count": 17,
   "metadata": {},
   "outputs": [],
   "source": [
    "# сгруппируем данные по дате и тестовой группе\n",
    "test_res_agg = (test_res.groupby(['group','date'], as_index=False)\n",
    "                        .agg({'visitor_id':'nunique',\n",
    "                              'transaction_id':'nunique',\n",
    "                              'revenue':'sum',\n",
    "                              'visitors':'max'})\n",
    "                      )\n",
    "test_res_agg = test_res_agg.rename(columns={'visitor_id':'payers','transaction_id':'orders'})\n",
    "test_res_agg['avg_check'] = (test_res_agg['revenue'] / test_res_agg['orders']).round(2)\n",
    "test_res_agg['conversion'] = test_res_agg['orders'] / test_res_agg['visitors']\n",
    "\n",
    "test_res_agg_A = test_res_agg.query('group ==\"A\"')\n",
    "test_res_agg_B = test_res_agg.query('group ==\"B\"').reset_index(drop=True)"
   ]
  },
  {
   "cell_type": "code",
   "execution_count": 18,
   "metadata": {},
   "outputs": [],
   "source": [
    "# Для каждой группы рассчитаем кумулятивные метрики\n",
    "test_res_agg_A['cum_revenue'] = test_res_agg_A['revenue'].cumsum(axis=0)\n",
    "test_res_agg_A['cum_orders'] = test_res_agg_A['orders'].cumsum(axis=0)\n",
    "test_res_agg_A['cum_visitors'] = test_res_agg_A['visitors'].cumsum(axis=0)\n",
    "\n",
    "test_res_agg_B['cum_revenue'] = test_res_agg_B['revenue'].cumsum(axis=0)\n",
    "test_res_agg_B['cum_orders'] = test_res_agg_B['orders'].cumsum(axis=0)\n",
    "test_res_agg_B['cum_visitors'] = test_res_agg_B['visitors'].cumsum(axis=0)"
   ]
  },
  {
   "cell_type": "markdown",
   "metadata": {},
   "source": [
    "### График кумулятивной выручки по группам"
   ]
  },
  {
   "cell_type": "code",
   "execution_count": 19,
   "metadata": {},
   "outputs": [
    {
     "data": {
      "text/plain": [
       "Text(0.5, 1.0, 'Выручка по группам')"
      ]
     },
     "execution_count": 19,
     "metadata": {},
     "output_type": "execute_result"
    },
    {
     "data": {
      "image/png": "[encoded data removed]",
      "text/plain": [
       "<Figure size 864x432 with 1 Axes>"
      ]
     },
     "metadata": {
      "needs_background": "light"
     },
     "output_type": "display_data"
    }
   ],
   "source": [
    "# построим простой график выручки для каждой группы\n",
    "plt.figure(figsize=(12,6))\n",
    "sns.lineplot(data=test_res_agg_A, x='date', y='revenue', label='A')\n",
    "sns.lineplot(data=test_res_agg_B, x='date', y='revenue', label='B')\n",
    "plt.xlabel('Дата', fontsize=14)\n",
    "plt.ylabel('Выручка, млн', fontsize=14)\n",
    "plt.title('Выручка по группам', fontsize=16)"
   ]
  },
  {
   "cell_type": "markdown",
   "metadata": {},
   "source": [
    "Покачто график нам показывает аномальный всплеск группы Б 19 августа.\n",
    "Поскольку в группе Б пользователей больше, поробуем учесть эту разницу в анализе."
   ]
  },
  {
   "cell_type": "code",
   "execution_count": 20,
   "metadata": {},
   "outputs": [
    {
     "data": {
      "text/plain": [
       "Text(0.5, 1.0, 'Кумулятивная выручка по группам')"
      ]
     },
     "execution_count": 20,
     "metadata": {},
     "output_type": "execute_result"
    },
    {
     "data": {
      "image/png": "[encoded data removed]",
      "text/plain": [
       "<Figure size 864x432 with 1 Axes>"
      ]
     },
     "metadata": {},
     "output_type": "display_data"
    }
   ],
   "source": [
    "#  график кумулятивной выручки по группам\n",
    "sns.set_theme()\n",
    "plt.figure(figsize=(12,6))\n",
    "\n",
    "\n",
    "revenue_B_adjusted = test_res_agg_B['cum_revenue'] / AB_difference\n",
    "\n",
    "sns.lineplot(data=test_res_agg_A, x='date', y='cum_revenue', label='A')\n",
    "sns.lineplot(data=test_res_agg_B, x='date', y='cum_revenue', label='B')\n",
    "\n",
    "\n",
    "plt.xlabel('Дата', fontsize=14)\n",
    "plt.ylabel('Кумулятивная выручка, млн', fontsize=14)\n",
    "plt.title('Кумулятивная выручка по группам', fontsize=16)\n"
   ]
  },
  {
   "cell_type": "markdown",
   "metadata": {},
   "source": [
    "Выручка равномерно растет на протяжении всего отрезка времени. Выручка группы Б все время чуть больше выручки группы А \n",
    "\n",
    "В группе Б выражен резкий всплеск, это может быть связано с большим выбросом 19 августа.Это может быть связано с появлением очень дорогого заказа, или с резким увеличением их числа. Из-за этого трудно напрямую сравнить две группы."
   ]
  },
  {
   "cell_type": "markdown",
   "metadata": {},
   "source": [
    "### График кумулятивного среднего чека по группам"
   ]
  },
  {
   "cell_type": "code",
   "execution_count": 21,
   "metadata": {},
   "outputs": [
    {
     "data": {
      "text/plain": [
       "Text(0.5, 1.0, 'Кумулятивный средний чек по группам')"
      ]
     },
     "execution_count": 21,
     "metadata": {},
     "output_type": "execute_result"
    },
    {
     "data": {
      "image/png": "[encoded data removed]",
      "text/plain": [
       "<Figure size 864x432 with 1 Axes>"
      ]
     },
     "metadata": {},
     "output_type": "display_data"
    }
   ],
   "source": [
    "# Рассчитаем средний чек для групп, разделив кумулятивную выручку на кумулятивное число заказов:\n",
    "test_res_agg_A['cum_avg_check'] = test_res_agg_A['cum_revenue'] / test_res_agg_A['cum_orders']\n",
    "test_res_agg_B['cum_avg_check'] = test_res_agg_B['cum_revenue'] / test_res_agg_B['cum_orders']\n",
    "\n",
    "\n",
    "plt.figure(figsize=(12,6))\n",
    "sns.lineplot(data=test_res_agg_A, x='date', y='cum_avg_check', label='A')\n",
    "sns.lineplot(data=test_res_agg_B, x='date', y='cum_avg_check', label='B')\n",
    "\n",
    "plt.xlabel('Дата', fontsize=14)\n",
    "plt.ylabel('Кумулятивный средний чек', fontsize=14)\n",
    "plt.title('Кумулятивный средний чек по группам', fontsize=16)"
   ]
  },
  {
   "cell_type": "markdown",
   "metadata": {},
   "source": [
    "Видим резкий скачоксреднего чека группы Б, после чего идет плавное снижение, а средний чек группы А равномерно увеличивается, при этом почти всегда меньше группы Б\n",
    "\n",
    "Посмотрим на график без выброса:"
   ]
  },
  {
   "cell_type": "code",
   "execution_count": 22,
   "metadata": {},
   "outputs": [
    {
     "data": {
      "text/plain": [
       "Text(0.5, 1.0, 'Кумулятивный средний чек по группам')"
      ]
     },
     "execution_count": 22,
     "metadata": {},
     "output_type": "execute_result"
    },
    {
     "data": {
      "image/png": "[encoded data removed]",
      "text/plain": [
       "<Figure size 864x432 with 1 Axes>"
      ]
     },
     "metadata": {},
     "output_type": "display_data"
    }
   ],
   "source": [
    "test_res_agg_A['cum_avg_check'] = test_res_agg_A['cum_revenue'] / test_res_agg_A['cum_orders']\n",
    "test_res_agg_B['cum_avg_check'] = test_res_agg_B['cum_revenue'] / test_res_agg_B['cum_orders']\n",
    "test_res_agg_B2 = test_res_agg_B.query('cum_avg_check < 10000')\n",
    "\n",
    "plt.figure(figsize=(12,6))\n",
    "sns.lineplot(data=test_res_agg_A, x='date', y='cum_avg_check', label='A')\n",
    "sns.lineplot(data=test_res_agg_B2, x='date', y='cum_avg_check', label='B')\n",
    "\n",
    "plt.xlabel('Дата', fontsize=14)\n",
    "plt.ylabel('Кумулятивный средний чек', fontsize=14)\n",
    "plt.title('Кумулятивный средний чек по группам', fontsize=16)"
   ]
  },
  {
   "cell_type": "markdown",
   "metadata": {},
   "source": [
    "Мы построили график кумулятивного среднего чека без выбросов (срезали данные среднего чего до 10К рублей), видим, что  средний чек группы А все равно меньше"
   ]
  },
  {
   "cell_type": "markdown",
   "metadata": {},
   "source": [
    "### График относительного изменения кумулятивного среднего чека группы B к группе A"
   ]
  },
  {
   "cell_type": "code",
   "execution_count": 23,
   "metadata": {},
   "outputs": [
    {
     "data": {
      "text/plain": [
       "Text(0.5, 1.0, 'Относительное изменение кумулятивного среднего чека')"
      ]
     },
     "execution_count": 23,
     "metadata": {},
     "output_type": "execute_result"
    },
    {
     "data": {
      "image/png": "[encoded data removed]",
      "text/plain": [
       "<Figure size 864x432 with 1 Axes>"
      ]
     },
     "metadata": {},
     "output_type": "display_data"
    }
   ],
   "source": [
    "# построим график относительного различия для среднего чека\n",
    "plt.figure(figsize=(12,6))\n",
    "\n",
    "plt.plot(test_res_agg_A['date'], test_res_agg_B['cum_avg_check']/test_res_agg_A['cum_avg_check']-1)\n",
    "plt.axhline(y=0, linestyle='--', color='red')\n",
    "\n",
    "plt.xlabel('Дата', fontsize=14)\n",
    "plt.ylabel('Относительное изменение', fontsize=14)\n",
    "plt.title('Относительное изменение кумулятивного среднего чека', fontsize=16)"
   ]
  },
  {
   "cell_type": "markdown",
   "metadata": {},
   "source": [
    "Группа Б на графике относительного изменения кумулятивного среднего чека не стабино лучше группы А, есть большой провал и резский всплеск, после чего плавное снижение. Не равномерный рост графика скорее всего связан с выбросом 19 августа."
   ]
  },
  {
   "cell_type": "markdown",
   "metadata": {},
   "source": [
    "### График кумулятивной конверсии по группам"
   ]
  },
  {
   "cell_type": "code",
   "execution_count": 24,
   "metadata": {},
   "outputs": [
    {
     "data": {
      "text/plain": [
       "Text(0.5, 1.0, 'Кумулятивная конверсия по группам')"
      ]
     },
     "execution_count": 24,
     "metadata": {},
     "output_type": "execute_result"
    },
    {
     "data": {
      "image/png": "[encoded data removed]",
      "text/plain": [
       "<Figure size 864x432 with 1 Axes>"
      ]
     },
     "metadata": {},
     "output_type": "display_data"
    }
   ],
   "source": [
    "# рассчитаем для групп значение кумулятивной конверсии и построим графики\n",
    "test_res_agg_A['cum_conversion'] = test_res_agg_A['cum_orders'] / test_res_agg_A['cum_visitors']\n",
    "test_res_agg_B['cum_conversion'] = test_res_agg_B['cum_orders'] / test_res_agg_B['cum_visitors']\n",
    "\n",
    "plt.figure(figsize=(12,6))\n",
    "sns.lineplot(data=test_res_agg_A, x='date', y='cum_conversion', label='A')\n",
    "sns.lineplot(data=test_res_agg_B, x='date', y='cum_conversion', label='B')\n",
    "\n",
    "plt.xlabel('Дата', fontsize=14)\n",
    "plt.ylabel('Конверсия', fontsize=14)\n",
    "plt.title('Кумулятивная конверсия по группам', fontsize=16)"
   ]
  },
  {
   "cell_type": "markdown",
   "metadata": {},
   "source": [
    "Конверсия группы А после резкого скачка до 3,6% начала сначало резко, а потом равномерно уменьшаться, просела до 2,5%\n",
    "Во время снижении конверсии А, конверсия Б начала резко расти. Примерно на 10 день теста конверсии зафиксировались и до конца теста немного колебались около этой отметки. Б - 2,9%; А - 2,5%"
   ]
  },
  {
   "cell_type": "markdown",
   "metadata": {},
   "source": [
    "### График относительного изменения кумулятивной конверсии группы B к группе A"
   ]
  },
  {
   "cell_type": "code",
   "execution_count": 25,
   "metadata": {},
   "outputs": [
    {
     "data": {
      "text/plain": [
       "Text(0.5, 1.0, 'Относительное изменение кумулятивной конверсии')"
      ]
     },
     "execution_count": 25,
     "metadata": {},
     "output_type": "execute_result"
    },
    {
     "data": {
      "image/png": "[encoded data removed]",
      "text/plain": [
       "<Figure size 864x432 with 1 Axes>"
      ]
     },
     "metadata": {},
     "output_type": "display_data"
    }
   ],
   "source": [
    "plt.figure(figsize=(12,6))\n",
    "\n",
    "plt.plot(test_res_agg_A['date'], test_res_agg_B['cum_conversion']/test_res_agg_A['cum_conversion']-1)\n",
    "plt.axhline(y=0, linestyle='--', color='red')\n",
    "plt.axhline(y=0.1, linestyle='--', color='black')\n",
    "\n",
    "plt.xlabel('Дата', fontsize=14)\n",
    "plt.ylabel('Относительное изменение', fontsize=14)\n",
    "plt.title('Относительное изменение кумулятивной конверсии', fontsize=16)"
   ]
  },
  {
   "cell_type": "markdown",
   "metadata": {},
   "source": [
    "Значение кумулятивной конверсии по группе B стабильно возрастает по отношению к группе A с 3 по 10 августа, дальше наблюдаются колебания. Тем не менее, на протяжении всего периода с 6-го августа кумулятивное значение конверсии по группе B превышает значения по группе A. Со временем разрыв немного сокращается, однако в последние дни периода снова начинает расти."
   ]
  },
  {
   "cell_type": "markdown",
   "metadata": {},
   "source": [
    "### Точечный график количества заказов по пользователям"
   ]
  },
  {
   "cell_type": "code",
   "execution_count": 26,
   "metadata": {},
   "outputs": [
    {
     "data": {
      "text/html": [
       "<div>\n",
       "<style scoped>\n",
       "    .dataframe tbody tr th:only-of-type {\n",
       "        vertical-align: middle;\n",
       "    }\n",
       "\n",
       "    .dataframe tbody tr th {\n",
       "        vertical-align: top;\n",
       "    }\n",
       "\n",
       "    .dataframe thead th {\n",
       "        text-align: right;\n",
       "    }\n",
       "</style>\n",
       "<table border=\"1\" class=\"dataframe\">\n",
       "  <thead>\n",
       "    <tr style=\"text-align: right;\">\n",
       "      <th></th>\n",
       "      <th>visitor_id</th>\n",
       "      <th>orders</th>\n",
       "    </tr>\n",
       "  </thead>\n",
       "  <tbody>\n",
       "    <tr>\n",
       "      <th>908</th>\n",
       "      <td>3967698036</td>\n",
       "      <td>3</td>\n",
       "    </tr>\n",
       "    <tr>\n",
       "      <th>55</th>\n",
       "      <td>249864742</td>\n",
       "      <td>3</td>\n",
       "    </tr>\n",
       "    <tr>\n",
       "      <th>478</th>\n",
       "      <td>2108163459</td>\n",
       "      <td>3</td>\n",
       "    </tr>\n",
       "    <tr>\n",
       "      <th>687</th>\n",
       "      <td>2988190573</td>\n",
       "      <td>3</td>\n",
       "    </tr>\n",
       "    <tr>\n",
       "      <th>890</th>\n",
       "      <td>3908431265</td>\n",
       "      <td>3</td>\n",
       "    </tr>\n",
       "    <tr>\n",
       "      <th>138</th>\n",
       "      <td>611059232</td>\n",
       "      <td>3</td>\n",
       "    </tr>\n",
       "    <tr>\n",
       "      <th>632</th>\n",
       "      <td>2742574263</td>\n",
       "      <td>3</td>\n",
       "    </tr>\n",
       "    <tr>\n",
       "      <th>157</th>\n",
       "      <td>678354126</td>\n",
       "      <td>2</td>\n",
       "    </tr>\n",
       "    <tr>\n",
       "      <th>323</th>\n",
       "      <td>1404560065</td>\n",
       "      <td>2</td>\n",
       "    </tr>\n",
       "    <tr>\n",
       "      <th>452</th>\n",
       "      <td>1985475298</td>\n",
       "      <td>2</td>\n",
       "    </tr>\n",
       "  </tbody>\n",
       "</table>\n",
       "</div>"
      ],
      "text/plain": [
       "     visitor_id  orders\n",
       "908  3967698036       3\n",
       "55    249864742       3\n",
       "478  2108163459       3\n",
       "687  2988190573       3\n",
       "890  3908431265       3\n",
       "138   611059232       3\n",
       "632  2742574263       3\n",
       "157   678354126       2\n",
       "323  1404560065       2\n",
       "452  1985475298       2"
      ]
     },
     "execution_count": 26,
     "metadata": {},
     "output_type": "execute_result"
    }
   ],
   "source": [
    "# рассчитаем количество заказов, совершённых каждым пользователем\n",
    "orders_by_users = orders.drop(['group', 'revenue', 'date'], axis=1).\\\n",
    "groupby('visitor_id', as_index=False).agg({'transaction_id' : pd.Series.nunique})\n",
    "\n",
    "orders_by_users.columns = ['visitor_id','orders']\n",
    "\n",
    "orders_by_users.sort_values(by='orders',ascending=False).head(10)"
   ]
  },
  {
   "cell_type": "code",
   "execution_count": 27,
   "metadata": {},
   "outputs": [
    {
     "data": {
      "image/png": "[encoded data removed]",
      "text/plain": [
       "<Figure size 864x432 with 1 Axes>"
      ]
     },
     "metadata": {},
     "output_type": "display_data"
    }
   ],
   "source": [
    "x_values = pd.Series(range(0,len(orders_by_users)))\n",
    "\n",
    "plt.figure(figsize=(12,6))\n",
    "plt.scatter(x_values, orders_by_users['orders'])\n",
    "plt.xlabel('Порядковый номер пользователя', fontsize=14)\n",
    "plt.ylabel('Количество заказов', fontsize=14)\n",
    "plt.title('Точечный график количества заказов по пользователям', fontsize=16)\n",
    "plt.show()"
   ]
  },
  {
   "cell_type": "markdown",
   "metadata": {},
   "source": [
    "На графике видно, что большинство пользователей совершают 1-2 заказа. Однако, есть и те, которые совершают более 6 заказов. Есть и несколько выбросов, возможно в будущем можно будет ограничеть количество заказов для более точного анализа"
   ]
  },
  {
   "cell_type": "markdown",
   "metadata": {},
   "source": [
    "### Расчёт 95-го и 99-го перцентилей количества заказов на пользователя, выбор границы для определения аномальных пользователей"
   ]
  },
  {
   "cell_type": "code",
   "execution_count": 28,
   "metadata": {},
   "outputs": [
    {
     "data": {
      "text/plain": [
       "array([1., 2.])"
      ]
     },
     "execution_count": 28,
     "metadata": {},
     "output_type": "execute_result"
    }
   ],
   "source": [
    "np.percentile(orders_by_users['orders'], [95, 99])"
   ]
  },
  {
   "cell_type": "markdown",
   "metadata": {},
   "source": [
    "Таким образом, получается, что не более 5% пользователей совершают более 2-х заказов, и лишь 1% пользователей совершают более 4-х заказов, возможно можно это взять за границу числа заказов"
   ]
  },
  {
   "cell_type": "markdown",
   "metadata": {},
   "source": [
    "### Точечный график стоимостей заказов"
   ]
  },
  {
   "cell_type": "code",
   "execution_count": 29,
   "metadata": {},
   "outputs": [
    {
     "data": {
      "image/png": "[encoded data removed]",
      "text/plain": [
       "<Figure size 864x432 with 1 Axes>"
      ]
     },
     "metadata": {},
     "output_type": "display_data"
    }
   ],
   "source": [
    "x_values = pd.Series(range(0,len(orders['revenue'])))\n",
    "\n",
    "plt.figure(figsize=(12,6))\n",
    "\n",
    "plt.scatter(x_values, orders['revenue'])\n",
    "plt.xlabel('Порядковый номер пользователя', fontsize=14)\n",
    "plt.ylabel('Прибыль', fontsize=14)\n",
    "plt.title('Точечный график стоимостей заказов', fontsize=14)\n",
    "plt.show()"
   ]
  },
  {
   "cell_type": "markdown",
   "metadata": {},
   "source": [
    "На графике видно два сильных выброса, которые мешают просмотреть более детальную картину и сжимают график"
   ]
  },
  {
   "cell_type": "code",
   "execution_count": 30,
   "metadata": {},
   "outputs": [
    {
     "data": {
      "image/png": "[encoded data removed]",
      "text/plain": [
       "<Figure size 864x432 with 1 Axes>"
      ]
     },
     "metadata": {},
     "output_type": "display_data"
    }
   ],
   "source": [
    "\n",
    "plt.figure(figsize=(12,6))\n",
    "\n",
    "plt.scatter(x_values, orders['revenue'])\n",
    "plt.xlabel('Порядковый номер пользователя', fontsize=14)\n",
    "plt.ylabel('Прибыль', fontsize=14)\n",
    "plt.ylim(0, 100000)\n",
    "plt.title('Точечный график стоимостей заказов', fontsize=14)\n",
    "plt.show()"
   ]
  },
  {
   "cell_type": "markdown",
   "metadata": {},
   "source": [
    "На данном графике более наглядно видно, что большинство заказов не превосходит по стоимости 40 000. Однако, существуют и те, стоимость которых существенно выше. Далее необходимо будет определить границу для таких выбросов."
   ]
  },
  {
   "cell_type": "markdown",
   "metadata": {},
   "source": [
    "### Расчёт 95-го и 99-го перцентилей стоимости заказов, выбор границы для определения аномальных заказов"
   ]
  },
  {
   "cell_type": "code",
   "execution_count": 31,
   "metadata": {},
   "outputs": [
    {
     "data": {
      "text/plain": [
       "array([26785., 53904.])"
      ]
     },
     "execution_count": 31,
     "metadata": {},
     "output_type": "execute_result"
    }
   ],
   "source": [
    "np.percentile(orders['revenue'], [95, 99])"
   ]
  },
  {
   "cell_type": "markdown",
   "metadata": {},
   "source": [
    "Не более 5% заказов осуществляются на сумму более 28 000. Лишь 1% заказов по стоимости превосходит порядка 58 000"
   ]
  },
  {
   "cell_type": "code",
   "execution_count": 32,
   "metadata": {},
   "outputs": [],
   "source": [
    "# обозначим границы аномалий:\n",
    "orders_board = int(np.percentile(orders_by_users['orders'], [99]))\n",
    "revenue_board = int(np.percentile(orders['revenue'], [95]))"
   ]
  },
  {
   "cell_type": "code",
   "execution_count": 33,
   "metadata": {},
   "outputs": [
    {
     "data": {
      "text/plain": [
       "date\n",
       "2019-08-19    1327905\n",
       "2019-08-15     202740\n",
       "2019-08-07     117953\n",
       "2019-08-30     114720\n",
       "2019-08-06      95689\n",
       "Name: revenue, dtype: int64"
      ]
     },
     "execution_count": 33,
     "metadata": {},
     "output_type": "execute_result"
    }
   ],
   "source": [
    "#отсеим аномальные заказы\n",
    "orders.query('group == \"B\" & revenue > @revenue_board').groupby('date')['revenue'].sum().sort_values(ascending=False).head()"
   ]
  },
  {
   "cell_type": "markdown",
   "metadata": {},
   "source": [
    "### Pасчёт статистической значимости различий в конверсии между группами по «сырым» данным"
   ]
  },
  {
   "cell_type": "markdown",
   "metadata": {},
   "source": [
    "H0: Средняя конверсия пользователей группы А равна средней конверсии пользователей группы B\n",
    "\n",
    "H1: Средняя конверсия пользователей группы A отличается от средней конверсии пользователей группы B."
   ]
  },
  {
   "cell_type": "code",
   "execution_count": 34,
   "metadata": {},
   "outputs": [
    {
     "name": "stdout",
     "output_type": "stream",
     "text": [
      "p-значение:  0.011\n",
      "Отвергаем нулевую гипотезу: разница статистически значима\n",
      "Относительный прирост конверсии группы B: 0.160\n"
     ]
    }
   ],
   "source": [
    "\n",
    "orders_by_users_a = orders[orders['group']=='A'].groupby('visitor_id', as_index=False).\\\n",
    "agg({'transaction_id' : pd.Series.nunique})\n",
    "orders_by_users_a.columns = ['visitor_id', 'orders']\n",
    "\n",
    "# определяем число заказов для каждого пользователя из группы B\n",
    "orders_by_users_b = orders[orders['group']=='B'].groupby('visitor_id', as_index=False).\\\n",
    "agg({'transaction_id' : pd.Series.nunique})\n",
    "orders_by_users_b.columns = ['visitor_id', 'orders']\n",
    "\n",
    "# формируем выборку для группы A, посетителям, которые не совершили заказ будет соответствовать 0\n",
    "sample_a = pd.concat([orders_by_users_a['orders'], pd.Series(0, index=np.arange(visitors.query('group == \"A\"')\\\n",
    "                    ['visitors'].sum() - len(orders_by_users_a['orders'])), name='orders')],axis=0)\n",
    "\n",
    "# формируем выборку для группы B, посетителям, которые не совершили заказ будет соответствовать 0\n",
    "sample_b = pd.concat([orders_by_users_b['orders'], pd.Series(0, index=np.arange(visitors.query('group == \"B\"')\\\n",
    "                    ['visitors'].sum() - len(orders_by_users_b['orders'])), name='orders')],axis=0)\n",
    "\n",
    "# критический уровень статистической значимости\n",
    "alpha = .05 \n",
    "\n",
    "results = st.mannwhitneyu(sample_a, sample_b)\n",
    "\n",
    "print('p-значение: ', \"{0:.3f}\".format(results.pvalue))\n",
    "\n",
    "if (results.pvalue < alpha):\n",
    "    print(\"Отвергаем нулевую гипотезу: разница статистически значима\")\n",
    "else:\n",
    "    print(\"Не получилось отвергнуть нулевую гипотезу, вывод о различии сделать нельзя\")\n",
    "\n",
    "print('Относительный прирост конверсии группы B:', \"{0:.3f}\".format(sample_b.mean()/sample_a.mean()-1))"
   ]
  },
  {
   "cell_type": "markdown",
   "metadata": {},
   "source": [
    "прирост конверсии группы B составил почти 14%, и эта разница статистически значима. То есть по данному параметру можно говорить о том, что был достигнут рост конверсии."
   ]
  },
  {
   "cell_type": "markdown",
   "metadata": {},
   "source": [
    "### Расчёт статистической значимости различий в среднем чеке заказа между группами по «сырым» данным"
   ]
  },
  {
   "cell_type": "code",
   "execution_count": 35,
   "metadata": {},
   "outputs": [
    {
     "name": "stdout",
     "output_type": "stream",
     "text": [
      "p-значение:  0.829\n",
      "Не получилось отвергнуть нулевую гипотезу, вывод о различии сделать нельзя\n",
      "Относительный прирост среднего чека группы B: 0.287\n"
     ]
    }
   ],
   "source": [
    "# формируем выборку для группы A\n",
    "sample_a_new = orders[orders['group']=='A']['revenue']\n",
    "\n",
    "# формируем выборку для группы B\n",
    "sample_b_new = orders[orders['group']=='B']['revenue']\n",
    "\n",
    "# критический уровень статистической значимости\n",
    "alpha = .05 \n",
    "\n",
    "results = st.mannwhitneyu(sample_a_new, sample_b_new)\n",
    "\n",
    "print('p-значение: ', \"{0:.3f}\".format(results.pvalue))\n",
    "\n",
    "if (results.pvalue < alpha):\n",
    "    print(\"Отвергаем нулевую гипотезу: разница статистически значима\")\n",
    "else:\n",
    "    print(\"Не получилось отвергнуть нулевую гипотезу, вывод о различии сделать нельзя\")\n",
    "\n",
    "print('Относительный прирост среднего чека группы B:', \"{0:.3f}\".format(sample_b_new.mean()/sample_a_new.mean()-1))"
   ]
  },
  {
   "cell_type": "markdown",
   "metadata": {},
   "source": [
    "Xотя прирост среднего чека группы B составил почти 26%, эта разница статистически незначима. То есть по данному параметру нельзя говорить о том, что был достигнут значимый рост среднего чека."
   ]
  },
  {
   "cell_type": "markdown",
   "metadata": {},
   "source": [
    "### Расчёт статистической значимости различий в конверсии между группами по «очищенным» данным"
   ]
  },
  {
   "cell_type": "markdown",
   "metadata": {},
   "source": [
    "Будем считать, что аномальными пользователями считаются пользователи совершившие больше 4 заказов или более 30К рублей."
   ]
  },
  {
   "cell_type": "code",
   "execution_count": 36,
   "metadata": {},
   "outputs": [
    {
     "name": "stdout",
     "output_type": "stream",
     "text": [
      "58\n"
     ]
    }
   ],
   "source": [
    "# определим аномальных пользователей:\n",
    "\n",
    "# более 4 заказов:\n",
    "users_with_many_orders = pd.concat([orders_by_users_a[orders_by_users_a['orders'] > orders_board]['visitor_id'], \\\n",
    "                                    orders_by_users_b[orders_by_users_b['orders'] > orders_board]['visitor_id']], axis = 0)\n",
    "# сумма более 30К\n",
    "users_with_expensive_orders = orders[orders['revenue'] > revenue_board]['visitor_id']\n",
    "\n",
    "abnormal_users = pd.concat([users_with_many_orders, users_with_expensive_orders], axis = 0).drop_duplicates().\\\n",
    "sort_values()\n",
    "\n",
    "print(abnormal_users.shape[0])"
   ]
  },
  {
   "cell_type": "markdown",
   "metadata": {},
   "source": [
    "58 пользователей - это в порядке 4-5% выборки"
   ]
  },
  {
   "cell_type": "code",
   "execution_count": 37,
   "metadata": {},
   "outputs": [
    {
     "name": "stdout",
     "output_type": "stream",
     "text": [
      "p-значение:  0.012\n",
      "Отвергаем нулевую гипотезу: разница статистически значима\n",
      "Относительный прирост конверсии группы B: 0.182\n"
     ]
    }
   ],
   "source": [
    "sample_a_filtered = pd.concat([orders_by_users_a[np.logical_not(orders_by_users_a['visitor_id'].\\\n",
    "                            isin(abnormal_users))]['orders'],pd.Series(0, index=np.arange(visitors.\\\n",
    "                            query('group == \"A\"')['visitors'].sum() - len(orders_by_users_a['orders'])),\\\n",
    "                                                                       name='orders')],axis=0)\n",
    "\n",
    "# формируем выборку для группы B, исключая аномальных пользователей\n",
    "sample_b_filtered = pd.concat([orders_by_users_b[np.logical_not(orders_by_users_b['visitor_id'].\\\n",
    "                            isin(abnormal_users))]['orders'],pd.Series(0, index=np.arange(visitors.\\\n",
    "                            query('group == \"B\"')['visitors'].sum() - len(orders_by_users_b['orders'])),\\\n",
    "                                                                       name='orders')],axis=0)\n",
    "\n",
    "# критический уровень статистической значимости\n",
    "alpha = .05 \n",
    "\n",
    "results = st.mannwhitneyu(sample_a_filtered, sample_b_filtered)\n",
    "\n",
    "print('p-значение: ', \"{0:.3f}\".format(results.pvalue))\n",
    "\n",
    "if (results.pvalue < alpha):\n",
    "    print(\"Отвергаем нулевую гипотезу: разница статистически значима\")\n",
    "else:\n",
    "    print(\"Не получилось отвергнуть нулевую гипотезу, вывод о различии сделать нельзя\")\n",
    "\n",
    "print('Относительный прирост конверсии группы B:', \"{0:.3f}\".format(sample_b_filtered.mean()/\\\n",
    "                                                                    sample_a_filtered.mean()-1))"
   ]
  },
  {
   "cell_type": "markdown",
   "metadata": {},
   "source": [
    "По конверсии получаем практически такой же результат, как и для \"сырых\" данных. Таким образом, и по \"сырым\", и по \"очищенным\" данным можно говорить о росте конверсии примерно на 14%."
   ]
  },
  {
   "cell_type": "markdown",
   "metadata": {},
   "source": [
    "### Расчёт статистической значимости различий в среднем чеке заказа между группами по «очищенным» данным"
   ]
  },
  {
   "cell_type": "code",
   "execution_count": 38,
   "metadata": {},
   "outputs": [
    {
     "name": "stdout",
     "output_type": "stream",
     "text": [
      "p-значение:  0.646\n",
      "Не получилось отвергнуть нулевую гипотезу, вывод о различии сделать нельзя\n",
      "Относительный прирост среднего чека группы B: -0.048\n"
     ]
    }
   ],
   "source": [
    "# формируем выборку для группы A, исключая аномальных пользователей\n",
    "sample_a_new_filtered = orders[np.logical_and(orders['group']=='A', np.logical_not(orders['visitor_id'].\\\n",
    "                            isin(abnormal_users)))]['revenue']\n",
    "\n",
    "# формируем выборку для группы B, исключая аномальных пользователей\n",
    "sample_b_new_filtered = orders[np.logical_and(orders['group']=='B', np.logical_not(orders['visitor_id'].\\\n",
    "                            isin(abnormal_users)))]['revenue']\n",
    "\n",
    "# критический уровень статистической значимости\n",
    "alpha = .05 \n",
    "\n",
    "results = st.mannwhitneyu(sample_a_new_filtered, sample_b_new_filtered)\n",
    "\n",
    "print('p-значение: ', \"{0:.3f}\".format(results.pvalue))\n",
    "\n",
    "if (results.pvalue < alpha):\n",
    "    print(\"Отвергаем нулевую гипотезу: разница статистически значима\")\n",
    "else:\n",
    "    print(\"Не получилось отвергнуть нулевую гипотезу, вывод о различии сделать нельзя\")\n",
    "\n",
    "print('Относительный прирост среднего чека группы B:', \"{0:.3f}\".\\\n",
    "      format(sample_b_new_filtered.mean()/sample_a_new_filtered.mean()-1))"
   ]
  },
  {
   "cell_type": "markdown",
   "metadata": {},
   "source": [
    "В данном случае также получаем, что как и по \"сырым\" данным, нельзя сделать вывод о различии. Однако, расчёт относительного изменения среднего чека кардинально изменился. Если по \"сырым\" данным получался рост почти на 26%, то по очищенным данным получаем сокращение среднего чека почти на 2%. Таким образом, можно говорить о том, что в группу Б попали аномальные пользователи с очень высокой стоимостью покупок."
   ]
  },
  {
   "cell_type": "markdown",
   "metadata": {},
   "source": [
    "## Принятие решений по результатам теста"
   ]
  },
  {
   "cell_type": "markdown",
   "metadata": {},
   "source": [
    "Есть статистически значимое различие по конверсии между группами как по сырым данным, так и после фильтрации аномалий. Можно говорить о росте конверсии на 14%.\n",
    "\n",
    "По сырым и отфильтрованным данным нет статистически значимого различия по среднему чеку между группами. Хотя аномальные пользователи оказали большое влияние на расчёт относительного изменения среднего чека.\n",
    "\n",
    "График различия конверсии между группами сообщает, что результаты группы B лучше группы A: имеют тенденцию к росту, зафиксировались к концу периода на уровне 0.10 - 0.15.\n",
    "\n",
    "График различия среднего чека колеблется, что позволило определить аномалии, определённого вывода по нему сделать нельзя.\n",
    "\n",
    "На основе полученных выводов, я считаю, что можно остановить тест, зафиксировать победу группы B. Так как по среднему чеку статистически значимого падения по группе B не получили, зато увеличили конверсию, полагаю, это уже достаточно хороший результат."
   ]
  },
  {
   "cell_type": "markdown",
   "metadata": {},
   "source": [
    "## Общий вывод"
   ]
  },
  {
   "cell_type": "markdown",
   "metadata": {},
   "source": [
    "При сортировке таблицы по ICE, на первое место выходит гипотеза №8. А при сортировке таблицы по RICE, на первое место выходит гипотеза №7.\n",
    "\n",
    "Отличие в том, что фреймворк RICE в отличие от ICE учитывает охват пользователей. Гипотеза № 7 имеет 10 баллов из 10 по графе \"reach\" - охват пользователей. Наименее приоритетной при использовании обоих фреймворков является гипотеза № 4.\n",
    "\n",
    "По результатам проведения A/B теста было выявлено следующее:\n",
    "\n",
    "В данных присутствуют аномальные значения по числу заказов, совершённых одним пользователем, а также по стоимости заказа. Типичный пользователь совершает не более 4-х заказов на суммы, не превышающие 30 000. Самые крупные заказы с аномальной стоимостью приходятся на 19 августа.\n",
    "\n",
    "Был достигнут статистически значимый рост конверсии по группе B (порядка 14% относительно группы A). К концу анализируемого периода конверсия по группе B колеблется на уровне 0.10 - 0.15.\n",
    "\n",
    "Статистически значимое изменение среднего чека получено не было, даже при исключении аномальных заказов из расчёта. Однако, отмечено, что при исключении аномальных пользоватлей, получаем совершенно иной результат по относительному изменению среднего чека.\n",
    "\n",
    "Так как по одному из параметров (конверсии) был достигнут хороший результат в результате внедрения изменения, а по второму не получили статистически значимого снижения, то результат теста признаю положительным, фиксируя победу группы B."
   ]
  }
 ],
 "metadata": {
  "ExecuteTimeLog": [
   {
    "duration": 1725,
    "start_time": "2022-06-16T07:14:35.485Z"
   },
   {
    "duration": 196,
    "start_time": "2022-06-16T07:14:50.763Z"
   },
   {
    "duration": 149,
    "start_time": "2022-06-16T07:17:32.070Z"
   },
   {
    "duration": 8,
    "start_time": "2022-06-16T07:17:37.082Z"
   },
   {
    "duration": 13,
    "start_time": "2022-06-16T07:17:44.435Z"
   },
   {
    "duration": 4,
    "start_time": "2022-06-16T07:27:11.017Z"
   },
   {
    "duration": 34,
    "start_time": "2022-06-16T07:30:11.058Z"
   },
   {
    "duration": 22,
    "start_time": "2022-06-16T07:34:13.169Z"
   },
   {
    "duration": 16,
    "start_time": "2022-06-16T07:38:38.955Z"
   },
   {
    "duration": 16,
    "start_time": "2022-06-16T07:38:53.703Z"
   },
   {
    "duration": 19,
    "start_time": "2022-06-16T07:38:57.353Z"
   },
   {
    "duration": 23,
    "start_time": "2022-06-16T07:41:01.451Z"
   },
   {
    "duration": 37,
    "start_time": "2022-06-16T07:52:34.004Z"
   },
   {
    "duration": 12,
    "start_time": "2022-06-16T07:52:51.470Z"
   },
   {
    "duration": 18,
    "start_time": "2022-06-16T07:53:12.047Z"
   },
   {
    "duration": 12,
    "start_time": "2022-06-16T07:54:08.416Z"
   },
   {
    "duration": 17,
    "start_time": "2022-06-16T08:03:46.558Z"
   },
   {
    "duration": 14,
    "start_time": "2022-06-16T08:03:52.859Z"
   },
   {
    "duration": 32,
    "start_time": "2022-06-16T09:45:45.615Z"
   },
   {
    "duration": 18,
    "start_time": "2022-06-16T09:46:11.397Z"
   },
   {
    "duration": 5,
    "start_time": "2022-06-16T09:48:33.431Z"
   },
   {
    "duration": 10,
    "start_time": "2022-06-16T09:53:42.778Z"
   },
   {
    "duration": 10,
    "start_time": "2022-06-16T09:53:53.750Z"
   },
   {
    "duration": 9,
    "start_time": "2022-06-16T09:56:19.545Z"
   },
   {
    "duration": 62,
    "start_time": "2022-06-16T09:58:15.249Z"
   },
   {
    "duration": 4,
    "start_time": "2022-06-16T09:58:21.571Z"
   },
   {
    "duration": 4,
    "start_time": "2022-06-16T09:58:39.603Z"
   },
   {
    "duration": 31,
    "start_time": "2022-06-16T09:59:24.319Z"
   },
   {
    "duration": 4,
    "start_time": "2022-06-16T10:00:03.725Z"
   },
   {
    "duration": 6,
    "start_time": "2022-06-16T10:00:18.454Z"
   },
   {
    "duration": 3,
    "start_time": "2022-06-16T10:00:26.391Z"
   },
   {
    "duration": 29,
    "start_time": "2022-06-16T10:00:38.223Z"
   },
   {
    "duration": 3,
    "start_time": "2022-06-16T10:00:43.450Z"
   },
   {
    "duration": 9,
    "start_time": "2022-06-16T10:00:55.928Z"
   },
   {
    "duration": 11,
    "start_time": "2022-06-16T10:01:03.892Z"
   },
   {
    "duration": 29,
    "start_time": "2022-06-16T10:01:28.916Z"
   },
   {
    "duration": 3,
    "start_time": "2022-06-16T10:01:37.651Z"
   },
   {
    "duration": 5,
    "start_time": "2022-06-16T10:01:44.074Z"
   },
   {
    "duration": 20,
    "start_time": "2022-06-16T10:02:53.882Z"
   },
   {
    "duration": 10,
    "start_time": "2022-06-16T10:03:28.745Z"
   },
   {
    "duration": 425,
    "start_time": "2022-06-16T10:06:41.035Z"
   },
   {
    "duration": 22,
    "start_time": "2022-06-16T10:09:08.322Z"
   },
   {
    "duration": 446,
    "start_time": "2022-06-16T10:10:16.150Z"
   },
   {
    "duration": 586,
    "start_time": "2022-06-16T10:14:20.554Z"
   },
   {
    "duration": 6,
    "start_time": "2022-06-16T10:15:00.907Z"
   },
   {
    "duration": 398,
    "start_time": "2022-06-16T10:15:07.479Z"
   },
   {
    "duration": 465,
    "start_time": "2022-06-16T10:15:13.480Z"
   },
   {
    "duration": 494,
    "start_time": "2022-06-16T10:48:51.794Z"
   },
   {
    "duration": 462,
    "start_time": "2022-06-16T11:01:04.686Z"
   },
   {
    "duration": 497,
    "start_time": "2022-06-16T14:10:27.974Z"
   },
   {
    "duration": 460,
    "start_time": "2022-06-16T14:19:35.578Z"
   },
   {
    "duration": 437,
    "start_time": "2022-06-16T14:25:18.976Z"
   },
   {
    "duration": 173,
    "start_time": "2022-06-16T14:32:47.955Z"
   },
   {
    "duration": 259,
    "start_time": "2022-06-16T14:33:36.184Z"
   },
   {
    "duration": 258,
    "start_time": "2022-06-16T14:36:27.949Z"
   },
   {
    "duration": 225,
    "start_time": "2022-06-16T14:37:18.045Z"
   },
   {
    "duration": 249,
    "start_time": "2022-06-16T14:37:51.445Z"
   },
   {
    "duration": 11,
    "start_time": "2022-06-16T14:38:40.588Z"
   },
   {
    "duration": 12,
    "start_time": "2022-06-16T14:38:52.498Z"
   },
   {
    "duration": 12,
    "start_time": "2022-06-16T14:38:56.953Z"
   },
   {
    "duration": 7,
    "start_time": "2022-06-16T14:39:13.693Z"
   },
   {
    "duration": 5,
    "start_time": "2022-06-16T14:39:19.505Z"
   },
   {
    "duration": 13,
    "start_time": "2022-06-16T14:41:09.970Z"
   },
   {
    "duration": 353,
    "start_time": "2022-06-16T14:43:28.313Z"
   },
   {
    "duration": 244,
    "start_time": "2022-06-16T14:46:15.939Z"
   },
   {
    "duration": 258,
    "start_time": "2022-06-16T14:46:43.448Z"
   },
   {
    "duration": 311,
    "start_time": "2022-06-16T14:48:41.488Z"
   },
   {
    "duration": 314,
    "start_time": "2022-06-16T14:49:50.749Z"
   },
   {
    "duration": 279,
    "start_time": "2022-06-16T14:49:55.243Z"
   },
   {
    "duration": 6,
    "start_time": "2022-06-16T14:51:02.839Z"
   },
   {
    "duration": 194,
    "start_time": "2022-06-16T14:57:19.305Z"
   },
   {
    "duration": 12,
    "start_time": "2022-06-16T15:02:45.675Z"
   },
   {
    "duration": 192,
    "start_time": "2022-06-16T15:02:54.943Z"
   },
   {
    "duration": 9,
    "start_time": "2022-06-16T15:03:43.893Z"
   },
   {
    "duration": 17,
    "start_time": "2022-06-16T15:04:14.710Z"
   },
   {
    "duration": 16,
    "start_time": "2022-06-16T15:04:41.814Z"
   },
   {
    "duration": 1230,
    "start_time": "2022-06-16T15:05:06.596Z"
   },
   {
    "duration": 177,
    "start_time": "2022-06-16T15:05:07.828Z"
   },
   {
    "duration": 13,
    "start_time": "2022-06-16T15:05:09.345Z"
   },
   {
    "duration": 31,
    "start_time": "2022-06-16T15:05:10.384Z"
   },
   {
    "duration": 24,
    "start_time": "2022-06-16T15:05:17.677Z"
   },
   {
    "duration": 25,
    "start_time": "2022-06-16T15:05:19.219Z"
   },
   {
    "duration": 10,
    "start_time": "2022-06-16T15:05:20.344Z"
   },
   {
    "duration": 9,
    "start_time": "2022-06-16T15:05:20.645Z"
   },
   {
    "duration": 23,
    "start_time": "2022-06-16T15:05:20.995Z"
   },
   {
    "duration": 22,
    "start_time": "2022-06-16T15:05:22.386Z"
   },
   {
    "duration": 15,
    "start_time": "2022-06-16T15:05:22.612Z"
   },
   {
    "duration": 28,
    "start_time": "2022-06-16T15:05:23.580Z"
   },
   {
    "duration": 19,
    "start_time": "2022-06-16T15:05:24.611Z"
   },
   {
    "duration": 6,
    "start_time": "2022-06-16T15:05:24.914Z"
   },
   {
    "duration": 11,
    "start_time": "2022-06-16T15:05:25.182Z"
   },
   {
    "duration": 4,
    "start_time": "2022-06-16T15:05:25.451Z"
   },
   {
    "duration": 32,
    "start_time": "2022-06-16T15:05:25.980Z"
   },
   {
    "duration": 14,
    "start_time": "2022-06-16T15:05:26.189Z"
   },
   {
    "duration": 422,
    "start_time": "2022-06-16T15:05:26.879Z"
   },
   {
    "duration": 480,
    "start_time": "2022-06-16T15:05:27.465Z"
   },
   {
    "duration": 406,
    "start_time": "2022-06-16T15:05:28.210Z"
   },
   {
    "duration": 489,
    "start_time": "2022-06-16T15:05:29.131Z"
   },
   {
    "duration": 407,
    "start_time": "2022-06-16T15:05:29.949Z"
   },
   {
    "duration": 495,
    "start_time": "2022-06-16T15:05:30.753Z"
   },
   {
    "duration": 286,
    "start_time": "2022-06-16T15:05:31.548Z"
   },
   {
    "duration": 293,
    "start_time": "2022-06-16T15:05:31.837Z"
   },
   {
    "duration": 10,
    "start_time": "2022-06-16T15:05:32.586Z"
   },
   {
    "duration": 285,
    "start_time": "2022-06-16T15:05:33.485Z"
   },
   {
    "duration": 307,
    "start_time": "2022-06-16T15:05:34.044Z"
   },
   {
    "duration": 5,
    "start_time": "2022-06-16T15:05:35.019Z"
   },
   {
    "duration": 15,
    "start_time": "2022-06-16T15:05:36.300Z"
   },
   {
    "duration": 191,
    "start_time": "2022-06-16T15:05:51.248Z"
   },
   {
    "duration": 13,
    "start_time": "2022-06-16T15:10:51.907Z"
   },
   {
    "duration": 9,
    "start_time": "2022-06-16T15:15:02.841Z"
   },
   {
    "duration": 10,
    "start_time": "2022-06-16T15:15:45.812Z"
   },
   {
    "duration": 63,
    "start_time": "2022-06-16T15:16:56.613Z"
   },
   {
    "duration": 16,
    "start_time": "2022-06-16T15:18:17.246Z"
   },
   {
    "duration": 2061,
    "start_time": "2022-06-16T19:58:13.324Z"
   },
   {
    "duration": 211,
    "start_time": "2022-06-16T19:58:15.387Z"
   },
   {
    "duration": 14,
    "start_time": "2022-06-16T19:58:15.600Z"
   },
   {
    "duration": 35,
    "start_time": "2022-06-16T19:58:15.617Z"
   },
   {
    "duration": 34,
    "start_time": "2022-06-16T19:58:15.654Z"
   },
   {
    "duration": 7,
    "start_time": "2022-06-16T19:58:15.690Z"
   },
   {
    "duration": 9,
    "start_time": "2022-06-16T19:58:15.699Z"
   },
   {
    "duration": 44,
    "start_time": "2022-06-16T19:58:15.710Z"
   },
   {
    "duration": 29,
    "start_time": "2022-06-16T19:58:15.756Z"
   },
   {
    "duration": 10,
    "start_time": "2022-06-16T19:58:15.788Z"
   },
   {
    "duration": 21,
    "start_time": "2022-06-16T19:58:15.800Z"
   },
   {
    "duration": 27,
    "start_time": "2022-06-16T19:58:15.835Z"
   },
   {
    "duration": 6,
    "start_time": "2022-06-16T19:58:15.864Z"
   },
   {
    "duration": 12,
    "start_time": "2022-06-16T19:58:15.871Z"
   },
   {
    "duration": 4,
    "start_time": "2022-06-16T19:58:15.884Z"
   },
   {
    "duration": 20,
    "start_time": "2022-06-16T19:58:15.890Z"
   },
   {
    "duration": 8,
    "start_time": "2022-06-16T19:58:15.912Z"
   },
   {
    "duration": 413,
    "start_time": "2022-06-16T19:58:15.931Z"
   },
   {
    "duration": 486,
    "start_time": "2022-06-16T19:58:16.345Z"
   },
   {
    "duration": 366,
    "start_time": "2022-06-16T19:58:16.836Z"
   },
   {
    "duration": 484,
    "start_time": "2022-06-16T19:58:17.204Z"
   },
   {
    "duration": 378,
    "start_time": "2022-06-16T19:58:17.690Z"
   },
   {
    "duration": 381,
    "start_time": "2022-06-16T19:58:18.070Z"
   },
   {
    "duration": 143,
    "start_time": "2022-06-16T19:58:18.453Z"
   },
   {
    "duration": 250,
    "start_time": "2022-06-16T19:58:18.600Z"
   },
   {
    "duration": 5,
    "start_time": "2022-06-16T19:58:18.852Z"
   },
   {
    "duration": 195,
    "start_time": "2022-06-16T19:58:18.859Z"
   },
   {
    "duration": 260,
    "start_time": "2022-06-16T19:58:19.058Z"
   },
   {
    "duration": 4,
    "start_time": "2022-06-16T19:58:19.329Z"
   },
   {
    "duration": 42,
    "start_time": "2022-06-16T19:58:19.335Z"
   },
   {
    "duration": 170,
    "start_time": "2022-06-16T19:58:19.379Z"
   },
   {
    "duration": 11,
    "start_time": "2022-06-16T19:58:19.554Z"
   },
   {
    "duration": 13,
    "start_time": "2022-06-16T19:58:19.567Z"
   },
   {
    "duration": 64,
    "start_time": "2022-06-16T19:58:19.582Z"
   },
   {
    "duration": 13,
    "start_time": "2022-06-16T19:58:19.648Z"
   },
   {
    "duration": 22,
    "start_time": "2022-06-16T20:01:55.289Z"
   },
   {
    "duration": 42,
    "start_time": "2022-06-17T06:36:56.386Z"
   },
   {
    "duration": 1126,
    "start_time": "2022-06-17T06:37:20.370Z"
   },
   {
    "duration": 192,
    "start_time": "2022-06-17T06:37:25.989Z"
   },
   {
    "duration": 11,
    "start_time": "2022-06-17T06:37:27.343Z"
   },
   {
    "duration": 19,
    "start_time": "2022-06-17T06:37:28.036Z"
   },
   {
    "duration": 18,
    "start_time": "2022-06-17T06:37:28.839Z"
   },
   {
    "duration": 8,
    "start_time": "2022-06-17T06:37:29.776Z"
   },
   {
    "duration": 8,
    "start_time": "2022-06-17T06:37:30.053Z"
   },
   {
    "duration": 18,
    "start_time": "2022-06-17T06:37:30.414Z"
   },
   {
    "duration": 14,
    "start_time": "2022-06-17T06:37:32.232Z"
   },
   {
    "duration": 10,
    "start_time": "2022-06-17T06:37:32.486Z"
   },
   {
    "duration": 16,
    "start_time": "2022-06-17T06:37:35.071Z"
   },
   {
    "duration": 9,
    "start_time": "2022-06-17T06:37:36.700Z"
   },
   {
    "duration": 4,
    "start_time": "2022-06-17T06:37:39.168Z"
   },
   {
    "duration": 8,
    "start_time": "2022-06-17T06:37:40.973Z"
   },
   {
    "duration": 2,
    "start_time": "2022-06-17T06:37:41.231Z"
   },
   {
    "duration": 3,
    "start_time": "2022-06-17T06:38:04.231Z"
   },
   {
    "duration": 8,
    "start_time": "2022-06-17T06:40:02.782Z"
   },
   {
    "duration": 3,
    "start_time": "2022-06-17T06:40:03.427Z"
   },
   {
    "duration": 20,
    "start_time": "2022-06-17T06:40:05.531Z"
   },
   {
    "duration": 11,
    "start_time": "2022-06-17T06:40:06.243Z"
   },
   {
    "duration": 519,
    "start_time": "2022-06-17T06:40:24.252Z"
   },
   {
    "duration": 314,
    "start_time": "2022-06-17T06:40:25.211Z"
   },
   {
    "duration": 301,
    "start_time": "2022-06-17T06:40:58.301Z"
   },
   {
    "duration": 56,
    "start_time": "2022-06-17T06:48:21.824Z"
   },
   {
    "duration": 334,
    "start_time": "2022-06-17T06:48:55.440Z"
   },
   {
    "duration": 316,
    "start_time": "2022-06-17T06:49:17.424Z"
   },
   {
    "duration": 395,
    "start_time": "2022-06-17T06:52:58.959Z"
   },
   {
    "duration": 270,
    "start_time": "2022-06-17T06:53:03.426Z"
   },
   {
    "duration": 364,
    "start_time": "2022-06-17T06:53:07.393Z"
   },
   {
    "duration": 114,
    "start_time": "2022-06-17T06:53:09.976Z"
   },
   {
    "duration": 207,
    "start_time": "2022-06-17T06:53:10.808Z"
   },
   {
    "duration": 401,
    "start_time": "2022-06-17T07:03:51.646Z"
   },
   {
    "duration": 49,
    "start_time": "2022-06-17T07:04:01.591Z"
   },
   {
    "duration": 412,
    "start_time": "2022-06-17T07:04:14.388Z"
   },
   {
    "duration": 129,
    "start_time": "2022-06-17T07:05:29.754Z"
   },
   {
    "duration": 153,
    "start_time": "2022-06-17T07:05:31.579Z"
   },
   {
    "duration": 6,
    "start_time": "2022-06-17T07:06:37.008Z"
   },
   {
    "duration": 203,
    "start_time": "2022-06-17T07:06:38.837Z"
   },
   {
    "duration": 176,
    "start_time": "2022-06-17T07:06:40.751Z"
   },
   {
    "duration": 13,
    "start_time": "2022-06-17T07:07:29.634Z"
   },
   {
    "duration": 157,
    "start_time": "2022-06-17T07:07:46.760Z"
   },
   {
    "duration": 155,
    "start_time": "2022-06-17T07:08:04.776Z"
   },
   {
    "duration": 8,
    "start_time": "2022-06-17T07:08:14.390Z"
   },
   {
    "duration": 170,
    "start_time": "2022-06-17T07:08:17.921Z"
   },
   {
    "duration": 165,
    "start_time": "2022-06-17T07:08:20.059Z"
   },
   {
    "duration": 4,
    "start_time": "2022-06-17T07:08:26.401Z"
   },
   {
    "duration": 5,
    "start_time": "2022-06-17T07:08:29.291Z"
   },
   {
    "duration": 34,
    "start_time": "2022-06-17T07:09:23.672Z"
   },
   {
    "duration": 27,
    "start_time": "2022-06-17T07:09:45.193Z"
   },
   {
    "duration": 36,
    "start_time": "2022-06-17T07:10:15.993Z"
   },
   {
    "duration": 10,
    "start_time": "2022-06-17T07:10:31.349Z"
   },
   {
    "duration": 15,
    "start_time": "2022-06-17T07:23:09.939Z"
   },
   {
    "duration": 11,
    "start_time": "2022-06-17T07:23:33.188Z"
   },
   {
    "duration": 284,
    "start_time": "2022-06-17T07:25:14.161Z"
   },
   {
    "duration": 12,
    "start_time": "2022-06-17T07:25:25.797Z"
   },
   {
    "duration": 21,
    "start_time": "2022-06-17T07:30:18.954Z"
   },
   {
    "duration": 4,
    "start_time": "2022-06-17T07:31:06.258Z"
   },
   {
    "duration": 10,
    "start_time": "2022-06-17T07:31:10.450Z"
   },
   {
    "duration": 5,
    "start_time": "2022-06-17T07:31:20.894Z"
   },
   {
    "duration": 42,
    "start_time": "2022-06-17T07:34:05.235Z"
   },
   {
    "duration": 134,
    "start_time": "2022-06-17T07:34:22.049Z"
   },
   {
    "duration": 10,
    "start_time": "2022-06-17T07:34:29.519Z"
   },
   {
    "duration": 4,
    "start_time": "2022-06-17T07:35:25.584Z"
   },
   {
    "duration": 10,
    "start_time": "2022-06-17T07:35:51.521Z"
   },
   {
    "duration": 36,
    "start_time": "2022-06-17T07:37:15.991Z"
   },
   {
    "duration": 12,
    "start_time": "2022-06-17T07:37:24.291Z"
   },
   {
    "duration": 1037,
    "start_time": "2022-06-17T17:57:38.675Z"
   },
   {
    "duration": 91,
    "start_time": "2022-06-17T17:57:39.715Z"
   },
   {
    "duration": 12,
    "start_time": "2022-06-17T17:57:39.808Z"
   },
   {
    "duration": 29,
    "start_time": "2022-06-17T17:57:39.822Z"
   },
   {
    "duration": 23,
    "start_time": "2022-06-17T17:57:39.854Z"
   },
   {
    "duration": 11,
    "start_time": "2022-06-17T17:57:39.879Z"
   },
   {
    "duration": 34,
    "start_time": "2022-06-17T17:57:39.892Z"
   },
   {
    "duration": 44,
    "start_time": "2022-06-17T17:57:39.927Z"
   },
   {
    "duration": 21,
    "start_time": "2022-06-17T17:57:39.973Z"
   },
   {
    "duration": 12,
    "start_time": "2022-06-17T17:57:39.997Z"
   },
   {
    "duration": 34,
    "start_time": "2022-06-17T17:57:40.011Z"
   },
   {
    "duration": 10,
    "start_time": "2022-06-17T17:57:40.049Z"
   },
   {
    "duration": 5,
    "start_time": "2022-06-17T17:57:40.061Z"
   },
   {
    "duration": 12,
    "start_time": "2022-06-17T17:57:40.067Z"
   },
   {
    "duration": 4,
    "start_time": "2022-06-17T17:57:40.081Z"
   },
   {
    "duration": 59,
    "start_time": "2022-06-17T17:57:40.086Z"
   },
   {
    "duration": 11,
    "start_time": "2022-06-17T17:57:40.148Z"
   },
   {
    "duration": 327,
    "start_time": "2022-06-17T17:57:40.161Z"
   },
   {
    "duration": 380,
    "start_time": "2022-06-17T17:57:40.490Z"
   },
   {
    "duration": 314,
    "start_time": "2022-06-17T17:57:40.872Z"
   },
   {
    "duration": 341,
    "start_time": "2022-06-17T17:57:41.188Z"
   },
   {
    "duration": 375,
    "start_time": "2022-06-17T17:57:41.530Z"
   },
   {
    "duration": 368,
    "start_time": "2022-06-17T17:57:41.906Z"
   },
   {
    "duration": 371,
    "start_time": "2022-06-17T17:57:42.277Z"
   },
   {
    "duration": 254,
    "start_time": "2022-06-17T17:57:42.650Z"
   },
   {
    "duration": 296,
    "start_time": "2022-06-17T17:57:42.906Z"
   },
   {
    "duration": 6,
    "start_time": "2022-06-17T17:57:43.204Z"
   },
   {
    "duration": 276,
    "start_time": "2022-06-17T17:57:43.228Z"
   },
   {
    "duration": 228,
    "start_time": "2022-06-17T17:57:43.507Z"
   },
   {
    "duration": 6,
    "start_time": "2022-06-17T17:57:43.737Z"
   },
   {
    "duration": 3,
    "start_time": "2022-06-17T17:57:43.745Z"
   },
   {
    "duration": 43,
    "start_time": "2022-06-17T17:57:43.749Z"
   },
   {
    "duration": 195,
    "start_time": "2022-06-17T17:57:43.795Z"
   },
   {
    "duration": 19,
    "start_time": "2022-06-17T17:57:43.992Z"
   },
   {
    "duration": 62,
    "start_time": "2022-06-17T17:57:44.012Z"
   },
   {
    "duration": 36,
    "start_time": "2022-06-17T17:57:44.076Z"
   },
   {
    "duration": 9,
    "start_time": "2022-06-17T17:57:44.114Z"
   },
   {
    "duration": 47,
    "start_time": "2022-06-18T14:00:41.277Z"
   },
   {
    "duration": 1420,
    "start_time": "2022-06-18T14:01:05.012Z"
   },
   {
    "duration": 4,
    "start_time": "2022-06-18T14:01:12.594Z"
   },
   {
    "duration": 182,
    "start_time": "2022-06-18T14:01:13.769Z"
   },
   {
    "duration": 11,
    "start_time": "2022-06-18T14:01:15.712Z"
   },
   {
    "duration": 22,
    "start_time": "2022-06-18T14:01:17.105Z"
   },
   {
    "duration": 26,
    "start_time": "2022-06-18T14:01:19.220Z"
   },
   {
    "duration": 9,
    "start_time": "2022-06-18T14:01:23.925Z"
   },
   {
    "duration": 7,
    "start_time": "2022-06-18T14:01:24.792Z"
   },
   {
    "duration": 20,
    "start_time": "2022-06-18T14:01:25.608Z"
   },
   {
    "duration": 17,
    "start_time": "2022-06-18T14:01:28.176Z"
   },
   {
    "duration": 11,
    "start_time": "2022-06-18T14:01:28.726Z"
   },
   {
    "duration": 17,
    "start_time": "2022-06-18T14:01:32.181Z"
   },
   {
    "duration": 11,
    "start_time": "2022-06-18T14:01:35.552Z"
   },
   {
    "duration": 5,
    "start_time": "2022-06-18T14:01:36.722Z"
   },
   {
    "duration": 66,
    "start_time": "2022-06-18T14:01:37.585Z"
   },
   {
    "duration": 3,
    "start_time": "2022-06-18T14:02:08.051Z"
   },
   {
    "duration": 4,
    "start_time": "2022-06-18T14:03:00.625Z"
   },
   {
    "duration": 5,
    "start_time": "2022-06-18T14:17:47.030Z"
   },
   {
    "duration": 11,
    "start_time": "2022-06-18T14:18:00.544Z"
   },
   {
    "duration": 4,
    "start_time": "2022-06-18T14:19:07.711Z"
   },
   {
    "duration": 1200,
    "start_time": "2022-06-18T14:28:48.452Z"
   },
   {
    "duration": 79,
    "start_time": "2022-06-18T14:28:50.852Z"
   },
   {
    "duration": 15,
    "start_time": "2022-06-18T14:28:51.878Z"
   },
   {
    "duration": 27,
    "start_time": "2022-06-18T14:28:52.833Z"
   },
   {
    "duration": 26,
    "start_time": "2022-06-18T14:28:53.939Z"
   },
   {
    "duration": 12,
    "start_time": "2022-06-18T14:28:54.898Z"
   },
   {
    "duration": 8,
    "start_time": "2022-06-18T14:28:55.385Z"
   },
   {
    "duration": 22,
    "start_time": "2022-06-18T14:28:55.820Z"
   },
   {
    "duration": 20,
    "start_time": "2022-06-18T14:28:58.038Z"
   },
   {
    "duration": 17,
    "start_time": "2022-06-18T14:28:58.555Z"
   },
   {
    "duration": 19,
    "start_time": "2022-06-18T14:29:01.830Z"
   },
   {
    "duration": 13,
    "start_time": "2022-06-18T14:29:06.527Z"
   },
   {
    "duration": 5,
    "start_time": "2022-06-18T14:29:07.399Z"
   },
   {
    "duration": 569,
    "start_time": "2022-06-18T14:29:33.226Z"
   },
   {
    "duration": 9,
    "start_time": "2022-06-18T14:29:39.487Z"
   },
   {
    "duration": 4,
    "start_time": "2022-06-18T14:31:22.906Z"
   },
   {
    "duration": 5,
    "start_time": "2022-06-18T14:31:49.918Z"
   },
   {
    "duration": 5,
    "start_time": "2022-06-18T14:33:28.703Z"
   },
   {
    "duration": 4,
    "start_time": "2022-06-18T14:33:30.319Z"
   },
   {
    "duration": 5,
    "start_time": "2022-06-18T14:33:44.277Z"
   },
   {
    "duration": 11,
    "start_time": "2022-06-18T14:33:45.193Z"
   },
   {
    "duration": 4,
    "start_time": "2022-06-18T14:33:45.558Z"
   },
   {
    "duration": 23,
    "start_time": "2022-06-18T14:33:47.042Z"
   },
   {
    "duration": 10,
    "start_time": "2022-06-18T14:33:47.370Z"
   },
   {
    "duration": 385,
    "start_time": "2022-06-18T14:33:49.093Z"
   },
   {
    "duration": 329,
    "start_time": "2022-06-18T14:33:50.873Z"
   },
   {
    "duration": 338,
    "start_time": "2022-06-18T14:33:55.672Z"
   },
   {
    "duration": 342,
    "start_time": "2022-06-18T14:33:56.870Z"
   },
   {
    "duration": 372,
    "start_time": "2022-06-18T14:34:02.848Z"
   },
   {
    "duration": 332,
    "start_time": "2022-06-18T14:34:05.441Z"
   },
   {
    "duration": 349,
    "start_time": "2022-06-18T14:34:06.708Z"
   },
   {
    "duration": 119,
    "start_time": "2022-06-18T14:34:08.216Z"
   },
   {
    "duration": 238,
    "start_time": "2022-06-18T14:34:08.862Z"
   },
   {
    "duration": 9,
    "start_time": "2022-06-18T14:34:28.582Z"
   },
   {
    "duration": 258,
    "start_time": "2022-06-18T14:34:30.190Z"
   },
   {
    "duration": 165,
    "start_time": "2022-06-18T14:34:34.693Z"
   },
   {
    "duration": 5,
    "start_time": "2022-06-18T14:34:36.349Z"
   },
   {
    "duration": 4,
    "start_time": "2022-06-18T14:34:37.088Z"
   },
   {
    "duration": 10,
    "start_time": "2022-06-18T14:34:38.055Z"
   },
   {
    "duration": 144,
    "start_time": "2022-06-18T14:34:40.221Z"
   },
   {
    "duration": 11,
    "start_time": "2022-06-18T14:34:42.804Z"
   },
   {
    "duration": 11,
    "start_time": "2022-06-18T14:35:03.759Z"
   },
   {
    "duration": 32,
    "start_time": "2022-06-18T14:35:21.055Z"
   },
   {
    "duration": 15,
    "start_time": "2022-06-18T14:35:24.717Z"
   },
   {
    "duration": 1317,
    "start_time": "2022-06-19T12:59:58.104Z"
   },
   {
    "duration": 220,
    "start_time": "2022-06-19T12:59:59.423Z"
   },
   {
    "duration": 13,
    "start_time": "2022-06-19T12:59:59.644Z"
   },
   {
    "duration": 24,
    "start_time": "2022-06-19T12:59:59.659Z"
   },
   {
    "duration": 22,
    "start_time": "2022-06-19T12:59:59.685Z"
   },
   {
    "duration": 35,
    "start_time": "2022-06-19T12:59:59.709Z"
   },
   {
    "duration": 14,
    "start_time": "2022-06-19T12:59:59.746Z"
   },
   {
    "duration": 21,
    "start_time": "2022-06-19T12:59:59.762Z"
   },
   {
    "duration": 16,
    "start_time": "2022-06-19T12:59:59.785Z"
   },
   {
    "duration": 40,
    "start_time": "2022-06-19T12:59:59.802Z"
   },
   {
    "duration": 19,
    "start_time": "2022-06-19T12:59:59.843Z"
   },
   {
    "duration": 10,
    "start_time": "2022-06-19T12:59:59.864Z"
   },
   {
    "duration": 4,
    "start_time": "2022-06-19T12:59:59.875Z"
   },
   {
    "duration": 4,
    "start_time": "2022-06-19T12:59:59.882Z"
   },
   {
    "duration": 12,
    "start_time": "2022-06-19T12:59:59.887Z"
   },
   {
    "duration": 3,
    "start_time": "2022-06-19T12:59:59.901Z"
   },
   {
    "duration": 26,
    "start_time": "2022-06-19T12:59:59.943Z"
   },
   {
    "duration": 8,
    "start_time": "2022-06-19T12:59:59.971Z"
   },
   {
    "duration": 371,
    "start_time": "2022-06-19T12:59:59.981Z"
   },
   {
    "duration": 370,
    "start_time": "2022-06-19T13:00:00.353Z"
   },
   {
    "duration": 352,
    "start_time": "2022-06-19T13:00:00.725Z"
   },
   {
    "duration": 345,
    "start_time": "2022-06-19T13:00:01.079Z"
   },
   {
    "duration": 458,
    "start_time": "2022-06-19T13:00:01.426Z"
   },
   {
    "duration": 351,
    "start_time": "2022-06-19T13:00:01.885Z"
   },
   {
    "duration": 410,
    "start_time": "2022-06-19T13:00:02.238Z"
   },
   {
    "duration": 125,
    "start_time": "2022-06-19T13:00:02.649Z"
   },
   {
    "duration": 204,
    "start_time": "2022-06-19T13:00:02.775Z"
   },
   {
    "duration": 5,
    "start_time": "2022-06-19T13:00:02.981Z"
   },
   {
    "duration": 278,
    "start_time": "2022-06-19T13:00:02.987Z"
   },
   {
    "duration": 185,
    "start_time": "2022-06-19T13:00:03.266Z"
   },
   {
    "duration": 6,
    "start_time": "2022-06-19T13:00:03.453Z"
   },
   {
    "duration": 18,
    "start_time": "2022-06-19T13:00:03.460Z"
   },
   {
    "duration": 17,
    "start_time": "2022-06-19T13:00:03.480Z"
   },
   {
    "duration": 152,
    "start_time": "2022-06-19T13:00:03.499Z"
   },
   {
    "duration": 11,
    "start_time": "2022-06-19T13:00:03.654Z"
   },
   {
    "duration": 12,
    "start_time": "2022-06-19T13:00:03.667Z"
   },
   {
    "duration": 32,
    "start_time": "2022-06-19T13:00:03.680Z"
   },
   {
    "duration": 37,
    "start_time": "2022-06-19T13:00:03.714Z"
   }
  ],
  "kernelspec": {
   "display_name": "Python 3 (ipykernel)",
   "language": "python",
   "name": "python3"
  },
  "language_info": {
   "codemirror_mode": {
    "name": "ipython",
    "version": 3
   },
   "file_extension": ".py",
   "mimetype": "text/x-python",
   "name": "python",
   "nbconvert_exporter": "python",
   "pygments_lexer": "ipython3",
   "version": "3.9.12"
  },
  "toc": {
   "base_numbering": 1,
   "nav_menu": {},
   "number_sections": false,
   "sideBar": true,
   "skip_h1_title": false,
   "title_cell": "Содержание проекта",
   "title_sidebar": "Contents",
   "toc_cell": true,
   "toc_position": {
    "height": "168.7px",
    "left": "729px",
    "top": "246.325px",
    "width": "335.994px"
   },
   "toc_section_display": true,
   "toc_window_display": true
  }
 },
 "nbformat": 4,
 "nbformat_minor": 2
}
