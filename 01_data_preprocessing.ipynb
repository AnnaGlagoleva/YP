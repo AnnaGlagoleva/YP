{
 "cells": [
  {
   "cell_type": "markdown",
   "id": "a4e913d1",
   "metadata": {},
   "source": [
    "Вводная к проекту:\n",
    "В ходе выполнения проекта мы разоберемся влияет ли семейное положение и количество детей клиента на факт погашения кредита в срок. Входные данные от банка — статистика о платёжеспособности клиентов.\n",
    "Результаты исследования будут учтены при построении модели кредитного скоринга — специальной системы, которая оценивает способность потенциального заёмщика вернуть кредит банку."
   ]
  },
  {
   "cell_type": "markdown",
   "id": "f3bcd32c",
   "metadata": {},
   "source": [
    "# Исследование надежности заемщиков."
   ]
  },
  {
   "cell_type": "markdown",
   "id": "afe357be",
   "metadata": {},
   "source": [
    "### Шаг 1. Обзор данных"
   ]
  },
  {
   "cell_type": "code",
   "execution_count": 1,
   "id": "e7de8f65",
   "metadata": {},
   "outputs": [],
   "source": [
    "import pandas as pd #импортируем необходимые библиотеки"
   ]
  },
  {
   "cell_type": "code",
   "execution_count": 15,
   "id": "50b6bd27",
   "metadata": {
    "scrolled": true
   },
   "outputs": [
    {
     "data": {
      "text/html": [
       "<div>\n",
       "<style scoped>\n",
       "    .dataframe tbody tr th:only-of-type {\n",
       "        vertical-align: middle;\n",
       "    }\n",
       "\n",
       "    .dataframe tbody tr th {\n",
       "        vertical-align: top;\n",
       "    }\n",
       "\n",
       "    .dataframe thead th {\n",
       "        text-align: right;\n",
       "    }\n",
       "</style>\n",
       "<table border=\"1\" class=\"dataframe\">\n",
       "  <thead>\n",
       "    <tr style=\"text-align: right;\">\n",
       "      <th></th>\n",
       "      <th>children</th>\n",
       "      <th>days_employed</th>\n",
       "      <th>dob_years</th>\n",
       "      <th>education</th>\n",
       "      <th>education_id</th>\n",
       "      <th>family_status</th>\n",
       "      <th>family_status_id</th>\n",
       "      <th>gender</th>\n",
       "      <th>income_type</th>\n",
       "      <th>debt</th>\n",
       "      <th>total_income</th>\n",
       "      <th>purpose</th>\n",
       "    </tr>\n",
       "  </thead>\n",
       "  <tbody>\n",
       "    <tr>\n",
       "      <th>0</th>\n",
       "      <td>1</td>\n",
       "      <td>-8437.673028</td>\n",
       "      <td>42</td>\n",
       "      <td>высшее</td>\n",
       "      <td>0</td>\n",
       "      <td>женат / замужем</td>\n",
       "      <td>0</td>\n",
       "      <td>F</td>\n",
       "      <td>сотрудник</td>\n",
       "      <td>0</td>\n",
       "      <td>253875.639453</td>\n",
       "      <td>покупка жилья</td>\n",
       "    </tr>\n",
       "    <tr>\n",
       "      <th>1</th>\n",
       "      <td>1</td>\n",
       "      <td>-4024.803754</td>\n",
       "      <td>36</td>\n",
       "      <td>среднее</td>\n",
       "      <td>1</td>\n",
       "      <td>женат / замужем</td>\n",
       "      <td>0</td>\n",
       "      <td>F</td>\n",
       "      <td>сотрудник</td>\n",
       "      <td>0</td>\n",
       "      <td>112080.014102</td>\n",
       "      <td>приобретение автомобиля</td>\n",
       "    </tr>\n",
       "    <tr>\n",
       "      <th>2</th>\n",
       "      <td>0</td>\n",
       "      <td>-5623.422610</td>\n",
       "      <td>33</td>\n",
       "      <td>Среднее</td>\n",
       "      <td>1</td>\n",
       "      <td>женат / замужем</td>\n",
       "      <td>0</td>\n",
       "      <td>M</td>\n",
       "      <td>сотрудник</td>\n",
       "      <td>0</td>\n",
       "      <td>145885.952297</td>\n",
       "      <td>покупка жилья</td>\n",
       "    </tr>\n",
       "    <tr>\n",
       "      <th>3</th>\n",
       "      <td>3</td>\n",
       "      <td>-4124.747207</td>\n",
       "      <td>32</td>\n",
       "      <td>среднее</td>\n",
       "      <td>1</td>\n",
       "      <td>женат / замужем</td>\n",
       "      <td>0</td>\n",
       "      <td>M</td>\n",
       "      <td>сотрудник</td>\n",
       "      <td>0</td>\n",
       "      <td>267628.550329</td>\n",
       "      <td>дополнительное образование</td>\n",
       "    </tr>\n",
       "    <tr>\n",
       "      <th>4</th>\n",
       "      <td>0</td>\n",
       "      <td>340266.072047</td>\n",
       "      <td>53</td>\n",
       "      <td>среднее</td>\n",
       "      <td>1</td>\n",
       "      <td>гражданский брак</td>\n",
       "      <td>1</td>\n",
       "      <td>F</td>\n",
       "      <td>пенсионер</td>\n",
       "      <td>0</td>\n",
       "      <td>158616.077870</td>\n",
       "      <td>сыграть свадьбу</td>\n",
       "    </tr>\n",
       "  </tbody>\n",
       "</table>\n",
       "</div>"
      ],
      "text/plain": [
       "   children  days_employed  dob_years education  education_id  \\\n",
       "0         1   -8437.673028         42    высшее             0   \n",
       "1         1   -4024.803754         36   среднее             1   \n",
       "2         0   -5623.422610         33   Среднее             1   \n",
       "3         3   -4124.747207         32   среднее             1   \n",
       "4         0  340266.072047         53   среднее             1   \n",
       "\n",
       "      family_status  family_status_id gender income_type  debt   total_income  \\\n",
       "0   женат / замужем                 0      F   сотрудник     0  253875.639453   \n",
       "1   женат / замужем                 0      F   сотрудник     0  112080.014102   \n",
       "2   женат / замужем                 0      M   сотрудник     0  145885.952297   \n",
       "3   женат / замужем                 0      M   сотрудник     0  267628.550329   \n",
       "4  гражданский брак                 1      F   пенсионер     0  158616.077870   \n",
       "\n",
       "                      purpose  \n",
       "0               покупка жилья  \n",
       "1     приобретение автомобиля  \n",
       "2               покупка жилья  \n",
       "3  дополнительное образование  \n",
       "4             сыграть свадьбу  "
      ]
     },
     "execution_count": 15,
     "metadata": {},
     "output_type": "execute_result"
    }
   ],
   "source": [
    "df = pd.read_csv(r'C:\\Users\\aglagoleva\\Downloads\\data1.csv') # загружаем датасет\n",
    "df.head()"
   ]
  },
  {
   "cell_type": "code",
   "execution_count": 16,
   "id": "b5a9a498",
   "metadata": {
    "scrolled": true
   },
   "outputs": [
    {
     "name": "stdout",
     "output_type": "stream",
     "text": [
      "<class 'pandas.core.frame.DataFrame'>\n",
      "RangeIndex: 21525 entries, 0 to 21524\n",
      "Data columns (total 12 columns):\n",
      " #   Column            Non-Null Count  Dtype  \n",
      "---  ------            --------------  -----  \n",
      " 0   children          21525 non-null  int64  \n",
      " 1   days_employed     19351 non-null  float64\n",
      " 2   dob_years         21525 non-null  int64  \n",
      " 3   education         21525 non-null  object \n",
      " 4   education_id      21525 non-null  int64  \n",
      " 5   family_status     21525 non-null  object \n",
      " 6   family_status_id  21525 non-null  int64  \n",
      " 7   gender            21525 non-null  object \n",
      " 8   income_type       21525 non-null  object \n",
      " 9   debt              21525 non-null  int64  \n",
      " 10  total_income      19351 non-null  float64\n",
      " 11  purpose           21525 non-null  object \n",
      "dtypes: float64(2), int64(5), object(5)\n",
      "memory usage: 2.0+ MB\n"
     ]
    }
   ],
   "source": [
    "df.info() #просматриваем информацию о данных"
   ]
  },
  {
   "cell_type": "code",
   "execution_count": 17,
   "id": "c50caf7a",
   "metadata": {},
   "outputs": [
    {
     "data": {
      "text/plain": [
       "Index(['children', 'days_employed', 'dob_years', 'education', 'education_id',\n",
       "       'family_status', 'family_status_id', 'gender', 'income_type', 'debt',\n",
       "       'total_income', 'purpose'],\n",
       "      dtype='object')"
      ]
     },
     "execution_count": 17,
     "metadata": {},
     "output_type": "execute_result"
    }
   ],
   "source": [
    "df.columns #проверяем названия колонок"
   ]
  },
  {
   "cell_type": "markdown",
   "id": "d27b0bd3",
   "metadata": {},
   "source": [
    "### Шаг 2. заполнение пропусков"
   ]
  },
  {
   "cell_type": "code",
   "execution_count": 18,
   "id": "e4921dbc",
   "metadata": {
    "scrolled": true
   },
   "outputs": [
    {
     "data": {
      "text/plain": [
       "children               0\n",
       "days_employed       2174\n",
       "dob_years              0\n",
       "education              0\n",
       "education_id           0\n",
       "family_status          0\n",
       "family_status_id       0\n",
       "gender                 0\n",
       "income_type            0\n",
       "debt                   0\n",
       "total_income        2174\n",
       "purpose                0\n",
       "dtype: int64"
      ]
     },
     "execution_count": 18,
     "metadata": {},
     "output_type": "execute_result"
    }
   ],
   "source": [
    "df.isna().sum() #смотрим наличие пропусков"
   ]
  },
  {
   "cell_type": "code",
   "execution_count": 19,
   "id": "48802599",
   "metadata": {},
   "outputs": [
    {
     "name": "stdout",
     "output_type": "stream",
     "text": [
      "Доля пропущенных значений в столбце общий трудовой стаж в днях: 10.10%\n",
      "Доля пропущенных значений в столбце общий доход: 10.10%\n"
     ]
    }
   ],
   "source": [
    "share_days_employed_nan = 2174/21525\n",
    "share_total_income_nan = 2174/21525\n",
    "print('Доля пропущенных значений в столбце общий трудовой стаж в днях: {:.2%}'.format(share_days_employed_nan))\n",
    "print('Доля пропущенных значений в столбце общий доход: {:.2%}'.format(share_total_income_nan))"
   ]
  },
  {
   "cell_type": "code",
   "execution_count": 20,
   "id": "7115281e",
   "metadata": {
    "scrolled": true
   },
   "outputs": [
    {
     "data": {
      "text/plain": [
       "-1203.369528770489"
      ]
     },
     "execution_count": 20,
     "metadata": {},
     "output_type": "execute_result"
    }
   ],
   "source": [
    "median_days_employed = df['days_employed'].median()\n",
    "median_days_employed"
   ]
  },
  {
   "cell_type": "code",
   "execution_count": 21,
   "id": "bd21e28f",
   "metadata": {},
   "outputs": [
    {
     "data": {
      "text/plain": [
       "145017.93753253992"
      ]
     },
     "execution_count": 21,
     "metadata": {},
     "output_type": "execute_result"
    }
   ],
   "source": [
    "median_total_income = df['total_income'].median()\n",
    "median_total_income"
   ]
  },
  {
   "cell_type": "code",
   "execution_count": 22,
   "id": "1c338d74",
   "metadata": {},
   "outputs": [],
   "source": [
    "df['days_employed'] = df['days_employed'].fillna(median_days_employed)\n",
    "df['total_income'] = df['total_income'].fillna(median_total_income)"
   ]
  },
  {
   "cell_type": "code",
   "execution_count": 23,
   "id": "23c4d4da",
   "metadata": {
    "scrolled": true
   },
   "outputs": [
    {
     "name": "stdout",
     "output_type": "stream",
     "text": [
      "<class 'pandas.core.frame.DataFrame'>\n",
      "RangeIndex: 21525 entries, 0 to 21524\n",
      "Data columns (total 12 columns):\n",
      " #   Column            Non-Null Count  Dtype  \n",
      "---  ------            --------------  -----  \n",
      " 0   children          21525 non-null  int64  \n",
      " 1   days_employed     21525 non-null  float64\n",
      " 2   dob_years         21525 non-null  int64  \n",
      " 3   education         21525 non-null  object \n",
      " 4   education_id      21525 non-null  int64  \n",
      " 5   family_status     21525 non-null  object \n",
      " 6   family_status_id  21525 non-null  int64  \n",
      " 7   gender            21525 non-null  object \n",
      " 8   income_type       21525 non-null  object \n",
      " 9   debt              21525 non-null  int64  \n",
      " 10  total_income      21525 non-null  float64\n",
      " 11  purpose           21525 non-null  object \n",
      "dtypes: float64(2), int64(5), object(5)\n",
      "memory usage: 2.0+ MB\n"
     ]
    }
   ],
   "source": [
    "df.info()"
   ]
  },
  {
   "cell_type": "markdown",
   "id": "b31daccc",
   "metadata": {},
   "source": [
    "Предобработка данных:\n",
    "Мы имеем датасет размером 21525 Х 12. \n",
    "1) Сразу бросается в глаза аномальные сведения - в столбце 'days_employed'(общий трудовой стаж в днях) стоят отрицательные значения\n",
    "2) В двух колонках имеем пропуски значений. количество пропусков одинаковое - они связаны друг с другом. потому что зп напрямую зависит от кол-ва рабочих дней. Скорее всего объект не работал, поэтому пропуски в данных, или работал не официально\n",
    "3) Мы заменили все пропуски на медианные значения столбцов "
   ]
  },
  {
   "cell_type": "markdown",
   "id": "8ad29d05",
   "metadata": {},
   "source": [
    "Заполняю пропуски медианой, чтобы заменить аномальные значения. Поскольку медиана - это серединное значение набора чисел. Для заполнения берут медиану, потому что она нечувствительна к выбросам"
   ]
  },
  {
   "cell_type": "code",
   "execution_count": 24,
   "id": "8a602d40",
   "metadata": {
    "scrolled": true
   },
   "outputs": [
    {
     "data": {
      "text/plain": [
       "children            0\n",
       "days_employed       0\n",
       "dob_years           0\n",
       "education           0\n",
       "education_id        0\n",
       "family_status       0\n",
       "family_status_id    0\n",
       "gender              0\n",
       "income_type         0\n",
       "debt                0\n",
       "total_income        0\n",
       "purpose             0\n",
       "dtype: int64"
      ]
     },
     "execution_count": 24,
     "metadata": {},
     "output_type": "execute_result"
    }
   ],
   "source": [
    "df.isna().sum() #смотрим наличие пропусков"
   ]
  },
  {
   "cell_type": "code",
   "execution_count": 25,
   "id": "fea12cdd",
   "metadata": {},
   "outputs": [
    {
     "name": "stdout",
     "output_type": "stream",
     "text": [
      "Доля пропущенных значений в столбце общий трудовой стаж в днях: 10.10%\n",
      "Доля пропущенных значений в столбце общий доход: 10.10%\n"
     ]
    }
   ],
   "source": [
    "share_days_employed_nan = 2174/21525\n",
    "share_total_income_nan = 2174/21525\n",
    "print('Доля пропущенных значений в столбце общий трудовой стаж в днях: {:.2%}'.format(share_days_employed_nan))\n",
    "print('Доля пропущенных значений в столбце общий доход: {:.2%}'.format(share_total_income_nan))"
   ]
  },
  {
   "cell_type": "code",
   "execution_count": 26,
   "id": "d5999c7a",
   "metadata": {
    "scrolled": true
   },
   "outputs": [
    {
     "data": {
      "text/plain": [
       "-1203.369528770489"
      ]
     },
     "execution_count": 26,
     "metadata": {},
     "output_type": "execute_result"
    }
   ],
   "source": [
    "median_days_employed = df['days_employed'].median()\n",
    "median_days_employed"
   ]
  },
  {
   "cell_type": "code",
   "execution_count": 27,
   "id": "8d6e6be7",
   "metadata": {},
   "outputs": [
    {
     "data": {
      "text/plain": [
       "145017.93753253992"
      ]
     },
     "execution_count": 27,
     "metadata": {},
     "output_type": "execute_result"
    }
   ],
   "source": [
    "median_total_income = df['total_income'].median()\n",
    "median_total_income"
   ]
  },
  {
   "cell_type": "markdown",
   "id": "ccd77244",
   "metadata": {},
   "source": [
    "### Шаг 2.2 Проверка данных на аномалии и исправления."
   ]
  },
  {
   "cell_type": "code",
   "execution_count": 28,
   "id": "1e54179a",
   "metadata": {},
   "outputs": [],
   "source": [
    " df['days_employed'] = df['days_employed'].abs() #трансформируем отрицательные значения в положительные, взяв модуль числа"
   ]
  },
  {
   "cell_type": "code",
   "execution_count": 29,
   "id": "8706ec03",
   "metadata": {},
   "outputs": [
    {
     "data": {
      "text/plain": [
       "1808.0534339280623"
      ]
     },
     "execution_count": 29,
     "metadata": {},
     "output_type": "execute_result"
    }
   ],
   "source": [
    "median = df['days_employed'].median() #определяем медиану\n",
    "median"
   ]
  },
  {
   "cell_type": "code",
   "execution_count": 30,
   "id": "8dd0fed6",
   "metadata": {},
   "outputs": [],
   "source": [
    "df.loc[df['days_employed'] > median, 'days_employed'] = median #заменяем все значения, которые больше медианы на медиану "
   ]
  },
  {
   "cell_type": "markdown",
   "id": "ccd79ecd",
   "metadata": {},
   "source": [
    "Заменяю большИе значения медианными: человек не может работать больше дней чем жил, или все свои прожитые дни. оптимально будет заменить их медианой"
   ]
  },
  {
   "cell_type": "code",
   "execution_count": 31,
   "id": "c4d5e9e6",
   "metadata": {
    "scrolled": false
   },
   "outputs": [
    {
     "data": {
      "text/plain": [
       "income_type\n",
       "безработный            2\n",
       "в декрете              1\n",
       "госслужащий         1459\n",
       "компаньон           5085\n",
       "пенсионер           3856\n",
       "предприниматель        2\n",
       "сотрудник          11119\n",
       "студент                1\n",
       "Name: days_employed, dtype: int64"
      ]
     },
     "execution_count": 31,
     "metadata": {},
     "output_type": "execute_result"
    }
   ],
   "source": [
    "df_gr = df.groupby('income_type')['days_employed'].count() #группируем количество рабочих дней по категории, не знаю зачем я это сделала, наверное, потому что просто могу, но этому предшествовала кака-то хорошая идея, которая ушла\n",
    "df_gr"
   ]
  },
  {
   "cell_type": "code",
   "execution_count": 32,
   "id": "9919bd6c",
   "metadata": {},
   "outputs": [
    {
     "data": {
      "text/plain": [
       " 0     14149\n",
       " 1      4818\n",
       " 2      2055\n",
       " 3       330\n",
       " 20       76\n",
       "-1        47\n",
       " 4        41\n",
       " 5         9\n",
       "Name: children, dtype: int64"
      ]
     },
     "execution_count": 32,
     "metadata": {},
     "output_type": "execute_result"
    }
   ],
   "source": [
    "df['children'].value_counts() # поиск аномалий в колонке \"дети\" "
   ]
  },
  {
   "cell_type": "code",
   "execution_count": 33,
   "id": "f9a05ea1",
   "metadata": {},
   "outputs": [],
   "source": [
    "#мы увидели, выбросы в виде \"-1\" и \"20\", заменим это на 1 и на 2"
   ]
  },
  {
   "cell_type": "code",
   "execution_count": 34,
   "id": "ecb7cfec",
   "metadata": {},
   "outputs": [
    {
     "data": {
      "text/plain": [
       "0    14149\n",
       "1     4865\n",
       "2     2131\n",
       "3      330\n",
       "4       41\n",
       "5        9\n",
       "Name: children, dtype: int64"
      ]
     },
     "execution_count": 34,
     "metadata": {},
     "output_type": "execute_result"
    }
   ],
   "source": [
    "df.loc[df['children'] == -1, 'children'] = 1\n",
    "df.loc[df['children'] == 20, 'children'] = 2\n",
    "df['children'].value_counts() #видим, что аномалии устранены"
   ]
  },
  {
   "cell_type": "code",
   "execution_count": 35,
   "id": "62f13456",
   "metadata": {},
   "outputs": [
    {
     "data": {
      "text/plain": [
       "35    617\n",
       "40    609\n",
       "41    607\n",
       "34    603\n",
       "38    598\n",
       "42    597\n",
       "33    581\n",
       "39    573\n",
       "31    560\n",
       "36    555\n",
       "44    547\n",
       "29    545\n",
       "30    540\n",
       "48    538\n",
       "37    537\n",
       "50    514\n",
       "43    513\n",
       "32    510\n",
       "49    508\n",
       "28    503\n",
       "45    497\n",
       "27    493\n",
       "56    487\n",
       "52    484\n",
       "47    480\n",
       "54    479\n",
       "46    475\n",
       "58    461\n",
       "57    460\n",
       "53    459\n",
       "51    448\n",
       "59    444\n",
       "55    443\n",
       "26    408\n",
       "60    377\n",
       "25    357\n",
       "61    355\n",
       "62    352\n",
       "63    269\n",
       "64    265\n",
       "24    264\n",
       "23    254\n",
       "65    194\n",
       "22    183\n",
       "66    183\n",
       "67    167\n",
       "21    111\n",
       "0     101\n",
       "68     99\n",
       "69     85\n",
       "70     65\n",
       "71     58\n",
       "20     51\n",
       "72     33\n",
       "19     14\n",
       "73      8\n",
       "74      6\n",
       "75      1\n",
       "Name: dob_years, dtype: int64"
      ]
     },
     "execution_count": 35,
     "metadata": {},
     "output_type": "execute_result"
    }
   ],
   "source": [
    "df['dob_years'].value_counts() #видим, что аномалии устранены"
   ]
  },
  {
   "cell_type": "markdown",
   "id": "ba06e58c",
   "metadata": {},
   "source": [
    "видим \"нулевой возраст\", уберем его. заменив на медианное значение"
   ]
  },
  {
   "cell_type": "code",
   "execution_count": 36,
   "id": "27b06dbb",
   "metadata": {},
   "outputs": [
    {
     "data": {
      "text/plain": [
       "42.0"
      ]
     },
     "execution_count": 36,
     "metadata": {},
     "output_type": "execute_result"
    }
   ],
   "source": [
    "df['dob_years'].median()"
   ]
  },
  {
   "cell_type": "code",
   "execution_count": 37,
   "id": "93767f22",
   "metadata": {},
   "outputs": [
    {
     "data": {
      "text/plain": [
       "42    698\n",
       "35    617\n",
       "40    609\n",
       "41    607\n",
       "34    603\n",
       "38    598\n",
       "33    581\n",
       "39    573\n",
       "31    560\n",
       "36    555\n",
       "44    547\n",
       "29    545\n",
       "30    540\n",
       "48    538\n",
       "37    537\n",
       "50    514\n",
       "43    513\n",
       "32    510\n",
       "49    508\n",
       "28    503\n",
       "45    497\n",
       "27    493\n",
       "56    487\n",
       "52    484\n",
       "47    480\n",
       "54    479\n",
       "46    475\n",
       "58    461\n",
       "57    460\n",
       "53    459\n",
       "51    448\n",
       "59    444\n",
       "55    443\n",
       "26    408\n",
       "60    377\n",
       "25    357\n",
       "61    355\n",
       "62    352\n",
       "63    269\n",
       "64    265\n",
       "24    264\n",
       "23    254\n",
       "65    194\n",
       "22    183\n",
       "66    183\n",
       "67    167\n",
       "21    111\n",
       "68     99\n",
       "69     85\n",
       "70     65\n",
       "71     58\n",
       "20     51\n",
       "72     33\n",
       "19     14\n",
       "73      8\n",
       "74      6\n",
       "75      1\n",
       "Name: dob_years, dtype: int64"
      ]
     },
     "execution_count": 37,
     "metadata": {},
     "output_type": "execute_result"
    }
   ],
   "source": [
    "df.loc[df['dob_years'] == 0, 'dob_years'] = 42\n",
    "df['dob_years'].value_counts()"
   ]
  },
  {
   "cell_type": "markdown",
   "id": "1b85be77",
   "metadata": {},
   "source": [
    "Видим, что ноль изчез, можем двигаться дальше"
   ]
  },
  {
   "cell_type": "markdown",
   "id": "68b73fbe",
   "metadata": {},
   "source": [
    "### Шаг 2.3. Изменение типов данных."
   ]
  },
  {
   "cell_type": "code",
   "execution_count": 38,
   "id": "39ff5179",
   "metadata": {},
   "outputs": [],
   "source": [
    "df['total_income'] = df['total_income'].astype('int')"
   ]
  },
  {
   "cell_type": "code",
   "execution_count": 39,
   "id": "3c922c84",
   "metadata": {
    "scrolled": true
   },
   "outputs": [
    {
     "data": {
      "text/plain": [
       "children            0\n",
       "days_employed       0\n",
       "dob_years           0\n",
       "education           0\n",
       "education_id        0\n",
       "family_status       0\n",
       "family_status_id    0\n",
       "gender              0\n",
       "income_type         0\n",
       "debt                0\n",
       "total_income        0\n",
       "purpose             0\n",
       "dtype: int64"
      ]
     },
     "execution_count": 39,
     "metadata": {},
     "output_type": "execute_result"
    }
   ],
   "source": [
    "df.isna().sum() #смотрим наличие пропусков"
   ]
  },
  {
   "cell_type": "code",
   "execution_count": 40,
   "id": "5b3be759",
   "metadata": {},
   "outputs": [
    {
     "name": "stdout",
     "output_type": "stream",
     "text": [
      "Доля пропущенных значений в столбце общий трудовой стаж в днях: 10.10%\n",
      "Доля пропущенных значений в столбце общий доход: 10.10%\n"
     ]
    }
   ],
   "source": [
    "share_days_employed_nan = 2174/21525\n",
    "share_total_income_nan = 2174/21525\n",
    "print('Доля пропущенных значений в столбце общий трудовой стаж в днях: {:.2%}'.format(share_days_employed_nan))\n",
    "print('Доля пропущенных значений в столбце общий доход: {:.2%}'.format(share_total_income_nan))"
   ]
  },
  {
   "cell_type": "code",
   "execution_count": 42,
   "id": "b40d7f21",
   "metadata": {},
   "outputs": [
    {
     "data": {
      "text/html": [
       "<div>\n",
       "<style scoped>\n",
       "    .dataframe tbody tr th:only-of-type {\n",
       "        vertical-align: middle;\n",
       "    }\n",
       "\n",
       "    .dataframe tbody tr th {\n",
       "        vertical-align: top;\n",
       "    }\n",
       "\n",
       "    .dataframe thead th {\n",
       "        text-align: right;\n",
       "    }\n",
       "</style>\n",
       "<table border=\"1\" class=\"dataframe\">\n",
       "  <thead>\n",
       "    <tr style=\"text-align: right;\">\n",
       "      <th></th>\n",
       "      <th>children</th>\n",
       "      <th>days_employed</th>\n",
       "      <th>dob_years</th>\n",
       "      <th>education</th>\n",
       "      <th>education_id</th>\n",
       "      <th>family_status</th>\n",
       "      <th>family_status_id</th>\n",
       "      <th>gender</th>\n",
       "      <th>income_type</th>\n",
       "      <th>debt</th>\n",
       "      <th>total_income</th>\n",
       "      <th>purpose</th>\n",
       "    </tr>\n",
       "  </thead>\n",
       "  <tbody>\n",
       "    <tr>\n",
       "      <th>0</th>\n",
       "      <td>1</td>\n",
       "      <td>1808.053434</td>\n",
       "      <td>42</td>\n",
       "      <td>высшее</td>\n",
       "      <td>0</td>\n",
       "      <td>женат / замужем</td>\n",
       "      <td>0</td>\n",
       "      <td>F</td>\n",
       "      <td>сотрудник</td>\n",
       "      <td>0</td>\n",
       "      <td>253875</td>\n",
       "      <td>покупка жилья</td>\n",
       "    </tr>\n",
       "    <tr>\n",
       "      <th>1</th>\n",
       "      <td>1</td>\n",
       "      <td>1808.053434</td>\n",
       "      <td>36</td>\n",
       "      <td>среднее</td>\n",
       "      <td>1</td>\n",
       "      <td>женат / замужем</td>\n",
       "      <td>0</td>\n",
       "      <td>F</td>\n",
       "      <td>сотрудник</td>\n",
       "      <td>0</td>\n",
       "      <td>112080</td>\n",
       "      <td>приобретение автомобиля</td>\n",
       "    </tr>\n",
       "    <tr>\n",
       "      <th>2</th>\n",
       "      <td>0</td>\n",
       "      <td>1808.053434</td>\n",
       "      <td>33</td>\n",
       "      <td>Среднее</td>\n",
       "      <td>1</td>\n",
       "      <td>женат / замужем</td>\n",
       "      <td>0</td>\n",
       "      <td>M</td>\n",
       "      <td>сотрудник</td>\n",
       "      <td>0</td>\n",
       "      <td>145885</td>\n",
       "      <td>покупка жилья</td>\n",
       "    </tr>\n",
       "    <tr>\n",
       "      <th>3</th>\n",
       "      <td>3</td>\n",
       "      <td>1808.053434</td>\n",
       "      <td>32</td>\n",
       "      <td>среднее</td>\n",
       "      <td>1</td>\n",
       "      <td>женат / замужем</td>\n",
       "      <td>0</td>\n",
       "      <td>M</td>\n",
       "      <td>сотрудник</td>\n",
       "      <td>0</td>\n",
       "      <td>267628</td>\n",
       "      <td>дополнительное образование</td>\n",
       "    </tr>\n",
       "    <tr>\n",
       "      <th>4</th>\n",
       "      <td>0</td>\n",
       "      <td>1808.053434</td>\n",
       "      <td>53</td>\n",
       "      <td>среднее</td>\n",
       "      <td>1</td>\n",
       "      <td>гражданский брак</td>\n",
       "      <td>1</td>\n",
       "      <td>F</td>\n",
       "      <td>пенсионер</td>\n",
       "      <td>0</td>\n",
       "      <td>158616</td>\n",
       "      <td>сыграть свадьбу</td>\n",
       "    </tr>\n",
       "  </tbody>\n",
       "</table>\n",
       "</div>"
      ],
      "text/plain": [
       "   children  days_employed  dob_years education  education_id  \\\n",
       "0         1    1808.053434         42    высшее             0   \n",
       "1         1    1808.053434         36   среднее             1   \n",
       "2         0    1808.053434         33   Среднее             1   \n",
       "3         3    1808.053434         32   среднее             1   \n",
       "4         0    1808.053434         53   среднее             1   \n",
       "\n",
       "      family_status  family_status_id gender income_type  debt  total_income  \\\n",
       "0   женат / замужем                 0      F   сотрудник     0        253875   \n",
       "1   женат / замужем                 0      F   сотрудник     0        112080   \n",
       "2   женат / замужем                 0      M   сотрудник     0        145885   \n",
       "3   женат / замужем                 0      M   сотрудник     0        267628   \n",
       "4  гражданский брак                 1      F   пенсионер     0        158616   \n",
       "\n",
       "                      purpose  \n",
       "0               покупка жилья  \n",
       "1     приобретение автомобиля  \n",
       "2               покупка жилья  \n",
       "3  дополнительное образование  \n",
       "4             сыграть свадьбу  "
      ]
     },
     "execution_count": 42,
     "metadata": {},
     "output_type": "execute_result"
    }
   ],
   "source": [
    "df.head()"
   ]
  },
  {
   "cell_type": "code",
   "execution_count": 43,
   "id": "ba673a6a",
   "metadata": {
    "scrolled": true
   },
   "outputs": [
    {
     "data": {
      "text/plain": [
       "1808.0534339280623"
      ]
     },
     "execution_count": 43,
     "metadata": {},
     "output_type": "execute_result"
    }
   ],
   "source": [
    "median_days_employed = df['days_employed'].median()\n",
    "median_days_employed"
   ]
  },
  {
   "cell_type": "code",
   "execution_count": 44,
   "id": "1d4cca0f",
   "metadata": {},
   "outputs": [
    {
     "data": {
      "text/plain": [
       "145017.0"
      ]
     },
     "execution_count": 44,
     "metadata": {},
     "output_type": "execute_result"
    }
   ],
   "source": [
    "median_total_income = df['total_income'].median()\n",
    "median_total_income"
   ]
  },
  {
   "cell_type": "markdown",
   "id": "c7a633bc",
   "metadata": {},
   "source": [
    "### Шаг 2.4. Удаление дубликатов."
   ]
  },
  {
   "cell_type": "code",
   "execution_count": 45,
   "id": "6313b91f",
   "metadata": {},
   "outputs": [
    {
     "data": {
      "text/plain": [
       "55"
      ]
     },
     "execution_count": 45,
     "metadata": {},
     "output_type": "execute_result"
    }
   ],
   "source": [
    "df.duplicated().sum() #выявляем количество явных дубликатов"
   ]
  },
  {
   "cell_type": "code",
   "execution_count": 46,
   "id": "654895eb",
   "metadata": {},
   "outputs": [
    {
     "name": "stdout",
     "output_type": "stream",
     "text": [
      "среднее                13750\n",
      "высшее                  4718\n",
      "СРЕДНЕЕ                  772\n",
      "Среднее                  711\n",
      "неоконченное высшее      668\n",
      "ВЫСШЕЕ                   274\n",
      "Высшее                   268\n",
      "начальное                250\n",
      "Неоконченное высшее       47\n",
      "НЕОКОНЧЕННОЕ ВЫСШЕЕ       29\n",
      "НАЧАЛЬНОЕ                 17\n",
      "Начальное                 15\n",
      "ученая степень             4\n",
      "Ученая степень             1\n",
      "УЧЕНАЯ СТЕПЕНЬ             1\n",
      "Name: education, dtype: int64\n"
     ]
    }
   ],
   "source": [
    "print(df['education'].value_counts())"
   ]
  },
  {
   "cell_type": "code",
   "execution_count": 47,
   "id": "01ea002b",
   "metadata": {},
   "outputs": [],
   "source": [
    "df['education'] = df['education'].str.lower() #приводим столбец \"образование\" к нижниму регистру"
   ]
  },
  {
   "cell_type": "code",
   "execution_count": 48,
   "id": "caa5c022",
   "metadata": {},
   "outputs": [
    {
     "data": {
      "text/plain": [
       "72"
      ]
     },
     "execution_count": 48,
     "metadata": {},
     "output_type": "execute_result"
    }
   ],
   "source": [
    "df.duplicated().sum() #проверяем наличие дубликатов снова"
   ]
  },
  {
   "cell_type": "code",
   "execution_count": 51,
   "id": "249917c4",
   "metadata": {},
   "outputs": [],
   "source": [
    "df = df.drop_duplicates().reset_index(drop = True) #удаляем дубликаты"
   ]
  },
  {
   "cell_type": "code",
   "execution_count": 52,
   "id": "58089834",
   "metadata": {},
   "outputs": [
    {
     "data": {
      "text/plain": [
       "0"
      ]
     },
     "execution_count": 52,
     "metadata": {},
     "output_type": "execute_result"
    }
   ],
   "source": [
    "df.duplicated().sum() #проверяем снова кол-во дубликатов"
   ]
  },
  {
   "cell_type": "code",
   "execution_count": 53,
   "id": "403291ff",
   "metadata": {
    "scrolled": true
   },
   "outputs": [
    {
     "data": {
      "text/plain": [
       "среднее                15171\n",
       "высшее                  5250\n",
       "неоконченное высшее      744\n",
       "начальное                282\n",
       "ученая степень             6\n",
       "Name: education, dtype: int64"
      ]
     },
     "execution_count": 53,
     "metadata": {},
     "output_type": "execute_result"
    }
   ],
   "source": [
    "df['education'].value_counts()"
   ]
  },
  {
   "cell_type": "markdown",
   "id": "511ee4fd",
   "metadata": {},
   "source": [
    "были обнаружены явные дубликаты, а так же приведя данные в колонке \"образование\" к единому регистру выявили неявные дубликаты, и удалены"
   ]
  },
  {
   "cell_type": "markdown",
   "id": "ff32a018",
   "metadata": {},
   "source": [
    "### Шаг 2.5. Формирование дополнительных датафреймов словарей, декомпозиция исходного датафрейма."
   ]
  },
  {
   "cell_type": "code",
   "execution_count": 54,
   "id": "36de1a94",
   "metadata": {
    "scrolled": true
   },
   "outputs": [
    {
     "data": {
      "text/html": [
       "<div>\n",
       "<style scoped>\n",
       "    .dataframe tbody tr th:only-of-type {\n",
       "        vertical-align: middle;\n",
       "    }\n",
       "\n",
       "    .dataframe tbody tr th {\n",
       "        vertical-align: top;\n",
       "    }\n",
       "\n",
       "    .dataframe thead th {\n",
       "        text-align: right;\n",
       "    }\n",
       "</style>\n",
       "<table border=\"1\" class=\"dataframe\">\n",
       "  <thead>\n",
       "    <tr style=\"text-align: right;\">\n",
       "      <th></th>\n",
       "      <th>family_status</th>\n",
       "      <th>family_status_id</th>\n",
       "    </tr>\n",
       "  </thead>\n",
       "  <tbody>\n",
       "    <tr>\n",
       "      <th>0</th>\n",
       "      <td>женат / замужем</td>\n",
       "      <td>0</td>\n",
       "    </tr>\n",
       "    <tr>\n",
       "      <th>1</th>\n",
       "      <td>гражданский брак</td>\n",
       "      <td>1</td>\n",
       "    </tr>\n",
       "    <tr>\n",
       "      <th>2</th>\n",
       "      <td>вдовец / вдова</td>\n",
       "      <td>2</td>\n",
       "    </tr>\n",
       "    <tr>\n",
       "      <th>3</th>\n",
       "      <td>в разводе</td>\n",
       "      <td>3</td>\n",
       "    </tr>\n",
       "    <tr>\n",
       "      <th>4</th>\n",
       "      <td>Не женат / не замужем</td>\n",
       "      <td>4</td>\n",
       "    </tr>\n",
       "  </tbody>\n",
       "</table>\n",
       "</div>"
      ],
      "text/plain": [
       "           family_status  family_status_id\n",
       "0        женат / замужем                 0\n",
       "1       гражданский брак                 1\n",
       "2         вдовец / вдова                 2\n",
       "3              в разводе                 3\n",
       "4  Не женат / не замужем                 4"
      ]
     },
     "execution_count": 54,
     "metadata": {},
     "output_type": "execute_result"
    }
   ],
   "source": [
    "family_status_df = df[['family_status', 'family_status_id']]\n",
    "family_status_df = family_status_df.drop_duplicates().reset_index(drop = True)\n",
    "family_status_df"
   ]
  },
  {
   "cell_type": "code",
   "execution_count": 55,
   "id": "921033ab",
   "metadata": {},
   "outputs": [
    {
     "data": {
      "text/html": [
       "<div>\n",
       "<style scoped>\n",
       "    .dataframe tbody tr th:only-of-type {\n",
       "        vertical-align: middle;\n",
       "    }\n",
       "\n",
       "    .dataframe tbody tr th {\n",
       "        vertical-align: top;\n",
       "    }\n",
       "\n",
       "    .dataframe thead th {\n",
       "        text-align: right;\n",
       "    }\n",
       "</style>\n",
       "<table border=\"1\" class=\"dataframe\">\n",
       "  <thead>\n",
       "    <tr style=\"text-align: right;\">\n",
       "      <th></th>\n",
       "      <th>education</th>\n",
       "      <th>education_id</th>\n",
       "    </tr>\n",
       "  </thead>\n",
       "  <tbody>\n",
       "    <tr>\n",
       "      <th>0</th>\n",
       "      <td>высшее</td>\n",
       "      <td>0</td>\n",
       "    </tr>\n",
       "    <tr>\n",
       "      <th>1</th>\n",
       "      <td>среднее</td>\n",
       "      <td>1</td>\n",
       "    </tr>\n",
       "    <tr>\n",
       "      <th>2</th>\n",
       "      <td>неоконченное высшее</td>\n",
       "      <td>2</td>\n",
       "    </tr>\n",
       "    <tr>\n",
       "      <th>3</th>\n",
       "      <td>начальное</td>\n",
       "      <td>3</td>\n",
       "    </tr>\n",
       "    <tr>\n",
       "      <th>4</th>\n",
       "      <td>ученая степень</td>\n",
       "      <td>4</td>\n",
       "    </tr>\n",
       "  </tbody>\n",
       "</table>\n",
       "</div>"
      ],
      "text/plain": [
       "             education  education_id\n",
       "0               высшее             0\n",
       "1              среднее             1\n",
       "2  неоконченное высшее             2\n",
       "3            начальное             3\n",
       "4       ученая степень             4"
      ]
     },
     "execution_count": 55,
     "metadata": {},
     "output_type": "execute_result"
    }
   ],
   "source": [
    "education_df = df[['education', 'education_id']]\n",
    "education_df = education_df.drop_duplicates().reset_index(drop = True)\n",
    "education_df"
   ]
  },
  {
   "cell_type": "code",
   "execution_count": 41,
   "id": "f0c803a0",
   "metadata": {},
   "outputs": [],
   "source": [
    "#удаляем\n",
    "df = df.drop(['family_status', 'education'], axis=1)"
   ]
  },
  {
   "cell_type": "markdown",
   "id": "f3a810c7",
   "metadata": {},
   "source": [
    "### Шаг 2.6. Категоризация дохода."
   ]
  },
  {
   "cell_type": "code",
   "execution_count": 57,
   "id": "191432dc",
   "metadata": {},
   "outputs": [],
   "source": [
    "#назначаем категории исходя из диапазонов доходов:\n",
    "def income_category(row):\n",
    "    income = row['total_income']\n",
    "    if income <= 30000:\n",
    "        return 'E'\n",
    "    elif 30001<= income<=50000:\n",
    "        return 'D'\n",
    "    elif 50001<= income<= 200000:\n",
    "        return 'C'\n",
    "    elif 200001<= income <= 1000000:\n",
    "        return 'B'\n",
    "    elif income >= 1000001:\n",
    "        return 'A'"
   ]
  },
  {
   "cell_type": "code",
   "execution_count": 58,
   "id": "cab21386",
   "metadata": {},
   "outputs": [],
   "source": [
    "df['total_income_category'] = df.apply(income_category, axis = 1)"
   ]
  },
  {
   "cell_type": "code",
   "execution_count": 59,
   "id": "e22ad414",
   "metadata": {
    "scrolled": true
   },
   "outputs": [
    {
     "name": "stdout",
     "output_type": "stream",
     "text": [
      "C    16015\n",
      "B     5041\n",
      "D      350\n",
      "A       25\n",
      "E       22\n",
      "Name: total_income_category, dtype: int64\n"
     ]
    }
   ],
   "source": [
    "print(df['total_income_category'].value_counts())"
   ]
  },
  {
   "cell_type": "markdown",
   "id": "14578f27",
   "metadata": {},
   "source": [
    "### Шаг 2.7. Категоризация целей кредита."
   ]
  },
  {
   "cell_type": "code",
   "execution_count": 60,
   "id": "6cc1ae7b",
   "metadata": {},
   "outputs": [
    {
     "data": {
      "text/plain": [
       "array(['покупка жилья', 'приобретение автомобиля',\n",
       "       'дополнительное образование', 'сыграть свадьбу',\n",
       "       'операции с жильем', 'образование', 'на проведение свадьбы',\n",
       "       'покупка жилья для семьи', 'покупка недвижимости',\n",
       "       'покупка коммерческой недвижимости', 'покупка жилой недвижимости',\n",
       "       'строительство собственной недвижимости', 'недвижимость',\n",
       "       'строительство недвижимости', 'на покупку подержанного автомобиля',\n",
       "       'на покупку своего автомобиля',\n",
       "       'операции с коммерческой недвижимостью',\n",
       "       'строительство жилой недвижимости', 'жилье',\n",
       "       'операции со своей недвижимостью', 'автомобили',\n",
       "       'заняться образованием', 'сделка с подержанным автомобилем',\n",
       "       'получение образования', 'автомобиль', 'свадьба',\n",
       "       'получение дополнительного образования', 'покупка своего жилья',\n",
       "       'операции с недвижимостью', 'получение высшего образования',\n",
       "       'свой автомобиль', 'сделка с автомобилем',\n",
       "       'профильное образование', 'высшее образование',\n",
       "       'покупка жилья для сдачи', 'на покупку автомобиля', 'ремонт жилью',\n",
       "       'заняться высшим образованием'], dtype=object)"
      ]
     },
     "execution_count": 60,
     "metadata": {},
     "output_type": "execute_result"
    }
   ],
   "source": [
    "df['purpose'].unique()"
   ]
  },
  {
   "cell_type": "code",
   "execution_count": 61,
   "id": "f041a77c",
   "metadata": {},
   "outputs": [],
   "source": [
    "# назначаем категории целей на кредит\n",
    "def purpose_cat(row):\n",
    "    purpose = row['purpose']\n",
    "    if ('жил' or 'нед') in purpose:\n",
    "        return 'операции с недвижимостью'\n",
    "    elif 'авто' in purpose:\n",
    "        return 'операции с автомобилем'\n",
    "    elif 'свад' in purpose:\n",
    "        return 'проведение свадьбы'\n",
    "    elif 'образ' in purpose:\n",
    "        return 'получение образования'"
   ]
  },
  {
   "cell_type": "code",
   "execution_count": 62,
   "id": "8473e3e0",
   "metadata": {
    "scrolled": true
   },
   "outputs": [],
   "source": [
    "df['purpose_category'] = df.apply(purpose_cat, axis = 1)"
   ]
  },
  {
   "cell_type": "code",
   "execution_count": 63,
   "id": "4e5ba276",
   "metadata": {},
   "outputs": [
    {
     "name": "stdout",
     "output_type": "stream",
     "text": [
      "операции с недвижимостью    5690\n",
      "операции с автомобилем      4306\n",
      "получение образования       4013\n",
      "проведение свадьбы          2323\n",
      "Name: purpose_category, dtype: int64\n"
     ]
    }
   ],
   "source": [
    "print(df['purpose_category'].value_counts())"
   ]
  },
  {
   "cell_type": "code",
   "execution_count": 64,
   "id": "066d6b97",
   "metadata": {},
   "outputs": [
    {
     "data": {
      "text/html": [
       "<div>\n",
       "<style scoped>\n",
       "    .dataframe tbody tr th:only-of-type {\n",
       "        vertical-align: middle;\n",
       "    }\n",
       "\n",
       "    .dataframe tbody tr th {\n",
       "        vertical-align: top;\n",
       "    }\n",
       "\n",
       "    .dataframe thead th {\n",
       "        text-align: right;\n",
       "    }\n",
       "</style>\n",
       "<table border=\"1\" class=\"dataframe\">\n",
       "  <thead>\n",
       "    <tr style=\"text-align: right;\">\n",
       "      <th></th>\n",
       "      <th>children</th>\n",
       "      <th>days_employed</th>\n",
       "      <th>dob_years</th>\n",
       "      <th>education</th>\n",
       "      <th>education_id</th>\n",
       "      <th>family_status</th>\n",
       "      <th>family_status_id</th>\n",
       "      <th>gender</th>\n",
       "      <th>income_type</th>\n",
       "      <th>debt</th>\n",
       "      <th>total_income</th>\n",
       "      <th>purpose</th>\n",
       "      <th>total_income_category</th>\n",
       "      <th>purpose_category</th>\n",
       "    </tr>\n",
       "  </thead>\n",
       "  <tbody>\n",
       "    <tr>\n",
       "      <th>0</th>\n",
       "      <td>1</td>\n",
       "      <td>1808.053434</td>\n",
       "      <td>42</td>\n",
       "      <td>высшее</td>\n",
       "      <td>0</td>\n",
       "      <td>женат / замужем</td>\n",
       "      <td>0</td>\n",
       "      <td>F</td>\n",
       "      <td>сотрудник</td>\n",
       "      <td>0</td>\n",
       "      <td>253875</td>\n",
       "      <td>покупка жилья</td>\n",
       "      <td>B</td>\n",
       "      <td>операции с недвижимостью</td>\n",
       "    </tr>\n",
       "    <tr>\n",
       "      <th>1</th>\n",
       "      <td>1</td>\n",
       "      <td>1808.053434</td>\n",
       "      <td>36</td>\n",
       "      <td>среднее</td>\n",
       "      <td>1</td>\n",
       "      <td>женат / замужем</td>\n",
       "      <td>0</td>\n",
       "      <td>F</td>\n",
       "      <td>сотрудник</td>\n",
       "      <td>0</td>\n",
       "      <td>112080</td>\n",
       "      <td>приобретение автомобиля</td>\n",
       "      <td>C</td>\n",
       "      <td>операции с автомобилем</td>\n",
       "    </tr>\n",
       "    <tr>\n",
       "      <th>2</th>\n",
       "      <td>0</td>\n",
       "      <td>1808.053434</td>\n",
       "      <td>33</td>\n",
       "      <td>среднее</td>\n",
       "      <td>1</td>\n",
       "      <td>женат / замужем</td>\n",
       "      <td>0</td>\n",
       "      <td>M</td>\n",
       "      <td>сотрудник</td>\n",
       "      <td>0</td>\n",
       "      <td>145885</td>\n",
       "      <td>покупка жилья</td>\n",
       "      <td>C</td>\n",
       "      <td>операции с недвижимостью</td>\n",
       "    </tr>\n",
       "    <tr>\n",
       "      <th>3</th>\n",
       "      <td>3</td>\n",
       "      <td>1808.053434</td>\n",
       "      <td>32</td>\n",
       "      <td>среднее</td>\n",
       "      <td>1</td>\n",
       "      <td>женат / замужем</td>\n",
       "      <td>0</td>\n",
       "      <td>M</td>\n",
       "      <td>сотрудник</td>\n",
       "      <td>0</td>\n",
       "      <td>267628</td>\n",
       "      <td>дополнительное образование</td>\n",
       "      <td>B</td>\n",
       "      <td>получение образования</td>\n",
       "    </tr>\n",
       "    <tr>\n",
       "      <th>4</th>\n",
       "      <td>0</td>\n",
       "      <td>1808.053434</td>\n",
       "      <td>53</td>\n",
       "      <td>среднее</td>\n",
       "      <td>1</td>\n",
       "      <td>гражданский брак</td>\n",
       "      <td>1</td>\n",
       "      <td>F</td>\n",
       "      <td>пенсионер</td>\n",
       "      <td>0</td>\n",
       "      <td>158616</td>\n",
       "      <td>сыграть свадьбу</td>\n",
       "      <td>C</td>\n",
       "      <td>проведение свадьбы</td>\n",
       "    </tr>\n",
       "  </tbody>\n",
       "</table>\n",
       "</div>"
      ],
      "text/plain": [
       "   children  days_employed  dob_years education  education_id  \\\n",
       "0         1    1808.053434         42    высшее             0   \n",
       "1         1    1808.053434         36   среднее             1   \n",
       "2         0    1808.053434         33   среднее             1   \n",
       "3         3    1808.053434         32   среднее             1   \n",
       "4         0    1808.053434         53   среднее             1   \n",
       "\n",
       "      family_status  family_status_id gender income_type  debt  total_income  \\\n",
       "0   женат / замужем                 0      F   сотрудник     0        253875   \n",
       "1   женат / замужем                 0      F   сотрудник     0        112080   \n",
       "2   женат / замужем                 0      M   сотрудник     0        145885   \n",
       "3   женат / замужем                 0      M   сотрудник     0        267628   \n",
       "4  гражданский брак                 1      F   пенсионер     0        158616   \n",
       "\n",
       "                      purpose total_income_category          purpose_category  \n",
       "0               покупка жилья                     B  операции с недвижимостью  \n",
       "1     приобретение автомобиля                     C    операции с автомобилем  \n",
       "2               покупка жилья                     C  операции с недвижимостью  \n",
       "3  дополнительное образование                     B     получение образования  \n",
       "4             сыграть свадьбу                     C        проведение свадьбы  "
      ]
     },
     "execution_count": 64,
     "metadata": {},
     "output_type": "execute_result"
    }
   ],
   "source": [
    "df.head()"
   ]
  },
  {
   "cell_type": "markdown",
   "id": "a0483d6a",
   "metadata": {},
   "source": [
    "Нашли аномалии, заменили их на подходящие значения\n",
    "Нашли явные и неявны дубликаты - удалили\n",
    "сформировали дополнительные датафрейм словари, сделали декомпозицию исходного датафрейма"
   ]
  },
  {
   "cell_type": "markdown",
   "id": "16d3c46e",
   "metadata": {},
   "source": [
    "### Ответы на вопросы."
   ]
  },
  {
   "cell_type": "markdown",
   "id": "83002805",
   "metadata": {},
   "source": [
    "Есть ли зависимость между количеством детей и возвратом кредита в срок?"
   ]
  },
  {
   "cell_type": "code",
   "execution_count": 70,
   "id": "0702d076",
   "metadata": {},
   "outputs": [
    {
     "data": {
      "text/html": [
       "<div>\n",
       "<style scoped>\n",
       "    .dataframe tbody tr th:only-of-type {\n",
       "        vertical-align: middle;\n",
       "    }\n",
       "\n",
       "    .dataframe tbody tr th {\n",
       "        vertical-align: top;\n",
       "    }\n",
       "\n",
       "    .dataframe thead tr th {\n",
       "        text-align: left;\n",
       "    }\n",
       "</style>\n",
       "<table border=\"1\" class=\"dataframe\">\n",
       "  <thead>\n",
       "    <tr>\n",
       "      <th></th>\n",
       "      <th>sum</th>\n",
       "      <th>count</th>\n",
       "      <th>mean</th>\n",
       "    </tr>\n",
       "    <tr>\n",
       "      <th></th>\n",
       "      <th>debt</th>\n",
       "      <th>debt</th>\n",
       "      <th>debt</th>\n",
       "    </tr>\n",
       "  </thead>\n",
       "  <tbody>\n",
       "    <tr>\n",
       "      <th>5</th>\n",
       "      <td>0</td>\n",
       "      <td>9</td>\n",
       "      <td>0.00</td>\n",
       "    </tr>\n",
       "    <tr>\n",
       "      <th>0</th>\n",
       "      <td>1063</td>\n",
       "      <td>14090</td>\n",
       "      <td>0.08</td>\n",
       "    </tr>\n",
       "    <tr>\n",
       "      <th>3</th>\n",
       "      <td>27</td>\n",
       "      <td>330</td>\n",
       "      <td>0.08</td>\n",
       "    </tr>\n",
       "    <tr>\n",
       "      <th>1</th>\n",
       "      <td>445</td>\n",
       "      <td>4855</td>\n",
       "      <td>0.09</td>\n",
       "    </tr>\n",
       "    <tr>\n",
       "      <th>2</th>\n",
       "      <td>202</td>\n",
       "      <td>2128</td>\n",
       "      <td>0.09</td>\n",
       "    </tr>\n",
       "    <tr>\n",
       "      <th>4</th>\n",
       "      <td>4</td>\n",
       "      <td>41</td>\n",
       "      <td>0.10</td>\n",
       "    </tr>\n",
       "  </tbody>\n",
       "</table>\n",
       "</div>"
      ],
      "text/plain": [
       "    sum  count  mean\n",
       "   debt   debt  debt\n",
       "5     0      9  0.00\n",
       "0  1063  14090  0.08\n",
       "3    27    330  0.08\n",
       "1   445   4855  0.09\n",
       "2   202   2128  0.09\n",
       "4     4     41  0.10"
      ]
     },
     "execution_count": 70,
     "metadata": {},
     "output_type": "execute_result"
    }
   ],
   "source": [
    "data_pivot_children = df.pivot_table(index=['children'], values=[\"debt\"], aggfunc=['sum', 'count', 'mean']).reset_index(drop = True)\n",
    "\n",
    "data_pivot_children = data_pivot_children.sort_values(by=('mean', 'debt')).round(2)\n",
    "data_pivot_children"
   ]
  },
  {
   "cell_type": "markdown",
   "id": "fb8ff8fc",
   "metadata": {},
   "source": [
    "из таблицы видим, что в процентном соотношении вероятность задолжности чуть ниже, чем у всех у кого дети есть, но у семей с тремя детьми тоже ниже вероятность. (извините, последний столбец было бы хорошо умножить на сто, чтобы было более красивее, но я не знаю как это сейчас сделать, поэтому пока так, извините)\n"
   ]
  },
  {
   "cell_type": "markdown",
   "id": "94b998be",
   "metadata": {},
   "source": [
    "Есть ли зависимость между семейным положением и возвратом кредита в срок?"
   ]
  },
  {
   "cell_type": "code",
   "execution_count": 69,
   "id": "1d56035a",
   "metadata": {
    "scrolled": true
   },
   "outputs": [
    {
     "data": {
      "text/html": [
       "<div>\n",
       "<style scoped>\n",
       "    .dataframe tbody tr th:only-of-type {\n",
       "        vertical-align: middle;\n",
       "    }\n",
       "\n",
       "    .dataframe tbody tr th {\n",
       "        vertical-align: top;\n",
       "    }\n",
       "\n",
       "    .dataframe thead tr th {\n",
       "        text-align: left;\n",
       "    }\n",
       "</style>\n",
       "<table border=\"1\" class=\"dataframe\">\n",
       "  <thead>\n",
       "    <tr>\n",
       "      <th></th>\n",
       "      <th>sum</th>\n",
       "      <th>count</th>\n",
       "      <th>mean</th>\n",
       "    </tr>\n",
       "    <tr>\n",
       "      <th></th>\n",
       "      <th>debt</th>\n",
       "      <th>debt</th>\n",
       "      <th>debt</th>\n",
       "    </tr>\n",
       "  </thead>\n",
       "  <tbody>\n",
       "    <tr>\n",
       "      <th>2</th>\n",
       "      <td>63</td>\n",
       "      <td>959</td>\n",
       "      <td>0.07</td>\n",
       "    </tr>\n",
       "    <tr>\n",
       "      <th>3</th>\n",
       "      <td>85</td>\n",
       "      <td>1195</td>\n",
       "      <td>0.07</td>\n",
       "    </tr>\n",
       "    <tr>\n",
       "      <th>0</th>\n",
       "      <td>931</td>\n",
       "      <td>12339</td>\n",
       "      <td>0.08</td>\n",
       "    </tr>\n",
       "    <tr>\n",
       "      <th>1</th>\n",
       "      <td>388</td>\n",
       "      <td>4150</td>\n",
       "      <td>0.09</td>\n",
       "    </tr>\n",
       "    <tr>\n",
       "      <th>4</th>\n",
       "      <td>274</td>\n",
       "      <td>2810</td>\n",
       "      <td>0.10</td>\n",
       "    </tr>\n",
       "  </tbody>\n",
       "</table>\n",
       "</div>"
      ],
      "text/plain": [
       "   sum  count  mean\n",
       "  debt   debt  debt\n",
       "2   63    959  0.07\n",
       "3   85   1195  0.07\n",
       "0  931  12339  0.08\n",
       "1  388   4150  0.09\n",
       "4  274   2810  0.10"
      ]
     },
     "execution_count": 69,
     "metadata": {},
     "output_type": "execute_result"
    }
   ],
   "source": [
    "data_pivot_family_status = df.pivot_table(index=['family_status_id'], values=[\"debt\"], aggfunc=['sum', 'count', 'mean']).reset_index(drop = True)\n",
    "\n",
    "data_pivot_family_status = data_pivot_family_status.sort_values(by=('mean', 'debt')).round(2)\n",
    "data_pivot_family_status\n"
   ]
  },
  {
   "cell_type": "code",
   "execution_count": 71,
   "id": "535303bd",
   "metadata": {},
   "outputs": [
    {
     "data": {
      "text/html": [
       "<div>\n",
       "<style scoped>\n",
       "    .dataframe tbody tr th:only-of-type {\n",
       "        vertical-align: middle;\n",
       "    }\n",
       "\n",
       "    .dataframe tbody tr th {\n",
       "        vertical-align: top;\n",
       "    }\n",
       "\n",
       "    .dataframe thead th {\n",
       "        text-align: right;\n",
       "    }\n",
       "</style>\n",
       "<table border=\"1\" class=\"dataframe\">\n",
       "  <thead>\n",
       "    <tr style=\"text-align: right;\">\n",
       "      <th></th>\n",
       "      <th>family_status</th>\n",
       "      <th>family_status_id</th>\n",
       "    </tr>\n",
       "  </thead>\n",
       "  <tbody>\n",
       "    <tr>\n",
       "      <th>0</th>\n",
       "      <td>женат / замужем</td>\n",
       "      <td>0</td>\n",
       "    </tr>\n",
       "    <tr>\n",
       "      <th>1</th>\n",
       "      <td>гражданский брак</td>\n",
       "      <td>1</td>\n",
       "    </tr>\n",
       "    <tr>\n",
       "      <th>2</th>\n",
       "      <td>вдовец / вдова</td>\n",
       "      <td>2</td>\n",
       "    </tr>\n",
       "    <tr>\n",
       "      <th>3</th>\n",
       "      <td>в разводе</td>\n",
       "      <td>3</td>\n",
       "    </tr>\n",
       "    <tr>\n",
       "      <th>4</th>\n",
       "      <td>Не женат / не замужем</td>\n",
       "      <td>4</td>\n",
       "    </tr>\n",
       "  </tbody>\n",
       "</table>\n",
       "</div>"
      ],
      "text/plain": [
       "           family_status  family_status_id\n",
       "0        женат / замужем                 0\n",
       "1       гражданский брак                 1\n",
       "2         вдовец / вдова                 2\n",
       "3              в разводе                 3\n",
       "4  Не женат / не замужем                 4"
      ]
     },
     "execution_count": 71,
     "metadata": {},
     "output_type": "execute_result"
    }
   ],
   "source": [
    "family_status_df"
   ]
  },
  {
   "cell_type": "markdown",
   "id": "44f99179",
   "metadata": {},
   "source": [
    "видим, что люди которые состоят в отношениях или состоли, более обязательные, чем люди, которые не состоят в каком либо браке"
   ]
  },
  {
   "cell_type": "markdown",
   "id": "888352cc",
   "metadata": {},
   "source": [
    "Есть ли зависимость между уровнем дохода и возвратом кредита в срок?"
   ]
  },
  {
   "cell_type": "code",
   "execution_count": 74,
   "id": "70fc5b60",
   "metadata": {},
   "outputs": [
    {
     "data": {
      "text/html": [
       "<div>\n",
       "<style scoped>\n",
       "    .dataframe tbody tr th:only-of-type {\n",
       "        vertical-align: middle;\n",
       "    }\n",
       "\n",
       "    .dataframe tbody tr th {\n",
       "        vertical-align: top;\n",
       "    }\n",
       "\n",
       "    .dataframe thead tr th {\n",
       "        text-align: left;\n",
       "    }\n",
       "</style>\n",
       "<table border=\"1\" class=\"dataframe\">\n",
       "  <thead>\n",
       "    <tr>\n",
       "      <th></th>\n",
       "      <th>sum</th>\n",
       "      <th>count</th>\n",
       "      <th>mean</th>\n",
       "    </tr>\n",
       "    <tr>\n",
       "      <th></th>\n",
       "      <th>debt</th>\n",
       "      <th>debt</th>\n",
       "      <th>debt</th>\n",
       "    </tr>\n",
       "  </thead>\n",
       "  <tbody>\n",
       "    <tr>\n",
       "      <th>3</th>\n",
       "      <td>21</td>\n",
       "      <td>350</td>\n",
       "      <td>0.060000</td>\n",
       "    </tr>\n",
       "    <tr>\n",
       "      <th>1</th>\n",
       "      <td>356</td>\n",
       "      <td>5041</td>\n",
       "      <td>0.070621</td>\n",
       "    </tr>\n",
       "    <tr>\n",
       "      <th>0</th>\n",
       "      <td>2</td>\n",
       "      <td>25</td>\n",
       "      <td>0.080000</td>\n",
       "    </tr>\n",
       "    <tr>\n",
       "      <th>2</th>\n",
       "      <td>1360</td>\n",
       "      <td>16015</td>\n",
       "      <td>0.084920</td>\n",
       "    </tr>\n",
       "    <tr>\n",
       "      <th>4</th>\n",
       "      <td>2</td>\n",
       "      <td>22</td>\n",
       "      <td>0.090909</td>\n",
       "    </tr>\n",
       "  </tbody>\n",
       "</table>\n",
       "</div>"
      ],
      "text/plain": [
       "    sum  count      mean\n",
       "   debt   debt      debt\n",
       "3    21    350  0.060000\n",
       "1   356   5041  0.070621\n",
       "0     2     25  0.080000\n",
       "2  1360  16015  0.084920\n",
       "4     2     22  0.090909"
      ]
     },
     "execution_count": 74,
     "metadata": {},
     "output_type": "execute_result"
    }
   ],
   "source": [
    "data_pivot_income_cat = df.pivot_table(index=['total_income_category'], values=[\"debt\"], aggfunc=['sum', 'count', 'mean']).reset_index(drop = True)\n",
    "\n",
    "data_pivot_income_cat = data_pivot_income_cat.sort_values(by=('mean', 'debt'))\n",
    "data_pivot_income_cat"
   ]
  },
  {
   "cell_type": "markdown",
   "id": "3da29643",
   "metadata": {},
   "source": [
    "люди с очень маленьким доходом и с очень большим доходом не охотно берут кредиты, соответсвенно и выплачивают их быстрее"
   ]
  },
  {
   "cell_type": "markdown",
   "id": "80288238",
   "metadata": {},
   "source": [
    "Как разные цели кредита влияют на его возврат в срок?"
   ]
  },
  {
   "cell_type": "code",
   "execution_count": 75,
   "id": "6bc49c7f",
   "metadata": {},
   "outputs": [
    {
     "data": {
      "text/html": [
       "<div>\n",
       "<style scoped>\n",
       "    .dataframe tbody tr th:only-of-type {\n",
       "        vertical-align: middle;\n",
       "    }\n",
       "\n",
       "    .dataframe tbody tr th {\n",
       "        vertical-align: top;\n",
       "    }\n",
       "\n",
       "    .dataframe thead tr th {\n",
       "        text-align: left;\n",
       "    }\n",
       "\n",
       "    .dataframe thead tr:last-of-type th {\n",
       "        text-align: right;\n",
       "    }\n",
       "</style>\n",
       "<table border=\"1\" class=\"dataframe\">\n",
       "  <thead>\n",
       "    <tr>\n",
       "      <th></th>\n",
       "      <th>sum</th>\n",
       "      <th>count</th>\n",
       "      <th>mean</th>\n",
       "    </tr>\n",
       "    <tr>\n",
       "      <th></th>\n",
       "      <th>debt</th>\n",
       "      <th>debt</th>\n",
       "      <th>debt</th>\n",
       "    </tr>\n",
       "    <tr>\n",
       "      <th>purpose_category</th>\n",
       "      <th></th>\n",
       "      <th></th>\n",
       "      <th></th>\n",
       "    </tr>\n",
       "  </thead>\n",
       "  <tbody>\n",
       "    <tr>\n",
       "      <th>операции с недвижимостью</th>\n",
       "      <td>397</td>\n",
       "      <td>5690</td>\n",
       "      <td>0.069772</td>\n",
       "    </tr>\n",
       "    <tr>\n",
       "      <th>проведение свадьбы</th>\n",
       "      <td>186</td>\n",
       "      <td>2323</td>\n",
       "      <td>0.080069</td>\n",
       "    </tr>\n",
       "    <tr>\n",
       "      <th>получение образования</th>\n",
       "      <td>370</td>\n",
       "      <td>4013</td>\n",
       "      <td>0.092200</td>\n",
       "    </tr>\n",
       "    <tr>\n",
       "      <th>операции с автомобилем</th>\n",
       "      <td>403</td>\n",
       "      <td>4306</td>\n",
       "      <td>0.093590</td>\n",
       "    </tr>\n",
       "  </tbody>\n",
       "</table>\n",
       "</div>"
      ],
      "text/plain": [
       "                          sum count      mean\n",
       "                         debt  debt      debt\n",
       "purpose_category                             \n",
       "операции с недвижимостью  397  5690  0.069772\n",
       "проведение свадьбы        186  2323  0.080069\n",
       "получение образования     370  4013  0.092200\n",
       "операции с автомобилем    403  4306  0.093590"
      ]
     },
     "execution_count": 75,
     "metadata": {},
     "output_type": "execute_result"
    }
   ],
   "source": [
    "data_pivot_purpose_category = df.pivot_table(index=['purpose_category'], values=[\"debt\"], aggfunc=['sum', 'count', 'mean'])\n",
    "\n",
    "data_pivot_purpose_category = data_pivot_purpose_category.sort_values(by=('mean', 'debt'))\n",
    "data_pivot_purpose_category"
   ]
  },
  {
   "cell_type": "markdown",
   "id": "7108a7d9",
   "metadata": {},
   "source": [
    "# ОТВЕТЫ НА ВОПОРСЫ"
   ]
  },
  {
   "cell_type": "markdown",
   "id": "8757ffc5",
   "metadata": {},
   "source": [
    "Есть ли зависимость между количеством детей и возвратом кредита в срок?\n",
    "Да, чем меньше детей, тем быстрее они возвращают кредиты\n",
    "\n",
    "Есть ли зависимость между семейным положением и возвратом кредита в срок?\n",
    "да, те кто не обременены браком возвращают деньги дольше, люди состоящие в отношениях или вышедшие их них (развод или потеря партнера)они более ответсвенные\n",
    "\n",
    "Есть ли зависимость между уровнем дохода и возвратом кредита в срок?\n",
    "да, доля задолжностей у самых бедных и самых богатых - минимальныя, среди тех кто по середени - чаще появляются проблемы с кредитами \n",
    "\n",
    "\n",
    "Как разные цели кредита влияют на его возврат в срок?\n",
    "Как оказалось за свадьбы и квартиры люди выплачивают кредиты быстрее, без просрочек\n"
   ]
  },
  {
   "cell_type": "markdown",
   "id": "32177121",
   "metadata": {},
   "source": [
    "## Общий вывод:"
   ]
  },
  {
   "cell_type": "markdown",
   "id": "107aa1e9",
   "metadata": {},
   "source": [
    "люди в браке со среднем достатком чаще имеют задолженность по возврату кредитов"
   ]
  }
 ],
 "metadata": {
  "ExecuteTimeLog": [
   {
    "duration": 243,
    "start_time": "2022-03-04T11:28:38.215Z"
   },
   {
    "duration": 627,
    "start_time": "2022-03-04T11:28:43.751Z"
   },
   {
    "duration": 50,
    "start_time": "2022-03-04T11:28:45.687Z"
   },
   {
    "duration": 19,
    "start_time": "2022-03-04T11:28:51.674Z"
   },
   {
    "duration": 13,
    "start_time": "2022-03-04T11:29:24.907Z"
   },
   {
    "duration": 11,
    "start_time": "2022-03-04T11:29:36.453Z"
   },
   {
    "duration": 5,
    "start_time": "2022-03-04T11:33:28.781Z"
   },
   {
    "duration": 18,
    "start_time": "2022-03-04T12:27:38.591Z"
   },
   {
    "duration": 14,
    "start_time": "2022-03-04T12:28:00.991Z"
   },
   {
    "duration": 9,
    "start_time": "2022-03-04T12:28:12.084Z"
   },
   {
    "duration": 5,
    "start_time": "2022-03-04T12:31:59.162Z"
   },
   {
    "duration": 4,
    "start_time": "2022-03-04T12:45:58.351Z"
   },
   {
    "duration": 7,
    "start_time": "2022-03-04T12:45:59.863Z"
   },
   {
    "duration": 232,
    "start_time": "2022-03-04T12:46:26.394Z"
   },
   {
    "duration": 201,
    "start_time": "2022-03-04T12:47:07.031Z"
   },
   {
    "duration": 231,
    "start_time": "2022-03-04T12:47:50.548Z"
   },
   {
    "duration": 222,
    "start_time": "2022-03-04T12:50:32.036Z"
   },
   {
    "duration": 207,
    "start_time": "2022-03-04T12:51:27.779Z"
   },
   {
    "duration": 197,
    "start_time": "2022-03-04T12:52:13.710Z"
   },
   {
    "duration": 52,
    "start_time": "2022-03-04T12:53:08.086Z"
   },
   {
    "duration": 641,
    "start_time": "2022-03-04T12:53:32.452Z"
   },
   {
    "duration": 11,
    "start_time": "2022-03-04T12:53:36.833Z"
   },
   {
    "duration": 4,
    "start_time": "2022-03-04T12:53:41.967Z"
   },
   {
    "duration": 11,
    "start_time": "2022-03-04T12:53:44.761Z"
   },
   {
    "duration": 5,
    "start_time": "2022-03-04T12:53:57.844Z"
   },
   {
    "duration": 7,
    "start_time": "2022-03-04T12:54:01.593Z"
   },
   {
    "duration": 4,
    "start_time": "2022-03-04T12:54:06.433Z"
   },
   {
    "duration": 12,
    "start_time": "2022-03-04T12:54:24.751Z"
   },
   {
    "duration": 5,
    "start_time": "2022-03-04T12:55:47.008Z"
   },
   {
    "duration": 6,
    "start_time": "2022-03-04T12:55:53.882Z"
   },
   {
    "duration": 5,
    "start_time": "2022-03-04T12:56:35.937Z"
   },
   {
    "duration": 11,
    "start_time": "2022-03-04T12:56:37.736Z"
   },
   {
    "duration": 6,
    "start_time": "2022-03-04T13:16:40.585Z"
   },
   {
    "duration": 3,
    "start_time": "2022-03-04T13:19:21.870Z"
   },
   {
    "duration": 76,
    "start_time": "2022-03-04T13:22:54.776Z"
   },
   {
    "duration": 4,
    "start_time": "2022-03-04T13:23:09.527Z"
   },
   {
    "duration": 3,
    "start_time": "2022-03-04T13:23:43.515Z"
   },
   {
    "duration": 4,
    "start_time": "2022-03-04T13:25:19.444Z"
   },
   {
    "duration": 4,
    "start_time": "2022-03-04T13:25:52.910Z"
   },
   {
    "duration": 5,
    "start_time": "2022-03-04T13:26:05.013Z"
   },
   {
    "duration": 3,
    "start_time": "2022-03-04T13:26:13.142Z"
   },
   {
    "duration": 270,
    "start_time": "2022-03-04T13:29:56.605Z"
   },
   {
    "duration": 208,
    "start_time": "2022-03-04T13:30:33.758Z"
   },
   {
    "duration": 239,
    "start_time": "2022-03-04T13:30:45.476Z"
   },
   {
    "duration": 4,
    "start_time": "2022-03-04T13:30:51.151Z"
   },
   {
    "duration": 204,
    "start_time": "2022-03-04T13:30:57.102Z"
   },
   {
    "duration": 206,
    "start_time": "2022-03-04T13:33:36.408Z"
   },
   {
    "duration": 3,
    "start_time": "2022-03-04T13:33:44.506Z"
   },
   {
    "duration": 4,
    "start_time": "2022-03-04T13:33:58.534Z"
   },
   {
    "duration": 4,
    "start_time": "2022-03-04T13:34:07.825Z"
   },
   {
    "duration": 3,
    "start_time": "2022-03-04T13:34:13.498Z"
   },
   {
    "duration": 4,
    "start_time": "2022-03-04T13:34:24.728Z"
   },
   {
    "duration": 4,
    "start_time": "2022-03-04T13:35:01.970Z"
   },
   {
    "duration": 599,
    "start_time": "2022-03-05T08:47:59.758Z"
   },
   {
    "duration": 11,
    "start_time": "2022-03-05T08:48:29.644Z"
   },
   {
    "duration": 4,
    "start_time": "2022-03-05T08:48:33.960Z"
   },
   {
    "duration": 9,
    "start_time": "2022-03-05T08:48:35.929Z"
   },
   {
    "duration": 4,
    "start_time": "2022-03-05T08:48:52.649Z"
   },
   {
    "duration": 6,
    "start_time": "2022-03-05T08:48:55.945Z"
   },
   {
    "duration": 5,
    "start_time": "2022-03-05T08:48:58.673Z"
   },
   {
    "duration": 5,
    "start_time": "2022-03-05T08:49:02.002Z"
   },
   {
    "duration": 11,
    "start_time": "2022-03-05T08:49:03.006Z"
   },
   {
    "duration": 6,
    "start_time": "2022-03-05T08:49:08.617Z"
   },
   {
    "duration": 15,
    "start_time": "2022-03-05T08:49:33.267Z"
   },
   {
    "duration": 17,
    "start_time": "2022-03-05T08:52:12.493Z"
   },
   {
    "duration": 16,
    "start_time": "2022-03-05T08:52:19.383Z"
   },
   {
    "duration": 30,
    "start_time": "2022-03-05T08:56:14.542Z"
   },
   {
    "duration": 12,
    "start_time": "2022-03-05T09:01:00.662Z"
   },
   {
    "duration": 20,
    "start_time": "2022-03-05T09:01:17.313Z"
   },
   {
    "duration": 11,
    "start_time": "2022-03-05T09:01:52.991Z"
   },
   {
    "duration": 24,
    "start_time": "2022-03-05T09:02:03.826Z"
   },
   {
    "duration": 16,
    "start_time": "2022-03-05T09:02:12.303Z"
   },
   {
    "duration": 11,
    "start_time": "2022-03-05T09:02:56.478Z"
   },
   {
    "duration": 23,
    "start_time": "2022-03-05T09:03:02.417Z"
   },
   {
    "duration": 17,
    "start_time": "2022-03-05T09:03:04.992Z"
   },
   {
    "duration": 13,
    "start_time": "2022-03-05T09:03:52.127Z"
   },
   {
    "duration": 8,
    "start_time": "2022-03-05T09:04:42.303Z"
   },
   {
    "duration": 8,
    "start_time": "2022-03-05T09:04:55.414Z"
   },
   {
    "duration": 830,
    "start_time": "2022-03-05T10:19:00.028Z"
   },
   {
    "duration": 16,
    "start_time": "2022-03-05T10:19:02.070Z"
   },
   {
    "duration": 5,
    "start_time": "2022-03-05T10:19:05.508Z"
   },
   {
    "duration": 13,
    "start_time": "2022-03-05T10:19:06.084Z"
   },
   {
    "duration": 5,
    "start_time": "2022-03-05T10:19:06.948Z"
   },
   {
    "duration": 5,
    "start_time": "2022-03-05T10:19:08.276Z"
   },
   {
    "duration": 6,
    "start_time": "2022-03-05T10:19:08.780Z"
   },
   {
    "duration": 6,
    "start_time": "2022-03-05T10:19:10.275Z"
   },
   {
    "duration": 11,
    "start_time": "2022-03-05T10:19:10.714Z"
   },
   {
    "duration": 6,
    "start_time": "2022-03-05T10:19:15.620Z"
   },
   {
    "duration": 16,
    "start_time": "2022-03-05T10:19:24.740Z"
   },
   {
    "duration": 9,
    "start_time": "2022-03-05T10:19:34.772Z"
   },
   {
    "duration": 17,
    "start_time": "2022-03-05T10:21:15.645Z"
   },
   {
    "duration": 18,
    "start_time": "2022-03-05T10:21:25.722Z"
   },
   {
    "duration": 20,
    "start_time": "2022-03-05T10:22:56.805Z"
   },
   {
    "duration": 16,
    "start_time": "2022-03-05T10:23:35.198Z"
   },
   {
    "duration": 4273,
    "start_time": "2022-03-05T10:30:47.699Z"
   },
   {
    "duration": 8,
    "start_time": "2022-03-05T10:30:55.280Z"
   },
   {
    "duration": 5,
    "start_time": "2022-03-05T10:35:25.204Z"
   },
   {
    "duration": 436,
    "start_time": "2022-03-05T10:39:34.469Z"
   },
   {
    "duration": 13,
    "start_time": "2022-03-05T10:41:55.319Z"
   },
   {
    "duration": 12,
    "start_time": "2022-03-05T10:42:20.806Z"
   },
   {
    "duration": 11,
    "start_time": "2022-03-05T10:43:15.561Z"
   },
   {
    "duration": 876,
    "start_time": "2022-03-09T08:46:46.352Z"
   },
   {
    "duration": 18,
    "start_time": "2022-03-09T08:46:49.274Z"
   },
   {
    "duration": 5,
    "start_time": "2022-03-09T08:46:51.607Z"
   },
   {
    "duration": 12,
    "start_time": "2022-03-09T08:46:52.858Z"
   },
   {
    "duration": 5,
    "start_time": "2022-03-09T08:46:55.634Z"
   },
   {
    "duration": 6,
    "start_time": "2022-03-09T08:46:58.775Z"
   },
   {
    "duration": 6,
    "start_time": "2022-03-09T08:47:01.099Z"
   },
   {
    "duration": 6,
    "start_time": "2022-03-09T08:47:03.434Z"
   },
   {
    "duration": 16,
    "start_time": "2022-03-09T08:47:06.404Z"
   },
   {
    "duration": 8,
    "start_time": "2022-03-09T08:47:11.237Z"
   },
   {
    "duration": 23,
    "start_time": "2022-03-09T08:47:15.582Z"
   },
   {
    "duration": 12,
    "start_time": "2022-03-09T08:47:22.901Z"
   },
   {
    "duration": 25,
    "start_time": "2022-03-09T08:47:27.382Z"
   },
   {
    "duration": 30,
    "start_time": "2022-03-09T08:47:28.518Z"
   },
   {
    "duration": 29,
    "start_time": "2022-03-09T08:47:29.755Z"
   },
   {
    "duration": 25,
    "start_time": "2022-03-09T08:47:32.864Z"
   },
   {
    "duration": 13,
    "start_time": "2022-03-09T08:47:36.178Z"
   },
   {
    "duration": 16,
    "start_time": "2022-03-09T08:47:55.574Z"
   },
   {
    "duration": 16,
    "start_time": "2022-03-09T08:47:59.130Z"
   },
   {
    "duration": 369,
    "start_time": "2022-03-09T09:25:30.553Z"
   },
   {
    "duration": 5,
    "start_time": "2022-03-09T09:25:38.599Z"
   },
   {
    "duration": 18,
    "start_time": "2022-03-09T09:26:07.281Z"
   },
   {
    "duration": 8,
    "start_time": "2022-03-09T09:31:26.587Z"
   },
   {
    "duration": 6,
    "start_time": "2022-03-09T09:31:49.816Z"
   },
   {
    "duration": 8,
    "start_time": "2022-03-09T09:32:01.270Z"
   },
   {
    "duration": 6,
    "start_time": "2022-03-09T10:18:00.790Z"
   },
   {
    "duration": 15,
    "start_time": "2022-03-09T10:18:13.760Z"
   },
   {
    "duration": 17,
    "start_time": "2022-03-09T10:18:39.406Z"
   },
   {
    "duration": 9,
    "start_time": "2022-03-09T10:19:06.609Z"
   },
   {
    "duration": 7,
    "start_time": "2022-03-09T10:26:17.355Z"
   },
   {
    "duration": 8,
    "start_time": "2022-03-09T10:29:32.554Z"
   },
   {
    "duration": 8,
    "start_time": "2022-03-09T10:29:57.206Z"
   },
   {
    "duration": 7,
    "start_time": "2022-03-09T10:31:50.005Z"
   },
   {
    "duration": 7,
    "start_time": "2022-03-09T10:33:22.872Z"
   },
   {
    "duration": 5,
    "start_time": "2022-03-09T11:53:51.006Z"
   },
   {
    "duration": 7645,
    "start_time": "2022-03-09T11:53:53.878Z"
   },
   {
    "duration": 3834,
    "start_time": "2022-03-09T11:54:27.788Z"
   },
   {
    "duration": 6,
    "start_time": "2022-03-09T11:56:54.659Z"
   },
   {
    "duration": 3753,
    "start_time": "2022-03-09T11:56:59.438Z"
   },
   {
    "duration": 10593,
    "start_time": "2022-03-09T11:57:47.119Z"
   },
   {
    "duration": 6,
    "start_time": "2022-03-09T11:58:02.482Z"
   },
   {
    "duration": 397,
    "start_time": "2022-03-09T11:58:05.969Z"
   },
   {
    "duration": 8,
    "start_time": "2022-03-09T11:58:46.400Z"
   },
   {
    "duration": 22,
    "start_time": "2022-03-09T12:00:59.921Z"
   },
   {
    "duration": 10,
    "start_time": "2022-03-09T12:04:00.591Z"
   },
   {
    "duration": 7,
    "start_time": "2022-03-09T12:08:59.861Z"
   },
   {
    "duration": 407,
    "start_time": "2022-03-09T12:10:32.164Z"
   },
   {
    "duration": 7,
    "start_time": "2022-03-09T12:10:58.960Z"
   },
   {
    "duration": 502,
    "start_time": "2022-03-09T12:11:14.885Z"
   },
   {
    "duration": 11,
    "start_time": "2022-03-09T12:11:17.040Z"
   },
   {
    "duration": 8,
    "start_time": "2022-03-09T12:14:12.920Z"
   },
   {
    "duration": 405,
    "start_time": "2022-03-09T12:14:15.194Z"
   },
   {
    "duration": 11,
    "start_time": "2022-03-09T12:14:16.279Z"
   },
   {
    "duration": 5,
    "start_time": "2022-03-09T12:15:14.700Z"
   },
   {
    "duration": 400,
    "start_time": "2022-03-09T12:15:15.735Z"
   },
   {
    "duration": 11,
    "start_time": "2022-03-09T12:15:16.875Z"
   },
   {
    "duration": 5,
    "start_time": "2022-03-09T12:16:09.010Z"
   },
   {
    "duration": 431,
    "start_time": "2022-03-09T12:16:10.351Z"
   },
   {
    "duration": 10,
    "start_time": "2022-03-09T12:16:11.112Z"
   },
   {
    "duration": 6,
    "start_time": "2022-03-09T12:16:24.776Z"
   },
   {
    "duration": 391,
    "start_time": "2022-03-09T12:16:25.316Z"
   },
   {
    "duration": 12,
    "start_time": "2022-03-09T12:16:26.244Z"
   },
   {
    "duration": 289,
    "start_time": "2022-03-09T12:18:02.067Z"
   },
   {
    "duration": 395,
    "start_time": "2022-03-09T12:18:02.508Z"
   },
   {
    "duration": 5,
    "start_time": "2022-03-09T12:18:12.623Z"
   },
   {
    "duration": 399,
    "start_time": "2022-03-09T12:18:13.690Z"
   },
   {
    "duration": 8,
    "start_time": "2022-03-09T12:18:15.269Z"
   },
   {
    "duration": 5,
    "start_time": "2022-03-09T12:18:22.531Z"
   },
   {
    "duration": 393,
    "start_time": "2022-03-09T12:18:23.183Z"
   },
   {
    "duration": 9,
    "start_time": "2022-03-09T12:18:24.578Z"
   },
   {
    "duration": 277,
    "start_time": "2022-03-09T12:36:10.175Z"
   },
   {
    "duration": 9,
    "start_time": "2022-03-09T12:36:15.601Z"
   },
   {
    "duration": 9,
    "start_time": "2022-03-09T12:37:27.575Z"
   },
   {
    "duration": 14,
    "start_time": "2022-03-09T12:37:49.139Z"
   },
   {
    "duration": 11,
    "start_time": "2022-03-09T12:38:32.525Z"
   },
   {
    "duration": 9,
    "start_time": "2022-03-09T12:39:11.193Z"
   },
   {
    "duration": 6,
    "start_time": "2022-03-09T12:39:50.536Z"
   },
   {
    "duration": 6,
    "start_time": "2022-03-09T12:40:01.428Z"
   },
   {
    "duration": 291,
    "start_time": "2022-03-09T12:42:21.499Z"
   },
   {
    "duration": 8,
    "start_time": "2022-03-09T12:42:35.445Z"
   },
   {
    "duration": 257,
    "start_time": "2022-03-09T12:42:53.740Z"
   },
   {
    "duration": 9,
    "start_time": "2022-03-09T12:43:01.593Z"
   },
   {
    "duration": 11,
    "start_time": "2022-03-09T12:44:02.179Z"
   },
   {
    "duration": 11,
    "start_time": "2022-03-09T12:47:03.698Z"
   },
   {
    "duration": 12,
    "start_time": "2022-03-09T12:47:33.847Z"
   },
   {
    "duration": 19,
    "start_time": "2022-03-09T12:47:48.570Z"
   },
   {
    "duration": 8,
    "start_time": "2022-03-09T12:48:34.156Z"
   },
   {
    "duration": 340,
    "start_time": "2022-03-09T12:57:59.925Z"
   },
   {
    "duration": 279,
    "start_time": "2022-03-09T12:58:38.913Z"
   },
   {
    "duration": 263,
    "start_time": "2022-03-09T12:59:51.363Z"
   },
   {
    "duration": 5,
    "start_time": "2022-03-09T13:00:55.521Z"
   },
   {
    "duration": 7,
    "start_time": "2022-03-09T13:01:12.546Z"
   },
   {
    "duration": 10,
    "start_time": "2022-03-09T13:02:44.238Z"
   },
   {
    "duration": 11,
    "start_time": "2022-03-09T13:04:43.653Z"
   },
   {
    "duration": 10,
    "start_time": "2022-03-09T13:04:50.687Z"
   },
   {
    "duration": 2687,
    "start_time": "2022-03-09T13:18:57.055Z"
   },
   {
    "duration": 7,
    "start_time": "2022-03-09T13:19:26.990Z"
   },
   {
    "duration": 7,
    "start_time": "2022-03-09T13:20:15.047Z"
   },
   {
    "duration": 8,
    "start_time": "2022-03-09T13:20:17.765Z"
   },
   {
    "duration": 7496,
    "start_time": "2022-03-09T13:21:40.705Z"
   },
   {
    "duration": 8,
    "start_time": "2022-03-09T13:21:52.808Z"
   },
   {
    "duration": 253,
    "start_time": "2022-03-09T13:25:03.466Z"
   },
   {
    "duration": 8,
    "start_time": "2022-03-09T13:25:08.612Z"
   },
   {
    "duration": 6,
    "start_time": "2022-03-09T13:30:50.646Z"
   },
   {
    "duration": 7,
    "start_time": "2022-03-09T13:34:35.546Z"
   },
   {
    "duration": 6,
    "start_time": "2022-03-09T13:35:15.593Z"
   },
   {
    "duration": 9,
    "start_time": "2022-03-09T13:37:34.787Z"
   },
   {
    "duration": 7,
    "start_time": "2022-03-09T13:45:34.103Z"
   },
   {
    "duration": 19,
    "start_time": "2022-03-09T13:47:48.439Z"
   },
   {
    "duration": 7792,
    "start_time": "2022-03-09T13:48:24.019Z"
   },
   {
    "duration": 868,
    "start_time": "2022-03-09T13:48:54.491Z"
   },
   {
    "duration": 17,
    "start_time": "2022-03-09T13:48:56.668Z"
   },
   {
    "duration": 6,
    "start_time": "2022-03-09T13:48:58.154Z"
   },
   {
    "duration": 14,
    "start_time": "2022-03-09T13:48:58.832Z"
   },
   {
    "duration": 5,
    "start_time": "2022-03-09T13:48:59.403Z"
   },
   {
    "duration": 7,
    "start_time": "2022-03-09T13:49:00.696Z"
   },
   {
    "duration": 16,
    "start_time": "2022-03-09T13:49:01.384Z"
   },
   {
    "duration": 6,
    "start_time": "2022-03-09T13:49:03.163Z"
   },
   {
    "duration": 21,
    "start_time": "2022-03-09T13:49:03.818Z"
   },
   {
    "duration": 5,
    "start_time": "2022-03-09T13:49:10.794Z"
   },
   {
    "duration": 7,
    "start_time": "2022-03-09T13:49:11.518Z"
   },
   {
    "duration": 9,
    "start_time": "2022-03-09T13:49:15.181Z"
   },
   {
    "duration": 10,
    "start_time": "2022-03-09T13:49:16.787Z"
   },
   {
    "duration": 9,
    "start_time": "2022-03-09T13:49:20.363Z"
   },
   {
    "duration": 11,
    "start_time": "2022-03-09T13:49:21.678Z"
   },
   {
    "duration": 18,
    "start_time": "2022-03-09T13:49:23.691Z"
   },
   {
    "duration": 8,
    "start_time": "2022-03-09T13:49:27.886Z"
   },
   {
    "duration": 24,
    "start_time": "2022-03-09T13:49:36.604Z"
   },
   {
    "duration": 9,
    "start_time": "2022-03-09T13:49:38.083Z"
   },
   {
    "duration": 21,
    "start_time": "2022-03-09T13:49:38.467Z"
   },
   {
    "duration": 30,
    "start_time": "2022-03-09T13:49:39.478Z"
   },
   {
    "duration": 28,
    "start_time": "2022-03-09T13:49:40.113Z"
   },
   {
    "duration": 23,
    "start_time": "2022-03-09T13:49:40.714Z"
   },
   {
    "duration": 12,
    "start_time": "2022-03-09T13:49:42.739Z"
   },
   {
    "duration": 16,
    "start_time": "2022-03-09T13:49:55.707Z"
   },
   {
    "duration": 17,
    "start_time": "2022-03-09T13:49:58.210Z"
   },
   {
    "duration": 6,
    "start_time": "2022-03-09T13:50:05.058Z"
   },
   {
    "duration": 414,
    "start_time": "2022-03-09T13:50:06.361Z"
   },
   {
    "duration": 11,
    "start_time": "2022-03-09T13:50:07.490Z"
   },
   {
    "duration": 8,
    "start_time": "2022-03-09T13:50:09.499Z"
   },
   {
    "duration": 8,
    "start_time": "2022-03-09T13:50:10.612Z"
   },
   {
    "duration": 429,
    "start_time": "2022-03-09T13:50:11.738Z"
   },
   {
    "duration": 11,
    "start_time": "2022-03-09T13:50:17.547Z"
   },
   {
    "duration": 29,
    "start_time": "2022-03-09T13:50:35.299Z"
   },
   {
    "duration": 11,
    "start_time": "2022-03-09T13:50:48.045Z"
   },
   {
    "duration": 14,
    "start_time": "2022-03-09T13:50:49.542Z"
   },
   {
    "duration": 12,
    "start_time": "2022-03-09T13:50:50.347Z"
   },
   {
    "duration": 8,
    "start_time": "2022-03-09T13:50:51.067Z"
   },
   {
    "duration": 8,
    "start_time": "2022-03-09T13:50:52.174Z"
   },
   {
    "duration": 8,
    "start_time": "2022-03-09T13:50:53.573Z"
   },
   {
    "duration": 9,
    "start_time": "2022-03-09T13:51:03.090Z"
   },
   {
    "duration": 8,
    "start_time": "2022-03-09T14:14:22.770Z"
   },
   {
    "duration": 9,
    "start_time": "2022-03-09T14:19:15.052Z"
   },
   {
    "duration": 7,
    "start_time": "2022-03-09T14:26:28.289Z"
   },
   {
    "duration": 441,
    "start_time": "2022-03-09T14:33:18.642Z"
   },
   {
    "duration": 328,
    "start_time": "2022-03-09T14:33:27.420Z"
   },
   {
    "duration": 40,
    "start_time": "2022-03-09T14:33:46.875Z"
   },
   {
    "duration": 14,
    "start_time": "2022-03-09T14:33:59.622Z"
   },
   {
    "duration": 26,
    "start_time": "2022-03-09T14:34:45.657Z"
   },
   {
    "duration": 10,
    "start_time": "2022-03-09T14:34:47.685Z"
   },
   {
    "duration": 299,
    "start_time": "2022-03-09T14:35:13.069Z"
   },
   {
    "duration": 21,
    "start_time": "2022-03-09T14:35:32.053Z"
   },
   {
    "duration": 9,
    "start_time": "2022-03-09T14:35:36.132Z"
   },
   {
    "duration": 13,
    "start_time": "2022-03-09T14:36:14.315Z"
   },
   {
    "duration": 22,
    "start_time": "2022-03-09T14:39:59.785Z"
   },
   {
    "duration": 13,
    "start_time": "2022-03-09T14:40:00.526Z"
   },
   {
    "duration": 13,
    "start_time": "2022-03-09T14:40:32.567Z"
   },
   {
    "duration": 13,
    "start_time": "2022-03-09T14:40:37.952Z"
   },
   {
    "duration": 529,
    "start_time": "2022-03-17T21:57:52.821Z"
   },
   {
    "duration": 17,
    "start_time": "2022-03-17T21:57:53.352Z"
   },
   {
    "duration": 4,
    "start_time": "2022-03-17T21:57:53.371Z"
   },
   {
    "duration": 13,
    "start_time": "2022-03-17T21:57:53.378Z"
   },
   {
    "duration": 7,
    "start_time": "2022-03-17T21:57:53.393Z"
   },
   {
    "duration": 31,
    "start_time": "2022-03-17T21:57:53.402Z"
   },
   {
    "duration": 8,
    "start_time": "2022-03-17T21:57:53.435Z"
   },
   {
    "duration": 5,
    "start_time": "2022-03-17T21:57:53.445Z"
   },
   {
    "duration": 23,
    "start_time": "2022-03-17T21:57:53.452Z"
   },
   {
    "duration": 4,
    "start_time": "2022-03-17T21:57:53.479Z"
   },
   {
    "duration": 7,
    "start_time": "2022-03-17T21:57:53.485Z"
   },
   {
    "duration": 38,
    "start_time": "2022-03-17T21:57:53.494Z"
   },
   {
    "duration": 7,
    "start_time": "2022-03-17T21:57:53.534Z"
   },
   {
    "duration": 6,
    "start_time": "2022-03-17T21:57:53.543Z"
   },
   {
    "duration": 5,
    "start_time": "2022-03-17T21:57:53.550Z"
   },
   {
    "duration": 10,
    "start_time": "2022-03-17T21:57:53.556Z"
   },
   {
    "duration": 6,
    "start_time": "2022-03-17T21:57:53.568Z"
   },
   {
    "duration": 58,
    "start_time": "2022-03-17T21:57:53.575Z"
   },
   {
    "duration": 7,
    "start_time": "2022-03-17T21:57:53.635Z"
   },
   {
    "duration": 23,
    "start_time": "2022-03-17T21:57:53.644Z"
   },
   {
    "duration": 39,
    "start_time": "2022-03-17T21:57:53.669Z"
   },
   {
    "duration": 21,
    "start_time": "2022-03-17T21:57:53.709Z"
   },
   {
    "duration": 20,
    "start_time": "2022-03-17T21:57:53.732Z"
   },
   {
    "duration": 13,
    "start_time": "2022-03-17T21:57:53.754Z"
   },
   {
    "duration": 22,
    "start_time": "2022-03-17T21:57:53.768Z"
   },
   {
    "duration": 31,
    "start_time": "2022-03-17T21:57:53.792Z"
   },
   {
    "duration": 12,
    "start_time": "2022-03-17T21:57:53.825Z"
   },
   {
    "duration": 162,
    "start_time": "2022-03-17T21:57:53.842Z"
   },
   {
    "duration": 8,
    "start_time": "2022-03-17T21:57:54.006Z"
   },
   {
    "duration": 16,
    "start_time": "2022-03-17T21:57:54.016Z"
   },
   {
    "duration": 5,
    "start_time": "2022-03-17T21:57:54.034Z"
   },
   {
    "duration": 162,
    "start_time": "2022-03-17T21:57:54.041Z"
   },
   {
    "duration": 6,
    "start_time": "2022-03-17T21:57:54.205Z"
   },
   {
    "duration": 26,
    "start_time": "2022-03-17T21:57:54.212Z"
   },
   {
    "duration": 8,
    "start_time": "2022-03-17T21:57:54.240Z"
   },
   {
    "duration": 9,
    "start_time": "2022-03-17T21:57:54.249Z"
   },
   {
    "duration": 5,
    "start_time": "2022-03-17T21:57:54.260Z"
   },
   {
    "duration": 8,
    "start_time": "2022-03-17T21:57:54.267Z"
   },
   {
    "duration": 12,
    "start_time": "2022-03-17T21:57:54.277Z"
   },
   {
    "duration": 6,
    "start_time": "2022-03-17T21:57:54.290Z"
   },
   {
    "duration": 37,
    "start_time": "2022-03-17T21:57:54.298Z"
   },
   {
    "duration": 6,
    "start_time": "2022-03-17T21:57:54.337Z"
   },
   {
    "duration": 12,
    "start_time": "2022-03-17T21:57:54.345Z"
   },
   {
    "duration": 7,
    "start_time": "2022-03-17T21:57:54.358Z"
   },
   {
    "duration": 15,
    "start_time": "2022-03-17T21:57:54.366Z"
   },
   {
    "duration": 12,
    "start_time": "2022-03-17T21:57:54.383Z"
   },
   {
    "duration": 42,
    "start_time": "2022-03-17T21:57:54.397Z"
   },
   {
    "duration": 14,
    "start_time": "2022-03-17T21:57:54.440Z"
   },
   {
    "duration": 20,
    "start_time": "2022-03-17T22:00:36.031Z"
   },
   {
    "duration": 7,
    "start_time": "2022-03-17T22:00:55.031Z"
   },
   {
    "duration": 18,
    "start_time": "2022-03-17T22:00:57.291Z"
   },
   {
    "duration": 4,
    "start_time": "2022-03-17T22:02:41.081Z"
   },
   {
    "duration": 54,
    "start_time": "2022-03-18T18:56:59.217Z"
   },
   {
    "duration": 578,
    "start_time": "2022-03-18T18:57:10.684Z"
   },
   {
    "duration": 134,
    "start_time": "2022-03-18T18:57:11.404Z"
   },
   {
    "duration": 18,
    "start_time": "2022-03-18T18:57:12.301Z"
   },
   {
    "duration": 4,
    "start_time": "2022-03-18T18:57:13.390Z"
   },
   {
    "duration": 12,
    "start_time": "2022-03-18T18:57:16.090Z"
   },
   {
    "duration": 4,
    "start_time": "2022-03-18T18:57:16.836Z"
   },
   {
    "duration": 6,
    "start_time": "2022-03-18T18:57:17.924Z"
   },
   {
    "duration": 6,
    "start_time": "2022-03-18T18:57:18.398Z"
   },
   {
    "duration": 5,
    "start_time": "2022-03-18T18:57:19.067Z"
   },
   {
    "duration": 18,
    "start_time": "2022-03-18T18:57:19.616Z"
   },
   {
    "duration": 12,
    "start_time": "2022-03-18T18:57:22.521Z"
   },
   {
    "duration": 5,
    "start_time": "2022-03-18T18:57:23.200Z"
   },
   {
    "duration": 5,
    "start_time": "2022-03-18T18:57:24.159Z"
   },
   {
    "duration": 6,
    "start_time": "2022-03-18T18:57:24.695Z"
   },
   {
    "duration": 4,
    "start_time": "2022-03-18T18:57:26.972Z"
   },
   {
    "duration": 6,
    "start_time": "2022-03-18T18:57:27.887Z"
   },
   {
    "duration": 8,
    "start_time": "2022-03-18T18:57:28.469Z"
   },
   {
    "duration": 7,
    "start_time": "2022-03-18T18:57:30.535Z"
   },
   {
    "duration": 7,
    "start_time": "2022-03-18T18:57:31.162Z"
   },
   {
    "duration": 2,
    "start_time": "2022-03-18T18:57:31.649Z"
   },
   {
    "duration": 9,
    "start_time": "2022-03-18T18:57:32.329Z"
   },
   {
    "duration": 6,
    "start_time": "2022-03-18T18:57:35.421Z"
   },
   {
    "duration": 188,
    "start_time": "2022-03-18T18:59:50.815Z"
   },
   {
    "duration": 6,
    "start_time": "2022-03-18T19:00:18.912Z"
   },
   {
    "duration": 4,
    "start_time": "2022-03-18T19:00:48.087Z"
   },
   {
    "duration": 13,
    "start_time": "2022-03-18T19:02:08.413Z"
   },
   {
    "duration": 5,
    "start_time": "2022-03-18T19:05:44.097Z"
   },
   {
    "duration": 6,
    "start_time": "2022-03-18T19:05:46.225Z"
   },
   {
    "duration": 4,
    "start_time": "2022-03-18T19:05:47.796Z"
   },
   {
    "duration": 48,
    "start_time": "2022-03-18T19:05:51.183Z"
   },
   {
    "duration": 3,
    "start_time": "2022-03-18T19:09:09.051Z"
   },
   {
    "duration": 80,
    "start_time": "2022-03-18T19:09:09.541Z"
   },
   {
    "duration": 18,
    "start_time": "2022-03-18T19:09:10.522Z"
   },
   {
    "duration": 5,
    "start_time": "2022-03-18T19:09:11.218Z"
   },
   {
    "duration": 11,
    "start_time": "2022-03-18T19:09:13.426Z"
   },
   {
    "duration": 3,
    "start_time": "2022-03-18T19:09:13.894Z"
   },
   {
    "duration": 5,
    "start_time": "2022-03-18T19:10:06.120Z"
   },
   {
    "duration": 5,
    "start_time": "2022-03-18T19:10:06.748Z"
   },
   {
    "duration": 4,
    "start_time": "2022-03-18T19:10:07.257Z"
   },
   {
    "duration": 16,
    "start_time": "2022-03-18T19:10:07.775Z"
   },
   {
    "duration": 12,
    "start_time": "2022-03-18T19:10:10.338Z"
   },
   {
    "duration": 5,
    "start_time": "2022-03-18T19:10:10.740Z"
   },
   {
    "duration": 6,
    "start_time": "2022-03-18T19:10:11.594Z"
   },
   {
    "duration": 6,
    "start_time": "2022-03-18T19:10:11.963Z"
   },
   {
    "duration": 4,
    "start_time": "2022-03-18T19:10:12.857Z"
   },
   {
    "duration": 7,
    "start_time": "2022-03-18T19:10:13.312Z"
   },
   {
    "duration": 5,
    "start_time": "2022-03-18T19:10:13.726Z"
   },
   {
    "duration": 9,
    "start_time": "2022-03-18T19:10:29.754Z"
   },
   {
    "duration": 7,
    "start_time": "2022-03-18T19:10:30.807Z"
   },
   {
    "duration": 2,
    "start_time": "2022-03-18T19:10:32.259Z"
   },
   {
    "duration": 8,
    "start_time": "2022-03-18T19:10:33.284Z"
   },
   {
    "duration": 7,
    "start_time": "2022-03-18T19:10:35.253Z"
   },
   {
    "duration": 5,
    "start_time": "2022-03-18T19:10:36.784Z"
   },
   {
    "duration": 8,
    "start_time": "2022-03-18T19:10:37.391Z"
   },
   {
    "duration": 11,
    "start_time": "2022-03-18T19:10:40.101Z"
   },
   {
    "duration": 5,
    "start_time": "2022-03-18T19:10:44.143Z"
   },
   {
    "duration": 4,
    "start_time": "2022-03-18T19:10:45.505Z"
   },
   {
    "duration": 10,
    "start_time": "2022-03-18T19:10:48.065Z"
   },
   {
    "duration": 4,
    "start_time": "2022-03-18T19:13:59.418Z"
   },
   {
    "duration": 16,
    "start_time": "2022-03-18T19:15:13.399Z"
   },
   {
    "duration": 524,
    "start_time": "2022-03-18T19:15:43.790Z"
   },
   {
    "duration": 78,
    "start_time": "2022-03-18T19:15:44.821Z"
   },
   {
    "duration": 22,
    "start_time": "2022-03-18T19:15:45.505Z"
   },
   {
    "duration": 5,
    "start_time": "2022-03-18T19:15:46.337Z"
   },
   {
    "duration": 12,
    "start_time": "2022-03-18T19:15:48.221Z"
   },
   {
    "duration": 4,
    "start_time": "2022-03-18T19:15:48.480Z"
   },
   {
    "duration": 7,
    "start_time": "2022-03-18T19:15:48.948Z"
   },
   {
    "duration": 6,
    "start_time": "2022-03-18T19:15:49.157Z"
   },
   {
    "duration": 5,
    "start_time": "2022-03-18T19:15:49.398Z"
   },
   {
    "duration": 33,
    "start_time": "2022-03-18T19:15:49.600Z"
   },
   {
    "duration": 12,
    "start_time": "2022-03-18T19:15:50.775Z"
   },
   {
    "duration": 5,
    "start_time": "2022-03-18T19:15:51.018Z"
   },
   {
    "duration": 5,
    "start_time": "2022-03-18T19:15:51.466Z"
   },
   {
    "duration": 6,
    "start_time": "2022-03-18T19:15:51.697Z"
   },
   {
    "duration": 4,
    "start_time": "2022-03-18T19:15:52.628Z"
   },
   {
    "duration": 6,
    "start_time": "2022-03-18T19:15:53.223Z"
   },
   {
    "duration": 7,
    "start_time": "2022-03-18T19:15:53.668Z"
   },
   {
    "duration": 11,
    "start_time": "2022-03-18T19:15:55.064Z"
   },
   {
    "duration": 7,
    "start_time": "2022-03-18T19:15:55.418Z"
   },
   {
    "duration": 3,
    "start_time": "2022-03-18T19:15:55.818Z"
   },
   {
    "duration": 10,
    "start_time": "2022-03-18T19:15:56.196Z"
   },
   {
    "duration": 13,
    "start_time": "2022-03-18T19:15:57.102Z"
   },
   {
    "duration": 6,
    "start_time": "2022-03-18T19:15:57.685Z"
   },
   {
    "duration": 8,
    "start_time": "2022-03-18T19:15:57.918Z"
   },
   {
    "duration": 4,
    "start_time": "2022-03-18T19:16:02.381Z"
   },
   {
    "duration": 12,
    "start_time": "2022-03-18T19:16:04.633Z"
   },
   {
    "duration": 4,
    "start_time": "2022-03-18T19:16:05.183Z"
   },
   {
    "duration": 9,
    "start_time": "2022-03-18T19:16:05.751Z"
   },
   {
    "duration": 6,
    "start_time": "2022-03-18T19:16:06.965Z"
   },
   {
    "duration": 6,
    "start_time": "2022-03-18T19:16:09.669Z"
   },
   {
    "duration": 24,
    "start_time": "2022-03-18T19:16:13.657Z"
   },
   {
    "duration": 7,
    "start_time": "2022-03-18T19:16:17.745Z"
   },
   {
    "duration": 15,
    "start_time": "2022-03-18T19:16:18.318Z"
   },
   {
    "duration": 22,
    "start_time": "2022-03-18T19:16:18.721Z"
   },
   {
    "duration": 25,
    "start_time": "2022-03-18T19:16:26.676Z"
   },
   {
    "duration": 19,
    "start_time": "2022-03-18T19:16:29.114Z"
   },
   {
    "duration": 13,
    "start_time": "2022-03-18T19:16:30.657Z"
   },
   {
    "duration": 13,
    "start_time": "2022-03-18T19:16:37.149Z"
   },
   {
    "duration": 13,
    "start_time": "2022-03-18T19:16:38.778Z"
   },
   {
    "duration": 87,
    "start_time": "2022-03-18T19:19:44.802Z"
   },
   {
    "duration": 6,
    "start_time": "2022-03-18T19:20:09.973Z"
   },
   {
    "duration": 7,
    "start_time": "2022-03-18T19:20:29.793Z"
   },
   {
    "duration": 8,
    "start_time": "2022-03-18T19:33:15.070Z"
   },
   {
    "duration": 7,
    "start_time": "2022-03-18T19:33:18.499Z"
   },
   {
    "duration": 7,
    "start_time": "2022-03-18T19:33:24.132Z"
   },
   {
    "duration": 52,
    "start_time": "2022-03-18T19:36:45.572Z"
   },
   {
    "duration": 43,
    "start_time": "2022-03-18T19:38:07.311Z"
   },
   {
    "duration": 38,
    "start_time": "2022-03-18T19:39:10.673Z"
   },
   {
    "duration": 11,
    "start_time": "2022-03-18T19:43:55.911Z"
   },
   {
    "duration": 5,
    "start_time": "2022-03-18T19:44:22.481Z"
   },
   {
    "duration": 220,
    "start_time": "2022-03-18T19:44:25.737Z"
   },
   {
    "duration": 9,
    "start_time": "2022-03-18T19:44:26.238Z"
   },
   {
    "duration": 8,
    "start_time": "2022-03-18T19:44:27.634Z"
   },
   {
    "duration": 5,
    "start_time": "2022-03-18T19:44:28.236Z"
   },
   {
    "duration": 153,
    "start_time": "2022-03-18T19:44:28.838Z"
   },
   {
    "duration": 8,
    "start_time": "2022-03-18T19:44:29.221Z"
   },
   {
    "duration": 14,
    "start_time": "2022-03-18T19:44:30.854Z"
   },
   {
    "duration": 12,
    "start_time": "2022-03-18T19:44:40.475Z"
   },
   {
    "duration": 154,
    "start_time": "2022-03-18T19:44:53.333Z"
   },
   {
    "duration": 26,
    "start_time": "2022-03-18T19:44:59.846Z"
   },
   {
    "duration": 18,
    "start_time": "2022-03-18T19:47:56.956Z"
   },
   {
    "duration": 33,
    "start_time": "2022-03-18T19:48:05.157Z"
   },
   {
    "duration": 28,
    "start_time": "2022-03-18T19:53:22.794Z"
   },
   {
    "duration": 29,
    "start_time": "2022-03-18T20:01:24.756Z"
   },
   {
    "duration": 29,
    "start_time": "2022-03-18T20:02:00.672Z"
   },
   {
    "duration": 29,
    "start_time": "2022-03-18T20:02:17.472Z"
   },
   {
    "duration": 15,
    "start_time": "2022-03-18T20:04:04.556Z"
   },
   {
    "duration": 45,
    "start_time": "2022-03-18T20:05:05.184Z"
   },
   {
    "duration": 17,
    "start_time": "2022-03-18T20:05:26.884Z"
   },
   {
    "duration": 16,
    "start_time": "2022-03-18T20:06:21.942Z"
   },
   {
    "duration": 32,
    "start_time": "2022-03-18T20:06:43.797Z"
   },
   {
    "duration": 32,
    "start_time": "2022-03-18T20:07:58.417Z"
   },
   {
    "duration": 33,
    "start_time": "2022-03-18T20:10:06.864Z"
   },
   {
    "duration": 36,
    "start_time": "2022-03-18T20:10:18.603Z"
   },
   {
    "duration": 9,
    "start_time": "2022-03-18T20:10:27.389Z"
   },
   {
    "duration": 16,
    "start_time": "2022-03-18T20:14:51.134Z"
   },
   {
    "duration": 34,
    "start_time": "2022-03-18T20:20:19.325Z"
   }
  ],
  "kernelspec": {
   "display_name": "Python 3 (ipykernel)",
   "language": "python",
   "name": "python3"
  },
  "language_info": {
   "codemirror_mode": {
    "name": "ipython",
    "version": 3
   },
   "file_extension": ".py",
   "mimetype": "text/x-python",
   "name": "python",
   "nbconvert_exporter": "python",
   "pygments_lexer": "ipython3",
   "version": "3.9.12"
  },
  "toc": {
   "base_numbering": 1,
   "nav_menu": {},
   "number_sections": false,
   "sideBar": true,
   "skip_h1_title": false,
   "title_cell": "Table of Contents",
   "title_sidebar": "Contents",
   "toc_cell": false,
   "toc_position": {},
   "toc_section_display": true,
   "toc_window_display": true
  }
 },
 "nbformat": 4,
 "nbformat_minor": 5
}
