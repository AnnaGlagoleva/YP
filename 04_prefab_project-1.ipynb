{
 "cells": [
  {
   "cell_type": "markdown",
   "metadata": {},
   "source": [
    "# Сборный проект"
   ]
  },
  {
   "cell_type": "markdown",
   "metadata": {},
   "source": [
    "Описание проекта:\n",
    "\n",
    "Нам предстоит поработатьс данными интернет-магазина «Стримчик», который продаёт по всему миру компьютерные игры. Из открытых источников доступны исторические данные о продажах игр, оценки пользователей и экспертов, жанры и платформы (например, Xboxили PlayStation). Нам нужно выявить определяющие успешность игры закономерности. Это позволит сделать ставку на потенциально популярный продукт и спланировать рекламные кампании.\n",
    "\n",
    "Нам нужно отработать принцип работы с данными, чтобы сделать рекомендации для РК на следущий год.\n",
    "\n",
    "В наборе данных попадается аббревиатура ESRB (Entertainment Software Rating Board) — это ассоциация, определяющая возрастной рейтинг компьютерных игр. ESRB оценивает игровой контент и присваивает ему подходящую возрастную категорию, например, «Для взрослых», «Для детей младшего возраста» или «Для подростков»."
   ]
  },
  {
   "cell_type": "markdown",
   "metadata": {},
   "source": [
    "## Шаг\n",
    "\n",
    "### Загружаем необходимые библиотеки и датасет. Изучаем данные."
   ]
  },
  {
   "cell_type": "code",
   "execution_count": 1,
   "metadata": {},
   "outputs": [],
   "source": [
    "import pandas as pd\n",
    "import numpy as np\n",
    "from matplotlib import pyplot as plt\n",
    "from scipy import stats as st\n",
    "import seaborn as sns"
   ]
  },
  {
   "cell_type": "code",
   "execution_count": 2,
   "metadata": {},
   "outputs": [],
   "source": [
    "df = pd.read_csv('/datasets/games.csv')"
   ]
  },
  {
   "cell_type": "code",
   "execution_count": 3,
   "metadata": {},
   "outputs": [
    {
     "name": "stdout",
     "output_type": "stream",
     "text": [
      "<class 'pandas.core.frame.DataFrame'>\n",
      "RangeIndex: 16715 entries, 0 to 16714\n",
      "Data columns (total 11 columns):\n",
      " #   Column           Non-Null Count  Dtype  \n",
      "---  ------           --------------  -----  \n",
      " 0   Name             16713 non-null  object \n",
      " 1   Platform         16715 non-null  object \n",
      " 2   Year_of_Release  16446 non-null  float64\n",
      " 3   Genre            16713 non-null  object \n",
      " 4   NA_sales         16715 non-null  float64\n",
      " 5   EU_sales         16715 non-null  float64\n",
      " 6   JP_sales         16715 non-null  float64\n",
      " 7   Other_sales      16715 non-null  float64\n",
      " 8   Critic_Score     8137 non-null   float64\n",
      " 9   User_Score       10014 non-null  object \n",
      " 10  Rating           9949 non-null   object \n",
      "dtypes: float64(6), object(5)\n",
      "memory usage: 1.4+ MB\n"
     ]
    }
   ],
   "source": [
    "df.info()"
   ]
  },
  {
   "cell_type": "code",
   "execution_count": 4,
   "metadata": {},
   "outputs": [
    {
     "data": {
      "text/html": [
       "<div>\n",
       "<style scoped>\n",
       "    .dataframe tbody tr th:only-of-type {\n",
       "        vertical-align: middle;\n",
       "    }\n",
       "\n",
       "    .dataframe tbody tr th {\n",
       "        vertical-align: top;\n",
       "    }\n",
       "\n",
       "    .dataframe thead th {\n",
       "        text-align: right;\n",
       "    }\n",
       "</style>\n",
       "<table border=\"1\" class=\"dataframe\">\n",
       "  <thead>\n",
       "    <tr style=\"text-align: right;\">\n",
       "      <th></th>\n",
       "      <th>count</th>\n",
       "      <th>mean</th>\n",
       "      <th>std</th>\n",
       "      <th>min</th>\n",
       "      <th>25%</th>\n",
       "      <th>50%</th>\n",
       "      <th>75%</th>\n",
       "      <th>max</th>\n",
       "    </tr>\n",
       "  </thead>\n",
       "  <tbody>\n",
       "    <tr>\n",
       "      <th>Year_of_Release</th>\n",
       "      <td>16446.0</td>\n",
       "      <td>2006.484616</td>\n",
       "      <td>5.877050</td>\n",
       "      <td>1980.0</td>\n",
       "      <td>2003.0</td>\n",
       "      <td>2007.00</td>\n",
       "      <td>2010.00</td>\n",
       "      <td>2016.00</td>\n",
       "    </tr>\n",
       "    <tr>\n",
       "      <th>NA_sales</th>\n",
       "      <td>16715.0</td>\n",
       "      <td>0.263377</td>\n",
       "      <td>0.813604</td>\n",
       "      <td>0.0</td>\n",
       "      <td>0.0</td>\n",
       "      <td>0.08</td>\n",
       "      <td>0.24</td>\n",
       "      <td>41.36</td>\n",
       "    </tr>\n",
       "    <tr>\n",
       "      <th>EU_sales</th>\n",
       "      <td>16715.0</td>\n",
       "      <td>0.145060</td>\n",
       "      <td>0.503339</td>\n",
       "      <td>0.0</td>\n",
       "      <td>0.0</td>\n",
       "      <td>0.02</td>\n",
       "      <td>0.11</td>\n",
       "      <td>28.96</td>\n",
       "    </tr>\n",
       "    <tr>\n",
       "      <th>JP_sales</th>\n",
       "      <td>16715.0</td>\n",
       "      <td>0.077617</td>\n",
       "      <td>0.308853</td>\n",
       "      <td>0.0</td>\n",
       "      <td>0.0</td>\n",
       "      <td>0.00</td>\n",
       "      <td>0.04</td>\n",
       "      <td>10.22</td>\n",
       "    </tr>\n",
       "    <tr>\n",
       "      <th>Other_sales</th>\n",
       "      <td>16715.0</td>\n",
       "      <td>0.047342</td>\n",
       "      <td>0.186731</td>\n",
       "      <td>0.0</td>\n",
       "      <td>0.0</td>\n",
       "      <td>0.01</td>\n",
       "      <td>0.03</td>\n",
       "      <td>10.57</td>\n",
       "    </tr>\n",
       "    <tr>\n",
       "      <th>Critic_Score</th>\n",
       "      <td>8137.0</td>\n",
       "      <td>68.967679</td>\n",
       "      <td>13.938165</td>\n",
       "      <td>13.0</td>\n",
       "      <td>60.0</td>\n",
       "      <td>71.00</td>\n",
       "      <td>79.00</td>\n",
       "      <td>98.00</td>\n",
       "    </tr>\n",
       "  </tbody>\n",
       "</table>\n",
       "</div>"
      ],
      "text/plain": [
       "                   count         mean        std     min     25%      50%  \\\n",
       "Year_of_Release  16446.0  2006.484616   5.877050  1980.0  2003.0  2007.00   \n",
       "NA_sales         16715.0     0.263377   0.813604     0.0     0.0     0.08   \n",
       "EU_sales         16715.0     0.145060   0.503339     0.0     0.0     0.02   \n",
       "JP_sales         16715.0     0.077617   0.308853     0.0     0.0     0.00   \n",
       "Other_sales      16715.0     0.047342   0.186731     0.0     0.0     0.01   \n",
       "Critic_Score      8137.0    68.967679  13.938165    13.0    60.0    71.00   \n",
       "\n",
       "                     75%      max  \n",
       "Year_of_Release  2010.00  2016.00  \n",
       "NA_sales            0.24    41.36  \n",
       "EU_sales            0.11    28.96  \n",
       "JP_sales            0.04    10.22  \n",
       "Other_sales         0.03    10.57  \n",
       "Critic_Score       79.00    98.00  "
      ]
     },
     "execution_count": 4,
     "metadata": {},
     "output_type": "execute_result"
    }
   ],
   "source": [
    "df.describe().T"
   ]
  },
  {
   "cell_type": "code",
   "execution_count": 5,
   "metadata": {},
   "outputs": [
    {
     "data": {
      "text/html": [
       "<div>\n",
       "<style scoped>\n",
       "    .dataframe tbody tr th:only-of-type {\n",
       "        vertical-align: middle;\n",
       "    }\n",
       "\n",
       "    .dataframe tbody tr th {\n",
       "        vertical-align: top;\n",
       "    }\n",
       "\n",
       "    .dataframe thead th {\n",
       "        text-align: right;\n",
       "    }\n",
       "</style>\n",
       "<table border=\"1\" class=\"dataframe\">\n",
       "  <thead>\n",
       "    <tr style=\"text-align: right;\">\n",
       "      <th></th>\n",
       "      <th>Name</th>\n",
       "      <th>Platform</th>\n",
       "      <th>Year_of_Release</th>\n",
       "      <th>Genre</th>\n",
       "      <th>NA_sales</th>\n",
       "      <th>EU_sales</th>\n",
       "      <th>JP_sales</th>\n",
       "      <th>Other_sales</th>\n",
       "      <th>Critic_Score</th>\n",
       "      <th>User_Score</th>\n",
       "      <th>Rating</th>\n",
       "    </tr>\n",
       "  </thead>\n",
       "  <tbody>\n",
       "    <tr>\n",
       "      <th>0</th>\n",
       "      <td>Wii Sports</td>\n",
       "      <td>Wii</td>\n",
       "      <td>2006.0</td>\n",
       "      <td>Sports</td>\n",
       "      <td>41.36</td>\n",
       "      <td>28.96</td>\n",
       "      <td>3.77</td>\n",
       "      <td>8.45</td>\n",
       "      <td>76.0</td>\n",
       "      <td>8</td>\n",
       "      <td>E</td>\n",
       "    </tr>\n",
       "    <tr>\n",
       "      <th>1</th>\n",
       "      <td>Super Mario Bros.</td>\n",
       "      <td>NES</td>\n",
       "      <td>1985.0</td>\n",
       "      <td>Platform</td>\n",
       "      <td>29.08</td>\n",
       "      <td>3.58</td>\n",
       "      <td>6.81</td>\n",
       "      <td>0.77</td>\n",
       "      <td>NaN</td>\n",
       "      <td>NaN</td>\n",
       "      <td>NaN</td>\n",
       "    </tr>\n",
       "    <tr>\n",
       "      <th>2</th>\n",
       "      <td>Mario Kart Wii</td>\n",
       "      <td>Wii</td>\n",
       "      <td>2008.0</td>\n",
       "      <td>Racing</td>\n",
       "      <td>15.68</td>\n",
       "      <td>12.76</td>\n",
       "      <td>3.79</td>\n",
       "      <td>3.29</td>\n",
       "      <td>82.0</td>\n",
       "      <td>8.3</td>\n",
       "      <td>E</td>\n",
       "    </tr>\n",
       "    <tr>\n",
       "      <th>3</th>\n",
       "      <td>Wii Sports Resort</td>\n",
       "      <td>Wii</td>\n",
       "      <td>2009.0</td>\n",
       "      <td>Sports</td>\n",
       "      <td>15.61</td>\n",
       "      <td>10.93</td>\n",
       "      <td>3.28</td>\n",
       "      <td>2.95</td>\n",
       "      <td>80.0</td>\n",
       "      <td>8</td>\n",
       "      <td>E</td>\n",
       "    </tr>\n",
       "    <tr>\n",
       "      <th>4</th>\n",
       "      <td>Pokemon Red/Pokemon Blue</td>\n",
       "      <td>GB</td>\n",
       "      <td>1996.0</td>\n",
       "      <td>Role-Playing</td>\n",
       "      <td>11.27</td>\n",
       "      <td>8.89</td>\n",
       "      <td>10.22</td>\n",
       "      <td>1.00</td>\n",
       "      <td>NaN</td>\n",
       "      <td>NaN</td>\n",
       "      <td>NaN</td>\n",
       "    </tr>\n",
       "  </tbody>\n",
       "</table>\n",
       "</div>"
      ],
      "text/plain": [
       "                       Name Platform  Year_of_Release         Genre  NA_sales  \\\n",
       "0                Wii Sports      Wii           2006.0        Sports     41.36   \n",
       "1         Super Mario Bros.      NES           1985.0      Platform     29.08   \n",
       "2            Mario Kart Wii      Wii           2008.0        Racing     15.68   \n",
       "3         Wii Sports Resort      Wii           2009.0        Sports     15.61   \n",
       "4  Pokemon Red/Pokemon Blue       GB           1996.0  Role-Playing     11.27   \n",
       "\n",
       "   EU_sales  JP_sales  Other_sales  Critic_Score User_Score Rating  \n",
       "0     28.96      3.77         8.45          76.0          8      E  \n",
       "1      3.58      6.81         0.77           NaN        NaN    NaN  \n",
       "2     12.76      3.79         3.29          82.0        8.3      E  \n",
       "3     10.93      3.28         2.95          80.0          8      E  \n",
       "4      8.89     10.22         1.00           NaN        NaN    NaN  "
      ]
     },
     "execution_count": 5,
     "metadata": {},
     "output_type": "execute_result"
    }
   ],
   "source": [
    "df.head()"
   ]
  },
  {
   "cell_type": "code",
   "execution_count": 6,
   "metadata": {},
   "outputs": [
    {
     "data": {
      "text/plain": [
       "0"
      ]
     },
     "execution_count": 6,
     "metadata": {},
     "output_type": "execute_result"
    }
   ],
   "source": [
    "df.duplicated().sum()"
   ]
  },
  {
   "cell_type": "code",
   "execution_count": 7,
   "metadata": {},
   "outputs": [
    {
     "data": {
      "text/plain": [
       "Name                  2\n",
       "Platform              0\n",
       "Year_of_Release     269\n",
       "Genre                 2\n",
       "NA_sales              0\n",
       "EU_sales              0\n",
       "JP_sales              0\n",
       "Other_sales           0\n",
       "Critic_Score       8578\n",
       "User_Score         6701\n",
       "Rating             6766\n",
       "dtype: int64"
      ]
     },
     "execution_count": 7,
     "metadata": {},
     "output_type": "execute_result"
    }
   ],
   "source": [
    "df.isna().sum()"
   ]
  },
  {
   "cell_type": "code",
   "execution_count": null,
   "metadata": {},
   "outputs": [],
   "source": []
  },
  {
   "cell_type": "markdown",
   "metadata": {},
   "source": [
    "### Вывод:\n",
    "\n",
    "Данные предоставлены с пропусками и без очевидных дубликатов, некоторые типы данных стоит изменить, и создать дополнительные колонки с категориями."
   ]
  },
  {
   "cell_type": "markdown",
   "metadata": {},
   "source": [
    "## Шаг \n",
    "\n",
    "### Подготовка данных\n",
    "\n",
    "[Х]Замена названия столбцов (приведите к нижнему регистру);\n",
    "\n",
    "[Х]Преобразование данных в нужные типы.\n",
    "\n",
    "[Х]Обработка пропусков;\n",
    "\n",
    "[Х]Суммарные продажи во всех регионах и запись их в отдельный столбец."
   ]
  },
  {
   "cell_type": "code",
   "execution_count": 8,
   "metadata": {},
   "outputs": [
    {
     "data": {
      "text/plain": [
       "Index(['Name', 'Platform', 'Year_of_Release', 'Genre', 'NA_sales', 'EU_sales',\n",
       "       'JP_sales', 'Other_sales', 'Critic_Score', 'User_Score', 'Rating'],\n",
       "      dtype='object')"
      ]
     },
     "execution_count": 8,
     "metadata": {},
     "output_type": "execute_result"
    }
   ],
   "source": [
    "#посмотрим на название колонок\n",
    "df.columns"
   ]
  },
  {
   "cell_type": "code",
   "execution_count": 9,
   "metadata": {},
   "outputs": [
    {
     "data": {
      "text/plain": [
       "Index(['name', 'platform', 'year_of_release', 'genre', 'na_sales', 'eu_sales',\n",
       "       'jp_sales', 'other_sales', 'critic_score', 'user_score', 'rating'],\n",
       "      dtype='object')"
      ]
     },
     "execution_count": 9,
     "metadata": {},
     "output_type": "execute_result"
    }
   ],
   "source": [
    "# приведем название колонок к единому нижнему регистру \n",
    "df.columns = df.columns.str.lower()\n",
    "df.columns"
   ]
  },
  {
   "cell_type": "code",
   "execution_count": 10,
   "metadata": {},
   "outputs": [
    {
     "data": {
      "text/plain": [
       "name                  2\n",
       "platform              0\n",
       "year_of_release     269\n",
       "genre                 2\n",
       "na_sales              0\n",
       "eu_sales              0\n",
       "jp_sales              0\n",
       "other_sales           0\n",
       "critic_score       8578\n",
       "user_score         6701\n",
       "rating             6766\n",
       "dtype: int64"
      ]
     },
     "execution_count": 10,
     "metadata": {},
     "output_type": "execute_result"
    }
   ],
   "source": [
    "# обработаем и заполним пропущенные значения\n",
    "df.isna().sum()"
   ]
  },
  {
   "cell_type": "code",
   "execution_count": 11,
   "metadata": {},
   "outputs": [],
   "source": [
    "# посмотрим более детально на пропуски в колоках 'genre', 'year_of_release' и 'name'\n",
    "# напишем фукцию, которая возвращает Series с пропусками в указанной колонке\n",
    "def miss_data(col):\n",
    "    return df[df[col].isnull()]"
   ]
  },
  {
   "cell_type": "code",
   "execution_count": 12,
   "metadata": {},
   "outputs": [
    {
     "data": {
      "text/html": [
       "<div>\n",
       "<style scoped>\n",
       "    .dataframe tbody tr th:only-of-type {\n",
       "        vertical-align: middle;\n",
       "    }\n",
       "\n",
       "    .dataframe tbody tr th {\n",
       "        vertical-align: top;\n",
       "    }\n",
       "\n",
       "    .dataframe thead th {\n",
       "        text-align: right;\n",
       "    }\n",
       "</style>\n",
       "<table border=\"1\" class=\"dataframe\">\n",
       "  <thead>\n",
       "    <tr style=\"text-align: right;\">\n",
       "      <th></th>\n",
       "      <th>name</th>\n",
       "      <th>platform</th>\n",
       "      <th>year_of_release</th>\n",
       "      <th>genre</th>\n",
       "      <th>na_sales</th>\n",
       "      <th>eu_sales</th>\n",
       "      <th>jp_sales</th>\n",
       "      <th>other_sales</th>\n",
       "      <th>critic_score</th>\n",
       "      <th>user_score</th>\n",
       "      <th>rating</th>\n",
       "    </tr>\n",
       "  </thead>\n",
       "  <tbody>\n",
       "    <tr>\n",
       "      <th>659</th>\n",
       "      <td>NaN</td>\n",
       "      <td>GEN</td>\n",
       "      <td>1993.0</td>\n",
       "      <td>NaN</td>\n",
       "      <td>1.78</td>\n",
       "      <td>0.53</td>\n",
       "      <td>0.00</td>\n",
       "      <td>0.08</td>\n",
       "      <td>NaN</td>\n",
       "      <td>NaN</td>\n",
       "      <td>NaN</td>\n",
       "    </tr>\n",
       "    <tr>\n",
       "      <th>14244</th>\n",
       "      <td>NaN</td>\n",
       "      <td>GEN</td>\n",
       "      <td>1993.0</td>\n",
       "      <td>NaN</td>\n",
       "      <td>0.00</td>\n",
       "      <td>0.00</td>\n",
       "      <td>0.03</td>\n",
       "      <td>0.00</td>\n",
       "      <td>NaN</td>\n",
       "      <td>NaN</td>\n",
       "      <td>NaN</td>\n",
       "    </tr>\n",
       "  </tbody>\n",
       "</table>\n",
       "</div>"
      ],
      "text/plain": [
       "      name platform  year_of_release genre  na_sales  eu_sales  jp_sales  \\\n",
       "659    NaN      GEN           1993.0   NaN      1.78      0.53      0.00   \n",
       "14244  NaN      GEN           1993.0   NaN      0.00      0.00      0.03   \n",
       "\n",
       "       other_sales  critic_score user_score rating  \n",
       "659           0.08           NaN        NaN    NaN  \n",
       "14244         0.00           NaN        NaN    NaN  "
      ]
     },
     "execution_count": 12,
     "metadata": {},
     "output_type": "execute_result"
    }
   ],
   "source": [
    "miss_data('name')"
   ]
  },
  {
   "cell_type": "code",
   "execution_count": 13,
   "metadata": {},
   "outputs": [
    {
     "data": {
      "text/html": [
       "<div>\n",
       "<style scoped>\n",
       "    .dataframe tbody tr th:only-of-type {\n",
       "        vertical-align: middle;\n",
       "    }\n",
       "\n",
       "    .dataframe tbody tr th {\n",
       "        vertical-align: top;\n",
       "    }\n",
       "\n",
       "    .dataframe thead th {\n",
       "        text-align: right;\n",
       "    }\n",
       "</style>\n",
       "<table border=\"1\" class=\"dataframe\">\n",
       "  <thead>\n",
       "    <tr style=\"text-align: right;\">\n",
       "      <th></th>\n",
       "      <th>name</th>\n",
       "      <th>platform</th>\n",
       "      <th>year_of_release</th>\n",
       "      <th>genre</th>\n",
       "      <th>na_sales</th>\n",
       "      <th>eu_sales</th>\n",
       "      <th>jp_sales</th>\n",
       "      <th>other_sales</th>\n",
       "      <th>critic_score</th>\n",
       "      <th>user_score</th>\n",
       "      <th>rating</th>\n",
       "    </tr>\n",
       "  </thead>\n",
       "  <tbody>\n",
       "    <tr>\n",
       "      <th>659</th>\n",
       "      <td>NaN</td>\n",
       "      <td>GEN</td>\n",
       "      <td>1993.0</td>\n",
       "      <td>NaN</td>\n",
       "      <td>1.78</td>\n",
       "      <td>0.53</td>\n",
       "      <td>0.00</td>\n",
       "      <td>0.08</td>\n",
       "      <td>NaN</td>\n",
       "      <td>NaN</td>\n",
       "      <td>NaN</td>\n",
       "    </tr>\n",
       "    <tr>\n",
       "      <th>14244</th>\n",
       "      <td>NaN</td>\n",
       "      <td>GEN</td>\n",
       "      <td>1993.0</td>\n",
       "      <td>NaN</td>\n",
       "      <td>0.00</td>\n",
       "      <td>0.00</td>\n",
       "      <td>0.03</td>\n",
       "      <td>0.00</td>\n",
       "      <td>NaN</td>\n",
       "      <td>NaN</td>\n",
       "      <td>NaN</td>\n",
       "    </tr>\n",
       "  </tbody>\n",
       "</table>\n",
       "</div>"
      ],
      "text/plain": [
       "      name platform  year_of_release genre  na_sales  eu_sales  jp_sales  \\\n",
       "659    NaN      GEN           1993.0   NaN      1.78      0.53      0.00   \n",
       "14244  NaN      GEN           1993.0   NaN      0.00      0.00      0.03   \n",
       "\n",
       "       other_sales  critic_score user_score rating  \n",
       "659           0.08           NaN        NaN    NaN  \n",
       "14244         0.00           NaN        NaN    NaN  "
      ]
     },
     "execution_count": 13,
     "metadata": {},
     "output_type": "execute_result"
    }
   ],
   "source": [
    "miss_data('genre')"
   ]
  },
  {
   "cell_type": "code",
   "execution_count": 14,
   "metadata": {},
   "outputs": [],
   "source": [
    "# из видим, что строчки с пропусками их колонки с названием и колонки жанра одинаковые - смело их удаляем\n",
    "df.drop(miss_data('name').index, inplace = True)"
   ]
  },
  {
   "cell_type": "code",
   "execution_count": 15,
   "metadata": {},
   "outputs": [
    {
     "data": {
      "text/html": [
       "<div>\n",
       "<style scoped>\n",
       "    .dataframe tbody tr th:only-of-type {\n",
       "        vertical-align: middle;\n",
       "    }\n",
       "\n",
       "    .dataframe tbody tr th {\n",
       "        vertical-align: top;\n",
       "    }\n",
       "\n",
       "    .dataframe thead th {\n",
       "        text-align: right;\n",
       "    }\n",
       "</style>\n",
       "<table border=\"1\" class=\"dataframe\">\n",
       "  <thead>\n",
       "    <tr style=\"text-align: right;\">\n",
       "      <th></th>\n",
       "      <th>name</th>\n",
       "      <th>platform</th>\n",
       "      <th>year_of_release</th>\n",
       "      <th>genre</th>\n",
       "      <th>na_sales</th>\n",
       "      <th>eu_sales</th>\n",
       "      <th>jp_sales</th>\n",
       "      <th>other_sales</th>\n",
       "      <th>critic_score</th>\n",
       "      <th>user_score</th>\n",
       "      <th>rating</th>\n",
       "    </tr>\n",
       "  </thead>\n",
       "  <tbody>\n",
       "    <tr>\n",
       "      <th>183</th>\n",
       "      <td>Madden NFL 2004</td>\n",
       "      <td>PS2</td>\n",
       "      <td>NaN</td>\n",
       "      <td>Sports</td>\n",
       "      <td>4.26</td>\n",
       "      <td>0.26</td>\n",
       "      <td>0.01</td>\n",
       "      <td>0.71</td>\n",
       "      <td>94.0</td>\n",
       "      <td>8.5</td>\n",
       "      <td>E</td>\n",
       "    </tr>\n",
       "    <tr>\n",
       "      <th>377</th>\n",
       "      <td>FIFA Soccer 2004</td>\n",
       "      <td>PS2</td>\n",
       "      <td>NaN</td>\n",
       "      <td>Sports</td>\n",
       "      <td>0.59</td>\n",
       "      <td>2.36</td>\n",
       "      <td>0.04</td>\n",
       "      <td>0.51</td>\n",
       "      <td>84.0</td>\n",
       "      <td>6.4</td>\n",
       "      <td>E</td>\n",
       "    </tr>\n",
       "    <tr>\n",
       "      <th>456</th>\n",
       "      <td>LEGO Batman: The Videogame</td>\n",
       "      <td>Wii</td>\n",
       "      <td>NaN</td>\n",
       "      <td>Action</td>\n",
       "      <td>1.80</td>\n",
       "      <td>0.97</td>\n",
       "      <td>0.00</td>\n",
       "      <td>0.29</td>\n",
       "      <td>74.0</td>\n",
       "      <td>7.9</td>\n",
       "      <td>E10+</td>\n",
       "    </tr>\n",
       "    <tr>\n",
       "      <th>475</th>\n",
       "      <td>wwe Smackdown vs. Raw 2006</td>\n",
       "      <td>PS2</td>\n",
       "      <td>NaN</td>\n",
       "      <td>Fighting</td>\n",
       "      <td>1.57</td>\n",
       "      <td>1.02</td>\n",
       "      <td>0.00</td>\n",
       "      <td>0.41</td>\n",
       "      <td>NaN</td>\n",
       "      <td>NaN</td>\n",
       "      <td>NaN</td>\n",
       "    </tr>\n",
       "    <tr>\n",
       "      <th>609</th>\n",
       "      <td>Space Invaders</td>\n",
       "      <td>2600</td>\n",
       "      <td>NaN</td>\n",
       "      <td>Shooter</td>\n",
       "      <td>2.36</td>\n",
       "      <td>0.14</td>\n",
       "      <td>0.00</td>\n",
       "      <td>0.03</td>\n",
       "      <td>NaN</td>\n",
       "      <td>NaN</td>\n",
       "      <td>NaN</td>\n",
       "    </tr>\n",
       "    <tr>\n",
       "      <th>...</th>\n",
       "      <td>...</td>\n",
       "      <td>...</td>\n",
       "      <td>...</td>\n",
       "      <td>...</td>\n",
       "      <td>...</td>\n",
       "      <td>...</td>\n",
       "      <td>...</td>\n",
       "      <td>...</td>\n",
       "      <td>...</td>\n",
       "      <td>...</td>\n",
       "      <td>...</td>\n",
       "    </tr>\n",
       "    <tr>\n",
       "      <th>16373</th>\n",
       "      <td>PDC World Championship Darts 2008</td>\n",
       "      <td>PSP</td>\n",
       "      <td>NaN</td>\n",
       "      <td>Sports</td>\n",
       "      <td>0.01</td>\n",
       "      <td>0.00</td>\n",
       "      <td>0.00</td>\n",
       "      <td>0.00</td>\n",
       "      <td>43.0</td>\n",
       "      <td>tbd</td>\n",
       "      <td>E10+</td>\n",
       "    </tr>\n",
       "    <tr>\n",
       "      <th>16405</th>\n",
       "      <td>Freaky Flyers</td>\n",
       "      <td>GC</td>\n",
       "      <td>NaN</td>\n",
       "      <td>Racing</td>\n",
       "      <td>0.01</td>\n",
       "      <td>0.00</td>\n",
       "      <td>0.00</td>\n",
       "      <td>0.00</td>\n",
       "      <td>69.0</td>\n",
       "      <td>6.5</td>\n",
       "      <td>T</td>\n",
       "    </tr>\n",
       "    <tr>\n",
       "      <th>16448</th>\n",
       "      <td>Inversion</td>\n",
       "      <td>PC</td>\n",
       "      <td>NaN</td>\n",
       "      <td>Shooter</td>\n",
       "      <td>0.01</td>\n",
       "      <td>0.00</td>\n",
       "      <td>0.00</td>\n",
       "      <td>0.00</td>\n",
       "      <td>59.0</td>\n",
       "      <td>6.7</td>\n",
       "      <td>M</td>\n",
       "    </tr>\n",
       "    <tr>\n",
       "      <th>16458</th>\n",
       "      <td>Hakuouki: Shinsengumi Kitan</td>\n",
       "      <td>PS3</td>\n",
       "      <td>NaN</td>\n",
       "      <td>Adventure</td>\n",
       "      <td>0.01</td>\n",
       "      <td>0.00</td>\n",
       "      <td>0.00</td>\n",
       "      <td>0.00</td>\n",
       "      <td>NaN</td>\n",
       "      <td>NaN</td>\n",
       "      <td>NaN</td>\n",
       "    </tr>\n",
       "    <tr>\n",
       "      <th>16522</th>\n",
       "      <td>Virtua Quest</td>\n",
       "      <td>GC</td>\n",
       "      <td>NaN</td>\n",
       "      <td>Role-Playing</td>\n",
       "      <td>0.01</td>\n",
       "      <td>0.00</td>\n",
       "      <td>0.00</td>\n",
       "      <td>0.00</td>\n",
       "      <td>55.0</td>\n",
       "      <td>5.5</td>\n",
       "      <td>T</td>\n",
       "    </tr>\n",
       "  </tbody>\n",
       "</table>\n",
       "<p>269 rows × 11 columns</p>\n",
       "</div>"
      ],
      "text/plain": [
       "                                    name platform  year_of_release  \\\n",
       "183                      Madden NFL 2004      PS2              NaN   \n",
       "377                     FIFA Soccer 2004      PS2              NaN   \n",
       "456           LEGO Batman: The Videogame      Wii              NaN   \n",
       "475           wwe Smackdown vs. Raw 2006      PS2              NaN   \n",
       "609                       Space Invaders     2600              NaN   \n",
       "...                                  ...      ...              ...   \n",
       "16373  PDC World Championship Darts 2008      PSP              NaN   \n",
       "16405                      Freaky Flyers       GC              NaN   \n",
       "16448                          Inversion       PC              NaN   \n",
       "16458        Hakuouki: Shinsengumi Kitan      PS3              NaN   \n",
       "16522                       Virtua Quest       GC              NaN   \n",
       "\n",
       "              genre  na_sales  eu_sales  jp_sales  other_sales  critic_score  \\\n",
       "183          Sports      4.26      0.26      0.01         0.71          94.0   \n",
       "377          Sports      0.59      2.36      0.04         0.51          84.0   \n",
       "456          Action      1.80      0.97      0.00         0.29          74.0   \n",
       "475        Fighting      1.57      1.02      0.00         0.41           NaN   \n",
       "609         Shooter      2.36      0.14      0.00         0.03           NaN   \n",
       "...             ...       ...       ...       ...          ...           ...   \n",
       "16373        Sports      0.01      0.00      0.00         0.00          43.0   \n",
       "16405        Racing      0.01      0.00      0.00         0.00          69.0   \n",
       "16448       Shooter      0.01      0.00      0.00         0.00          59.0   \n",
       "16458     Adventure      0.01      0.00      0.00         0.00           NaN   \n",
       "16522  Role-Playing      0.01      0.00      0.00         0.00          55.0   \n",
       "\n",
       "      user_score rating  \n",
       "183          8.5      E  \n",
       "377          6.4      E  \n",
       "456          7.9   E10+  \n",
       "475          NaN    NaN  \n",
       "609          NaN    NaN  \n",
       "...          ...    ...  \n",
       "16373        tbd   E10+  \n",
       "16405        6.5      T  \n",
       "16448        6.7      M  \n",
       "16458        NaN    NaN  \n",
       "16522        5.5      T  \n",
       "\n",
       "[269 rows x 11 columns]"
      ]
     },
     "execution_count": 15,
     "metadata": {},
     "output_type": "execute_result"
    }
   ],
   "source": [
    "miss_data('year_of_release')"
   ]
  },
  {
   "cell_type": "code",
   "execution_count": 16,
   "metadata": {},
   "outputs": [
    {
     "data": {
      "text/html": [
       "<div>\n",
       "<style scoped>\n",
       "    .dataframe tbody tr th:only-of-type {\n",
       "        vertical-align: middle;\n",
       "    }\n",
       "\n",
       "    .dataframe tbody tr th {\n",
       "        vertical-align: top;\n",
       "    }\n",
       "\n",
       "    .dataframe thead th {\n",
       "        text-align: right;\n",
       "    }\n",
       "</style>\n",
       "<table border=\"1\" class=\"dataframe\">\n",
       "  <thead>\n",
       "    <tr style=\"text-align: right;\">\n",
       "      <th></th>\n",
       "      <th>name</th>\n",
       "      <th>platform</th>\n",
       "      <th>year_of_release</th>\n",
       "      <th>genre</th>\n",
       "      <th>na_sales</th>\n",
       "      <th>eu_sales</th>\n",
       "      <th>jp_sales</th>\n",
       "      <th>other_sales</th>\n",
       "      <th>critic_score</th>\n",
       "      <th>user_score</th>\n",
       "      <th>rating</th>\n",
       "    </tr>\n",
       "  </thead>\n",
       "  <tbody>\n",
       "    <tr>\n",
       "      <th>183</th>\n",
       "      <td>Madden NFL 2004</td>\n",
       "      <td>PS2</td>\n",
       "      <td>NaN</td>\n",
       "      <td>Sports</td>\n",
       "      <td>4.26</td>\n",
       "      <td>0.26</td>\n",
       "      <td>0.01</td>\n",
       "      <td>0.71</td>\n",
       "      <td>94.0</td>\n",
       "      <td>8.5</td>\n",
       "      <td>E</td>\n",
       "    </tr>\n",
       "    <tr>\n",
       "      <th>1881</th>\n",
       "      <td>Madden NFL 2004</td>\n",
       "      <td>XB</td>\n",
       "      <td>2003.0</td>\n",
       "      <td>Sports</td>\n",
       "      <td>1.02</td>\n",
       "      <td>0.02</td>\n",
       "      <td>0.00</td>\n",
       "      <td>0.05</td>\n",
       "      <td>92.0</td>\n",
       "      <td>8.3</td>\n",
       "      <td>E</td>\n",
       "    </tr>\n",
       "    <tr>\n",
       "      <th>3889</th>\n",
       "      <td>Madden NFL 2004</td>\n",
       "      <td>GC</td>\n",
       "      <td>2003.0</td>\n",
       "      <td>Sports</td>\n",
       "      <td>0.40</td>\n",
       "      <td>0.10</td>\n",
       "      <td>0.00</td>\n",
       "      <td>0.01</td>\n",
       "      <td>94.0</td>\n",
       "      <td>7.7</td>\n",
       "      <td>E</td>\n",
       "    </tr>\n",
       "    <tr>\n",
       "      <th>5708</th>\n",
       "      <td>Madden NFL 2004</td>\n",
       "      <td>GBA</td>\n",
       "      <td>2003.0</td>\n",
       "      <td>Sports</td>\n",
       "      <td>0.22</td>\n",
       "      <td>0.08</td>\n",
       "      <td>0.00</td>\n",
       "      <td>0.01</td>\n",
       "      <td>70.0</td>\n",
       "      <td>6.6</td>\n",
       "      <td>E</td>\n",
       "    </tr>\n",
       "  </tbody>\n",
       "</table>\n",
       "</div>"
      ],
      "text/plain": [
       "                 name platform  year_of_release   genre  na_sales  eu_sales  \\\n",
       "183   Madden NFL 2004      PS2              NaN  Sports      4.26      0.26   \n",
       "1881  Madden NFL 2004       XB           2003.0  Sports      1.02      0.02   \n",
       "3889  Madden NFL 2004       GC           2003.0  Sports      0.40      0.10   \n",
       "5708  Madden NFL 2004      GBA           2003.0  Sports      0.22      0.08   \n",
       "\n",
       "      jp_sales  other_sales  critic_score user_score rating  \n",
       "183       0.01         0.71          94.0        8.5      E  \n",
       "1881      0.00         0.05          92.0        8.3      E  \n",
       "3889      0.00         0.01          94.0        7.7      E  \n",
       "5708      0.00         0.01          70.0        6.6      E  "
      ]
     },
     "execution_count": 16,
     "metadata": {},
     "output_type": "execute_result"
    }
   ],
   "source": [
    "# есть предположение, что пропушенные года можно восстановить по другим платформам. Например: игра Madden NFL 2004\n",
    "df.query(\"name == 'Madden NFL 2004'\")"
   ]
  },
  {
   "cell_type": "code",
   "execution_count": 17,
   "metadata": {},
   "outputs": [],
   "source": [
    "# выделяем ненулевые данные по столбцу \n",
    "not_null_values = df[df['year_of_release'].notnull()]"
   ]
  },
  {
   "cell_type": "code",
   "execution_count": 18,
   "metadata": {},
   "outputs": [],
   "source": [
    "# пишем функцию для замены пропусков\n",
    "def fill_year_of_release(row):\n",
    "    col = 'year_of_release'\n",
    "    rows = not_null_values[not_null_values['name'] == row['name']]\n",
    "   \n",
    "    if len(rows) > 0:\n",
    "        return rows.iloc[0][col]\n",
    "    \n",
    "    return row[col]"
   ]
  },
  {
   "cell_type": "code",
   "execution_count": 19,
   "metadata": {},
   "outputs": [
    {
     "name": "stdout",
     "output_type": "stream",
     "text": [
      "Количество пропусков у столбца год выпуска: 146\n"
     ]
    }
   ],
   "source": [
    "df['year_of_release'] = df.apply(fill_year_of_release, axis=1)\n",
    "print('Количество пропусков у столбца год выпуска: {}'.format(len(miss_data('year_of_release'))))"
   ]
  },
  {
   "cell_type": "code",
   "execution_count": 20,
   "metadata": {},
   "outputs": [
    {
     "name": "stdout",
     "output_type": "stream",
     "text": [
      "Количество пропусков у столбца год выпуска: 0\n"
     ]
    }
   ],
   "source": [
    "df.drop(miss_data('year_of_release').index, inplace = True)\n",
    "print('Количество пропусков у столбца год выпуска: {}'.format(len(miss_data('year_of_release'))))"
   ]
  },
  {
   "cell_type": "code",
   "execution_count": 21,
   "metadata": {
    "scrolled": false
   },
   "outputs": [
    {
     "data": {
      "text/plain": [
       "name                0.000000\n",
       "platform            0.000000\n",
       "year_of_release     0.000000\n",
       "genre               0.000000\n",
       "na_sales            0.000000\n",
       "eu_sales            0.000000\n",
       "jp_sales            0.000000\n",
       "other_sales         0.000000\n",
       "user_score         40.037424\n",
       "rating             40.435806\n",
       "critic_score       51.258526\n",
       "dtype: float64"
      ]
     },
     "execution_count": 21,
     "metadata": {},
     "output_type": "execute_result"
    }
   ],
   "source": [
    "df.isnull().sum().sort_values()/df.shape[0]*100"
   ]
  },
  {
   "cell_type": "markdown",
   "metadata": {},
   "source": [
    "Почти половина данных содержит пропуски в столбцах с оценкой критиками/пользователями или рейтингом. Удалять такой большой объем информации нельзя.\n",
    "Заменить пропуски в оценке/рейтинге игры на ноль или медиану/среднее значение всего столбца тоже неправильно, так как показатель оценки/рейтинга является индивидуальной характеристикой игры и игровой платформы, на которой она используется, и не зависит от показателей оценки/рейтинга других игр.\n",
    "Поэтому оставим пропуски в данных столбцах без изменений\n",
    "\n",
    "Так как столбец critic_score остался с пропусками, мы не сможем изменить тип его данных на целочисленный.\n",
    "Однако в столбце user_score тип данных object надо изменить на float. Для этого выясним, что означает значение 'tbd' в этом столбце"
   ]
  },
  {
   "cell_type": "markdown",
   "metadata": {},
   "source": [
    "Аббревиатура 'tbd' означает 'to be determined' и переводится как 'будет определено'. То есть на момент заполнения данных оценка игры пользователями отсутствовала, и значение 'tbd' приравнивается к пропуску в оценке. Переведем значение 'tbd' в 'nan' и исправим тип данных"
   ]
  },
  {
   "cell_type": "code",
   "execution_count": 22,
   "metadata": {},
   "outputs": [],
   "source": [
    "df['user_score'] = df['user_score'].replace('tbd', np.nan).astype('float64')"
   ]
  },
  {
   "cell_type": "code",
   "execution_count": 23,
   "metadata": {},
   "outputs": [],
   "source": [
    "# заменим типы данных на более подходящие\n",
    "df['year_of_release'] = df['year_of_release'].astype('int')\n",
    "df['critic_score'] = df['critic_score'].astype('float64')"
   ]
  },
  {
   "cell_type": "code",
   "execution_count": 24,
   "metadata": {},
   "outputs": [
    {
     "data": {
      "text/html": [
       "<div>\n",
       "<style scoped>\n",
       "    .dataframe tbody tr th:only-of-type {\n",
       "        vertical-align: middle;\n",
       "    }\n",
       "\n",
       "    .dataframe tbody tr th {\n",
       "        vertical-align: top;\n",
       "    }\n",
       "\n",
       "    .dataframe thead th {\n",
       "        text-align: right;\n",
       "    }\n",
       "</style>\n",
       "<table border=\"1\" class=\"dataframe\">\n",
       "  <thead>\n",
       "    <tr style=\"text-align: right;\">\n",
       "      <th></th>\n",
       "      <th>name</th>\n",
       "      <th>platform</th>\n",
       "      <th>year_of_release</th>\n",
       "      <th>genre</th>\n",
       "      <th>na_sales</th>\n",
       "      <th>eu_sales</th>\n",
       "      <th>jp_sales</th>\n",
       "      <th>other_sales</th>\n",
       "      <th>critic_score</th>\n",
       "      <th>user_score</th>\n",
       "      <th>rating</th>\n",
       "      <th>sales</th>\n",
       "    </tr>\n",
       "  </thead>\n",
       "  <tbody>\n",
       "    <tr>\n",
       "      <th>0</th>\n",
       "      <td>Wii Sports</td>\n",
       "      <td>Wii</td>\n",
       "      <td>2006</td>\n",
       "      <td>Sports</td>\n",
       "      <td>41.36</td>\n",
       "      <td>28.96</td>\n",
       "      <td>3.77</td>\n",
       "      <td>8.45</td>\n",
       "      <td>76.0</td>\n",
       "      <td>8.0</td>\n",
       "      <td>E</td>\n",
       "      <td>82.54</td>\n",
       "    </tr>\n",
       "    <tr>\n",
       "      <th>1</th>\n",
       "      <td>Super Mario Bros.</td>\n",
       "      <td>NES</td>\n",
       "      <td>1985</td>\n",
       "      <td>Platform</td>\n",
       "      <td>29.08</td>\n",
       "      <td>3.58</td>\n",
       "      <td>6.81</td>\n",
       "      <td>0.77</td>\n",
       "      <td>NaN</td>\n",
       "      <td>NaN</td>\n",
       "      <td>NaN</td>\n",
       "      <td>40.24</td>\n",
       "    </tr>\n",
       "    <tr>\n",
       "      <th>2</th>\n",
       "      <td>Mario Kart Wii</td>\n",
       "      <td>Wii</td>\n",
       "      <td>2008</td>\n",
       "      <td>Racing</td>\n",
       "      <td>15.68</td>\n",
       "      <td>12.76</td>\n",
       "      <td>3.79</td>\n",
       "      <td>3.29</td>\n",
       "      <td>82.0</td>\n",
       "      <td>8.3</td>\n",
       "      <td>E</td>\n",
       "      <td>35.52</td>\n",
       "    </tr>\n",
       "    <tr>\n",
       "      <th>3</th>\n",
       "      <td>Wii Sports Resort</td>\n",
       "      <td>Wii</td>\n",
       "      <td>2009</td>\n",
       "      <td>Sports</td>\n",
       "      <td>15.61</td>\n",
       "      <td>10.93</td>\n",
       "      <td>3.28</td>\n",
       "      <td>2.95</td>\n",
       "      <td>80.0</td>\n",
       "      <td>8.0</td>\n",
       "      <td>E</td>\n",
       "      <td>32.77</td>\n",
       "    </tr>\n",
       "    <tr>\n",
       "      <th>4</th>\n",
       "      <td>Pokemon Red/Pokemon Blue</td>\n",
       "      <td>GB</td>\n",
       "      <td>1996</td>\n",
       "      <td>Role-Playing</td>\n",
       "      <td>11.27</td>\n",
       "      <td>8.89</td>\n",
       "      <td>10.22</td>\n",
       "      <td>1.00</td>\n",
       "      <td>NaN</td>\n",
       "      <td>NaN</td>\n",
       "      <td>NaN</td>\n",
       "      <td>31.38</td>\n",
       "    </tr>\n",
       "  </tbody>\n",
       "</table>\n",
       "</div>"
      ],
      "text/plain": [
       "                       name platform  year_of_release         genre  na_sales  \\\n",
       "0                Wii Sports      Wii             2006        Sports     41.36   \n",
       "1         Super Mario Bros.      NES             1985      Platform     29.08   \n",
       "2            Mario Kart Wii      Wii             2008        Racing     15.68   \n",
       "3         Wii Sports Resort      Wii             2009        Sports     15.61   \n",
       "4  Pokemon Red/Pokemon Blue       GB             1996  Role-Playing     11.27   \n",
       "\n",
       "   eu_sales  jp_sales  other_sales  critic_score  user_score rating  sales  \n",
       "0     28.96      3.77         8.45          76.0         8.0      E  82.54  \n",
       "1      3.58      6.81         0.77           NaN         NaN    NaN  40.24  \n",
       "2     12.76      3.79         3.29          82.0         8.3      E  35.52  \n",
       "3     10.93      3.28         2.95          80.0         8.0      E  32.77  \n",
       "4      8.89     10.22         1.00           NaN         NaN    NaN  31.38  "
      ]
     },
     "execution_count": 24,
     "metadata": {},
     "output_type": "execute_result"
    }
   ],
   "source": [
    "# Посчитаем для каждой игры на отдельной платформе суммарные продажи во всех регионах и запишем их в отдельный столбец\n",
    "\n",
    "df['sales'] = df['na_sales'] + df['eu_sales'] + df['jp_sales'] + df['other_sales']\n",
    "df.head()"
   ]
  },
  {
   "cell_type": "markdown",
   "metadata": {},
   "source": [
    "### Вывод\n",
    "\n",
    "В результате предварительной обработки данных названия столбцов приведены к единому регистру.\n",
    "\n",
    "От пропусков в столбцах name и genre избавились, удалив две записи в таблице.\n",
    "\n",
    "Избавились от пропусков в столбце year_of_release. Вначале заменили пропуски в дате выпуска игры на известную нам дату выпуска этой игры по другим записям. Оставшиеся пропуски удалили, так как они занимали примерно 2%\n",
    "\n",
    "Столбец year_of_release приведен к целочисленному типу данных.\n",
    "\n",
    "Проанализировали нулевые значения в столбцах по продажам игр в разных регионах: na_sales, eu_sales, jp_sales и other_sales.\n",
    "\n",
    "Так как данные в таблице указаны в миллионах долларов, то значение менее 0.1 означает доход менее 100 000 долларов. Это большие суммы, но в таблице они могли быть учтены как нули. Поэтому нулевые показатели представляются реальными данными и никаких преобразований не требуют.\n",
    "\n",
    "Проанализировали пропуски в столбцах с оценкой игр критиками, пользователями и рейтингом ESRB: critic_score, user_score, rating.\n",
    "\n",
    "52% данных содержат пропуски в столбцах с оценкой критиками/пользователями или рейтингом. Поэтому удалять такой большой объем информации нельзя.\n",
    "\n",
    "Заменить пропуски в оценке/рейтинге игры на ноль или медиану/среднее значение всего столбца тоже неправильно, так как показатель оценки/рейтинга является индивидуальной характеристикой игры и игровой платформы, на которой она используется, и не зависит от показателей оценки/рейтинга других игр. Поэтому пропуски в данных столбцах оставлены без изменений.\n",
    "\n",
    "Аббревиатура 'tbd' в столбце user_score означает 'to be determined' и переводится как 'будет определено'. То есть на момент заполнения данных оценка игры пользователями отсутствовала, и значение 'tbd' приравнивается к пропуску в оценке. Значение 'tbd' было переведено в 'nan'.\n",
    "\n",
    "Столбцам critic_score и user_score был присвоен вещественный тип данных.\n",
    "\n",
    "Для каждой игры на отдельной платформе были посчитаны суммарные продажи во всех регионах."
   ]
  },
  {
   "cell_type": "markdown",
   "metadata": {},
   "source": [
    "## Шаг"
   ]
  },
  {
   "cell_type": "markdown",
   "metadata": {},
   "source": [
    "### Исследовательский анализ данных"
   ]
  },
  {
   "cell_type": "code",
   "execution_count": 25,
   "metadata": {},
   "outputs": [
    {
     "name": "stdout",
     "output_type": "stream",
     "text": [
      "year_of_release\n",
      "1980      8\n",
      "1981     43\n",
      "1982     33\n",
      "1983     16\n",
      "1984     13\n",
      "1985     13\n",
      "1986     21\n",
      "1987     15\n",
      "1988     11\n",
      "1989     14\n",
      "1990     14\n",
      "1991     40\n",
      "1992     37\n",
      "1993     58\n",
      "1994    112\n",
      "1995    200\n",
      "1996    247\n",
      "1997    268\n",
      "1998    347\n",
      "1999    293\n",
      "2000    300\n",
      "2001    410\n",
      "2002    573\n",
      "2003    491\n",
      "2004    521\n",
      "2005    617\n",
      "2006    729\n",
      "2007    838\n",
      "2008    987\n",
      "2009    957\n",
      "2010    862\n",
      "2011    750\n",
      "2012    406\n",
      "2013    293\n",
      "2014    279\n",
      "2015    331\n",
      "2016    279\n",
      "Name: name, dtype: int64\n"
     ]
    }
   ],
   "source": [
    "# Посмотрим, сколько игр выпускалось в разные годы. Важны ли данные за все периоды?\n",
    "games_per_year = df[['year_of_release', 'name']] #возьмем только две колонки из датасета\n",
    "games_per_year = games_per_year.drop_duplicates() # удалим дубликаты, так как одна игра может выйти сразу на нескольких платформах\n",
    "games_per_year = games_per_year.groupby('year_of_release')['name'].count() # группируем по годам\n",
    "print(games_per_year)"
   ]
  },
  {
   "cell_type": "code",
   "execution_count": 26,
   "metadata": {},
   "outputs": [
    {
     "data": {
      "image/png": "[encoded data removed]",
      "text/plain": [
       "<Figure size 432x216 with 1 Axes>"
      ]
     },
     "metadata": {
      "needs_background": "light"
     },
     "output_type": "display_data"
    }
   ],
   "source": [
    "plt.style.use('bmh')\n",
    "\n",
    "(\n",
    "    games_per_year\n",
    "        .plot(figsize=(6, 3), colormap='jet', legend=False, title='Количество игр по годам')\n",
    "        .set(xlabel='Год релиза', ylabel='Количество')\n",
    ")\n",
    "\n",
    "plt.show()"
   ]
  },
  {
   "cell_type": "markdown",
   "metadata": {},
   "source": [
    "Думаю, что для нас важны данные, когда игровая индустрия становится более конкурентной. когда появляются новые платформы и новые жанры. Видим три больших скачка - в конце 90-х, начале 00-х и в 2008 году, к 2012 году видим сильный спад, скорее всего это связано с массовым появлением смартфонов и мобильных игр, соответсвенно."
   ]
  },
  {
   "cell_type": "code",
   "execution_count": 27,
   "metadata": {},
   "outputs": [],
   "source": [
    "# Посмотрим, как менялись продажи по платформам.\n",
    "def total_sales_per_platform_for(df):\n",
    "    return (\n",
    "        df\n",
    "            .pivot_table(index='platform', values='sales', aggfunc='sum')\n",
    "            .sort_values('sales', ascending=False)\n",
    "    )"
   ]
  },
  {
   "cell_type": "code",
   "execution_count": 28,
   "metadata": {},
   "outputs": [],
   "source": [
    "# Столбчатая диаграмма глобальных продаж\n",
    "def bar_plot(df):\n",
    "    (\n",
    "        df\n",
    "            .plot(kind='bar', y='sales', figsize=(10, 5), legend=False)\n",
    "            .set(xlabel='Платформа', ylabel='Глобальные продажи')\n",
    "    )\n",
    "    plt.show()"
   ]
  },
  {
   "cell_type": "code",
   "execution_count": 29,
   "metadata": {},
   "outputs": [
    {
     "data": {
      "image/png": "[encoded data removed]",
      "text/plain": [
       "<Figure size 720x360 with 1 Axes>"
      ]
     },
     "metadata": {
      "needs_background": "light"
     },
     "output_type": "display_data"
    }
   ],
   "source": [
    "bar_plot(total_sales_per_platform_for(df))"
   ]
  },
  {
   "cell_type": "code",
   "execution_count": 30,
   "metadata": {},
   "outputs": [
    {
     "data": {
      "text/html": [
       "<div>\n",
       "<style scoped>\n",
       "    .dataframe tbody tr th:only-of-type {\n",
       "        vertical-align: middle;\n",
       "    }\n",
       "\n",
       "    .dataframe tbody tr th {\n",
       "        vertical-align: top;\n",
       "    }\n",
       "\n",
       "    .dataframe thead th {\n",
       "        text-align: right;\n",
       "    }\n",
       "</style>\n",
       "<table border=\"1\" class=\"dataframe\">\n",
       "  <thead>\n",
       "    <tr style=\"text-align: right;\">\n",
       "      <th></th>\n",
       "      <th>sales</th>\n",
       "    </tr>\n",
       "    <tr>\n",
       "      <th>platform</th>\n",
       "      <th></th>\n",
       "    </tr>\n",
       "  </thead>\n",
       "  <tbody>\n",
       "    <tr>\n",
       "      <th>PS2</th>\n",
       "      <td>1247.16</td>\n",
       "    </tr>\n",
       "    <tr>\n",
       "      <th>X360</th>\n",
       "      <td>966.61</td>\n",
       "    </tr>\n",
       "    <tr>\n",
       "      <th>PS3</th>\n",
       "      <td>935.19</td>\n",
       "    </tr>\n",
       "    <tr>\n",
       "      <th>Wii</th>\n",
       "      <td>903.31</td>\n",
       "    </tr>\n",
       "    <tr>\n",
       "      <th>DS</th>\n",
       "      <td>804.28</td>\n",
       "    </tr>\n",
       "  </tbody>\n",
       "</table>\n",
       "</div>"
      ],
      "text/plain": [
       "            sales\n",
       "platform         \n",
       "PS2       1247.16\n",
       "X360       966.61\n",
       "PS3        935.19\n",
       "Wii        903.31\n",
       "DS         804.28"
      ]
     },
     "execution_count": 30,
     "metadata": {},
     "output_type": "execute_result"
    }
   ],
   "source": [
    "# выберем платформы с наибольшими глобальными продажами, например, первые 5 из списка выше и построим распределение по годам.\n",
    "\n",
    "top5_platform = total_sales_per_platform_for(df).head(5)\n",
    "top5_platform"
   ]
  },
  {
   "cell_type": "code",
   "execution_count": 31,
   "metadata": {},
   "outputs": [],
   "source": [
    "#Глобальные продажи по платформе по годам\n",
    "def yearly_total_sales_by_platform(name, df):\n",
    "    return (\n",
    "        df\n",
    "            .query(\"platform == @name\")\n",
    "            .pivot_table(index='year_of_release', values='sales', aggfunc='sum')\n",
    "            .sort_values('year_of_release', ascending=False)\n",
    "    )"
   ]
  },
  {
   "cell_type": "code",
   "execution_count": 32,
   "metadata": {},
   "outputs": [
    {
     "data": {
      "image/png": "[encoded data removed]",
      "text/plain": [
       "<Figure size 720x360 with 1 Axes>"
      ]
     },
     "metadata": {
      "needs_background": "light"
     },
     "output_type": "display_data"
    }
   ],
   "source": [
    "# Линейный график глобальных продаж по платформе по годам\n",
    "for platform in list(top5_platform.index):\n",
    "    yearly_total_sales_by_platform(platform, df)['sales'].plot(figsize=(10, 5), label=platform)\n",
    "    plt.xlabel(\"Год релиза\", labelpad=10)\n",
    "    plt.ylabel(\"Глобальные продажи\", labelpad=50)\n",
    "    plt.legend()"
   ]
  },
  {
   "cell_type": "code",
   "execution_count": 33,
   "metadata": {
    "scrolled": true
   },
   "outputs": [
    {
     "data": {
      "text/html": [
       "<div>\n",
       "<style scoped>\n",
       "    .dataframe tbody tr th:only-of-type {\n",
       "        vertical-align: middle;\n",
       "    }\n",
       "\n",
       "    .dataframe tbody tr th {\n",
       "        vertical-align: top;\n",
       "    }\n",
       "\n",
       "    .dataframe thead th {\n",
       "        text-align: right;\n",
       "    }\n",
       "</style>\n",
       "<table border=\"1\" class=\"dataframe\">\n",
       "  <thead>\n",
       "    <tr style=\"text-align: right;\">\n",
       "      <th></th>\n",
       "      <th>name</th>\n",
       "      <th>platform</th>\n",
       "      <th>year_of_release</th>\n",
       "      <th>genre</th>\n",
       "      <th>na_sales</th>\n",
       "      <th>eu_sales</th>\n",
       "      <th>jp_sales</th>\n",
       "      <th>other_sales</th>\n",
       "      <th>critic_score</th>\n",
       "      <th>user_score</th>\n",
       "      <th>rating</th>\n",
       "      <th>sales</th>\n",
       "    </tr>\n",
       "  </thead>\n",
       "  <tbody>\n",
       "    <tr>\n",
       "      <th>15561</th>\n",
       "      <td>Tsuki ni Yori Sou Otome no Sahou: Hidamari no ...</td>\n",
       "      <td>PSV</td>\n",
       "      <td>2015</td>\n",
       "      <td>Adventure</td>\n",
       "      <td>0.00</td>\n",
       "      <td>0.00</td>\n",
       "      <td>0.02</td>\n",
       "      <td>0.00</td>\n",
       "      <td>NaN</td>\n",
       "      <td>NaN</td>\n",
       "      <td>NaN</td>\n",
       "      <td>0.02</td>\n",
       "    </tr>\n",
       "    <tr>\n",
       "      <th>13437</th>\n",
       "      <td>Ride 2</td>\n",
       "      <td>PS4</td>\n",
       "      <td>2016</td>\n",
       "      <td>Racing</td>\n",
       "      <td>0.00</td>\n",
       "      <td>0.04</td>\n",
       "      <td>0.00</td>\n",
       "      <td>0.01</td>\n",
       "      <td>71.0</td>\n",
       "      <td>8.0</td>\n",
       "      <td>E</td>\n",
       "      <td>0.05</td>\n",
       "    </tr>\n",
       "    <tr>\n",
       "      <th>3473</th>\n",
       "      <td>Rayman Legends</td>\n",
       "      <td>PS3</td>\n",
       "      <td>2014</td>\n",
       "      <td>Platform</td>\n",
       "      <td>0.14</td>\n",
       "      <td>0.34</td>\n",
       "      <td>0.00</td>\n",
       "      <td>0.10</td>\n",
       "      <td>91.0</td>\n",
       "      <td>8.7</td>\n",
       "      <td>E10+</td>\n",
       "      <td>0.58</td>\n",
       "    </tr>\n",
       "    <tr>\n",
       "      <th>5074</th>\n",
       "      <td>Persona 5</td>\n",
       "      <td>PS4</td>\n",
       "      <td>2016</td>\n",
       "      <td>Role-Playing</td>\n",
       "      <td>0.00</td>\n",
       "      <td>0.00</td>\n",
       "      <td>0.37</td>\n",
       "      <td>0.00</td>\n",
       "      <td>NaN</td>\n",
       "      <td>NaN</td>\n",
       "      <td>NaN</td>\n",
       "      <td>0.37</td>\n",
       "    </tr>\n",
       "    <tr>\n",
       "      <th>915</th>\n",
       "      <td>Batman: Arkham Origins</td>\n",
       "      <td>X360</td>\n",
       "      <td>2013</td>\n",
       "      <td>Action</td>\n",
       "      <td>1.15</td>\n",
       "      <td>0.56</td>\n",
       "      <td>0.00</td>\n",
       "      <td>0.17</td>\n",
       "      <td>74.0</td>\n",
       "      <td>7.5</td>\n",
       "      <td>T</td>\n",
       "      <td>1.88</td>\n",
       "    </tr>\n",
       "  </tbody>\n",
       "</table>\n",
       "</div>"
      ],
      "text/plain": [
       "                                                    name platform  \\\n",
       "15561  Tsuki ni Yori Sou Otome no Sahou: Hidamari no ...      PSV   \n",
       "13437                                             Ride 2      PS4   \n",
       "3473                                      Rayman Legends      PS3   \n",
       "5074                                           Persona 5      PS4   \n",
       "915                               Batman: Arkham Origins     X360   \n",
       "\n",
       "       year_of_release         genre  na_sales  eu_sales  jp_sales  \\\n",
       "15561             2015     Adventure      0.00      0.00      0.02   \n",
       "13437             2016        Racing      0.00      0.04      0.00   \n",
       "3473              2014      Platform      0.14      0.34      0.00   \n",
       "5074              2016  Role-Playing      0.00      0.00      0.37   \n",
       "915               2013        Action      1.15      0.56      0.00   \n",
       "\n",
       "       other_sales  critic_score  user_score rating  sales  \n",
       "15561         0.00           NaN         NaN    NaN   0.02  \n",
       "13437         0.01          71.0         8.0      E   0.05  \n",
       "3473          0.10          91.0         8.7   E10+   0.58  \n",
       "5074          0.00           NaN         NaN    NaN   0.37  \n",
       "915           0.17          74.0         7.5      T   1.88  "
      ]
     },
     "execution_count": 33,
     "metadata": {},
     "output_type": "execute_result"
    }
   ],
   "source": [
    "# Возьмем данные за соответствующий актуальный период. Эти данные помогут построить прогноз на 2017 год.\n",
    "actual_years = (df['year_of_release'] >= 2013) & (df['year_of_release'] <= 2016)\n",
    "actual_games = df.loc[actual_years]\n",
    "actual_games.sample(5)"
   ]
  },
  {
   "cell_type": "code",
   "execution_count": 34,
   "metadata": {},
   "outputs": [
    {
     "data": {
      "text/html": [
       "<div>\n",
       "<style scoped>\n",
       "    .dataframe tbody tr th:only-of-type {\n",
       "        vertical-align: middle;\n",
       "    }\n",
       "\n",
       "    .dataframe tbody tr th {\n",
       "        vertical-align: top;\n",
       "    }\n",
       "\n",
       "    .dataframe thead th {\n",
       "        text-align: right;\n",
       "    }\n",
       "</style>\n",
       "<table border=\"1\" class=\"dataframe\">\n",
       "  <thead>\n",
       "    <tr style=\"text-align: right;\">\n",
       "      <th></th>\n",
       "      <th>sales</th>\n",
       "    </tr>\n",
       "    <tr>\n",
       "      <th>platform</th>\n",
       "      <th></th>\n",
       "    </tr>\n",
       "  </thead>\n",
       "  <tbody>\n",
       "    <tr>\n",
       "      <th>PS4</th>\n",
       "      <td>306.64</td>\n",
       "    </tr>\n",
       "    <tr>\n",
       "      <th>PS3</th>\n",
       "      <td>173.98</td>\n",
       "    </tr>\n",
       "    <tr>\n",
       "      <th>XOne</th>\n",
       "      <td>157.04</td>\n",
       "    </tr>\n",
       "    <tr>\n",
       "      <th>3DS</th>\n",
       "      <td>136.88</td>\n",
       "    </tr>\n",
       "    <tr>\n",
       "      <th>X360</th>\n",
       "      <td>134.24</td>\n",
       "    </tr>\n",
       "    <tr>\n",
       "      <th>WiiU</th>\n",
       "      <td>61.62</td>\n",
       "    </tr>\n",
       "    <tr>\n",
       "      <th>PC</th>\n",
       "      <td>40.11</td>\n",
       "    </tr>\n",
       "    <tr>\n",
       "      <th>PSV</th>\n",
       "      <td>30.49</td>\n",
       "    </tr>\n",
       "    <tr>\n",
       "      <th>Wii</th>\n",
       "      <td>13.71</td>\n",
       "    </tr>\n",
       "    <tr>\n",
       "      <th>PSP</th>\n",
       "      <td>4.56</td>\n",
       "    </tr>\n",
       "    <tr>\n",
       "      <th>DS</th>\n",
       "      <td>1.84</td>\n",
       "    </tr>\n",
       "    <tr>\n",
       "      <th>PS2</th>\n",
       "      <td>0.06</td>\n",
       "    </tr>\n",
       "  </tbody>\n",
       "</table>\n",
       "</div>"
      ],
      "text/plain": [
       "           sales\n",
       "platform        \n",
       "PS4       306.64\n",
       "PS3       173.98\n",
       "XOne      157.04\n",
       "3DS       136.88\n",
       "X360      134.24\n",
       "WiiU       61.62\n",
       "PC         40.11\n",
       "PSV        30.49\n",
       "Wii        13.71\n",
       "PSP         4.56\n",
       "DS          1.84\n",
       "PS2         0.06"
      ]
     },
     "execution_count": 34,
     "metadata": {},
     "output_type": "execute_result"
    }
   ],
   "source": [
    "actual_games.pivot_table(index='platform', values='sales', aggfunc='sum').sort_values(by='sales', ascending=False)"
   ]
  },
  {
   "cell_type": "code",
   "execution_count": 35,
   "metadata": {},
   "outputs": [
    {
     "data": {
      "text/html": [
       "<div>\n",
       "<style scoped>\n",
       "    .dataframe tbody tr th:only-of-type {\n",
       "        vertical-align: middle;\n",
       "    }\n",
       "\n",
       "    .dataframe tbody tr th {\n",
       "        vertical-align: top;\n",
       "    }\n",
       "\n",
       "    .dataframe thead th {\n",
       "        text-align: right;\n",
       "    }\n",
       "</style>\n",
       "<table border=\"1\" class=\"dataframe\">\n",
       "  <thead>\n",
       "    <tr style=\"text-align: right;\">\n",
       "      <th></th>\n",
       "      <th>sales</th>\n",
       "    </tr>\n",
       "    <tr>\n",
       "      <th>platform</th>\n",
       "      <th></th>\n",
       "    </tr>\n",
       "  </thead>\n",
       "  <tbody>\n",
       "    <tr>\n",
       "      <th>PS4</th>\n",
       "      <td>306.64</td>\n",
       "    </tr>\n",
       "    <tr>\n",
       "      <th>PS3</th>\n",
       "      <td>173.98</td>\n",
       "    </tr>\n",
       "    <tr>\n",
       "      <th>XOne</th>\n",
       "      <td>157.04</td>\n",
       "    </tr>\n",
       "    <tr>\n",
       "      <th>3DS</th>\n",
       "      <td>136.88</td>\n",
       "    </tr>\n",
       "    <tr>\n",
       "      <th>X360</th>\n",
       "      <td>134.24</td>\n",
       "    </tr>\n",
       "    <tr>\n",
       "      <th>WiiU</th>\n",
       "      <td>61.62</td>\n",
       "    </tr>\n",
       "  </tbody>\n",
       "</table>\n",
       "</div>"
      ],
      "text/plain": [
       "           sales\n",
       "platform        \n",
       "PS4       306.64\n",
       "PS3       173.98\n",
       "XOne      157.04\n",
       "3DS       136.88\n",
       "X360      134.24\n",
       "WiiU       61.62"
      ]
     },
     "execution_count": 35,
     "metadata": {},
     "output_type": "execute_result"
    }
   ],
   "source": [
    "top = actual_games.pivot_table(index='platform', values='sales', aggfunc='sum').sort_values(by='sales', ascending=False).head(6)\n",
    "top"
   ]
  },
  {
   "cell_type": "code",
   "execution_count": 36,
   "metadata": {},
   "outputs": [
    {
     "data": {
      "text/plain": [
       "Index(['PS4', 'PS3', 'XOne', '3DS', 'X360', 'WiiU'], dtype='object', name='platform')"
      ]
     },
     "execution_count": 36,
     "metadata": {},
     "output_type": "execute_result"
    }
   ],
   "source": [
    "top.index"
   ]
  },
  {
   "cell_type": "markdown",
   "metadata": {},
   "source": [
    "Примерно за 10 лет появляются новые и исчезают старые платформы. Таким образом, мы еще раз убедились, что данные за все периоды нам не понадобятся – достаточно определить актуальный период в 2-3 года и смотреть на игры на современных платформах."
   ]
  },
  {
   "cell_type": "code",
   "execution_count": 37,
   "metadata": {},
   "outputs": [],
   "source": [
    "# Какие платформы лидируют по продажам, растут или падают? Выберем несколько потенциально прибыльных платформ.\n",
    "total_sales = total_sales_per_platform_for(actual_games)"
   ]
  },
  {
   "cell_type": "code",
   "execution_count": 38,
   "metadata": {},
   "outputs": [
    {
     "data": {
      "image/png": "[encoded data removed]",
      "text/plain": [
       "<Figure size 720x360 with 1 Axes>"
      ]
     },
     "metadata": {
      "needs_background": "light"
     },
     "output_type": "display_data"
    }
   ],
   "source": [
    "bar_plot(total_sales)"
   ]
  },
  {
   "cell_type": "code",
   "execution_count": 39,
   "metadata": {},
   "outputs": [
    {
     "data": {
      "image/png": "[encoded data removed]",
      "text/plain": [
       "<Figure size 720x1080 with 10 Axes>"
      ]
     },
     "metadata": {
      "needs_background": "light"
     },
     "output_type": "display_data"
    }
   ],
   "source": [
    "# список платформ за актуальный период\n",
    "platforms = list(total_sales.index)\n",
    "\n",
    "# график из 5 строк\n",
    "rows = 5\n",
    "cols = (len(platforms) // rows)\n",
    "fig, ax = plt.subplots(rows, cols)\n",
    "\n",
    "# построение графиков продаж по каждой платформе\n",
    "num = 0\n",
    "for row in range(rows):\n",
    "    for col in range(cols):\n",
    "        platform = platforms[num]\n",
    "        (\n",
    "            yearly_total_sales_by_platform(platform, actual_games)['sales']\n",
    "                .plot(ax=ax[row, col], figsize=(10, 15), title=platform)\n",
    "                .set(xlabel='Год релиза', ylabel='Глобальные продажи')\n",
    "        )\n",
    "        num += 1\n",
    "\n",
    "plt.tight_layout()\n",
    "plt.show()"
   ]
  },
  {
   "cell_type": "markdown",
   "metadata": {},
   "source": [
    "за период 2013 - 2016 года, лидирующими платформами стали PS4, PS3 и XOne."
   ]
  },
  {
   "cell_type": "code",
   "execution_count": 40,
   "metadata": {},
   "outputs": [
    {
     "name": "stdout",
     "output_type": "stream",
     "text": [
      "Среднее значение глобальных продаж игр для PS4: 76.66000000000001\n",
      "Среднее значение глобальных продаж игр для PS3: 43.49500000000001\n",
      "Среднее значение глобальных продаж игр для XOne: 39.260000000000005\n"
     ]
    },
    {
     "data": {
      "image/png": "[encoded data removed]",
      "text/plain": [
       "<Figure size 432x288 with 3 Axes>"
      ]
     },
     "metadata": {
      "needs_background": "light"
     },
     "output_type": "display_data"
    }
   ],
   "source": [
    "# Построим график «ящик с усами» по глобальным продажам игр в разбивке по платформам\n",
    "promising_platforms = ['PS4', 'PS3', 'XOne']\n",
    "\n",
    "fig, axs = plt.subplots(1, 3, sharey=True)\n",
    "\n",
    "# построение графиков продаж по каждой платформе\n",
    "for num, platform in enumerate(promising_platforms):\n",
    "    df = yearly_total_sales_by_platform(platform, actual_games)\n",
    "    print(f\"Среднее значение глобальных продаж игр для {platform}: {df['sales'].mean()}\")\n",
    "    df.boxplot('sales', ax=axs[num])\n",
    "    axs[num].set_title(platform)\n",
    "\n",
    "plt.tick_params(labelcolor='none', bottom='off')\n",
    "plt.subplots_adjust(left=0.1)\n",
    "plt.show()"
   ]
  },
  {
   "cell_type": "code",
   "execution_count": 41,
   "metadata": {},
   "outputs": [
    {
     "data": {
      "text/plain": [
       "Text(0.5, 0, 'Год')"
      ]
     },
     "execution_count": 41,
     "metadata": {},
     "output_type": "execute_result"
    },
    {
     "data": {
      "image/png": "[encoded data removed]",
      "text/plain": [
       "<Figure size 864x504 with 1 Axes>"
      ]
     },
     "metadata": {
      "needs_background": "light"
     },
     "output_type": "display_data"
    }
   ],
   "source": [
    "# построим график распределения прибыли по платформам\n",
    "(actual_games.query('platform.isin(@top.index)')\n",
    " .pivot_table(index='year_of_release', columns='platform', values='sales', aggfunc='sum')\n",
    " .plot(by='platform', figsize = (12,7), grid=True))\n",
    "plt.title('Прибыль платформ')\n",
    "plt.ylabel('Доход, млн.долл')\n",
    "plt.xlabel('Год')"
   ]
  },
  {
   "cell_type": "code",
   "execution_count": 42,
   "metadata": {},
   "outputs": [
    {
     "data": {
      "text/html": [
       "<div>\n",
       "<style scoped>\n",
       "    .dataframe tbody tr th:only-of-type {\n",
       "        vertical-align: middle;\n",
       "    }\n",
       "\n",
       "    .dataframe tbody tr th {\n",
       "        vertical-align: top;\n",
       "    }\n",
       "\n",
       "    .dataframe thead th {\n",
       "        text-align: right;\n",
       "    }\n",
       "</style>\n",
       "<table border=\"1\" class=\"dataframe\">\n",
       "  <thead>\n",
       "    <tr style=\"text-align: right;\">\n",
       "      <th></th>\n",
       "      <th>count</th>\n",
       "      <th>mean</th>\n",
       "      <th>std</th>\n",
       "      <th>min</th>\n",
       "      <th>25%</th>\n",
       "      <th>50%</th>\n",
       "      <th>75%</th>\n",
       "      <th>max</th>\n",
       "    </tr>\n",
       "    <tr>\n",
       "      <th>platform</th>\n",
       "      <th></th>\n",
       "      <th></th>\n",
       "      <th></th>\n",
       "      <th></th>\n",
       "      <th></th>\n",
       "      <th></th>\n",
       "      <th></th>\n",
       "      <th></th>\n",
       "    </tr>\n",
       "  </thead>\n",
       "  <tbody>\n",
       "    <tr>\n",
       "      <th>PS3</th>\n",
       "      <td>334.0</td>\n",
       "      <td>0.520898</td>\n",
       "      <td>1.470204</td>\n",
       "      <td>0.01</td>\n",
       "      <td>0.05</td>\n",
       "      <td>0.145</td>\n",
       "      <td>0.4575</td>\n",
       "      <td>21.05</td>\n",
       "    </tr>\n",
       "    <tr>\n",
       "      <th>PS4</th>\n",
       "      <td>373.0</td>\n",
       "      <td>0.822091</td>\n",
       "      <td>1.644046</td>\n",
       "      <td>0.01</td>\n",
       "      <td>0.06</td>\n",
       "      <td>0.200</td>\n",
       "      <td>0.7300</td>\n",
       "      <td>14.63</td>\n",
       "    </tr>\n",
       "    <tr>\n",
       "      <th>WiiU</th>\n",
       "      <td>106.0</td>\n",
       "      <td>0.581321</td>\n",
       "      <td>1.068900</td>\n",
       "      <td>0.01</td>\n",
       "      <td>0.06</td>\n",
       "      <td>0.230</td>\n",
       "      <td>0.6300</td>\n",
       "      <td>7.09</td>\n",
       "    </tr>\n",
       "    <tr>\n",
       "      <th>XOne</th>\n",
       "      <td>234.0</td>\n",
       "      <td>0.671111</td>\n",
       "      <td>1.057089</td>\n",
       "      <td>0.01</td>\n",
       "      <td>0.06</td>\n",
       "      <td>0.240</td>\n",
       "      <td>0.7375</td>\n",
       "      <td>7.39</td>\n",
       "    </tr>\n",
       "  </tbody>\n",
       "</table>\n",
       "</div>"
      ],
      "text/plain": [
       "          count      mean       std   min   25%    50%     75%    max\n",
       "platform                                                             \n",
       "PS3       334.0  0.520898  1.470204  0.01  0.05  0.145  0.4575  21.05\n",
       "PS4       373.0  0.822091  1.644046  0.01  0.06  0.200  0.7300  14.63\n",
       "WiiU      106.0  0.581321  1.068900  0.01  0.06  0.230  0.6300   7.09\n",
       "XOne      234.0  0.671111  1.057089  0.01  0.06  0.240  0.7375   7.39"
      ]
     },
     "execution_count": 42,
     "metadata": {},
     "output_type": "execute_result"
    }
   ],
   "source": [
    "actual_games.query('platform == \"PS4\" or platform == \"PS3\" or platform == \"XOne\" or platform == \"WiiU\"').groupby('platform')['sales'].describe()"
   ]
  },
  {
   "cell_type": "markdown",
   "metadata": {},
   "source": [
    "Наличие большого числа выбросов и характерное смещение распределения вправо говорит о том, что на каждой из платформ выходили игры-блокбастеры, существенно превышающие по популярности и прибыльности большинство игр на этой же платформе - не платформа красит игру, а игра платформу. Для некоторых платформ выбросы - это возможное следствие малого числа наблюдений.\n",
    "\n",
    "Несмотря на это, можно заметить, что есть более успешные по продажам платформы, такие как PS3, XOne, а также PS4 - медианное значение и верхняя граница 3 квантили наиболее высокие, но при этом широкий межквартильный размах говорит о сильной вариативности в продажах игр вокруг медианного значения. В то же время медианное значение WiiU приблизительно находится на уровне XOne, но при этом разброс сущетсвенно меньше. Игры, выпущенные под PC, проигрывают в продажах большинству консолей."
   ]
  },
  {
   "cell_type": "code",
   "execution_count": 43,
   "metadata": {},
   "outputs": [],
   "source": [
    "#Посмотрим, как влияют на продажи внутри одной популярной платформы отзывы пользователей и критиков. \n",
    "ps4 = actual_games.query(\"platform == 'PS4'\")\n",
    "ps3 = actual_games.query(\"platform == 'PS3'\")\n",
    "xone = actual_games.query(\"platform == 'XOne'\")"
   ]
  },
  {
   "cell_type": "code",
   "execution_count": 44,
   "metadata": {},
   "outputs": [
    {
     "data": {
      "text/html": [
       "<div>\n",
       "<style scoped>\n",
       "    .dataframe tbody tr th:only-of-type {\n",
       "        vertical-align: middle;\n",
       "    }\n",
       "\n",
       "    .dataframe tbody tr th {\n",
       "        vertical-align: top;\n",
       "    }\n",
       "\n",
       "    .dataframe thead th {\n",
       "        text-align: right;\n",
       "    }\n",
       "</style>\n",
       "<table border=\"1\" class=\"dataframe\">\n",
       "  <thead>\n",
       "    <tr style=\"text-align: right;\">\n",
       "      <th></th>\n",
       "      <th>user_score</th>\n",
       "      <th>critic_score</th>\n",
       "      <th>sales</th>\n",
       "    </tr>\n",
       "  </thead>\n",
       "  <tbody>\n",
       "    <tr>\n",
       "      <th>user_score</th>\n",
       "      <td>1.000000</td>\n",
       "      <td>0.560715</td>\n",
       "      <td>-0.032188</td>\n",
       "    </tr>\n",
       "    <tr>\n",
       "      <th>critic_score</th>\n",
       "      <td>0.560715</td>\n",
       "      <td>1.000000</td>\n",
       "      <td>0.408963</td>\n",
       "    </tr>\n",
       "    <tr>\n",
       "      <th>sales</th>\n",
       "      <td>-0.032188</td>\n",
       "      <td>0.408963</td>\n",
       "      <td>1.000000</td>\n",
       "    </tr>\n",
       "  </tbody>\n",
       "</table>\n",
       "</div>"
      ],
      "text/plain": [
       "              user_score  critic_score     sales\n",
       "user_score      1.000000      0.560715 -0.032188\n",
       "critic_score    0.560715      1.000000  0.408963\n",
       "sales          -0.032188      0.408963  1.000000"
      ]
     },
     "execution_count": 44,
     "metadata": {},
     "output_type": "execute_result"
    }
   ],
   "source": [
    "# Построим диаграмму рассеяния и посчитаем корреляцию между отзывами и продажами.\n",
    "features = ['user_score', 'critic_score', 'sales']\n",
    "ps4[features].corr()"
   ]
  },
  {
   "cell_type": "code",
   "execution_count": 45,
   "metadata": {},
   "outputs": [
    {
     "data": {
      "text/html": [
       "<div>\n",
       "<style scoped>\n",
       "    .dataframe tbody tr th:only-of-type {\n",
       "        vertical-align: middle;\n",
       "    }\n",
       "\n",
       "    .dataframe tbody tr th {\n",
       "        vertical-align: top;\n",
       "    }\n",
       "\n",
       "    .dataframe thead th {\n",
       "        text-align: right;\n",
       "    }\n",
       "</style>\n",
       "<table border=\"1\" class=\"dataframe\">\n",
       "  <thead>\n",
       "    <tr style=\"text-align: right;\">\n",
       "      <th></th>\n",
       "      <th>user_score</th>\n",
       "      <th>critic_score</th>\n",
       "      <th>sales</th>\n",
       "    </tr>\n",
       "  </thead>\n",
       "  <tbody>\n",
       "    <tr>\n",
       "      <th>user_score</th>\n",
       "      <td>1.000000</td>\n",
       "      <td>0.472595</td>\n",
       "      <td>-0.063612</td>\n",
       "    </tr>\n",
       "    <tr>\n",
       "      <th>critic_score</th>\n",
       "      <td>0.472595</td>\n",
       "      <td>1.000000</td>\n",
       "      <td>0.415034</td>\n",
       "    </tr>\n",
       "    <tr>\n",
       "      <th>sales</th>\n",
       "      <td>-0.063612</td>\n",
       "      <td>0.415034</td>\n",
       "      <td>1.000000</td>\n",
       "    </tr>\n",
       "  </tbody>\n",
       "</table>\n",
       "</div>"
      ],
      "text/plain": [
       "              user_score  critic_score     sales\n",
       "user_score      1.000000      0.472595 -0.063612\n",
       "critic_score    0.472595      1.000000  0.415034\n",
       "sales          -0.063612      0.415034  1.000000"
      ]
     },
     "execution_count": 45,
     "metadata": {},
     "output_type": "execute_result"
    }
   ],
   "source": [
    "xone[features].corr()"
   ]
  },
  {
   "cell_type": "code",
   "execution_count": 46,
   "metadata": {},
   "outputs": [
    {
     "data": {
      "image/png": "[encoded data removed]",
      "text/plain": [
       "<Figure size 432x288 with 1 Axes>"
      ]
     },
     "metadata": {
      "needs_background": "light"
     },
     "output_type": "display_data"
    },
    {
     "data": {
      "image/png": "[encoded data removed]",
      "text/plain": [
       "<Figure size 432x288 with 1 Axes>"
      ]
     },
     "metadata": {
      "needs_background": "light"
     },
     "output_type": "display_data"
    },
    {
     "data": {
      "image/png": "[encoded data removed]",
      "text/plain": [
       "<Figure size 432x288 with 1 Axes>"
      ]
     },
     "metadata": {
      "needs_background": "light"
     },
     "output_type": "display_data"
    }
   ],
   "source": [
    "ps4.plot(x='user_score', y='sales', kind='scatter', title='PS4')\n",
    "xone.plot(x='user_score', y='sales', kind='scatter', title='Xbox One', color='green')\n",
    "ps3.plot(x='user_score', y='sales', kind='scatter', title='PS3', color = 'violet')\n",
    "plt.show()"
   ]
  },
  {
   "cell_type": "code",
   "execution_count": 47,
   "metadata": {},
   "outputs": [
    {
     "data": {
      "image/png": "[encoded data removed]",
      "text/plain": [
       "<Figure size 432x288 with 1 Axes>"
      ]
     },
     "metadata": {
      "needs_background": "light"
     },
     "output_type": "display_data"
    },
    {
     "data": {
      "image/png": "[encoded data removed]",
      "text/plain": [
       "<Figure size 432x288 with 1 Axes>"
      ]
     },
     "metadata": {
      "needs_background": "light"
     },
     "output_type": "display_data"
    }
   ],
   "source": [
    "ps4.plot(x='critic_score', y='sales', kind='scatter', title='PS4')\n",
    "xone.plot(x='critic_score', y='sales', kind='scatter', title='Xbox One', color='green')\n",
    "plt.show()"
   ]
  },
  {
   "cell_type": "markdown",
   "metadata": {},
   "source": [
    "Взаимосвязи между отзывами пользователей и продажами нет;\n",
    "\n",
    "Взаимосвязь между отзывами критиков и продажами существует, однако не слишком большая;\n",
    "\n",
    "Взаимосязь между отзывами критиков и отзывами пользователей существует, чуть большая чем между отзывами критиков и продажами.\n",
    "\n",
    "Корреляция не говорит о причинно-следственной связи. И хотя по диаграммам рассеяния видим, что чем выше оценки критиков, тем выше продажи игр на обоих платформах, мы не можем утверждать, что высокие оценки критиками приводят к высоким продажам игр, а при покупке игры пользователи больше доверяют критикам, а не другим геймерам."
   ]
  },
  {
   "cell_type": "code",
   "execution_count": 49,
   "metadata": {},
   "outputs": [
    {
     "data": {
      "text/plain": [
       "Text(0, 0.5, 'Глобальные продажи')"
      ]
     },
     "execution_count": 49,
     "metadata": {},
     "output_type": "execute_result"
    },
    {
     "data": {
      "image/png": "[encoded data removed]",
      "text/plain": [
       "<Figure size 1040x800 with 1 Axes>"
      ]
     },
     "metadata": {
      "needs_background": "light"
     },
     "output_type": "display_data"
    }
   ],
   "source": [
    "# распределение по жанрам\n",
    "plt.figure(figsize=(13,10), dpi= 80)\n",
    "sns.boxplot(x='genre', y='sales', data=actual_games, notch=False)\n",
    "plt.title('Ящик с усами', fontsize=15)\n",
    "plt.ylim(0, 2)\n",
    "plt.xlabel('Жанр', fontsize=12)\n",
    "plt.ylabel('Глобальные продажи',fontsize=12)"
   ]
  },
  {
   "cell_type": "markdown",
   "metadata": {},
   "source": [
    "Самыми прибыльными жанрами являются Shooter, Sports, Platform (как по медианному значению, так и по межквартильному размаху). Наименее доходные жанры - Adventure и Puzzle."
   ]
  },
  {
   "cell_type": "markdown",
   "metadata": {},
   "source": [
    "### Вывод\n",
    "\n",
    "Думаю, что для нас важны данные, когда игровая индустрия становится более конкурентной. когда появляются новые платформы и новые жанры. Видим три больших скачка - в конце 90-х, начале 00-х и в 2008 году, к 2012 году видим сильный спад, скорее всего это связано с массовым появлением смартфонов и мобильных игр, соответственно.\n",
    "\n",
    "Примерно за 10 лет появляются новые и исчезают старые платформы. Таким образом, мы еще раз убедились, что данные за все периоды нам не понадобятся – достаточно определить актуальный период в 2-3 года и смотреть на игры на современных платформах.\n",
    "\n",
    "Я взяла для анализа данные за 2013-2016 год включительно, за этот период лидирующими платформами стали PS4, PS3 и XOne.\n",
    "Наличие большого числа выбросов и характерное смещение распределения вправо говорит о том, что на каждой из платформ выходили игры-блокбастеры, существенно превышающие по популярности и прибыльности большинство игр на этой же платформе - не платформа красит игру, а игра платформу. Для некоторых платформ выбросы - это возможное следствие малого числа наблюдений.\n",
    "\n",
    "Несмотря на это, можно заметить, что есть более успешные по продажам платформы, такие как PS3, XOne, а также PS4 - медианное значение и верхняя граница 3 квантили наиболее высокие, но при этом широкий межквартильный размах говорит о сильной вариативности в продажах игр вокруг медианного значения. В то же время медианное значение WiiU приблизительно находится на уровне XOne, но при этом разброс сущетсвенно меньше. Игры, выпущенные под PC, проигрывают в продажах большинству консолей.\n",
    "\n",
    "Взаимосвязи между отзывами пользователей и продажами нет;\n",
    "\n",
    "Взаимосвязь между отзывами критиков и продажами существует, однако не слишком большая;\n",
    "\n",
    "Взаимосязь между отзывами критиков и отзывами пользователей существует, чуть большая чем между отзывами критиков и продажами.\n",
    "Корреляция не говорит о причинно-следственной связи. И хотя по диаграммам рассеяния видим, что чем выше оценки критиков, тем выше продажи игр на обоих платформах, мы не можем утверждать, что высокие оценки критиками приводят к высоким продажам игр, а при покупке игры пользователи больше доверяют критикам, а не другим геймерам.\n",
    "\n",
    "Самыми прибыльными жанрами являются Shooter, Sports, Platform (как по медианному значению, так и по межквартильному размаху). Наименее доходные жанры - Adventure и Puzzle.\n"
   ]
  },
  {
   "cell_type": "markdown",
   "metadata": {},
   "source": [
    "## Шаг "
   ]
  },
  {
   "cell_type": "markdown",
   "metadata": {},
   "source": [
    "### Портрет пользователя каждого региона"
   ]
  },
  {
   "cell_type": "code",
   "execution_count": 50,
   "metadata": {},
   "outputs": [],
   "source": [
    "# заменяем пропуски в рейтинге на 'no_rating', чтобы учесть игры без рейтинга\n",
    "actual_games['rating'] = actual_games['rating'].fillna('no_rating')"
   ]
  },
  {
   "cell_type": "code",
   "execution_count": 51,
   "metadata": {},
   "outputs": [
    {
     "data": {
      "text/plain": [
       "name                  0\n",
       "platform              0\n",
       "year_of_release       0\n",
       "genre                 0\n",
       "na_sales              0\n",
       "eu_sales              0\n",
       "jp_sales              0\n",
       "other_sales           0\n",
       "critic_score       1165\n",
       "user_score          966\n",
       "rating                0\n",
       "sales                 0\n",
       "dtype: int64"
      ]
     },
     "execution_count": 51,
     "metadata": {},
     "output_type": "execute_result"
    }
   ],
   "source": [
    "actual_games.isna().sum()"
   ]
  },
  {
   "cell_type": "code",
   "execution_count": 52,
   "metadata": {},
   "outputs": [
    {
     "data": {
      "text/html": [
       "<div>\n",
       "<style scoped>\n",
       "    .dataframe tbody tr th:only-of-type {\n",
       "        vertical-align: middle;\n",
       "    }\n",
       "\n",
       "    .dataframe tbody tr th {\n",
       "        vertical-align: top;\n",
       "    }\n",
       "\n",
       "    .dataframe thead th {\n",
       "        text-align: right;\n",
       "    }\n",
       "</style>\n",
       "<table border=\"1\" class=\"dataframe\">\n",
       "  <thead>\n",
       "    <tr style=\"text-align: right;\">\n",
       "      <th></th>\n",
       "      <th>na_sales</th>\n",
       "      <th>share_of_sales</th>\n",
       "    </tr>\n",
       "    <tr>\n",
       "      <th>platform</th>\n",
       "      <th></th>\n",
       "      <th></th>\n",
       "    </tr>\n",
       "  </thead>\n",
       "  <tbody>\n",
       "    <tr>\n",
       "      <th>PS4</th>\n",
       "      <td>106.23</td>\n",
       "      <td>24.898629</td>\n",
       "    </tr>\n",
       "    <tr>\n",
       "      <th>XOne</th>\n",
       "      <td>91.87</td>\n",
       "      <td>21.532872</td>\n",
       "    </tr>\n",
       "    <tr>\n",
       "      <th>X360</th>\n",
       "      <td>80.09</td>\n",
       "      <td>18.771827</td>\n",
       "    </tr>\n",
       "    <tr>\n",
       "      <th>PS3</th>\n",
       "      <td>60.68</td>\n",
       "      <td>14.222431</td>\n",
       "    </tr>\n",
       "    <tr>\n",
       "      <th>3DS</th>\n",
       "      <td>37.19</td>\n",
       "      <td>8.716747</td>\n",
       "    </tr>\n",
       "  </tbody>\n",
       "</table>\n",
       "</div>"
      ],
      "text/plain": [
       "          na_sales  share_of_sales\n",
       "platform                          \n",
       "PS4         106.23       24.898629\n",
       "XOne         91.87       21.532872\n",
       "X360         80.09       18.771827\n",
       "PS3          60.68       14.222431\n",
       "3DS          37.19        8.716747"
      ]
     },
     "execution_count": 52,
     "metadata": {},
     "output_type": "execute_result"
    }
   ],
   "source": [
    "# Определим для пользователей Северной Америки самые популярные платформы и их доли продаж\n",
    "na_platform = actual_games.pivot_table(index='platform', values='na_sales', aggfunc='sum').sort_values(by='na_sales', ascending=False)\n",
    "na_platform['share_of_sales'] = na_platform['na_sales'] / na_platform['na_sales'].sum() * 100\n",
    "na_platform.head()"
   ]
  },
  {
   "cell_type": "code",
   "execution_count": 53,
   "metadata": {},
   "outputs": [
    {
     "data": {
      "text/plain": [
       "<AxesSubplot:title={'center':'Популярные платформы в Северной Америке'}, ylabel='share_of_sales'>"
      ]
     },
     "execution_count": 53,
     "metadata": {},
     "output_type": "execute_result"
    },
    {
     "data": {
      "image/png": "[encoded data removed]",
      "text/plain": [
       "<Figure size 504x504 with 1 Axes>"
      ]
     },
     "metadata": {},
     "output_type": "display_data"
    }
   ],
   "source": [
    "na_platform.plot(kind='pie', y='share_of_sales', autopct='%1.2f%%', figsize=(7,7), legend=None,\n",
    "                 title='Популярные платформы в Северной Америке')"
   ]
  },
  {
   "cell_type": "markdown",
   "metadata": {},
   "source": [
    "Популярными платформами в СА являются:\n",
    "\n",
    "PS4 (24.89%)\n",
    "\n",
    "XOne (21.53%)\n",
    "\n",
    "X360 (18.77%)\n",
    "\n",
    "PS3\t(14.22%)\n",
    "\n",
    "3DS\t(8.71%)\n",
    "\n",
    "Большая доля рынка выпадает на японские консоли - 39,11% - Сони( PS4 и PS3), и 15,27% - это Нинтендо (3DS и WiiU), доля американского производителя Майкрософт - 40,3% (XOne, X360)\n",
    "Устаревшие платфомы такие как wii, ps2 и игры на PC совсем не популярны в СА"
   ]
  },
  {
   "cell_type": "code",
   "execution_count": 54,
   "metadata": {},
   "outputs": [
    {
     "data": {
      "text/html": [
       "<div>\n",
       "<style scoped>\n",
       "    .dataframe tbody tr th:only-of-type {\n",
       "        vertical-align: middle;\n",
       "    }\n",
       "\n",
       "    .dataframe tbody tr th {\n",
       "        vertical-align: top;\n",
       "    }\n",
       "\n",
       "    .dataframe thead th {\n",
       "        text-align: right;\n",
       "    }\n",
       "</style>\n",
       "<table border=\"1\" class=\"dataframe\">\n",
       "  <thead>\n",
       "    <tr style=\"text-align: right;\">\n",
       "      <th></th>\n",
       "      <th>na_sales</th>\n",
       "      <th>share_of_sales</th>\n",
       "    </tr>\n",
       "    <tr>\n",
       "      <th>genre</th>\n",
       "      <th></th>\n",
       "      <th></th>\n",
       "    </tr>\n",
       "  </thead>\n",
       "  <tbody>\n",
       "    <tr>\n",
       "      <th>Action</th>\n",
       "      <td>123.65</td>\n",
       "      <td>28.981601</td>\n",
       "    </tr>\n",
       "    <tr>\n",
       "      <th>Shooter</th>\n",
       "      <td>109.27</td>\n",
       "      <td>25.611157</td>\n",
       "    </tr>\n",
       "    <tr>\n",
       "      <th>Sports</th>\n",
       "      <td>65.27</td>\n",
       "      <td>15.298254</td>\n",
       "    </tr>\n",
       "    <tr>\n",
       "      <th>Role-Playing</th>\n",
       "      <td>39.78</td>\n",
       "      <td>9.323802</td>\n",
       "    </tr>\n",
       "    <tr>\n",
       "      <th>Misc</th>\n",
       "      <td>27.32</td>\n",
       "      <td>6.403375</td>\n",
       "    </tr>\n",
       "  </tbody>\n",
       "</table>\n",
       "</div>"
      ],
      "text/plain": [
       "              na_sales  share_of_sales\n",
       "genre                                 \n",
       "Action          123.65       28.981601\n",
       "Shooter         109.27       25.611157\n",
       "Sports           65.27       15.298254\n",
       "Role-Playing     39.78        9.323802\n",
       "Misc             27.32        6.403375"
      ]
     },
     "execution_count": 54,
     "metadata": {},
     "output_type": "execute_result"
    }
   ],
   "source": [
    "# Определим для пользователей Северной Америки самые популярные жанры и их доли продаж\n",
    "na_genre = actual_games.pivot_table(index='genre', values='na_sales', aggfunc='sum').sort_values(by='na_sales', ascending=False)\n",
    "na_genre['share_of_sales'] = na_genre['na_sales'] / na_genre['na_sales'].sum() * 100\n",
    "na_genre.head()"
   ]
  },
  {
   "cell_type": "markdown",
   "metadata": {},
   "source": [
    "Самые любимые жанры у игроманов Северной Америки - жанры Action и Shooter. На них приходится почти половина продаваемых игр (54,59% продаж). Тройка остальных популярных жанров Sports, Misc и RPG занимает 31,01% продаж\n"
   ]
  },
  {
   "cell_type": "code",
   "execution_count": 55,
   "metadata": {},
   "outputs": [
    {
     "data": {
      "text/html": [
       "<div>\n",
       "<style scoped>\n",
       "    .dataframe tbody tr th:only-of-type {\n",
       "        vertical-align: middle;\n",
       "    }\n",
       "\n",
       "    .dataframe tbody tr th {\n",
       "        vertical-align: top;\n",
       "    }\n",
       "\n",
       "    .dataframe thead th {\n",
       "        text-align: right;\n",
       "    }\n",
       "</style>\n",
       "<table border=\"1\" class=\"dataframe\">\n",
       "  <thead>\n",
       "    <tr style=\"text-align: right;\">\n",
       "      <th></th>\n",
       "      <th>na_sales</th>\n",
       "      <th>share_of_sales</th>\n",
       "    </tr>\n",
       "    <tr>\n",
       "      <th>rating</th>\n",
       "      <th></th>\n",
       "      <th></th>\n",
       "    </tr>\n",
       "  </thead>\n",
       "  <tbody>\n",
       "    <tr>\n",
       "      <th>M</th>\n",
       "      <td>162.15</td>\n",
       "      <td>38.005391</td>\n",
       "    </tr>\n",
       "    <tr>\n",
       "      <th>no_rating</th>\n",
       "      <td>81.79</td>\n",
       "      <td>19.170280</td>\n",
       "    </tr>\n",
       "    <tr>\n",
       "      <th>E</th>\n",
       "      <td>78.89</td>\n",
       "      <td>18.490566</td>\n",
       "    </tr>\n",
       "    <tr>\n",
       "      <th>E10+</th>\n",
       "      <td>54.23</td>\n",
       "      <td>12.710653</td>\n",
       "    </tr>\n",
       "    <tr>\n",
       "      <th>T</th>\n",
       "      <td>49.59</td>\n",
       "      <td>11.623110</td>\n",
       "    </tr>\n",
       "  </tbody>\n",
       "</table>\n",
       "</div>"
      ],
      "text/plain": [
       "           na_sales  share_of_sales\n",
       "rating                             \n",
       "M            162.15       38.005391\n",
       "no_rating     81.79       19.170280\n",
       "E             78.89       18.490566\n",
       "E10+          54.23       12.710653\n",
       "T             49.59       11.623110"
      ]
     },
     "execution_count": 55,
     "metadata": {},
     "output_type": "execute_result"
    }
   ],
   "source": [
    "# Посмотрим, как влияет рейтинг ESRB на продажи в Северной Америке\n",
    "na_rating = actual_games.pivot_table(index='rating', values='na_sales', aggfunc='sum').sort_values(by='na_sales', ascending=False)\n",
    "na_rating['share_of_sales'] = na_rating['na_sales'] / na_rating['na_sales'].sum() * 100\n",
    "na_rating"
   ]
  },
  {
   "cell_type": "markdown",
   "metadata": {},
   "source": [
    "Самые частые игроки в СА - взрослые, рейтинг М уверенно стоит на 1 месте(38%) с большим отрывом от доли игр \"без рейтинга\"(19,11%). Игры \"для всех\" уверенно на 3 месте, среди тинэйджеров игры не очень популярны, а для совсем малышей практически никто не играет."
   ]
  },
  {
   "cell_type": "code",
   "execution_count": 56,
   "metadata": {},
   "outputs": [
    {
     "data": {
      "text/html": [
       "<div>\n",
       "<style scoped>\n",
       "    .dataframe tbody tr th:only-of-type {\n",
       "        vertical-align: middle;\n",
       "    }\n",
       "\n",
       "    .dataframe tbody tr th {\n",
       "        vertical-align: top;\n",
       "    }\n",
       "\n",
       "    .dataframe thead th {\n",
       "        text-align: right;\n",
       "    }\n",
       "</style>\n",
       "<table border=\"1\" class=\"dataframe\">\n",
       "  <thead>\n",
       "    <tr style=\"text-align: right;\">\n",
       "      <th></th>\n",
       "      <th>eu_sales</th>\n",
       "      <th>share_of_sales</th>\n",
       "    </tr>\n",
       "    <tr>\n",
       "      <th>platform</th>\n",
       "      <th></th>\n",
       "      <th></th>\n",
       "    </tr>\n",
       "  </thead>\n",
       "  <tbody>\n",
       "    <tr>\n",
       "      <th>PS4</th>\n",
       "      <td>137.79</td>\n",
       "      <td>35.946468</td>\n",
       "    </tr>\n",
       "    <tr>\n",
       "      <th>PS3</th>\n",
       "      <td>65.57</td>\n",
       "      <td>17.105812</td>\n",
       "    </tr>\n",
       "    <tr>\n",
       "      <th>XOne</th>\n",
       "      <td>50.77</td>\n",
       "      <td>13.244809</td>\n",
       "    </tr>\n",
       "    <tr>\n",
       "      <th>X360</th>\n",
       "      <td>41.76</td>\n",
       "      <td>10.894292</td>\n",
       "    </tr>\n",
       "    <tr>\n",
       "      <th>3DS</th>\n",
       "      <td>29.98</td>\n",
       "      <td>7.821142</td>\n",
       "    </tr>\n",
       "  </tbody>\n",
       "</table>\n",
       "</div>"
      ],
      "text/plain": [
       "          eu_sales  share_of_sales\n",
       "platform                          \n",
       "PS4         137.79       35.946468\n",
       "PS3          65.57       17.105812\n",
       "XOne         50.77       13.244809\n",
       "X360         41.76       10.894292\n",
       "3DS          29.98        7.821142"
      ]
     },
     "execution_count": 56,
     "metadata": {},
     "output_type": "execute_result"
    }
   ],
   "source": [
    "# Определим для пользователей Европы самые популярные платформы и их доли продаж\n",
    "eu_platform = actual_games.pivot_table(index='platform', values='eu_sales', aggfunc='sum').sort_values(by='eu_sales', ascending=False)\n",
    "eu_platform['share_of_sales'] = eu_platform['eu_sales'] / eu_platform['eu_sales'].sum() * 100\n",
    "eu_platform.head()"
   ]
  },
  {
   "cell_type": "code",
   "execution_count": 57,
   "metadata": {},
   "outputs": [
    {
     "data": {
      "text/plain": [
       "<AxesSubplot:title={'center':'Популярные платформы в Европе'}, ylabel='share_of_sales'>"
      ]
     },
     "execution_count": 57,
     "metadata": {},
     "output_type": "execute_result"
    },
    {
     "data": {
      "image/png": "[encoded data removed]",
      "text/plain": [
       "<Figure size 504x504 with 1 Axes>"
      ]
     },
     "metadata": {},
     "output_type": "display_data"
    }
   ],
   "source": [
    "eu_platform.plot(kind='pie', y='share_of_sales', autopct='%1.2f%%', figsize=(7,7), legend=None,\n",
    "                 title='Популярные платформы в Европе')"
   ]
  },
  {
   "cell_type": "markdown",
   "metadata": {},
   "source": [
    "Популярные платформы в Европе:\n",
    "\n",
    "PS4\t(35.94%)\n",
    "\n",
    "PS3\t(17.10%)\n",
    "\n",
    "XOne (13.24%)\n",
    "\n",
    "X360 (10.89%)\n",
    "\n",
    "3DS\t(7.82)\n",
    "\n",
    "Рынок в Европе захватил япоский Сони - 53% (PS4,PS3), американский Майкрософт всего лиш 24,13% (Xone,X360), японский Нинтендо - 12,75%(3DS, WiiU). В европе проявляется небольшая доля любителей игр на РС(6,75%)"
   ]
  },
  {
   "cell_type": "code",
   "execution_count": 58,
   "metadata": {},
   "outputs": [
    {
     "data": {
      "text/html": [
       "<div>\n",
       "<style scoped>\n",
       "    .dataframe tbody tr th:only-of-type {\n",
       "        vertical-align: middle;\n",
       "    }\n",
       "\n",
       "    .dataframe tbody tr th {\n",
       "        vertical-align: top;\n",
       "    }\n",
       "\n",
       "    .dataframe thead th {\n",
       "        text-align: right;\n",
       "    }\n",
       "</style>\n",
       "<table border=\"1\" class=\"dataframe\">\n",
       "  <thead>\n",
       "    <tr style=\"text-align: right;\">\n",
       "      <th></th>\n",
       "      <th>eu_sales</th>\n",
       "      <th>share_of_sales</th>\n",
       "    </tr>\n",
       "    <tr>\n",
       "      <th>genre</th>\n",
       "      <th></th>\n",
       "      <th></th>\n",
       "    </tr>\n",
       "  </thead>\n",
       "  <tbody>\n",
       "    <tr>\n",
       "      <th>Action</th>\n",
       "      <td>116.17</td>\n",
       "      <td>30.306272</td>\n",
       "    </tr>\n",
       "    <tr>\n",
       "      <th>Shooter</th>\n",
       "      <td>87.63</td>\n",
       "      <td>22.860795</td>\n",
       "    </tr>\n",
       "    <tr>\n",
       "      <th>Sports</th>\n",
       "      <td>60.52</td>\n",
       "      <td>15.788375</td>\n",
       "    </tr>\n",
       "    <tr>\n",
       "      <th>Role-Playing</th>\n",
       "      <td>31.83</td>\n",
       "      <td>8.303767</td>\n",
       "    </tr>\n",
       "    <tr>\n",
       "      <th>Racing</th>\n",
       "      <td>20.06</td>\n",
       "      <td>5.233226</td>\n",
       "    </tr>\n",
       "  </tbody>\n",
       "</table>\n",
       "</div>"
      ],
      "text/plain": [
       "              eu_sales  share_of_sales\n",
       "genre                                 \n",
       "Action          116.17       30.306272\n",
       "Shooter          87.63       22.860795\n",
       "Sports           60.52       15.788375\n",
       "Role-Playing     31.83        8.303767\n",
       "Racing           20.06        5.233226"
      ]
     },
     "execution_count": 58,
     "metadata": {},
     "output_type": "execute_result"
    }
   ],
   "source": [
    "# Определим для пользователей Европы самые популярные жанры и их доли продаж\n",
    "eu_genre = actual_games.pivot_table(index='genre', values='eu_sales', aggfunc='sum').sort_values(by='eu_sales', ascending=False)\n",
    "eu_genre['share_of_sales'] = eu_genre['eu_sales'] / eu_genre['eu_sales'].sum() * 100\n",
    "eu_genre.head()"
   ]
  },
  {
   "cell_type": "markdown",
   "metadata": {},
   "source": [
    "Предпочтения в игровых жанрах у европейцев полностью совпадают с предпочтениями американцев и канадцев. Самые любимые жанры у игроков Европы, как и у игроков Северной Америки - жанры Action и Shooter. На них приходится почти половина продаваемых игр (53,26% продаж). Тройка остальных популярных жанров Sports, Misc и RPG занимает 29,31% продаж"
   ]
  },
  {
   "cell_type": "code",
   "execution_count": 59,
   "metadata": {},
   "outputs": [
    {
     "data": {
      "text/html": [
       "<div>\n",
       "<style scoped>\n",
       "    .dataframe tbody tr th:only-of-type {\n",
       "        vertical-align: middle;\n",
       "    }\n",
       "\n",
       "    .dataframe tbody tr th {\n",
       "        vertical-align: top;\n",
       "    }\n",
       "\n",
       "    .dataframe thead th {\n",
       "        text-align: right;\n",
       "    }\n",
       "</style>\n",
       "<table border=\"1\" class=\"dataframe\">\n",
       "  <thead>\n",
       "    <tr style=\"text-align: right;\">\n",
       "      <th></th>\n",
       "      <th>eu_sales</th>\n",
       "      <th>share_of_sales</th>\n",
       "    </tr>\n",
       "    <tr>\n",
       "      <th>rating</th>\n",
       "      <th></th>\n",
       "      <th></th>\n",
       "    </tr>\n",
       "  </thead>\n",
       "  <tbody>\n",
       "    <tr>\n",
       "      <th>M</th>\n",
       "      <td>142.84</td>\n",
       "      <td>37.263905</td>\n",
       "    </tr>\n",
       "    <tr>\n",
       "      <th>E</th>\n",
       "      <td>83.14</td>\n",
       "      <td>21.689450</td>\n",
       "    </tr>\n",
       "    <tr>\n",
       "      <th>no_rating</th>\n",
       "      <td>72.75</td>\n",
       "      <td>18.978921</td>\n",
       "    </tr>\n",
       "    <tr>\n",
       "      <th>E10+</th>\n",
       "      <td>42.65</td>\n",
       "      <td>11.126474</td>\n",
       "    </tr>\n",
       "    <tr>\n",
       "      <th>T</th>\n",
       "      <td>41.94</td>\n",
       "      <td>10.941250</td>\n",
       "    </tr>\n",
       "  </tbody>\n",
       "</table>\n",
       "</div>"
      ],
      "text/plain": [
       "           eu_sales  share_of_sales\n",
       "rating                             \n",
       "M            142.84       37.263905\n",
       "E             83.14       21.689450\n",
       "no_rating     72.75       18.978921\n",
       "E10+          42.65       11.126474\n",
       "T             41.94       10.941250"
      ]
     },
     "execution_count": 59,
     "metadata": {},
     "output_type": "execute_result"
    }
   ],
   "source": [
    "# Посмотрим, как влияет рейтинг ESRB на продажи в Европе\n",
    "eu_rating = actual_games.pivot_table(index='rating', values='eu_sales', aggfunc='sum').sort_values(by='eu_sales', ascending=False)\n",
    "eu_rating['share_of_sales'] = eu_rating['eu_sales'] / eu_rating['eu_sales'].sum() * 100\n",
    "eu_rating"
   ]
  },
  {
   "cell_type": "markdown",
   "metadata": {},
   "source": [
    "Игры для взрослых лидируют, как и у северных американцев, и составляет 37,26%, Игры без рейтинга составляют примерно такую же долю(18,79%), Игры для всех и всех 10+ суммарно составляют 32,7%\n",
    "\n",
    "Среди тинейджеров игры менее популярны, а игр для раннего возраста вообще практически отсутсвуют"
   ]
  },
  {
   "cell_type": "code",
   "execution_count": 60,
   "metadata": {},
   "outputs": [
    {
     "data": {
      "text/html": [
       "<div>\n",
       "<style scoped>\n",
       "    .dataframe tbody tr th:only-of-type {\n",
       "        vertical-align: middle;\n",
       "    }\n",
       "\n",
       "    .dataframe tbody tr th {\n",
       "        vertical-align: top;\n",
       "    }\n",
       "\n",
       "    .dataframe thead th {\n",
       "        text-align: right;\n",
       "    }\n",
       "</style>\n",
       "<table border=\"1\" class=\"dataframe\">\n",
       "  <thead>\n",
       "    <tr style=\"text-align: right;\">\n",
       "      <th></th>\n",
       "      <th>jp_sales</th>\n",
       "      <th>share_of_sales</th>\n",
       "    </tr>\n",
       "    <tr>\n",
       "      <th>platform</th>\n",
       "      <th></th>\n",
       "      <th></th>\n",
       "    </tr>\n",
       "  </thead>\n",
       "  <tbody>\n",
       "    <tr>\n",
       "      <th>3DS</th>\n",
       "      <td>63.61</td>\n",
       "      <td>47.300714</td>\n",
       "    </tr>\n",
       "    <tr>\n",
       "      <th>PS3</th>\n",
       "      <td>21.98</td>\n",
       "      <td>16.344438</td>\n",
       "    </tr>\n",
       "    <tr>\n",
       "      <th>PSV</th>\n",
       "      <td>17.73</td>\n",
       "      <td>13.184117</td>\n",
       "    </tr>\n",
       "    <tr>\n",
       "      <th>PS4</th>\n",
       "      <td>15.40</td>\n",
       "      <td>11.451517</td>\n",
       "    </tr>\n",
       "    <tr>\n",
       "      <th>WiiU</th>\n",
       "      <td>10.28</td>\n",
       "      <td>7.644259</td>\n",
       "    </tr>\n",
       "  </tbody>\n",
       "</table>\n",
       "</div>"
      ],
      "text/plain": [
       "          jp_sales  share_of_sales\n",
       "platform                          \n",
       "3DS          63.61       47.300714\n",
       "PS3          21.98       16.344438\n",
       "PSV          17.73       13.184117\n",
       "PS4          15.40       11.451517\n",
       "WiiU         10.28        7.644259"
      ]
     },
     "execution_count": 60,
     "metadata": {},
     "output_type": "execute_result"
    }
   ],
   "source": [
    "# Определим для пользователей Японии самые популярные платформы и их доли продаж\n",
    "jp_platform = actual_games.pivot_table(index='platform', values='jp_sales', aggfunc='sum').sort_values(by='jp_sales', ascending=False)\n",
    "jp_platform['share_of_sales'] = jp_platform['jp_sales'] / jp_platform['jp_sales'].sum() * 100\n",
    "jp_platform.head()"
   ]
  },
  {
   "cell_type": "code",
   "execution_count": 61,
   "metadata": {},
   "outputs": [
    {
     "data": {
      "text/plain": [
       "<AxesSubplot:title={'center':'Популярные платформы в Японии'}, ylabel='share_of_sales'>"
      ]
     },
     "execution_count": 61,
     "metadata": {},
     "output_type": "execute_result"
    },
    {
     "data": {
      "image/png": "[encoded data removed]",
      "text/plain": [
       "<Figure size 504x504 with 1 Axes>"
      ]
     },
     "metadata": {},
     "output_type": "display_data"
    }
   ],
   "source": [
    "jp_platform.plot(kind='pie', y='share_of_sales', autopct='%1.2f%%', figsize=(7,7), legend=None,\n",
    "                 title='Популярные платформы в Японии')"
   ]
  },
  {
   "cell_type": "markdown",
   "metadata": {},
   "source": [
    "В Японии популярны исключительно японские производители!\n",
    "\n",
    "3DS\t47.30%\n",
    "\n",
    "PS3\t16.34%\n",
    "\n",
    "PSV 13.18%\n",
    "\n",
    "PS4\t11.45%\n",
    "\n",
    "WiiU 7.64%\n",
    "\n",
    "Самая популярная платформа в Японии - это Нинтендовский 3DS(47,3%) занимает почти половину рынка, в то время когда 3 платформы Сони занимают всего 41%(PS3, PS4 и PSV) Устаревшие платформы не популярны так же как и игры на РС."
   ]
  },
  {
   "cell_type": "code",
   "execution_count": 62,
   "metadata": {},
   "outputs": [
    {
     "data": {
      "text/html": [
       "<div>\n",
       "<style scoped>\n",
       "    .dataframe tbody tr th:only-of-type {\n",
       "        vertical-align: middle;\n",
       "    }\n",
       "\n",
       "    .dataframe tbody tr th {\n",
       "        vertical-align: top;\n",
       "    }\n",
       "\n",
       "    .dataframe thead th {\n",
       "        text-align: right;\n",
       "    }\n",
       "</style>\n",
       "<table border=\"1\" class=\"dataframe\">\n",
       "  <thead>\n",
       "    <tr style=\"text-align: right;\">\n",
       "      <th></th>\n",
       "      <th>jp_sales</th>\n",
       "      <th>share_of_sales</th>\n",
       "    </tr>\n",
       "    <tr>\n",
       "      <th>genre</th>\n",
       "      <th></th>\n",
       "      <th></th>\n",
       "    </tr>\n",
       "  </thead>\n",
       "  <tbody>\n",
       "    <tr>\n",
       "      <th>Role-Playing</th>\n",
       "      <td>46.22</td>\n",
       "      <td>34.369423</td>\n",
       "    </tr>\n",
       "    <tr>\n",
       "      <th>Action</th>\n",
       "      <td>39.73</td>\n",
       "      <td>29.543427</td>\n",
       "    </tr>\n",
       "    <tr>\n",
       "      <th>Misc</th>\n",
       "      <td>9.66</td>\n",
       "      <td>7.183224</td>\n",
       "    </tr>\n",
       "    <tr>\n",
       "      <th>Fighting</th>\n",
       "      <td>7.41</td>\n",
       "      <td>5.510113</td>\n",
       "    </tr>\n",
       "    <tr>\n",
       "      <th>Shooter</th>\n",
       "      <td>6.60</td>\n",
       "      <td>4.907793</td>\n",
       "    </tr>\n",
       "  </tbody>\n",
       "</table>\n",
       "</div>"
      ],
      "text/plain": [
       "              jp_sales  share_of_sales\n",
       "genre                                 \n",
       "Role-Playing     46.22       34.369423\n",
       "Action           39.73       29.543427\n",
       "Misc              9.66        7.183224\n",
       "Fighting          7.41        5.510113\n",
       "Shooter           6.60        4.907793"
      ]
     },
     "execution_count": 62,
     "metadata": {},
     "output_type": "execute_result"
    }
   ],
   "source": [
    "# Определим для пользователей Японии самые популярные жанры и их доли продаж\n",
    "jp_genre = actual_games.pivot_table(index='genre', values='jp_sales', aggfunc='sum').sort_values(by='jp_sales', ascending=False)\n",
    "jp_genre['share_of_sales'] = jp_genre['jp_sales'] / jp_genre['jp_sales'].sum() * 100\n",
    "jp_genre.head()"
   ]
  },
  {
   "cell_type": "markdown",
   "metadata": {},
   "source": [
    "Предпочтения в игровых жанрах у японцев сильно отличаются от вкусов европейцев и северо-американцев. С большим отрывом лидируют жанры RP (34% продаж) и Action (29% продаж). В топ прибыльных жанров вошли так же Misc, Sport и Adventure. На их тройку приходится 17,5% продаж"
   ]
  },
  {
   "cell_type": "code",
   "execution_count": 63,
   "metadata": {},
   "outputs": [
    {
     "data": {
      "text/html": [
       "<div>\n",
       "<style scoped>\n",
       "    .dataframe tbody tr th:only-of-type {\n",
       "        vertical-align: middle;\n",
       "    }\n",
       "\n",
       "    .dataframe tbody tr th {\n",
       "        vertical-align: top;\n",
       "    }\n",
       "\n",
       "    .dataframe thead th {\n",
       "        text-align: right;\n",
       "    }\n",
       "</style>\n",
       "<table border=\"1\" class=\"dataframe\">\n",
       "  <thead>\n",
       "    <tr style=\"text-align: right;\">\n",
       "      <th></th>\n",
       "      <th>jp_sales</th>\n",
       "      <th>share_of_sales</th>\n",
       "    </tr>\n",
       "    <tr>\n",
       "      <th>rating</th>\n",
       "      <th></th>\n",
       "      <th></th>\n",
       "    </tr>\n",
       "  </thead>\n",
       "  <tbody>\n",
       "    <tr>\n",
       "      <th>no_rating</th>\n",
       "      <td>80.15</td>\n",
       "      <td>59.599941</td>\n",
       "    </tr>\n",
       "    <tr>\n",
       "      <th>T</th>\n",
       "      <td>19.79</td>\n",
       "      <td>14.715943</td>\n",
       "    </tr>\n",
       "    <tr>\n",
       "      <th>E</th>\n",
       "      <td>15.12</td>\n",
       "      <td>11.243308</td>\n",
       "    </tr>\n",
       "    <tr>\n",
       "      <th>M</th>\n",
       "      <td>13.53</td>\n",
       "      <td>10.060976</td>\n",
       "    </tr>\n",
       "    <tr>\n",
       "      <th>E10+</th>\n",
       "      <td>5.89</td>\n",
       "      <td>4.379833</td>\n",
       "    </tr>\n",
       "  </tbody>\n",
       "</table>\n",
       "</div>"
      ],
      "text/plain": [
       "           jp_sales  share_of_sales\n",
       "rating                             \n",
       "no_rating     80.15       59.599941\n",
       "T             19.79       14.715943\n",
       "E             15.12       11.243308\n",
       "M             13.53       10.060976\n",
       "E10+           5.89        4.379833"
      ]
     },
     "execution_count": 63,
     "metadata": {},
     "output_type": "execute_result"
    }
   ],
   "source": [
    "# Посмотрим, как влияет рейтинг ESRB на продажи в Японии\n",
    "jp_rating = actual_games.pivot_table(index='rating', values='jp_sales', aggfunc='sum').sort_values(by='jp_sales', ascending=False)\n",
    "jp_rating['share_of_sales'] = jp_rating['jp_sales'] / jp_rating['jp_sales'].sum() * 100\n",
    "jp_rating"
   ]
  },
  {
   "cell_type": "markdown",
   "metadata": {},
   "source": [
    "Самыми популярными оказались игры \"без рейтинга\", почти 60%. Далее по популярности стали игры для тинейджеров, почти 15%, Игры для взрослых и 10+ оказались менее популярными чем в других частях мира."
   ]
  },
  {
   "cell_type": "markdown",
   "metadata": {},
   "source": [
    "### Вывод\n",
    "\n",
    ".  СЕВЕРНАЯ АМЕРИКА\n",
    "Популярными платформами в СА являются:\n",
    "\n",
    "PS4 (24.89%)\n",
    "\n",
    "XOne (21.53%)\n",
    "\n",
    "X360 (18.77%)\n",
    "\n",
    "PS3\t(14.22%)\n",
    "\n",
    "3DS\t(8.71%)\n",
    "\n",
    "Большая доля рынка выпадает на японские консоли - 39,11% - Сони( PS4 и PS3), и 15,27% - это Нинтендо (3DS и WiiU), доля американского производителя Майкрософт - 40,3% (XOne, X360)\n",
    "Устаревшие платформы такие как wii, ps2 и игры на PC совсем не популярны в СА\n",
    "\n",
    "Самые любимые жанры у игроманов Северной Америки - жанры Action и Shooter. На них приходится почти половина продаваемых игр (54,59% продаж). Тройка остальных популярных жанров Sports, Misc и RPG занимает 31,01% продаж\n",
    "\n",
    "Самые частые игроки в СА - взрослые, рейтинг М уверенно стоит на 1 месте(38%) с большим отрывом от доли игр \"без рейтинга\"(19,11%). Игры \"для всех\" уверенно на 3 месте, среди тинэйджеров игры не очень популярны, а для совсем малышей практически никто не играет.\n",
    "ЕВРОПА\n",
    "Популярные платформы в Европе:\n",
    "\n",
    "PS4\t(35.94%)\n",
    "\n",
    "PS3\t(17.10%)\n",
    "\n",
    "XOne (13.24%)\n",
    "\n",
    "X360 (10.89%)\n",
    "\n",
    "3DS\t(7.82)\n",
    "\n",
    "Рынок в Европе захватил япоский Сони - 53% (PS4,PS3), американский Майкрософт всего лиш 24,13% (Xone,X360), японский Нинтендо - 12,75%(3DS, WiiU). В европе проявляется небольшая доля любителей игр на РС(6,75%)\n",
    "\n",
    "Предпочтения в игровых жанрах у европейцев полностью совпадают с предпочтениями американцев и канадцев. Самые любимые жанры у игроков Европы, как и у игроков Северной Америки - жанры Action и Shooter. На них приходится почти половина продаваемых игр (53,26% продаж). Тройка остальных популярных жанров Sports, Misc и RPG занимает 29,31% продаж\n",
    "\n",
    "Игры для взрослых лидируют, как и у северных американцев, и составляет 37,26%, Игры без рейтинга составляют примерно такую же долю(18,79%), Игры для всех и всех 10+ суммарно составляют 32,7%\n",
    "\n",
    "Среди тинейджеров игры менее популярны, а игр для раннего возраста вообще практически отсутствуют\n",
    "ЯПОНИЯ\n",
    "В Японии популярны исключительно японские производители!\n",
    "\n",
    "3DS\t47.30%\n",
    "\n",
    "PS3\t16.34%\n",
    "\n",
    "PSV 13.18%\n",
    "\n",
    "PS4\t11.45%\n",
    "\n",
    "WiiU 7.64%\n",
    "\n",
    "Самая популярная платформа в Японии - это Нинтендовский 3DS(47,3%) занимает почти половину рынка, в то время когда 3 платформы Сони занимают всего 41%(PS3, PS4 и PSV) Устаревшие платформы не популярны так же как и игры на РС.\n",
    "\n",
    "Предпочтения в игровых жанрах у японцев сильно отличаются от вкусов европейцев и северо-американцев. С большим отрывом лидируют жанры RP (34% продаж) и Action (29% продаж). В топ прибыльных жанров вошли так же Misc, Sport и Adventure. На их тройку приходится 17,5% продаж\n",
    "\n",
    "Самыми популярными оказались игры \"без рейтинга\", почти 60%. Далее по популярности стали игры для тинейджеров, почти 15%, Игры для взрослых и 10+ оказались менее популярными чем в других частях мира.\n",
    "\n"
   ]
  },
  {
   "cell_type": "markdown",
   "metadata": {},
   "source": [
    "## Шаг"
   ]
  },
  {
   "cell_type": "markdown",
   "metadata": {},
   "source": [
    "### Проверяем гипотезы"
   ]
  },
  {
   "cell_type": "code",
   "execution_count": 64,
   "metadata": {},
   "outputs": [
    {
     "data": {
      "text/html": [
       "<div>\n",
       "<style scoped>\n",
       "    .dataframe tbody tr th:only-of-type {\n",
       "        vertical-align: middle;\n",
       "    }\n",
       "\n",
       "    .dataframe tbody tr th {\n",
       "        vertical-align: top;\n",
       "    }\n",
       "\n",
       "    .dataframe thead th {\n",
       "        text-align: right;\n",
       "    }\n",
       "</style>\n",
       "<table border=\"1\" class=\"dataframe\">\n",
       "  <thead>\n",
       "    <tr style=\"text-align: right;\">\n",
       "      <th></th>\n",
       "      <th>count</th>\n",
       "      <th>mean</th>\n",
       "      <th>std</th>\n",
       "      <th>min</th>\n",
       "      <th>25%</th>\n",
       "      <th>50%</th>\n",
       "      <th>75%</th>\n",
       "      <th>max</th>\n",
       "    </tr>\n",
       "    <tr>\n",
       "      <th>platform</th>\n",
       "      <th></th>\n",
       "      <th></th>\n",
       "      <th></th>\n",
       "      <th></th>\n",
       "      <th></th>\n",
       "      <th></th>\n",
       "      <th></th>\n",
       "      <th></th>\n",
       "    </tr>\n",
       "  </thead>\n",
       "  <tbody>\n",
       "    <tr>\n",
       "      <th>PC</th>\n",
       "      <td>157.0</td>\n",
       "      <td>6.28</td>\n",
       "      <td>1.74</td>\n",
       "      <td>1.4</td>\n",
       "      <td>5.3</td>\n",
       "      <td>6.8</td>\n",
       "      <td>7.6</td>\n",
       "      <td>9.3</td>\n",
       "    </tr>\n",
       "    <tr>\n",
       "      <th>XOne</th>\n",
       "      <td>180.0</td>\n",
       "      <td>6.51</td>\n",
       "      <td>1.38</td>\n",
       "      <td>1.6</td>\n",
       "      <td>5.8</td>\n",
       "      <td>6.8</td>\n",
       "      <td>7.5</td>\n",
       "      <td>9.2</td>\n",
       "    </tr>\n",
       "  </tbody>\n",
       "</table>\n",
       "</div>"
      ],
      "text/plain": [
       "          count  mean   std  min  25%  50%  75%  max\n",
       "platform                                            \n",
       "PC        157.0  6.28  1.74  1.4  5.3  6.8  7.6  9.3\n",
       "XOne      180.0  6.51  1.38  1.6  5.8  6.8  7.5  9.2"
      ]
     },
     "execution_count": 64,
     "metadata": {},
     "output_type": "execute_result"
    }
   ],
   "source": [
    "# Проверим гипотезу, что средние пользовательские рейтинги платформ XOne и PC одинаковые\n",
    "actual_games.query('platform == \"XOne\" or platform == \"PC\"').groupby('platform')['user_score'].describe().round(2)"
   ]
  },
  {
   "cell_type": "markdown",
   "metadata": {},
   "source": [
    "Исходя из показателей медианы, среднего и стандартного отклонения пользовательских рейтингов платформ PC и XOne можно предположить, что средний пользовательский рейтинг платформы PC 6.28 не сильно отличается от среднего пользовательского рейтинга платформы XOne 6.51. Проверим это методами статистического анализа"
   ]
  },
  {
   "cell_type": "code",
   "execution_count": 65,
   "metadata": {},
   "outputs": [
    {
     "name": "stdout",
     "output_type": "stream",
     "text": [
      "p-значение: 0.1760914302209405\n",
      "Не получилось отвергнуть нулевую гипотезу\n"
     ]
    }
   ],
   "source": [
    "alpha = .03\n",
    "\n",
    "pc = actual_games.query(\"platform == 'PC'\")\n",
    "\n",
    "results = st.ttest_ind(\n",
    "    xone['user_score'],\n",
    "    pc['user_score'],\n",
    "    equal_var=False,  # Welch’s t-test, который не предполагает равенство дисперсий\n",
    "    nan_policy='omit' # игнорируем пропуски\n",
    ")\n",
    "\n",
    "print('p-значение:', results.pvalue)\n",
    "\n",
    "if (results.pvalue < alpha):\n",
    "    print(\"Отвергаем нулевую гипотезу\")\n",
    "else:\n",
    "    print(\"Не получилось отвергнуть нулевую гипотезу\")"
   ]
  },
  {
   "cell_type": "code",
   "execution_count": null,
   "metadata": {},
   "outputs": [],
   "source": []
  },
  {
   "cell_type": "code",
   "execution_count": 66,
   "metadata": {},
   "outputs": [
    {
     "data": {
      "text/html": [
       "<div>\n",
       "<style scoped>\n",
       "    .dataframe tbody tr th:only-of-type {\n",
       "        vertical-align: middle;\n",
       "    }\n",
       "\n",
       "    .dataframe tbody tr th {\n",
       "        vertical-align: top;\n",
       "    }\n",
       "\n",
       "    .dataframe thead th {\n",
       "        text-align: right;\n",
       "    }\n",
       "</style>\n",
       "<table border=\"1\" class=\"dataframe\">\n",
       "  <thead>\n",
       "    <tr style=\"text-align: right;\">\n",
       "      <th></th>\n",
       "      <th>count</th>\n",
       "      <th>mean</th>\n",
       "      <th>std</th>\n",
       "      <th>min</th>\n",
       "      <th>25%</th>\n",
       "      <th>50%</th>\n",
       "      <th>75%</th>\n",
       "      <th>max</th>\n",
       "    </tr>\n",
       "    <tr>\n",
       "      <th>genre</th>\n",
       "      <th></th>\n",
       "      <th></th>\n",
       "      <th></th>\n",
       "      <th></th>\n",
       "      <th></th>\n",
       "      <th></th>\n",
       "      <th></th>\n",
       "      <th></th>\n",
       "    </tr>\n",
       "  </thead>\n",
       "  <tbody>\n",
       "    <tr>\n",
       "      <th>Action</th>\n",
       "      <td>383.0</td>\n",
       "      <td>6.83</td>\n",
       "      <td>1.34</td>\n",
       "      <td>2.0</td>\n",
       "      <td>6.3</td>\n",
       "      <td>7.1</td>\n",
       "      <td>7.8</td>\n",
       "      <td>9.1</td>\n",
       "    </tr>\n",
       "    <tr>\n",
       "      <th>Sports</th>\n",
       "      <td>160.0</td>\n",
       "      <td>5.24</td>\n",
       "      <td>1.78</td>\n",
       "      <td>0.2</td>\n",
       "      <td>4.1</td>\n",
       "      <td>5.5</td>\n",
       "      <td>6.5</td>\n",
       "      <td>8.8</td>\n",
       "    </tr>\n",
       "  </tbody>\n",
       "</table>\n",
       "</div>"
      ],
      "text/plain": [
       "        count  mean   std  min  25%  50%  75%  max\n",
       "genre                                             \n",
       "Action  383.0  6.83  1.34  2.0  6.3  7.1  7.8  9.1\n",
       "Sports  160.0  5.24  1.78  0.2  4.1  5.5  6.5  8.8"
      ]
     },
     "execution_count": 66,
     "metadata": {},
     "output_type": "execute_result"
    }
   ],
   "source": [
    "# проверим гипотезу, что средние пользовательские рейтинги жанров Action (англ. «действие», экшен-игры) и Sports (англ. «спортивные соревнования») разные.\n",
    "actual_games.query('genre == \"Action\" or genre == \"Sports\"').groupby('genre')['user_score'].describe().round(2)"
   ]
  },
  {
   "cell_type": "markdown",
   "metadata": {},
   "source": [
    "Различие средних пользовательских оценок между жанрами Action и Sports более выражено: оценки игр в жанре Action на 6,3% выше.\n",
    "\n",
    "Проверим гипотезу \"Средние пользовательские рейтинги жанров Action и Sports разные\" (альтернативная гипотеза). Нулевая гипотеза: различий в оценках между жанрами нет.\n"
   ]
  },
  {
   "cell_type": "code",
   "execution_count": 67,
   "metadata": {},
   "outputs": [
    {
     "name": "stdout",
     "output_type": "stream",
     "text": [
      "p-значение: 2.6574152294218424e-20\n",
      "Отвергаем нулевую гипотезу\n"
     ]
    }
   ],
   "source": [
    "alpha = .05\n",
    "\n",
    "\n",
    "action = actual_games.query(\"genre == 'Action'\")\n",
    "sports = actual_games.query(\"genre == 'Sports'\")\n",
    "\n",
    "results = st.ttest_ind(\n",
    "    action['user_score'],\n",
    "    sports['user_score'],\n",
    "    equal_var=False,  # Welch’s t-test, который не предполагает равенство дисперсий\n",
    "    nan_policy='omit' # игнорируем пропуски\n",
    ")\n",
    "\n",
    "print('p-значение:', results.pvalue)\n",
    "\n",
    "if (results.pvalue < alpha):\n",
    "    print(\"Отвергаем нулевую гипотезу\")\n",
    "else:\n",
    "    print(\"Не получилось отвергнуть нулевую гипотезу\")"
   ]
  },
  {
   "cell_type": "markdown",
   "metadata": {},
   "source": [
    "Средние пользовательские рейтинги различаются, и практически нулевая вероятность говорит о том, что случайно получить такое отличие в значениях практически не получится.\n",
    "\n",
    "Гипотеза Средние пользовательские рейтинги жанров Action и Sports разные подтвердилась."
   ]
  },
  {
   "cell_type": "markdown",
   "metadata": {},
   "source": [
    "### Вывод\n",
    "Исходя из показателей медианы, среднего и стандартного отклонения пользовательских рейтингов платформ PC и XOne можно предположить, что средний пользовательский рейтинг платформы PC 6.28 не сильно отличается от среднего пользовательского рейтинга платформы XOne 6.51. Проверим это методами статистического анализа\n",
    "\n",
    "Гипотеза Средние пользовательские рейтинги платформ Xbox One и PC одинаковые подтвердилась\n",
    "\n",
    "Различие средних пользовательских оценок между жанрами Action и Sports более выражено: оценки игр в жанре Action на 6,3% выше.\n",
    "Проверим гипотезу \"Средние пользовательские рейтинги жанров Action и Sports разные\" (альтернативная гипотеза). Нулевая гипотеза: различий в оценках между жанрами нет.\n",
    "\n",
    "Средние пользовательские рейтинги различаются, и практически нулевая вероятность говорит о том, что случайно получить такое отличие в значениях практически не получится.\n",
    "\n",
    "Гипотеза Средние пользовательские рейтинги жанров Action и Sports разные подтвердилась.\n",
    "\n"
   ]
  },
  {
   "cell_type": "markdown",
   "metadata": {},
   "source": [
    "## Шаг"
   ]
  },
  {
   "cell_type": "markdown",
   "metadata": {},
   "source": [
    "### Вывод\n",
    "\n",
    "[1] Данные предоставлены с пропусками и без очевидных дубликатов, некоторые типы данных стоит изменить, и создать дополнительные колонки с категориями.\n",
    "\n",
    "[2] В результате предварительной обработки данных названия столбцов приведены к единому регистру.\n",
    "\n",
    "От пропусков в столбцах name и genre избавились, удалив две записи в таблице.\n",
    "\n",
    "Избавились от пропусков в столбце year_of_release. Вначале заменили пропуски в дате выпуска игры на известную нам дату выпуска этой игры по другим записям. Оставшиеся пропуски удалили, так как они занимали примерно 2%\n",
    "\n",
    "Столбец year_of_release приведен к целочисленному типу данных.\n",
    "\n",
    "Проанализировали нулевые значения в столбцах по продажам игр в разных регионах: na_sales, eu_sales, jp_sales и other_sales.\n",
    "\n",
    "Так как данные в таблице указаны в миллионах долларов, то значение менее 0.1 означает доход менее 100 000 долларов. Это большие суммы, но в таблице они могли быть учтены как нули. Поэтому нулевые показатели представляются реальными данными и никаких преобразований не требуют.\n",
    "\n",
    "Проанализировали пропуски в столбцах с оценкой игр критиками, пользователями и рейтингом ESRB: critic_score, user_score, rating.\n",
    "\n",
    "52% данных содержат пропуски в столбцах с оценкой критиками/пользователями или рейтингом. Поэтому удалять такой большой объем информации нельзя.\n",
    "\n",
    "Заменить пропуски в оценке/рейтинге игры на ноль или медиану/среднее значение всего столбца тоже неправильно, так как показатель оценки/рейтинга является индивидуальной характеристикой игры и игровой платформы, на которой она используется, и не зависит от показателей оценки/рейтинга других игр. Поэтому пропуски в данных столбцах оставлены без изменений.\n",
    "\n",
    "Аббревиатура 'tbd' в столбце user_score означает 'to be determined' и переводится как 'будет определено'. То есть на момент заполнения данных оценка игры пользователями отсутствовала, и значение 'tbd' приравнивается к пропуску в оценке. Значение 'tbd' было переведено в 'nan'.\n",
    "\n",
    "Столбцам critic_score и user_score был присвоен вещественный тип данных.\n",
    "\n",
    "Для каждой игры на отдельной платформе были посчитаны суммарные продажи во всех регионах.\n",
    "\n",
    "[3] Думаю, что для нас важны данные, когда игровая индустрия становится более конкурентной. когда появляются новые платформы и новые жанры. Видим три больших скачка - в конце 90-х, начале 00-х и в 2008 году, к 2012 году видим сильный спад, скорее всего это связано с массовым появлением смартфонов и мобильных игр, соответственно.\n",
    "\n",
    "Примерно за 10 лет появляются новые и исчезают старые платформы. Таким образом, мы еще раз убедились, что данные за все периоды нам не понадобятся – достаточно определить актуальный период в 2-3 года и смотреть на игры на современных платформах.\n",
    "\n",
    "Я взяла для анализа данные за 2013-2016 год включительно, за этот период лидирующими платформами стали PS4, PS3 и XOne.\n",
    "\n",
    "Наличие большого числа выбросов и характерное смещение распределения вправо говорит о том, что на каждой из платформ выходили игры-блокбастеры, существенно превышающие по популярности и прибыльности большинство игр на этой же платформе - не платформа красит игру, а игра платформу. Для некоторых платформ выбросы - это возможное следствие малого числа наблюдений.\n",
    "\n",
    "Несмотря на это, можно заметить, что есть более успешные по продажам платформы, такие как PS3, XOne, а также PS4 - медианное значение и верхняя граница 3 квантили наиболее высокие, но при этом широкий межквартильный размах говорит о сильной вариативности в продажах игр вокруг медианного значения. В то же время медианное значение WiiU приблизительно находится на уровне XOne, но при этом разброс сущетсвенно меньше. Игры, выпущенные под PC, проигрывают в продажах большинству консолей.\n",
    "\n",
    "Взаимосвязи между отзывами пользователей и продажами нет;\n",
    "\n",
    "Взаимосвязь между отзывами критиков и продажами существует, однако не слишком большая;\n",
    "\n",
    "Взаимосязь между отзывами критиков и отзывами пользователей существует, чуть большая чем между отзывами критиков и продажами.\n",
    "\n",
    "Корреляция не говорит о причинно-следственной связи. И хотя по диаграммам рассеяния видим, что чем выше оценки критиков, тем выше продажи игр на обоих платформах, мы не можем утверждать, что высокие оценки критиками приводят к высоким продажам игр, а при покупке игры пользователи больше доверяют критикам, а не другим геймерам.\n",
    "\n",
    "Самыми прибыльными жанрами являются Shooter, Sports, Platform (как по медианному значению, так и по межквартильному размаху). Наименее доходные жанры - Adventure и Puzzle.\n",
    "\n",
    "[4] СЕВЕРНАЯ АМЕРИКА\n",
    "\n",
    "Популярными платформами в СА являются:\n",
    "\n",
    "PS4 (24.89%)\n",
    "\n",
    "XOne (21.53%)\n",
    "\n",
    "X360 (18.77%)\n",
    "\n",
    "PS3\t(14.22%)\n",
    "\n",
    "3DS\t(8.71%)\n",
    "\n",
    "Большая доля рынка выпадает на японские консоли - 39,11% - Сони( PS4 и PS3), и 15,27% - это Нинтендо (3DS и WiiU), доля американского производителя Майкрософт - 40,3% (XOne, X360)\n",
    "Устаревшие платформы такие как wii, ps2 и игры на PC совсем не популярны в СА\n",
    "\n",
    "Самые любимые жанры у игроманов Северной Америки - жанры Action и Shooter. На них приходится почти половина продаваемых игр (54,59% продаж). Тройка остальных популярных жанров Sports, Misc и RPG занимает 31,01% продаж\n",
    "\n",
    "Самые частые игроки в СА - взрослые, рейтинг М уверенно стоит на 1 месте(38%) с большим отрывом от доли игр \"без рейтинга\"(19,11%). Игры \"для всех\" уверенно на 3 месте, среди тинэйджеров игры не очень популярны, а для совсем малышей практически никто не играет.\n",
    "\n",
    "ЕВРОПА\n",
    "\n",
    "Популярные платформы в Европе:\n",
    "\n",
    "PS4\t(35.94%)\n",
    "\n",
    "PS3\t(17.10%)\n",
    "\n",
    "XOne (13.24%)\n",
    "\n",
    "X360 (10.89%)\n",
    "\n",
    "3DS\t(7.82)\n",
    "\n",
    "Рынок в Европе захватил япоский Сони - 53% (PS4,PS3), американский Майкрософт всего лиш 24,13% (Xone,X360), японский Нинтендо - 12,75%(3DS, WiiU). В европе проявляется небольшая доля любителей игр на РС(6,75%)\n",
    "\n",
    "Предпочтения в игровых жанрах у европейцев полностью совпадают с предпочтениями американцев и канадцев. Самые любимые жанры у игроков Европы, как и у игроков Северной Америки - жанры Action и Shooter. На них приходится почти половина продаваемых игр (53,26% продаж). Тройка остальных популярных жанров Sports, Misc и RPG занимает 29,31% продаж\n",
    "\n",
    "Игры для взрослых лидируют, как и у северных американцев, и составляет 37,26%, Игры без рейтинга составляют примерно такую же долю(18,79%), Игры для всех и всех 10+ суммарно составляют 32,7%\n",
    "\n",
    "Среди тинейджеров игры менее популярны, а игр для раннего возраста вообще практически отсутствуют\n",
    "\n",
    "ЯПОНИЯ\n",
    "\n",
    "В Японии популярны исключительно японские производители!\n",
    "\n",
    "3DS\t47.30%\n",
    "\n",
    "PS3\t16.34%\n",
    "\n",
    "PSV 13.18%\n",
    "\n",
    "PS4\t11.45%\n",
    "\n",
    "WiiU 7.64%\n",
    "\n",
    "Самая популярная платформа в Японии - это Нинтендовский 3DS(47,3%) занимает почти половину рынка, в то время когда 3 платформы Сони занимают всего 41%(PS3, PS4 и PSV) Устаревшие платформы не популярны так же как и игры на РС.\n",
    "\n",
    "Предпочтения в игровых жанрах у японцев сильно отличаются от вкусов европейцев и северо-американцев. С большим отрывом лидируют жанры RP (34% продаж) и Action (29% продаж). В топ прибыльных жанров вошли так же Misc, Sport и Adventure. На их тройку приходится 17,5% продаж\n",
    "\n",
    "Самыми популярными оказались игры \"без рейтинга\", почти 60%. Далее по популярности стали игры для тинейджеров, почти 15%, Игры для взрослых и 10+ оказались менее популярными чем в других частях мира.\n",
    "\n",
    "\n",
    "[5] Исходя из показателей медианы, среднего и стандартного отклонения пользовательских рейтингов платформ PC и XOne можно предположить, что средний пользовательский рейтинг платформы PC 6.28 не сильно отличается от среднего пользовательского рейтинга платформы XOne 6.51. Проверим это методами статистического анализа\n",
    "\n",
    "Гипотеза Средние пользовательские рейтинги платформ Xbox One и PC одинаковые подтвердилась\n",
    "\n",
    "Различие средних пользовательских оценок между жанрами Action и Sports более выражено: оценки игр в жанре Action на 6,3% выше.\n",
    "\n",
    "Проверим гипотезу \"Средние пользовательские рейтинги жанров Action и Sports разные\" (альтернативная гипотеза). Нулевая гипотеза: различий в оценках между жанрами нет.\n",
    "Средние пользовательские рейтинги различаются, и практически нулевая вероятность говорит о том, что случайно получить такое отличие в значениях практически не получится.\n",
    "\n",
    "Гипотеза Средние пользовательские рейтинги жанров Action и Sports разные подтвердилась.\n"
   ]
  }
 ],
 "metadata": {
  "ExecuteTimeLog": [
   {
    "duration": 1725,
    "start_time": "2022-05-17T12:07:31.052Z"
   },
   {
    "duration": 155,
    "start_time": "2022-05-17T12:07:59.651Z"
   },
   {
    "duration": 53,
    "start_time": "2022-05-17T12:09:46.109Z"
   },
   {
    "duration": 31,
    "start_time": "2022-05-17T12:09:50.029Z"
   },
   {
    "duration": 49,
    "start_time": "2022-05-17T12:10:03.225Z"
   },
   {
    "duration": 20,
    "start_time": "2022-05-17T12:10:12.673Z"
   },
   {
    "duration": 23,
    "start_time": "2022-05-17T12:10:24.122Z"
   },
   {
    "duration": 15,
    "start_time": "2022-05-17T12:10:32.225Z"
   },
   {
    "duration": 6,
    "start_time": "2022-05-17T12:14:39.413Z"
   },
   {
    "duration": 7,
    "start_time": "2022-05-17T12:14:47.997Z"
   },
   {
    "duration": 11,
    "start_time": "2022-05-17T12:48:44.193Z"
   },
   {
    "duration": 1671,
    "start_time": "2022-05-17T12:48:50.728Z"
   },
   {
    "duration": 2553,
    "start_time": "2022-05-17T12:50:15.195Z"
   },
   {
    "duration": 8,
    "start_time": "2022-05-17T12:50:19.362Z"
   },
   {
    "duration": 9,
    "start_time": "2022-05-17T12:51:18.994Z"
   },
   {
    "duration": 11,
    "start_time": "2022-05-17T12:51:50.508Z"
   },
   {
    "duration": 8,
    "start_time": "2022-05-17T12:52:00.203Z"
   },
   {
    "duration": 13,
    "start_time": "2022-05-17T13:29:26.378Z"
   },
   {
    "duration": 3,
    "start_time": "2022-05-17T13:32:16.345Z"
   },
   {
    "duration": 11,
    "start_time": "2022-05-17T13:33:49.662Z"
   },
   {
    "duration": 4,
    "start_time": "2022-05-17T13:33:54.649Z"
   },
   {
    "duration": 21,
    "start_time": "2022-05-17T13:33:56.781Z"
   },
   {
    "duration": 20,
    "start_time": "2022-05-17T13:34:01.498Z"
   },
   {
    "duration": 20,
    "start_time": "2022-05-17T13:34:17.637Z"
   },
   {
    "duration": 8,
    "start_time": "2022-05-17T13:40:05.673Z"
   },
   {
    "duration": 2142,
    "start_time": "2022-05-17T13:40:32.198Z"
   },
   {
    "duration": 32,
    "start_time": "2022-05-17T13:41:04.535Z"
   },
   {
    "duration": 15,
    "start_time": "2022-05-17T13:41:35.897Z"
   },
   {
    "duration": 1655,
    "start_time": "2022-05-17T13:57:52.366Z"
   },
   {
    "duration": 10,
    "start_time": "2022-05-17T13:58:10.316Z"
   },
   {
    "duration": 1282,
    "start_time": "2022-05-20T13:08:03.506Z"
   },
   {
    "duration": 78,
    "start_time": "2022-05-20T13:08:05.641Z"
   },
   {
    "duration": 18,
    "start_time": "2022-05-20T13:08:06.257Z"
   },
   {
    "duration": 42,
    "start_time": "2022-05-20T13:08:06.838Z"
   },
   {
    "duration": 17,
    "start_time": "2022-05-20T13:08:07.273Z"
   },
   {
    "duration": 19,
    "start_time": "2022-05-20T13:08:07.481Z"
   },
   {
    "duration": 11,
    "start_time": "2022-05-20T13:08:07.770Z"
   },
   {
    "duration": 4,
    "start_time": "2022-05-20T13:08:08.745Z"
   },
   {
    "duration": 6,
    "start_time": "2022-05-20T13:08:09.442Z"
   },
   {
    "duration": 10,
    "start_time": "2022-05-20T13:08:10.145Z"
   },
   {
    "duration": 3,
    "start_time": "2022-05-20T13:08:10.634Z"
   },
   {
    "duration": 15,
    "start_time": "2022-05-20T13:08:11.306Z"
   },
   {
    "duration": 13,
    "start_time": "2022-05-20T13:08:12.136Z"
   },
   {
    "duration": 6,
    "start_time": "2022-05-20T13:08:12.584Z"
   },
   {
    "duration": 22,
    "start_time": "2022-05-20T13:08:13.202Z"
   },
   {
    "duration": 19,
    "start_time": "2022-05-20T13:09:23.657Z"
   },
   {
    "duration": 16,
    "start_time": "2022-05-20T13:09:57.657Z"
   },
   {
    "duration": 15,
    "start_time": "2022-05-20T13:10:13.977Z"
   },
   {
    "duration": 16,
    "start_time": "2022-05-20T13:10:26.939Z"
   },
   {
    "duration": 15,
    "start_time": "2022-05-20T13:10:32.883Z"
   },
   {
    "duration": 15,
    "start_time": "2022-05-20T13:10:47.837Z"
   },
   {
    "duration": 4,
    "start_time": "2022-05-20T13:25:40.849Z"
   },
   {
    "duration": 3,
    "start_time": "2022-05-20T13:26:28.870Z"
   },
   {
    "duration": 23388,
    "start_time": "2022-05-20T13:32:19.788Z"
   },
   {
    "duration": 2,
    "start_time": "2022-05-20T13:40:25.702Z"
   },
   {
    "duration": 31702,
    "start_time": "2022-05-20T13:40:42.951Z"
   },
   {
    "duration": 0,
    "start_time": "2022-05-20T13:43:37.229Z"
   },
   {
    "duration": 33212,
    "start_time": "2022-05-20T13:43:51.231Z"
   },
   {
    "duration": 17,
    "start_time": "2022-05-20T14:16:50.519Z"
   },
   {
    "duration": 4,
    "start_time": "2022-05-20T14:17:46.959Z"
   },
   {
    "duration": 8,
    "start_time": "2022-05-20T14:26:59.194Z"
   },
   {
    "duration": 22,
    "start_time": "2022-05-20T14:27:00.457Z"
   },
   {
    "duration": 5,
    "start_time": "2022-05-20T14:27:33.001Z"
   },
   {
    "duration": 19,
    "start_time": "2022-05-20T14:33:20.493Z"
   },
   {
    "duration": 12,
    "start_time": "2022-05-20T14:45:25.282Z"
   },
   {
    "duration": 19,
    "start_time": "2022-05-20T14:59:13.579Z"
   },
   {
    "duration": 12,
    "start_time": "2022-05-20T15:00:20.781Z"
   },
   {
    "duration": 11,
    "start_time": "2022-05-20T15:00:54.208Z"
   },
   {
    "duration": 7,
    "start_time": "2022-05-20T15:01:08.487Z"
   },
   {
    "duration": 583,
    "start_time": "2022-05-20T15:07:28.427Z"
   },
   {
    "duration": 7,
    "start_time": "2022-05-20T15:07:39.503Z"
   },
   {
    "duration": 8,
    "start_time": "2022-05-20T15:07:54.540Z"
   },
   {
    "duration": 1213,
    "start_time": "2022-05-20T15:08:13.495Z"
   },
   {
    "duration": 47,
    "start_time": "2022-05-20T15:08:15.831Z"
   },
   {
    "duration": 17,
    "start_time": "2022-05-20T15:08:16.455Z"
   },
   {
    "duration": 39,
    "start_time": "2022-05-20T15:08:17.007Z"
   },
   {
    "duration": 15,
    "start_time": "2022-05-20T15:08:17.488Z"
   },
   {
    "duration": 25,
    "start_time": "2022-05-20T15:08:17.927Z"
   },
   {
    "duration": 10,
    "start_time": "2022-05-20T15:08:18.358Z"
   },
   {
    "duration": 4,
    "start_time": "2022-05-20T15:08:19.799Z"
   },
   {
    "duration": 5,
    "start_time": "2022-05-20T15:08:20.279Z"
   },
   {
    "duration": 9,
    "start_time": "2022-05-20T15:08:20.655Z"
   },
   {
    "duration": 3,
    "start_time": "2022-05-20T15:08:21.031Z"
   },
   {
    "duration": 16,
    "start_time": "2022-05-20T15:08:21.623Z"
   },
   {
    "duration": 15,
    "start_time": "2022-05-20T15:08:21.975Z"
   },
   {
    "duration": 7,
    "start_time": "2022-05-20T15:08:22.327Z"
   },
   {
    "duration": 24,
    "start_time": "2022-05-20T15:08:22.709Z"
   },
   {
    "duration": 18,
    "start_time": "2022-05-20T15:08:23.392Z"
   },
   {
    "duration": 7,
    "start_time": "2022-05-20T15:08:23.791Z"
   },
   {
    "duration": 4,
    "start_time": "2022-05-20T15:08:24.151Z"
   },
   {
    "duration": 23868,
    "start_time": "2022-05-20T15:08:24.700Z"
   },
   {
    "duration": 3,
    "start_time": "2022-05-20T15:08:48.570Z"
   },
   {
    "duration": 33155,
    "start_time": "2022-05-20T15:08:48.575Z"
   },
   {
    "duration": 12,
    "start_time": "2022-05-20T15:09:21.733Z"
   },
   {
    "duration": 23,
    "start_time": "2022-05-20T15:09:21.747Z"
   },
   {
    "duration": 8,
    "start_time": "2022-05-20T15:09:21.772Z"
   },
   {
    "duration": 23,
    "start_time": "2022-05-20T15:09:21.782Z"
   },
   {
    "duration": 9,
    "start_time": "2022-05-20T15:09:21.807Z"
   },
   {
    "duration": 11,
    "start_time": "2022-05-20T15:11:32.796Z"
   },
   {
    "duration": 10,
    "start_time": "2022-05-20T15:11:56.431Z"
   },
   {
    "duration": 11,
    "start_time": "2022-05-20T15:12:05.751Z"
   },
   {
    "duration": 15,
    "start_time": "2022-05-20T15:14:33.683Z"
   },
   {
    "duration": 14,
    "start_time": "2022-05-20T15:15:08.874Z"
   },
   {
    "duration": 12,
    "start_time": "2022-05-20T15:18:07.820Z"
   },
   {
    "duration": 12,
    "start_time": "2022-05-20T15:18:19.251Z"
   },
   {
    "duration": 532,
    "start_time": "2022-05-20T15:19:45.676Z"
   },
   {
    "duration": 17,
    "start_time": "2022-05-23T08:37:14.982Z"
   },
   {
    "duration": 15,
    "start_time": "2022-05-23T08:37:53.364Z"
   },
   {
    "duration": 3,
    "start_time": "2022-05-23T08:39:06.232Z"
   },
   {
    "duration": 121,
    "start_time": "2022-05-23T08:39:07.493Z"
   },
   {
    "duration": 9,
    "start_time": "2022-05-23T08:39:47.434Z"
   },
   {
    "duration": 3,
    "start_time": "2022-05-23T08:40:24.301Z"
   },
   {
    "duration": 5,
    "start_time": "2022-05-23T08:40:43.958Z"
   },
   {
    "duration": 16,
    "start_time": "2022-05-23T08:40:57.495Z"
   },
   {
    "duration": 4,
    "start_time": "2022-05-23T08:41:45.160Z"
   },
   {
    "duration": 16,
    "start_time": "2022-05-23T08:41:48.559Z"
   },
   {
    "duration": 14,
    "start_time": "2022-05-23T08:42:11.001Z"
   },
   {
    "duration": 3,
    "start_time": "2022-05-23T08:42:28.290Z"
   },
   {
    "duration": 3,
    "start_time": "2022-05-23T08:42:29.080Z"
   },
   {
    "duration": 297,
    "start_time": "2022-05-23T08:42:29.789Z"
   },
   {
    "duration": 9,
    "start_time": "2022-05-23T08:43:03.044Z"
   },
   {
    "duration": 16,
    "start_time": "2022-05-23T08:43:12.639Z"
   },
   {
    "duration": 4,
    "start_time": "2022-05-23T08:47:33.158Z"
   },
   {
    "duration": 10,
    "start_time": "2022-05-23T08:47:33.955Z"
   },
   {
    "duration": 4,
    "start_time": "2022-05-23T08:47:45.177Z"
   },
   {
    "duration": 375,
    "start_time": "2022-05-23T08:48:14.858Z"
   },
   {
    "duration": 16,
    "start_time": "2022-05-23T08:54:19.870Z"
   },
   {
    "duration": 9,
    "start_time": "2022-05-23T09:06:29.161Z"
   },
   {
    "duration": 214,
    "start_time": "2022-05-23T09:06:39.853Z"
   },
   {
    "duration": 3060,
    "start_time": "2022-05-23T09:18:04.059Z"
   },
   {
    "duration": 550,
    "start_time": "2022-05-23T09:19:35.611Z"
   },
   {
    "duration": 359,
    "start_time": "2022-05-23T09:19:58.775Z"
   },
   {
    "duration": 8,
    "start_time": "2022-05-23T10:03:40.082Z"
   },
   {
    "duration": 12,
    "start_time": "2022-05-23T10:03:41.135Z"
   },
   {
    "duration": 10,
    "start_time": "2022-05-23T10:03:48.050Z"
   },
   {
    "duration": 14,
    "start_time": "2022-05-23T10:03:49.100Z"
   },
   {
    "duration": 294,
    "start_time": "2022-05-23T10:03:50.427Z"
   },
   {
    "duration": 326,
    "start_time": "2022-05-23T10:04:13.121Z"
   },
   {
    "duration": 14,
    "start_time": "2022-05-23T10:46:15.946Z"
   },
   {
    "duration": 12,
    "start_time": "2022-05-23T10:46:27.646Z"
   },
   {
    "duration": 196,
    "start_time": "2022-05-23T10:46:48.656Z"
   },
   {
    "duration": 14,
    "start_time": "2022-05-23T12:02:39.262Z"
   },
   {
    "duration": 19,
    "start_time": "2022-05-23T12:04:52.424Z"
   },
   {
    "duration": 245,
    "start_time": "2022-05-23T12:05:36.533Z"
   },
   {
    "duration": 17,
    "start_time": "2022-05-23T12:06:36.244Z"
   },
   {
    "duration": 17,
    "start_time": "2022-05-23T12:08:05.771Z"
   },
   {
    "duration": 10,
    "start_time": "2022-05-23T12:09:06.297Z"
   },
   {
    "duration": 18,
    "start_time": "2022-05-23T12:09:12.425Z"
   },
   {
    "duration": 19,
    "start_time": "2022-05-23T12:28:45.088Z"
   },
   {
    "duration": 256,
    "start_time": "2022-05-23T12:29:02.178Z"
   },
   {
    "duration": 21,
    "start_time": "2022-05-23T12:40:57.172Z"
   },
   {
    "duration": 19,
    "start_time": "2022-05-23T12:42:01.599Z"
   },
   {
    "duration": 21,
    "start_time": "2022-05-24T12:00:00.855Z"
   },
   {
    "duration": 225,
    "start_time": "2022-05-24T12:00:21.797Z"
   },
   {
    "duration": 10,
    "start_time": "2022-05-24T12:08:14.378Z"
   },
   {
    "duration": 17,
    "start_time": "2022-05-24T12:08:29.559Z"
   },
   {
    "duration": 17,
    "start_time": "2022-05-24T12:22:55.755Z"
   },
   {
    "duration": 22,
    "start_time": "2022-05-24T12:41:03.844Z"
   },
   {
    "duration": 14,
    "start_time": "2022-05-24T12:48:07.635Z"
   },
   {
    "duration": 12,
    "start_time": "2022-05-24T12:48:24.157Z"
   },
   {
    "duration": 16,
    "start_time": "2022-05-24T12:48:52.945Z"
   },
   {
    "duration": 9,
    "start_time": "2022-05-24T12:49:21.295Z"
   },
   {
    "duration": 4,
    "start_time": "2022-05-24T12:49:38.673Z"
   },
   {
    "duration": 4,
    "start_time": "2022-05-24T12:50:01.185Z"
   },
   {
    "duration": 1404,
    "start_time": "2022-05-24T20:08:41.071Z"
   },
   {
    "duration": 425,
    "start_time": "2022-05-24T20:08:42.478Z"
   },
   {
    "duration": 18,
    "start_time": "2022-05-24T20:08:42.905Z"
   },
   {
    "duration": 34,
    "start_time": "2022-05-24T20:08:42.925Z"
   },
   {
    "duration": 13,
    "start_time": "2022-05-24T20:08:42.961Z"
   },
   {
    "duration": 27,
    "start_time": "2022-05-24T20:08:42.976Z"
   },
   {
    "duration": 12,
    "start_time": "2022-05-24T20:08:43.004Z"
   },
   {
    "duration": 16,
    "start_time": "2022-05-24T20:08:43.017Z"
   },
   {
    "duration": 13,
    "start_time": "2022-05-24T20:08:43.034Z"
   },
   {
    "duration": 24,
    "start_time": "2022-05-24T20:08:43.049Z"
   },
   {
    "duration": 7,
    "start_time": "2022-05-24T20:08:43.075Z"
   },
   {
    "duration": 20,
    "start_time": "2022-05-24T20:08:43.084Z"
   },
   {
    "duration": 26,
    "start_time": "2022-05-24T20:08:43.107Z"
   },
   {
    "duration": 8,
    "start_time": "2022-05-24T20:08:43.134Z"
   },
   {
    "duration": 28,
    "start_time": "2022-05-24T20:08:43.143Z"
   },
   {
    "duration": 21,
    "start_time": "2022-05-24T20:08:43.172Z"
   },
   {
    "duration": 5,
    "start_time": "2022-05-24T20:08:43.195Z"
   },
   {
    "duration": 6,
    "start_time": "2022-05-24T20:08:43.201Z"
   },
   {
    "duration": 22264,
    "start_time": "2022-05-24T20:08:43.208Z"
   },
   {
    "duration": 4,
    "start_time": "2022-05-24T20:09:05.474Z"
   },
   {
    "duration": 29861,
    "start_time": "2022-05-24T20:09:05.480Z"
   },
   {
    "duration": 17,
    "start_time": "2022-05-24T20:09:35.342Z"
   },
   {
    "duration": 6,
    "start_time": "2022-05-24T20:09:35.361Z"
   },
   {
    "duration": 10,
    "start_time": "2022-05-24T20:09:35.368Z"
   },
   {
    "duration": 19,
    "start_time": "2022-05-24T20:09:35.379Z"
   },
   {
    "duration": 12,
    "start_time": "2022-05-24T20:09:35.399Z"
   },
   {
    "duration": 171,
    "start_time": "2022-05-24T20:09:35.412Z"
   },
   {
    "duration": 3,
    "start_time": "2022-05-24T20:09:35.586Z"
   },
   {
    "duration": 6,
    "start_time": "2022-05-24T20:09:35.591Z"
   },
   {
    "duration": 364,
    "start_time": "2022-05-24T20:09:35.598Z"
   },
   {
    "duration": 14,
    "start_time": "2022-05-24T20:09:35.964Z"
   },
   {
    "duration": 3,
    "start_time": "2022-05-24T20:09:35.979Z"
   },
   {
    "duration": 283,
    "start_time": "2022-05-24T20:09:35.984Z"
   },
   {
    "duration": 18,
    "start_time": "2022-05-24T20:09:36.269Z"
   },
   {
    "duration": 8,
    "start_time": "2022-05-24T20:09:36.289Z"
   },
   {
    "duration": 216,
    "start_time": "2022-05-24T20:09:36.299Z"
   },
   {
    "duration": 2900,
    "start_time": "2022-05-24T20:09:36.517Z"
   },
   {
    "duration": 179,
    "start_time": "2022-05-24T20:09:39.419Z"
   },
   {
    "duration": 9,
    "start_time": "2022-05-24T20:09:39.600Z"
   },
   {
    "duration": 11,
    "start_time": "2022-05-24T20:09:39.610Z"
   },
   {
    "duration": 26,
    "start_time": "2022-05-24T20:09:39.623Z"
   },
   {
    "duration": 276,
    "start_time": "2022-05-24T20:09:39.659Z"
   },
   {
    "duration": 301,
    "start_time": "2022-05-24T20:09:39.937Z"
   },
   {
    "duration": 203,
    "start_time": "2022-05-24T20:09:40.240Z"
   },
   {
    "duration": 24,
    "start_time": "2022-05-24T20:09:40.445Z"
   },
   {
    "duration": 221,
    "start_time": "2022-05-24T20:09:40.471Z"
   },
   {
    "duration": 16,
    "start_time": "2022-05-24T20:09:40.694Z"
   },
   {
    "duration": 24,
    "start_time": "2022-05-24T20:09:40.712Z"
   },
   {
    "duration": 23,
    "start_time": "2022-05-24T20:09:40.737Z"
   },
   {
    "duration": 222,
    "start_time": "2022-05-24T20:09:40.762Z"
   },
   {
    "duration": 15,
    "start_time": "2022-05-24T20:09:40.986Z"
   },
   {
    "duration": 18,
    "start_time": "2022-05-24T20:09:41.002Z"
   },
   {
    "duration": 39,
    "start_time": "2022-05-24T20:09:41.022Z"
   },
   {
    "duration": 206,
    "start_time": "2022-05-24T20:09:41.062Z"
   },
   {
    "duration": 16,
    "start_time": "2022-05-24T20:09:41.270Z"
   },
   {
    "duration": 46,
    "start_time": "2022-05-24T20:09:41.287Z"
   },
   {
    "duration": 45,
    "start_time": "2022-05-24T20:09:41.335Z"
   },
   {
    "duration": 21,
    "start_time": "2022-05-24T20:09:41.382Z"
   },
   {
    "duration": 66,
    "start_time": "2022-05-25T07:30:25.421Z"
   },
   {
    "duration": 1402,
    "start_time": "2022-05-25T07:30:37.646Z"
   },
   {
    "duration": 329,
    "start_time": "2022-05-25T07:30:39.828Z"
   },
   {
    "duration": 18,
    "start_time": "2022-05-25T07:30:40.763Z"
   },
   {
    "duration": 55,
    "start_time": "2022-05-25T07:30:41.272Z"
   },
   {
    "duration": 21,
    "start_time": "2022-05-25T07:30:41.712Z"
   },
   {
    "duration": 24,
    "start_time": "2022-05-25T07:30:42.102Z"
   },
   {
    "duration": 14,
    "start_time": "2022-05-25T07:30:42.437Z"
   },
   {
    "duration": 4,
    "start_time": "2022-05-25T07:30:43.844Z"
   },
   {
    "duration": 6,
    "start_time": "2022-05-25T07:30:44.257Z"
   },
   {
    "duration": 11,
    "start_time": "2022-05-25T07:30:44.613Z"
   },
   {
    "duration": 3,
    "start_time": "2022-05-25T07:30:45.055Z"
   },
   {
    "duration": 16,
    "start_time": "2022-05-25T07:30:45.509Z"
   },
   {
    "duration": 14,
    "start_time": "2022-05-25T07:30:45.924Z"
   },
   {
    "duration": 8,
    "start_time": "2022-05-25T07:30:47.341Z"
   },
   {
    "duration": 29,
    "start_time": "2022-05-25T07:30:47.911Z"
   },
   {
    "duration": 19,
    "start_time": "2022-05-25T07:30:48.308Z"
   },
   {
    "duration": 6,
    "start_time": "2022-05-25T07:30:48.744Z"
   },
   {
    "duration": 3,
    "start_time": "2022-05-25T07:30:49.252Z"
   },
   {
    "duration": 25702,
    "start_time": "2022-05-25T07:30:49.765Z"
   },
   {
    "duration": 23,
    "start_time": "2022-05-25T07:31:15.469Z"
   },
   {
    "duration": 16,
    "start_time": "2022-05-25T07:37:36.728Z"
   },
   {
    "duration": 7,
    "start_time": "2022-05-25T07:37:55.630Z"
   },
   {
    "duration": 8,
    "start_time": "2022-05-25T07:37:56.995Z"
   },
   {
    "duration": 19,
    "start_time": "2022-05-25T07:37:57.552Z"
   },
   {
    "duration": 14,
    "start_time": "2022-05-25T07:38:04.468Z"
   },
   {
    "duration": 302,
    "start_time": "2022-05-25T07:38:04.904Z"
   },
   {
    "duration": 18,
    "start_time": "2022-05-25T07:52:11.462Z"
   },
   {
    "duration": 18,
    "start_time": "2022-05-25T07:52:25.400Z"
   },
   {
    "duration": 17,
    "start_time": "2022-05-25T07:52:42.900Z"
   },
   {
    "duration": 134,
    "start_time": "2022-05-25T07:53:19.451Z"
   },
   {
    "duration": 3,
    "start_time": "2022-05-25T07:53:46.751Z"
   },
   {
    "duration": 4,
    "start_time": "2022-05-25T07:53:47.411Z"
   },
   {
    "duration": 394,
    "start_time": "2022-05-25T07:53:47.981Z"
   },
   {
    "duration": 14,
    "start_time": "2022-05-25T07:53:49.630Z"
   },
   {
    "duration": 4,
    "start_time": "2022-05-25T07:53:50.638Z"
   },
   {
    "duration": 362,
    "start_time": "2022-05-25T07:53:51.399Z"
   },
   {
    "duration": 19,
    "start_time": "2022-05-25T07:53:52.714Z"
   },
   {
    "duration": 14,
    "start_time": "2022-05-25T07:53:58.109Z"
   },
   {
    "duration": 200,
    "start_time": "2022-05-25T07:54:00.565Z"
   },
   {
    "duration": 2691,
    "start_time": "2022-05-25T07:54:02.927Z"
   },
   {
    "duration": 29,
    "start_time": "2022-05-25T08:14:59.984Z"
   },
   {
    "duration": 205,
    "start_time": "2022-05-25T08:15:01.471Z"
   },
   {
    "duration": 2640,
    "start_time": "2022-05-25T08:16:05.564Z"
   },
   {
    "duration": 2156,
    "start_time": "2022-05-25T08:16:42.671Z"
   },
   {
    "duration": 2575,
    "start_time": "2022-05-25T08:17:59.380Z"
   },
   {
    "duration": 2492,
    "start_time": "2022-05-25T08:18:08.906Z"
   },
   {
    "duration": 2166,
    "start_time": "2022-05-25T08:18:25.203Z"
   },
   {
    "duration": 1791,
    "start_time": "2022-05-25T08:19:11.364Z"
   },
   {
    "duration": 1668,
    "start_time": "2022-05-25T08:19:18.952Z"
   },
   {
    "duration": 1973,
    "start_time": "2022-05-25T08:19:46.360Z"
   },
   {
    "duration": 2181,
    "start_time": "2022-05-25T08:19:59.746Z"
   },
   {
    "duration": 2164,
    "start_time": "2022-05-25T08:21:44.659Z"
   },
   {
    "duration": 2225,
    "start_time": "2022-05-25T08:22:21.081Z"
   },
   {
    "duration": 2134,
    "start_time": "2022-05-25T08:22:44.618Z"
   },
   {
    "duration": 10,
    "start_time": "2022-05-25T08:23:23.040Z"
   },
   {
    "duration": 209,
    "start_time": "2022-05-25T08:23:24.056Z"
   },
   {
    "duration": 2149,
    "start_time": "2022-05-25T08:23:25.240Z"
   },
   {
    "duration": 2285,
    "start_time": "2022-05-25T08:23:44.052Z"
   },
   {
    "duration": 1957,
    "start_time": "2022-05-25T08:25:54.662Z"
   },
   {
    "duration": 25,
    "start_time": "2022-05-25T08:26:23.808Z"
   },
   {
    "duration": 11,
    "start_time": "2022-05-25T08:26:36.351Z"
   },
   {
    "duration": 258,
    "start_time": "2022-05-25T08:26:37.174Z"
   },
   {
    "duration": 2042,
    "start_time": "2022-05-25T08:26:38.874Z"
   },
   {
    "duration": 257,
    "start_time": "2022-05-25T08:45:38.602Z"
   },
   {
    "duration": 408,
    "start_time": "2022-05-25T08:46:43.823Z"
   },
   {
    "duration": 324,
    "start_time": "2022-05-25T08:47:34.730Z"
   },
   {
    "duration": 33,
    "start_time": "2022-05-25T08:47:57.624Z"
   },
   {
    "duration": 42,
    "start_time": "2022-05-25T08:48:39.866Z"
   },
   {
    "duration": 336,
    "start_time": "2022-05-25T08:49:53.050Z"
   },
   {
    "duration": 36,
    "start_time": "2022-05-25T08:50:16.658Z"
   },
   {
    "duration": 32,
    "start_time": "2022-05-26T07:24:27.006Z"
   },
   {
    "duration": 21,
    "start_time": "2022-05-26T08:31:48.107Z"
   },
   {
    "duration": 16,
    "start_time": "2022-05-26T08:32:46.316Z"
   },
   {
    "duration": 260,
    "start_time": "2022-05-26T08:33:20.630Z"
   },
   {
    "duration": 1181,
    "start_time": "2022-05-26T08:37:31.297Z"
   },
   {
    "duration": 276,
    "start_time": "2022-05-26T08:37:32.480Z"
   },
   {
    "duration": 18,
    "start_time": "2022-05-26T08:37:37.178Z"
   },
   {
    "duration": 55,
    "start_time": "2022-05-26T08:37:37.930Z"
   },
   {
    "duration": 22,
    "start_time": "2022-05-26T08:37:38.442Z"
   },
   {
    "duration": 23,
    "start_time": "2022-05-26T08:37:39.015Z"
   },
   {
    "duration": 14,
    "start_time": "2022-05-26T08:37:39.329Z"
   },
   {
    "duration": 5,
    "start_time": "2022-05-26T08:37:40.701Z"
   },
   {
    "duration": 6,
    "start_time": "2022-05-26T08:37:41.082Z"
   },
   {
    "duration": 11,
    "start_time": "2022-05-26T08:37:41.428Z"
   },
   {
    "duration": 3,
    "start_time": "2022-05-26T08:37:41.739Z"
   },
   {
    "duration": 15,
    "start_time": "2022-05-26T08:37:42.039Z"
   },
   {
    "duration": 17,
    "start_time": "2022-05-26T08:37:42.399Z"
   },
   {
    "duration": 7,
    "start_time": "2022-05-26T08:37:42.735Z"
   },
   {
    "duration": 21,
    "start_time": "2022-05-26T08:37:45.178Z"
   },
   {
    "duration": 19,
    "start_time": "2022-05-26T08:37:45.814Z"
   },
   {
    "duration": 6,
    "start_time": "2022-05-26T08:37:46.569Z"
   },
   {
    "duration": 3,
    "start_time": "2022-05-26T08:37:46.999Z"
   },
   {
    "duration": 22818,
    "start_time": "2022-05-26T08:37:47.422Z"
   },
   {
    "duration": 8,
    "start_time": "2022-05-26T08:38:10.242Z"
   },
   {
    "duration": 12,
    "start_time": "2022-05-26T08:41:59.583Z"
   },
   {
    "duration": 7,
    "start_time": "2022-05-26T08:42:01.118Z"
   },
   {
    "duration": 6,
    "start_time": "2022-05-26T08:42:01.920Z"
   },
   {
    "duration": 24,
    "start_time": "2022-05-26T08:42:02.462Z"
   },
   {
    "duration": 13,
    "start_time": "2022-05-26T08:42:05.509Z"
   },
   {
    "duration": 165,
    "start_time": "2022-05-26T08:42:06.310Z"
   },
   {
    "duration": 4,
    "start_time": "2022-05-26T08:42:08.309Z"
   },
   {
    "duration": 3,
    "start_time": "2022-05-26T08:42:08.836Z"
   },
   {
    "duration": 298,
    "start_time": "2022-05-26T08:42:09.272Z"
   },
   {
    "duration": 16,
    "start_time": "2022-05-26T08:42:09.756Z"
   },
   {
    "duration": 4,
    "start_time": "2022-05-26T08:42:10.627Z"
   },
   {
    "duration": 352,
    "start_time": "2022-05-26T08:42:11.346Z"
   },
   {
    "duration": 19,
    "start_time": "2022-05-26T08:42:12.697Z"
   },
   {
    "duration": 19,
    "start_time": "2022-05-26T08:42:13.240Z"
   },
   {
    "duration": 18,
    "start_time": "2022-05-26T08:42:25.367Z"
   },
   {
    "duration": 5,
    "start_time": "2022-05-26T08:42:47.242Z"
   },
   {
    "duration": 10,
    "start_time": "2022-05-26T08:42:59.630Z"
   },
   {
    "duration": 185,
    "start_time": "2022-05-26T08:43:02.024Z"
   },
   {
    "duration": 1624,
    "start_time": "2022-05-26T08:43:02.965Z"
   },
   {
    "duration": 265,
    "start_time": "2022-05-26T08:43:06.905Z"
   },
   {
    "duration": 261,
    "start_time": "2022-05-26T08:43:08.886Z"
   },
   {
    "duration": 26,
    "start_time": "2022-05-26T08:43:13.269Z"
   },
   {
    "duration": 28,
    "start_time": "2022-05-26T09:07:24.130Z"
   },
   {
    "duration": 8,
    "start_time": "2022-05-26T09:08:07.780Z"
   },
   {
    "duration": 14,
    "start_time": "2022-05-26T09:08:08.295Z"
   },
   {
    "duration": 12,
    "start_time": "2022-05-26T09:08:08.994Z"
   },
   {
    "duration": 317,
    "start_time": "2022-05-26T09:08:09.814Z"
   },
   {
    "duration": 401,
    "start_time": "2022-05-26T09:08:10.686Z"
   },
   {
    "duration": 10,
    "start_time": "2022-05-26T09:08:54.177Z"
   },
   {
    "duration": 12,
    "start_time": "2022-05-26T09:08:57.654Z"
   },
   {
    "duration": 13,
    "start_time": "2022-05-26T09:08:58.551Z"
   },
   {
    "duration": 455,
    "start_time": "2022-05-26T09:09:20.751Z"
   },
   {
    "duration": 478,
    "start_time": "2022-05-26T09:09:45.369Z"
   },
   {
    "duration": 446,
    "start_time": "2022-05-26T09:09:53.996Z"
   },
   {
    "duration": 201,
    "start_time": "2022-05-26T09:10:46.449Z"
   },
   {
    "duration": 140,
    "start_time": "2022-05-26T09:15:30.609Z"
   },
   {
    "duration": 63,
    "start_time": "2022-05-26T09:16:45.258Z"
   },
   {
    "duration": 566,
    "start_time": "2022-05-26T09:16:57.195Z"
   },
   {
    "duration": 16,
    "start_time": "2022-05-26T09:22:33.887Z"
   },
   {
    "duration": 179,
    "start_time": "2022-05-26T09:22:35.661Z"
   },
   {
    "duration": 25,
    "start_time": "2022-05-26T09:26:24.495Z"
   },
   {
    "duration": 23,
    "start_time": "2022-05-26T09:28:30.695Z"
   },
   {
    "duration": 24,
    "start_time": "2022-05-26T09:28:54.884Z"
   },
   {
    "duration": 27,
    "start_time": "2022-05-26T09:29:03.126Z"
   },
   {
    "duration": 29,
    "start_time": "2022-05-26T09:30:22.127Z"
   },
   {
    "duration": 12,
    "start_time": "2022-05-26T09:30:36.666Z"
   },
   {
    "duration": 10,
    "start_time": "2022-05-26T09:30:49.267Z"
   },
   {
    "duration": 10,
    "start_time": "2022-05-26T09:30:58.868Z"
   },
   {
    "duration": 10,
    "start_time": "2022-05-26T09:31:03.449Z"
   },
   {
    "duration": 10,
    "start_time": "2022-05-26T09:32:33.064Z"
   },
   {
    "duration": 11,
    "start_time": "2022-05-26T09:35:09.115Z"
   },
   {
    "duration": 10,
    "start_time": "2022-05-26T09:35:13.837Z"
   },
   {
    "duration": 10,
    "start_time": "2022-05-26T09:35:19.523Z"
   },
   {
    "duration": 9,
    "start_time": "2022-05-26T09:35:42.214Z"
   },
   {
    "duration": 11,
    "start_time": "2022-05-26T09:36:57.807Z"
   },
   {
    "duration": 11,
    "start_time": "2022-05-26T09:37:31.629Z"
   },
   {
    "duration": 12,
    "start_time": "2022-05-26T09:37:38.536Z"
   },
   {
    "duration": 11,
    "start_time": "2022-05-26T09:39:07.668Z"
   },
   {
    "duration": 15,
    "start_time": "2022-05-26T09:39:43.276Z"
   },
   {
    "duration": 13,
    "start_time": "2022-05-26T09:39:49.945Z"
   },
   {
    "duration": 1204,
    "start_time": "2022-05-30T13:02:29.592Z"
   },
   {
    "duration": 188,
    "start_time": "2022-05-30T13:02:33.350Z"
   },
   {
    "duration": 13,
    "start_time": "2022-05-30T13:02:34.313Z"
   },
   {
    "duration": 30,
    "start_time": "2022-05-30T13:02:34.681Z"
   },
   {
    "duration": 12,
    "start_time": "2022-05-30T13:02:35.031Z"
   },
   {
    "duration": 14,
    "start_time": "2022-05-30T13:02:35.326Z"
   },
   {
    "duration": 8,
    "start_time": "2022-05-30T13:02:35.673Z"
   },
   {
    "duration": 4,
    "start_time": "2022-05-30T13:02:36.849Z"
   },
   {
    "duration": 4,
    "start_time": "2022-05-30T13:02:37.125Z"
   },
   {
    "duration": 8,
    "start_time": "2022-05-30T13:02:37.453Z"
   },
   {
    "duration": 3,
    "start_time": "2022-05-30T13:02:37.740Z"
   },
   {
    "duration": 12,
    "start_time": "2022-05-30T13:02:38.125Z"
   },
   {
    "duration": 13,
    "start_time": "2022-05-30T13:02:38.529Z"
   },
   {
    "duration": 5,
    "start_time": "2022-05-30T13:02:39.856Z"
   },
   {
    "duration": 18,
    "start_time": "2022-05-30T13:02:40.823Z"
   },
   {
    "duration": 15,
    "start_time": "2022-05-30T13:02:41.255Z"
   },
   {
    "duration": 5,
    "start_time": "2022-05-30T13:02:42.149Z"
   },
   {
    "duration": 3,
    "start_time": "2022-05-30T13:02:42.608Z"
   },
   {
    "duration": 19426,
    "start_time": "2022-05-30T13:02:43.100Z"
   },
   {
    "duration": 6,
    "start_time": "2022-05-30T13:03:02.528Z"
   },
   {
    "duration": 9,
    "start_time": "2022-05-30T13:03:02.535Z"
   },
   {
    "duration": 6,
    "start_time": "2022-05-30T13:03:06.680Z"
   },
   {
    "duration": 4,
    "start_time": "2022-05-30T13:03:07.262Z"
   },
   {
    "duration": 15,
    "start_time": "2022-05-30T13:03:07.680Z"
   },
   {
    "duration": 10,
    "start_time": "2022-05-30T13:03:10.430Z"
   },
   {
    "duration": 187,
    "start_time": "2022-05-30T13:03:11.033Z"
   },
   {
    "duration": 3,
    "start_time": "2022-05-30T13:03:34.924Z"
   },
   {
    "duration": 3,
    "start_time": "2022-05-30T13:03:35.695Z"
   },
   {
    "duration": 244,
    "start_time": "2022-05-30T13:03:36.207Z"
   },
   {
    "duration": 12,
    "start_time": "2022-05-30T13:03:36.611Z"
   },
   {
    "duration": 3,
    "start_time": "2022-05-30T13:03:37.102Z"
   },
   {
    "duration": 233,
    "start_time": "2022-05-30T13:03:37.567Z"
   },
   {
    "duration": 14,
    "start_time": "2022-05-30T13:03:38.018Z"
   },
   {
    "duration": 13,
    "start_time": "2022-05-30T13:03:38.453Z"
   },
   {
    "duration": 12,
    "start_time": "2022-05-30T13:03:38.824Z"
   },
   {
    "duration": 3,
    "start_time": "2022-05-30T13:03:39.190Z"
   },
   {
    "duration": 8,
    "start_time": "2022-05-30T13:03:40.985Z"
   },
   {
    "duration": 151,
    "start_time": "2022-05-30T13:03:41.449Z"
   },
   {
    "duration": 1403,
    "start_time": "2022-05-30T13:03:45.066Z"
   },
   {
    "duration": 279,
    "start_time": "2022-05-30T13:03:46.960Z"
   },
   {
    "duration": 214,
    "start_time": "2022-05-30T13:03:48.100Z"
   },
   {
    "duration": 23,
    "start_time": "2022-05-30T13:03:48.609Z"
   },
   {
    "duration": 10,
    "start_time": "2022-05-30T13:03:50.196Z"
   },
   {
    "duration": 9,
    "start_time": "2022-05-30T13:03:50.528Z"
   },
   {
    "duration": 8,
    "start_time": "2022-05-30T13:03:50.866Z"
   },
   {
    "duration": 340,
    "start_time": "2022-05-30T13:03:51.552Z"
   },
   {
    "duration": 261,
    "start_time": "2022-05-30T13:03:51.894Z"
   },
   {
    "duration": 34,
    "start_time": "2022-05-30T13:03:53.805Z"
   },
   {
    "duration": 5,
    "start_time": "2022-05-30T13:06:32.793Z"
   },
   {
    "duration": 103,
    "start_time": "2022-05-30T13:08:17.769Z"
   },
   {
    "duration": 10,
    "start_time": "2022-05-30T13:08:45.893Z"
   },
   {
    "duration": 4,
    "start_time": "2022-05-30T13:11:36.658Z"
   },
   {
    "duration": 1371,
    "start_time": "2022-05-30T20:55:33.637Z"
   },
   {
    "duration": 113,
    "start_time": "2022-05-30T20:55:36.515Z"
   },
   {
    "duration": 21,
    "start_time": "2022-05-30T20:55:37.353Z"
   },
   {
    "duration": 45,
    "start_time": "2022-05-30T20:55:37.738Z"
   },
   {
    "duration": 16,
    "start_time": "2022-05-30T20:55:38.077Z"
   },
   {
    "duration": 20,
    "start_time": "2022-05-30T20:55:38.379Z"
   },
   {
    "duration": 13,
    "start_time": "2022-05-30T20:55:38.617Z"
   },
   {
    "duration": 5,
    "start_time": "2022-05-30T20:55:39.767Z"
   },
   {
    "duration": 5,
    "start_time": "2022-05-30T20:55:40.086Z"
   },
   {
    "duration": 12,
    "start_time": "2022-05-30T20:55:40.397Z"
   },
   {
    "duration": 4,
    "start_time": "2022-05-30T20:55:40.677Z"
   },
   {
    "duration": 14,
    "start_time": "2022-05-30T20:55:40.997Z"
   },
   {
    "duration": 14,
    "start_time": "2022-05-30T20:55:41.317Z"
   },
   {
    "duration": 6,
    "start_time": "2022-05-30T20:55:41.637Z"
   },
   {
    "duration": 23,
    "start_time": "2022-05-30T20:55:41.967Z"
   },
   {
    "duration": 16,
    "start_time": "2022-05-30T20:55:42.279Z"
   },
   {
    "duration": 6,
    "start_time": "2022-05-30T20:55:42.606Z"
   },
   {
    "duration": 4,
    "start_time": "2022-05-30T20:55:42.916Z"
   },
   {
    "duration": 22522,
    "start_time": "2022-05-30T20:55:43.237Z"
   },
   {
    "duration": 6,
    "start_time": "2022-05-30T20:56:05.762Z"
   },
   {
    "duration": 20,
    "start_time": "2022-05-30T20:56:05.770Z"
   },
   {
    "duration": 8,
    "start_time": "2022-05-30T20:56:05.792Z"
   },
   {
    "duration": 1769,
    "start_time": "2022-05-31T08:05:55.788Z"
   },
   {
    "duration": 213,
    "start_time": "2022-05-31T08:06:04.310Z"
   },
   {
    "duration": 16,
    "start_time": "2022-05-31T08:06:05.383Z"
   },
   {
    "duration": 57,
    "start_time": "2022-05-31T08:06:05.760Z"
   },
   {
    "duration": 28,
    "start_time": "2022-05-31T08:06:06.151Z"
   },
   {
    "duration": 28,
    "start_time": "2022-05-31T08:06:06.523Z"
   },
   {
    "duration": 9,
    "start_time": "2022-05-31T08:06:06.913Z"
   },
   {
    "duration": 11,
    "start_time": "2022-05-31T08:06:08.849Z"
   },
   {
    "duration": 5,
    "start_time": "2022-05-31T08:06:09.110Z"
   },
   {
    "duration": 16,
    "start_time": "2022-05-31T08:06:09.318Z"
   },
   {
    "duration": 3,
    "start_time": "2022-05-31T08:06:09.590Z"
   },
   {
    "duration": 15,
    "start_time": "2022-05-31T08:06:09.883Z"
   },
   {
    "duration": 27,
    "start_time": "2022-05-31T08:06:10.160Z"
   },
   {
    "duration": 8,
    "start_time": "2022-05-31T08:06:10.406Z"
   },
   {
    "duration": 21,
    "start_time": "2022-05-31T08:06:10.680Z"
   },
   {
    "duration": 29,
    "start_time": "2022-05-31T08:06:10.930Z"
   },
   {
    "duration": 7,
    "start_time": "2022-05-31T08:06:11.207Z"
   },
   {
    "duration": 4,
    "start_time": "2022-05-31T08:06:11.488Z"
   },
   {
    "duration": 25757,
    "start_time": "2022-05-31T08:06:11.743Z"
   },
   {
    "duration": 8,
    "start_time": "2022-05-31T08:06:37.502Z"
   },
   {
    "duration": 19,
    "start_time": "2022-05-31T08:06:37.512Z"
   },
   {
    "duration": 6,
    "start_time": "2022-05-31T08:27:25.306Z"
   },
   {
    "duration": 14,
    "start_time": "2022-05-31T08:27:25.959Z"
   },
   {
    "duration": 19,
    "start_time": "2022-05-31T08:27:26.200Z"
   },
   {
    "duration": 20,
    "start_time": "2022-05-31T08:27:28.145Z"
   },
   {
    "duration": 664,
    "start_time": "2022-05-31T08:27:30.843Z"
   },
   {
    "duration": 3,
    "start_time": "2022-05-31T08:27:32.201Z"
   },
   {
    "duration": 3,
    "start_time": "2022-05-31T08:27:32.516Z"
   },
   {
    "duration": 451,
    "start_time": "2022-05-31T08:27:32.888Z"
   },
   {
    "duration": 21,
    "start_time": "2022-05-31T08:27:33.343Z"
   },
   {
    "duration": 3,
    "start_time": "2022-05-31T08:27:33.516Z"
   },
   {
    "duration": 297,
    "start_time": "2022-05-31T08:27:33.976Z"
   },
   {
    "duration": 19,
    "start_time": "2022-05-31T08:27:34.375Z"
   },
   {
    "duration": 14,
    "start_time": "2022-05-31T08:27:34.803Z"
   },
   {
    "duration": 14,
    "start_time": "2022-05-31T08:27:35.200Z"
   },
   {
    "duration": 5,
    "start_time": "2022-05-31T08:27:35.576Z"
   },
   {
    "duration": 11,
    "start_time": "2022-05-31T08:27:37.069Z"
   },
   {
    "duration": 244,
    "start_time": "2022-05-31T08:27:37.417Z"
   },
   {
    "duration": 1799,
    "start_time": "2022-05-31T08:27:37.780Z"
   },
   {
    "duration": 407,
    "start_time": "2022-05-31T08:27:39.583Z"
   },
   {
    "duration": 286,
    "start_time": "2022-05-31T08:27:40.057Z"
   },
   {
    "duration": 47,
    "start_time": "2022-05-31T08:27:41.212Z"
   },
   {
    "duration": 9,
    "start_time": "2022-05-31T08:27:43.790Z"
   },
   {
    "duration": 10,
    "start_time": "2022-05-31T08:27:43.884Z"
   },
   {
    "duration": 12,
    "start_time": "2022-05-31T08:27:47.269Z"
   },
   {
    "duration": 516,
    "start_time": "2022-05-31T08:27:47.978Z"
   },
   {
    "duration": 357,
    "start_time": "2022-05-31T08:27:48.497Z"
   },
   {
    "duration": 28,
    "start_time": "2022-05-31T08:27:50.348Z"
   },
   {
    "duration": 400,
    "start_time": "2022-05-31T08:28:02.707Z"
   },
   {
    "duration": 6,
    "start_time": "2022-05-31T08:28:12.462Z"
   },
   {
    "duration": 27,
    "start_time": "2022-05-31T08:28:13.359Z"
   },
   {
    "duration": 19,
    "start_time": "2022-05-31T08:28:16.767Z"
   },
   {
    "duration": 222,
    "start_time": "2022-05-31T08:28:17.754Z"
   },
   {
    "duration": 25,
    "start_time": "2022-05-31T08:28:18.368Z"
   },
   {
    "duration": 32,
    "start_time": "2022-05-31T08:28:19.149Z"
   },
   {
    "duration": 35,
    "start_time": "2022-05-31T08:28:19.945Z"
   },
   {
    "duration": 219,
    "start_time": "2022-05-31T08:28:20.276Z"
   },
   {
    "duration": 18,
    "start_time": "2022-05-31T08:28:21.106Z"
   },
   {
    "duration": 27,
    "start_time": "2022-05-31T08:28:22.148Z"
   },
   {
    "duration": 42,
    "start_time": "2022-05-31T08:28:22.924Z"
   },
   {
    "duration": 202,
    "start_time": "2022-05-31T08:28:23.219Z"
   },
   {
    "duration": 18,
    "start_time": "2022-05-31T08:28:23.802Z"
   },
   {
    "duration": 20,
    "start_time": "2022-05-31T08:28:24.346Z"
   },
   {
    "duration": 28,
    "start_time": "2022-05-31T08:28:26.464Z"
   },
   {
    "duration": 15,
    "start_time": "2022-05-31T08:28:27.467Z"
   },
   {
    "duration": 34,
    "start_time": "2022-05-31T08:28:28.511Z"
   },
   {
    "duration": 13,
    "start_time": "2022-05-31T08:28:29.369Z"
   }
  ],
  "kernelspec": {
   "display_name": "Python 3 (ipykernel)",
   "language": "python",
   "name": "python3"
  },
  "language_info": {
   "codemirror_mode": {
    "name": "ipython",
    "version": 3
   },
   "file_extension": ".py",
   "mimetype": "text/x-python",
   "name": "python",
   "nbconvert_exporter": "python",
   "pygments_lexer": "ipython3",
   "version": "3.9.12"
  },
  "toc": {
   "base_numbering": 1,
   "nav_menu": {},
   "number_sections": true,
   "sideBar": true,
   "skip_h1_title": true,
   "title_cell": "Table of Contents",
   "title_sidebar": "Contents",
   "toc_cell": false,
   "toc_position": {},
   "toc_section_display": true,
   "toc_window_display": false
  }
 },
 "nbformat": 4,
 "nbformat_minor": 2
}
